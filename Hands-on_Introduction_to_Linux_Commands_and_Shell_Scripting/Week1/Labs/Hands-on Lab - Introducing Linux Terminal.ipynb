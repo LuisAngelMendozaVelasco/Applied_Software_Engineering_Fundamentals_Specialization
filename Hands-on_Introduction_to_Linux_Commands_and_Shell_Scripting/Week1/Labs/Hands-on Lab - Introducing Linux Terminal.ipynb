{
 "cells": [
  {
   "cell_type": "markdown",
   "metadata": {},
   "source": [
    "<p style=\"text-align:center\">\n",
    "    <a href=\"https://skills.network/?utm_medium=Exinfluencer&utm_source=Exinfluencer&utm_content=000026UJ&utm_term=10006555&utm_id=NA-SkillsNetwork-Channel-SkillsNetworkCoursesIBMCS0151ENSkillsNetwork835-2022-01-01\" target=\"_blank\">\n",
    "    <img src=\"https://cf-courses-data.s3.us.cloud-object-storage.appdomain.cloud/assets/logos/SN_web_lightmode.png\" width=\"200\" alt=\"Skills Network Logo\">\n",
    "    </a>\n",
    "</p>"
   ]
  },
  {
   "cell_type": "markdown",
   "metadata": {},
   "source": [
    "<a target=\"_blank\" href=\"https://colab.research.google.com/github/LuisAngelMendozaVelasco/Applied_Software_Engineering_Fundamentals_Specialization/blob/main/Hands-on_Introduction_to_Linux_Commands_and_Shell_Scripting/Week1/Labs/Hands-on Lab - Introducing Linux Terminal.ipynb\"><img src=\"https://www.tensorflow.org/images/colab_logo_32px.png\" />Run in Google Colab</a>"
   ]
  },
  {
   "cell_type": "markdown",
   "metadata": {},
   "source": [
    "# Hands-on Lab: Introducing Linux Terminal"
   ]
  },
  {
   "cell_type": "markdown",
   "metadata": {},
   "source": [
    "Estimated time needed: **40** minutes"
   ]
  },
  {
   "cell_type": "markdown",
   "metadata": {},
   "source": [
    "## Objectives"
   ]
  },
  {
   "cell_type": "markdown",
   "metadata": {},
   "source": [
    "In this lab, you will:\n",
    "\n",
    "- Interact with the Linux Terminal\n",
    "- Navigate directories on a Linux filesystem and explore their contents\n",
    "- Install and update packages\n",
    "- Create and edit files using *nano*\n",
    "- Run shell commands and applications from the terminal"
   ]
  },
  {
   "cell_type": "markdown",
   "metadata": {},
   "source": [
    "## About Skills Network Cloud IDE"
   ]
  },
  {
   "cell_type": "markdown",
   "metadata": {},
   "source": [
    "Skills Network Cloud IDE (based on Theia and Docker) provides an environment for hands-on labs for course and project-related labs. Theia is an open source Integrated Development Environment (IDE) that can be run on the desktop or on the cloud. To complete this lab, you will be using the Cloud IDE based on Theia."
   ]
  },
  {
   "cell_type": "markdown",
   "metadata": {},
   "source": [
    "## Important Notice About This Lab Environment"
   ]
  },
  {
   "cell_type": "markdown",
   "metadata": {},
   "source": [
    "Please be aware that sessions for this lab environment are not persisted. Thus, every time you connect to this lab, a new environment is created for you and any data or files you may have saved in a previous session will be lost. To avoid losing your data, plan to complete these labs in a single session."
   ]
  },
  {
   "cell_type": "markdown",
   "metadata": {},
   "source": [
    "## Setup"
   ]
  },
  {
   "cell_type": "markdown",
   "metadata": {},
   "source": [
    "Open a new terminal by clicking the menu bar and selecting **Terminal**->**New Terminal**.\n",
    "\n",
    "![](https://cf-courses-data.s3.us.cloud-object-storage.appdomain.cloud/IBM-LX0117EN-SkillsNetwork/labs/module%201/images/new-terminal.png)\n",
    "\n",
    "This will open a new terminal at the bottom of the screen.\n",
    "\n",
    "![](https://cf-courses-data.s3.us.cloud-object-storage.appdomain.cloud/IBM-LX0117EN-SkillsNetwork/labs/module%201/images/terminal_bottom_screen.png)\n",
    "\n",
    "You can run the commands provided in the following excercises in your newly opened terminal. You can copy the code to your clipboard by clicking the copy button on the bottom right of each codeblock, and then pasting it on the command line."
   ]
  },
  {
   "cell_type": "markdown",
   "metadata": {},
   "source": [
    "## Exercise 1 - Navigating Directories"
   ]
  },
  {
   "cell_type": "markdown",
   "metadata": {},
   "source": [
    "```bash\n",
    "cd\n",
    "```\n",
    "\n",
    "In this exercise, you will explore directories on the cloud IDE Linux system using the *cd* command.\n",
    "\n",
    "Recall the special paths:\n",
    "\n",
    "| **Symbol**    | **Stands for**    |\n",
    "|-----------    |---------------    |\n",
    "| ~             | Home directory    |\n",
    "| /             | Root directory    |\n",
    "| .             | Current directory |\n",
    "| ..            | Parent directory  |"
   ]
  },
  {
   "cell_type": "markdown",
   "metadata": {},
   "source": [
    "### 1.1. Changing working directory to home directory"
   ]
  },
  {
   "cell_type": "markdown",
   "metadata": {},
   "source": [
    "```bash\n",
    "cd ~\n",
    "```\n",
    "\n",
    "Copy the command above into the terminal and press Enter to run the command.\n",
    "\n",
    "This will change your current working directory to the home directory *~*.\n",
    "\n",
    "**Note:** In our lab environment, your user's home directory is *~* = */home/theia*."
   ]
  },
  {
   "cell_type": "code",
   "execution_count": 1,
   "metadata": {},
   "outputs": [
    {
     "name": "stdout",
     "output_type": "stream",
     "text": [
      "/home/luis-mendoza\n"
     ]
    }
   ],
   "source": [
    "%%bash\n",
    "\n",
    "cd ~\n",
    "pwd"
   ]
  },
  {
   "cell_type": "markdown",
   "metadata": {},
   "source": [
    "### 1.2. Changing working directory to parent"
   ]
  },
  {
   "cell_type": "markdown",
   "metadata": {},
   "source": [
    "```bash\n",
    "cd ..\n",
    "```\n",
    "\n",
    "This will change your current working directory to the parent of the current working directory.\n",
    "\n",
    "If your working directory was */home/theia*, then it will become */home*."
   ]
  },
  {
   "cell_type": "code",
   "execution_count": 2,
   "metadata": {},
   "outputs": [
    {
     "name": "stdout",
     "output_type": "stream",
     "text": [
      "/home\n"
     ]
    }
   ],
   "source": [
    "%%bash\n",
    "\n",
    "cd ~\n",
    "cd ..\n",
    "pwd"
   ]
  },
  {
   "cell_type": "markdown",
   "metadata": {},
   "source": [
    "### 1.3. Changing working directory to root directory"
   ]
  },
  {
   "cell_type": "markdown",
   "metadata": {},
   "source": [
    "```bash\n",
    "cd /\n",
    "```\n",
    "\n",
    "This will change your current working directory to the root directory */*."
   ]
  },
  {
   "cell_type": "code",
   "execution_count": 3,
   "metadata": {},
   "outputs": [
    {
     "name": "stdout",
     "output_type": "stream",
     "text": [
      "/\n"
     ]
    }
   ],
   "source": [
    "%%bash\n",
    "\n",
    "cd /\n",
    "pwd"
   ]
  },
  {
   "cell_type": "markdown",
   "metadata": {},
   "source": [
    "### 1.4 Changing working directory to child"
   ]
  },
  {
   "cell_type": "markdown",
   "metadata": {},
   "source": [
    "```bash\n",
    "cd bin\n",
    "```\n",
    "\n",
    "This will change your current working directory to the */bin* directory.\n",
    "\n",
    "The *bin* directory is called a child of the root */* directory because it's inside of it."
   ]
  },
  {
   "cell_type": "code",
   "execution_count": 4,
   "metadata": {},
   "outputs": [
    {
     "name": "stdout",
     "output_type": "stream",
     "text": [
      "/bin\n"
     ]
    }
   ],
   "source": [
    "%%bash\n",
    "\n",
    "cd /\n",
    "cd bin\n",
    "pwd"
   ]
  },
  {
   "cell_type": "markdown",
   "metadata": {},
   "source": [
    "### 1.5. Changing working directory back to home directory"
   ]
  },
  {
   "cell_type": "markdown",
   "metadata": {},
   "source": [
    "```bash\n",
    "cd ../home/theia\n",
    "```\n",
    "\n",
    "This will change your current working directory back to your home directory.\n",
    "\n",
    "Of course, a simpler way to do this would be:\n",
    "\n",
    "```bash\n",
    "cd ~\n",
    "```"
   ]
  },
  {
   "cell_type": "code",
   "execution_count": 5,
   "metadata": {},
   "outputs": [
    {
     "name": "stdout",
     "output_type": "stream",
     "text": [
      "/home/luis-mendoza\n"
     ]
    }
   ],
   "source": [
    "%%bash\n",
    "\n",
    "cd ~\n",
    "pwd"
   ]
  },
  {
   "cell_type": "markdown",
   "metadata": {},
   "source": [
    "### 1.6. Changing working directory back to project directory"
   ]
  },
  {
   "cell_type": "markdown",
   "metadata": {},
   "source": [
    "```bash\n",
    "cd ../project\n",
    "```\n",
    "\n",
    "This will change your current working directory back to your project directory.\n",
    "\n",
    "The project directory is a special empty directory we provide for your work."
   ]
  },
  {
   "cell_type": "code",
   "execution_count": 6,
   "metadata": {},
   "outputs": [],
   "source": [
    "%%bash\n",
    "\n",
    "mkdir -p project\n",
    "touch ./project/myprogram.py\n",
    "echo \"print('Learning Linux is fun!')\" > ./project/myprogram.py"
   ]
  },
  {
   "cell_type": "code",
   "execution_count": 7,
   "metadata": {},
   "outputs": [],
   "source": [
    "%%bash\n",
    "\n",
    "cd ./project"
   ]
  },
  {
   "cell_type": "markdown",
   "metadata": {},
   "source": [
    "## Exercise 2 - Browsing Directories"
   ]
  },
  {
   "cell_type": "markdown",
   "metadata": {},
   "source": [
    "```bash\n",
    "ls\n",
    "```\n",
    "\n",
    "In this exercise, you will explore browsing the content of directories using the *ls* command.\n",
    "\n",
    "*ls* is a special command that the shell knows by default. You will learn about many more of these commands in the future."
   ]
  },
  {
   "cell_type": "markdown",
   "metadata": {},
   "source": [
    "### 2.1. Viewing files in the current working directory"
   ]
  },
  {
   "cell_type": "markdown",
   "metadata": {},
   "source": [
    "```bash\n",
    "ls\n",
    "```\n",
    "\n",
    "Typing *ls* by itself will show all files inside the current working directory.\n",
    "\n",
    "Because you're in the */home/project* directory (which is empty) ls will return nothing."
   ]
  },
  {
   "cell_type": "code",
   "execution_count": 8,
   "metadata": {},
   "outputs": [
    {
     "name": "stdout",
     "output_type": "stream",
     "text": [
      "myprogram.py\n"
     ]
    }
   ],
   "source": [
    "%%bash\n",
    "\n",
    "cd ./project\n",
    "ls"
   ]
  },
  {
   "cell_type": "markdown",
   "metadata": {},
   "source": [
    "### 2.2. Viewing files in any directory"
   ]
  },
  {
   "cell_type": "markdown",
   "metadata": {},
   "source": [
    "If you know the path to a directory, you can view its contents by typing:\n",
    "\n",
    "*ls [PATH TO DIRECTORY]*\n",
    "\n",
    "For example:\n",
    "\n",
    "```bash\n",
    "ls /\n",
    "```\n",
    "\n",
    "This will show the contents of the root directory.\n",
    "\n",
    "Recall some of the directories you've learned in prior video(s):\n",
    "\n",
    "| **Directory** | **Contains**                          |\n",
    "|---------------|---------------                        |\n",
    "| /bin          | System libraries                      |\n",
    "| /sbin         | Binaries that require root privileges |\n",
    "| /usr          | User programs and data                |\n",
    "| /home         | Home directory                        |\n",
    "| /media        | Removable media device directories    |\n",
    "\n",
    "```bash\n",
    "ls /bin\n",
    "```\n",
    "\n",
    "This will show the contents of the */bin* directory.\n",
    "\n",
    "You might notice one of these files is called *\"ls\"*. That's because the *ls* command runs using the file */bin/ls*."
   ]
  },
  {
   "cell_type": "code",
   "execution_count": 9,
   "metadata": {},
   "outputs": [
    {
     "name": "stdout",
     "output_type": "stream",
     "text": [
      "Docker\n",
      "bin\n",
      "boot\n",
      "dev\n",
      "etc\n",
      "home\n",
      "init\n",
      "lib\n",
      "lib32\n",
      "lib64\n",
      "libx32\n",
      "lost+found\n",
      "media\n",
      "mnt\n",
      "opt\n",
      "proc\n",
      "root\n",
      "run\n",
      "sbin\n",
      "snap\n",
      "srv\n",
      "sys\n",
      "tmp\n",
      "usr\n",
      "var\n"
     ]
    }
   ],
   "source": [
    "%%bash \n",
    "\n",
    "ls /"
   ]
  },
  {
   "cell_type": "code",
   "execution_count": 10,
   "metadata": {},
   "outputs": [
    {
     "name": "stdout",
     "output_type": "stream",
     "text": [
      "411toppm\n",
      "GET\n",
      "HEAD\n",
      "JxrDecApp\n",
      "JxrEncApp\n",
      "NF\n",
      "POST\n",
      "R\n",
      "Rscript\n",
      "X11\n",
      "Xnest\n",
      "[\n",
      "aa-enabled\n",
      "aa-exec\n",
      "aa-features-abi\n",
      "acorn\n",
      "add-apt-repository\n",
      "addpart\n",
      "addr2line\n",
      "animate\n",
      "animate-im6\n",
      "animate-im6.q16\n",
      "anytopnm\n",
      "apport-bug\n",
      "apport-cli\n"
     ]
    }
   ],
   "source": [
    "%%bash\n",
    "\n",
    "ls /bin | head -25 # Show fisrt 25 files"
   ]
  },
  {
   "cell_type": "markdown",
   "metadata": {},
   "source": [
    "## Exercise 3 - Updating and Installing Packages"
   ]
  },
  {
   "cell_type": "markdown",
   "metadata": {},
   "source": [
    "In your lab environment, we provide access to the *sudo* command. Be careful not to break your system!"
   ]
  },
  {
   "cell_type": "markdown",
   "metadata": {},
   "source": [
    "### 3.1 Getting latest packages information"
   ]
  },
  {
   "cell_type": "markdown",
   "metadata": {},
   "source": [
    "```bash\n",
    "sudo apt update\n",
    "```\n",
    "\n",
    "This will fetch the lastest package information from trusted sources.\n",
    "\n",
    "*apt update* doesn't actually update your packages; instead, it finds if any packages can be upgraded."
   ]
  },
  {
   "cell_type": "markdown",
   "metadata": {},
   "source": [
    "### 3.2. Updating nano"
   ]
  },
  {
   "cell_type": "markdown",
   "metadata": {},
   "source": [
    "*nano* is a simple command that enables you to use the terminal as a text editor.\n",
    "\n",
    "To get the latest supported version of *nano*, type:\n",
    "\n",
    "```bash\n",
    "sudo apt upgrade nano\n",
    "```\n",
    "\n",
    "You may be prompted: \"*Do you want to continue? [Y/n]*\"\n",
    "\n",
    "Type \"*n*\" and press Enter to continue. Updating *nano* will take time and will not affect this lab.\n",
    "\n",
    "Note: The capital *Y* in *Y/n* means it's the default - if you press enter without typing anything it uses the default *y*."
   ]
  },
  {
   "cell_type": "markdown",
   "metadata": {},
   "source": [
    "### 3.3. Installing vim"
   ]
  },
  {
   "cell_type": "markdown",
   "metadata": {},
   "source": [
    "Another popular text-editing program is *vim*.\n",
    "\n",
    "Because *vim* doesn't come with your system, you will need to install it:\n",
    "\n",
    "```bash\n",
    "sudo apt install vim\n",
    "```\n",
    "\n",
    "As with upgrading, you may be prompted: \"*Do you want to continue? [Y/n]*\"\n",
    "\n",
    "In this case, type \"*y*\" and press Enter to continue. You will be using *vim* in a later exercise."
   ]
  },
  {
   "cell_type": "markdown",
   "metadata": {},
   "source": [
    "## Exercise 4 - Creating and Editing Files"
   ]
  },
  {
   "cell_type": "markdown",
   "metadata": {},
   "source": [
    "For the purpose of this lab, you will be use *nano* to create and edit files.\n",
    "\n",
    "This is because *nano* is known as simple to use and easy to master.\n",
    "\n",
    "On the other hand, vim can be harder to learn - though it has many more features."
   ]
  },
  {
   "cell_type": "markdown",
   "metadata": {},
   "source": [
    "### 4.1 Navigating to the project directory"
   ]
  },
  {
   "cell_type": "markdown",
   "metadata": {},
   "source": [
    "We provide a clean project directory at */home/project*. Ensure you're working in this folder using:\n",
    "\n",
    "```bash\n",
    "cd /home/project\n",
    "```\n",
    "\n",
    "Try auto-completing the path by typing *cd /home/pr* and pressing TAB.\n",
    "\n",
    "If you type *ls* here, you should see no files."
   ]
  },
  {
   "cell_type": "code",
   "execution_count": 11,
   "metadata": {},
   "outputs": [],
   "source": [
    "%%bash\n",
    "\n",
    "cd ./project"
   ]
  },
  {
   "cell_type": "markdown",
   "metadata": {},
   "source": [
    "### 4.2 Creating and editing a file"
   ]
  },
  {
   "cell_type": "markdown",
   "metadata": {},
   "source": [
    "```bash\n",
    "nano myprogram.py\n",
    "```\n",
    "\n",
    "This will create a *.py* (Python) file called *myprogram.py* and enable you to begin editing it using the *nano* text editor.\n",
    "\n",
    "Type the following to the file:\n",
    "\n",
    "```python\n",
    "print('Learning Linux is fun!')\n",
    "```\n",
    "\n",
    "Now:\n",
    "\n",
    "1. Press \"CTRL-X\" to exit\n",
    "\n",
    "2. You will be prompted with:\n",
    "\n",
    "```\n",
    "Save modified buffer (ANSWERING \"No\" WILL DESTROY CHANGES) ?\n",
    "    Y Yes\n",
    "    N No           ^C Cancel\n",
    "```\n",
    "\n",
    "Press \"y\" to save.\n",
    "\n",
    "3. Press \"ENTER\" to confirm the file name.\n",
    "\n",
    "You should now be back at the terminal's command prompt."
   ]
  },
  {
   "cell_type": "markdown",
   "metadata": {},
   "source": [
    "### 4.3 Running the Python file you made"
   ]
  },
  {
   "cell_type": "markdown",
   "metadata": {},
   "source": [
    "```bash\n",
    "ls\n",
    "```\n",
    "\n",
    "You should now see that the file *myprogram.py* was created in your current working directory.\n",
    "\n",
    "You can now run your Python file using:\n",
    "\n",
    "```bash\n",
    "python3 myprogram.py\n",
    "```\n",
    "\n",
    "Try auto-completing the command by typing *python3 my* and pressing TAB.\n",
    "\n",
    "You should see the output:\n",
    "\n",
    "*Learning Linux is fun!*\n",
    "\n",
    "Otherwise, you may have had a typo in your program."
   ]
  },
  {
   "cell_type": "code",
   "execution_count": 12,
   "metadata": {},
   "outputs": [
    {
     "name": "stdout",
     "output_type": "stream",
     "text": [
      "myprogram.py\n"
     ]
    }
   ],
   "source": [
    "%%bash\n",
    "\n",
    "cd ./project\n",
    "ls"
   ]
  },
  {
   "cell_type": "code",
   "execution_count": 13,
   "metadata": {},
   "outputs": [
    {
     "name": "stdout",
     "output_type": "stream",
     "text": [
      "Learning Linux is fun!\n"
     ]
    }
   ],
   "source": [
    "%%bash\n",
    "\n",
    "cd ./project\n",
    "python3 myprogram.py"
   ]
  },
  {
   "cell_type": "markdown",
   "metadata": {},
   "source": [
    "## Practice Exercises"
   ]
  },
  {
   "cell_type": "markdown",
   "metadata": {},
   "source": [
    "1. Problem:\n",
    "\n",
    "Display the content of the /usr directory."
   ]
  },
  {
   "cell_type": "code",
   "execution_count": 14,
   "metadata": {},
   "outputs": [
    {
     "name": "stdout",
     "output_type": "stream",
     "text": [
      "bin\n",
      "games\n",
      "include\n",
      "lib\n",
      "lib32\n",
      "lib64\n",
      "libexec\n",
      "libx32\n",
      "local\n",
      "sbin\n",
      "share\n",
      "src\n"
     ]
    }
   ],
   "source": [
    "%%bash\n",
    "\n",
    "ls /usr"
   ]
  },
  {
   "cell_type": "markdown",
   "metadata": {},
   "source": [
    "2. Problem:\n",
    "\n",
    "Navigate to the /media directory."
   ]
  },
  {
   "cell_type": "code",
   "execution_count": 15,
   "metadata": {},
   "outputs": [],
   "source": [
    "%%bash\n",
    "\n",
    "# cd /media"
   ]
  },
  {
   "cell_type": "markdown",
   "metadata": {},
   "source": [
    "3. Problem:\n",
    "\n",
    "Navigate to the /home/project directory and display its contents."
   ]
  },
  {
   "cell_type": "code",
   "execution_count": 16,
   "metadata": {},
   "outputs": [
    {
     "name": "stdout",
     "output_type": "stream",
     "text": [
      "myprogram.py\n"
     ]
    }
   ],
   "source": [
    "%%bash\n",
    "\n",
    "cd ./project\n",
    "ls"
   ]
  },
  {
   "cell_type": "markdown",
   "metadata": {},
   "source": [
    "4. Problem:\n",
    "\n",
    "Using *nano*, edit *myprogram.py* to add a new line containing \"*print('My name is ...')*\" (replace ... with your name)\n",
    "\n",
    "Hint: To start, you can press the Up arrow until you get nano myprogram.py from your command history."
   ]
  },
  {
   "cell_type": "code",
   "execution_count": 17,
   "metadata": {},
   "outputs": [
    {
     "name": "stdout",
     "output_type": "stream",
     "text": [
      "Learning Linux is fun!\n"
     ]
    }
   ],
   "source": [
    "%%bash\n",
    "\n",
    "cd ./project\n",
    "python3 myprogram.py"
   ]
  },
  {
   "cell_type": "markdown",
   "metadata": {},
   "source": [
    "5. Problem:\n",
    "\n",
    "Using *vi*, create a file called \"*done.py*\" that prints \"I am done with the lab!\""
   ]
  },
  {
   "cell_type": "code",
   "execution_count": 18,
   "metadata": {},
   "outputs": [],
   "source": [
    "%%bash\n",
    "\n",
    "rm -rf ./project/"
   ]
  },
  {
   "cell_type": "markdown",
   "metadata": {},
   "source": [
    "## Authors"
   ]
  },
  {
   "cell_type": "markdown",
   "metadata": {},
   "source": [
    "Sam Prokopchuk"
   ]
  },
  {
   "cell_type": "markdown",
   "metadata": {},
   "source": [
    "### Other Contributors"
   ]
  },
  {
   "cell_type": "markdown",
   "metadata": {},
   "source": [
    "## Change Log"
   ]
  },
  {
   "cell_type": "markdown",
   "metadata": {},
   "source": [
    "| **Date (YYYY-MM-DD)** | **Version**   | **Changed By**    | **Change Description**    |\n",
    "|-----------------------|---------------|-------------------|----------------           |\n",
    "| 2022-04-05            | 1.0           | Sam Prokopchuk    | Add first iteration of lab|\n",
    "\n",
    "Copyright (c) 2022 IBM Corporation. All rights reserved."
   ]
  }
 ],
 "metadata": {
  "kernelspec": {
   "display_name": "Python 3.9.13 ('base')",
   "language": "python",
   "name": "python3"
  },
  "language_info": {
   "codemirror_mode": {
    "name": "ipython",
    "version": 3
   },
   "file_extension": ".py",
   "mimetype": "text/x-python",
   "name": "python",
   "nbconvert_exporter": "python",
   "pygments_lexer": "ipython3",
   "version": "3.11.7"
  },
  "orig_nbformat": 4,
  "vscode": {
   "interpreter": {
    "hash": "0ab7ac22d3d3525ddb7629ab62b0d92e89034641b529aacfddbc818d024d7c15"
   }
  }
 },
 "nbformat": 4,
 "nbformat_minor": 2
}
