{
 "cells": [
  {
   "cell_type": "markdown",
   "metadata": {},
   "source": [
    "<p style=\"text-align:center\">\n",
    "    <a href=\"https://skills.network/?utm_medium=Exinfluencer&utm_source=Exinfluencer&utm_content=000026UJ&utm_term=10006555&utm_id=NA-SkillsNetwork-Channel-SkillsNetworkCoursesIBMCS0151ENSkillsNetwork835-2022-01-01\" target=\"_blank\">\n",
    "    <img src=\"https://cf-courses-data.s3.us.cloud-object-storage.appdomain.cloud/assets/logos/SN_web_lightmode.png\" width=\"200\" alt=\"Skills Network Logo\">\n",
    "    </a>\n",
    "</p>"
   ]
  },
  {
   "cell_type": "markdown",
   "metadata": {},
   "source": [
    "<a target=\"_blank\" href=\"https://colab.research.google.com/github/LuisAngelMendozaVelasco/Applied_Software_Engineering_Fundamentals_Specialization/blob/main/Hands-on_Introduction_to_Linux_Commands_and_Shell_Scripting/Week3/Labs/Hands-on Lab - Bash Scripting Advanced.ipynb\"><img src=\"https://www.tensorflow.org/images/colab_logo_32px.png\" />Run in Google Colab</a>"
   ]
  },
  {
   "cell_type": "code",
   "execution_count": null,
   "metadata": {},
   "outputs": [],
   "source": [
    "%%bash\n",
    "# If running in Google Colab\n",
    "\n",
    "# mkdir scripts\n",
    "# wget https://raw.githubusercontent.com/LuisAngelMendozaVelasco/Applied_Software_Engineering_Fundamentals_Specialization/main/Hands-on_Introduction_to_Linux_Commands_and_Shell_Scripting/Week3/Labs/scripts/wish.sh -P ./scripts\n",
    "# wget https://raw.githubusercontent.com/LuisAngelMendozaVelasco/Applied_Software_Engineering_Fundamentals_Specialization/main/Hands-on_Introduction_to_Linux_Commands_and_Shell_Scripting/Week3/Labs/scripts/diskusage.sh -P ./scripts"
   ]
  },
  {
   "cell_type": "markdown",
   "metadata": {},
   "source": [
    "# Hands-on Lab: Bash Scripting Advanced"
   ]
  },
  {
   "cell_type": "markdown",
   "metadata": {},
   "source": [
    "Estimated time needed: **30** minutes"
   ]
  },
  {
   "cell_type": "markdown",
   "metadata": {},
   "source": [
    "## Objectives"
   ]
  },
  {
   "cell_type": "markdown",
   "metadata": {},
   "source": [
    "After completing this lab you will be able to make use of the following features of the bash shell\n",
    "\n",
    "- Metacharacters\n",
    "- Quoting\n",
    "- Variables\n",
    "- Command substitution\n",
    "- I/O Redirection\n",
    "- Pipes and Filters\n",
    "- Command line arguments"
   ]
  },
  {
   "cell_type": "markdown",
   "metadata": {},
   "source": [
    "## About Skills Network Cloud IDE"
   ]
  },
  {
   "cell_type": "markdown",
   "metadata": {},
   "source": [
    "Skills Network Cloud IDE (based on Theia and Docker) provides an environment for hands on labs for course and project related labs. Theia is an open source IDE (Integrated Development Environment), that can be run on desktop or on the cloud. to complete this lab, we will be using the Cloud IDE based on Theia running in a Docker container."
   ]
  },
  {
   "cell_type": "markdown",
   "metadata": {},
   "source": [
    "### Important Notice about this lab environment"
   ]
  },
  {
   "cell_type": "markdown",
   "metadata": {},
   "source": [
    "Please be aware that sessions for this lab environment are not persisted. Every time you connect to this lab, a new environment is created for you. Any data you may have saved in the earlier session would get lost. Plan to complete these labs in a single session, to avoid losing your data."
   ]
  },
  {
   "cell_type": "markdown",
   "metadata": {},
   "source": [
    "## Exercise 1 - Metacharacters"
   ]
  },
  {
   "cell_type": "markdown",
   "metadata": {},
   "source": [
    "Run the commands given below on a newly opened terminal.\n",
    "\n",
    "There are several characters which have special meanings to the shell.\n",
    "\n",
    "Following are some of the special characters and their usage."
   ]
  },
  {
   "cell_type": "markdown",
   "metadata": {},
   "source": [
    "### 1.1 '#' - For adding comments"
   ]
  },
  {
   "cell_type": "markdown",
   "metadata": {},
   "source": [
    "Lines beginning with a # (with the exception of #!) are comments and will not be executed.\n",
    "\n",
    "```bash\n",
    "# This is a comment line\n",
    "```"
   ]
  },
  {
   "cell_type": "code",
   "execution_count": 1,
   "metadata": {},
   "outputs": [],
   "source": [
    "%%bash\n",
    "\n",
    "# This is a comment line"
   ]
  },
  {
   "cell_type": "markdown",
   "metadata": {},
   "source": [
    "### 1.2 ';' - Command seperator"
   ]
  },
  {
   "cell_type": "markdown",
   "metadata": {},
   "source": [
    "Multiple commands can be seperated from each other using a ; when used in a single command line.\n",
    "\n",
    "```bash\n",
    "pwd; date\n",
    "```"
   ]
  },
  {
   "cell_type": "code",
   "execution_count": 2,
   "metadata": {},
   "outputs": [
    {
     "name": "stdout",
     "output_type": "stream",
     "text": [
      "/home/luis-mendoza\n",
      "Wed Apr 17 15:12:59 CST 2024\n"
     ]
    }
   ],
   "source": [
    "%%bash\n",
    "\n",
    "cd ~\n",
    "pwd; date"
   ]
  },
  {
   "cell_type": "markdown",
   "metadata": {},
   "source": [
    "### 1.3 * - wildcard used in filename expansion"
   ]
  },
  {
   "cell_type": "markdown",
   "metadata": {},
   "source": [
    "The '*' character matches any number of any character in filename patterns. By itself, it matches every filename in a given directory.\n",
    "\n",
    "The following example lists all files whose name ends with a '.conf' in the /etc directory.\n",
    "\n",
    "```bash\n",
    "ls /etc/*.conf\n",
    "```"
   ]
  },
  {
   "cell_type": "code",
   "execution_count": 3,
   "metadata": {},
   "outputs": [
    {
     "name": "stdout",
     "output_type": "stream",
     "text": [
      "/etc/adduser.conf\n",
      "/etc/and.conf\n",
      "/etc/appstream.conf\n",
      "/etc/ca-certificates.conf\n",
      "/etc/debconf.conf\n",
      "/etc/deluser.conf\n",
      "/etc/dhcpcd.conf\n",
      "/etc/e2scrub.conf\n",
      "/etc/fuse.conf\n",
      "/etc/gai.conf\n",
      "/etc/hdparm.conf\n",
      "/etc/host.conf\n",
      "/etc/ld.so.conf\n",
      "/etc/libaudit.conf\n",
      "/etc/locale.conf\n",
      "/etc/logrotate.conf\n",
      "/etc/mke2fs.conf\n",
      "/etc/nftables.conf\n",
      "/etc/nsswitch.conf\n",
      "/etc/pam.conf\n",
      "/etc/resolv.conf\n",
      "/etc/rsyslog.conf\n",
      "/etc/sensors3.conf\n",
      "/etc/sudo.conf\n",
      "/etc/sudo_logsrvd.conf\n",
      "/etc/sysctl.conf\n",
      "/etc/ucf.conf\n",
      "/etc/usb_modeswitch.conf\n",
      "/etc/vconsole.conf\n",
      "/etc/wsl.conf\n",
      "/etc/xattr.conf\n"
     ]
    }
   ],
   "source": [
    "%%bash\n",
    "\n",
    "ls /etc/*.conf"
   ]
  },
  {
   "cell_type": "markdown",
   "metadata": {},
   "source": [
    "### 1.4 '?' - wildcard used in filename expansion"
   ]
  },
  {
   "cell_type": "markdown",
   "metadata": {},
   "source": [
    "The '?' character represents a single character in a filename pattern.\n",
    "\n",
    "The following command lists all files whose name starts with any single character followed by 'grep'.\n",
    "\n",
    "```bash\n",
    "ls /bin/?grep\n",
    "```"
   ]
  },
  {
   "cell_type": "code",
   "execution_count": 4,
   "metadata": {},
   "outputs": [
    {
     "name": "stdout",
     "output_type": "stream",
     "text": [
      "/bin/egrep\n",
      "/bin/fgrep\n",
      "/bin/pgrep\n",
      "/bin/rgrep\n",
      "/bin/zgrep\n"
     ]
    }
   ],
   "source": [
    "%%bash\n",
    "\n",
    "ls /bin/?grep"
   ]
  },
  {
   "cell_type": "markdown",
   "metadata": {},
   "source": [
    "## Exercise 2 - Quoting"
   ]
  },
  {
   "cell_type": "markdown",
   "metadata": {},
   "source": [
    "If any special character has to be treated without their special meaning, we need to quote them.\n",
    "\n",
    "The following examples show how quoting is done in shell."
   ]
  },
  {
   "cell_type": "markdown",
   "metadata": {},
   "source": [
    "#### 2.1 Quoting using backslash (\\\\)"
   ]
  },
  {
   "cell_type": "markdown",
   "metadata": {},
   "source": [
    "Backslash removes the meaning of the special character that follows it.\n",
    "\n",
    "```bash\n",
    "echo The symbol for multiplicaton is \\*\n",
    "```"
   ]
  },
  {
   "cell_type": "code",
   "execution_count": 5,
   "metadata": {},
   "outputs": [
    {
     "name": "stdout",
     "output_type": "stream",
     "text": [
      "The symbol for multiplicaton is *\n"
     ]
    }
   ],
   "source": [
    "%%bash\n",
    "\n",
    "echo The symbol for multiplicaton is \\*"
   ]
  },
  {
   "cell_type": "markdown",
   "metadata": {},
   "source": [
    "### 2.2 Quoting using single quote (')"
   ]
  },
  {
   "cell_type": "markdown",
   "metadata": {},
   "source": [
    "A pair of single quotes removes special meanings of all special characters within them (except another single quote).\n",
    "\n",
    "```bash\n",
    "echo 'Following are some special characters in shell - < > ; \" ( ) \\ [ ]  '\n",
    "```"
   ]
  },
  {
   "cell_type": "code",
   "execution_count": 6,
   "metadata": {},
   "outputs": [
    {
     "name": "stdout",
     "output_type": "stream",
     "text": [
      "Following are some special characters in shell - < > ; \" ( ) \\ [ ]  \n"
     ]
    }
   ],
   "source": [
    "%%bash\n",
    "\n",
    "echo 'Following are some special characters in shell - < > ; \" ( ) \\ [ ]  '"
   ]
  },
  {
   "cell_type": "markdown",
   "metadata": {},
   "source": [
    "### 2.3 Quoting using double quote (\")"
   ]
  },
  {
   "cell_type": "markdown",
   "metadata": {},
   "source": [
    "A pair of double quotes removes special meanings of all special characters within them except another double quote, variable substitution and command substitution..\n",
    "\n",
    "Try out the examples below with double quotes as well as single quotes to see the difference between their usage.\n",
    "\n",
    "```bash\n",
    "echo \"Current user name: $USERNAME\"\n",
    "echo 'Current user name: $USERNAME'\n",
    "```"
   ]
  },
  {
   "cell_type": "code",
   "execution_count": 7,
   "metadata": {},
   "outputs": [
    {
     "name": "stdout",
     "output_type": "stream",
     "text": [
      "Current user name: luis-mendoza\n",
      "Current user name: $USER\n"
     ]
    }
   ],
   "source": [
    "%%bash\n",
    "\n",
    "echo \"Current user name: $USER\"\n",
    "echo 'Current user name: $USER'"
   ]
  },
  {
   "cell_type": "markdown",
   "metadata": {},
   "source": [
    "## Exercise 3 - Working with variables"
   ]
  },
  {
   "cell_type": "markdown",
   "metadata": {},
   "source": [
    "**About Variables**\n",
    "\n",
    "Variables help store data for the script. The data may be in the form of a number or a character string.\n",
    "\n",
    "You may create, remove or display the variables.\n",
    "\n",
    "Let us now see how they are used in the shell."
   ]
  },
  {
   "cell_type": "markdown",
   "metadata": {},
   "source": [
    "### 3.1 List the variables already defined in the shell."
   ]
  },
  {
   "cell_type": "markdown",
   "metadata": {},
   "source": [
    "```bash\n",
    "set\n",
    "```\n",
    "\n",
    "You should see a lot of variables in the output."
   ]
  },
  {
   "cell_type": "code",
   "execution_count": 8,
   "metadata": {},
   "outputs": [
    {
     "name": "stdout",
     "output_type": "stream",
     "text": [
      "APPLICATION_INSIGHTS_NO_DIAGNOSTIC_CHANNEL=true\n",
      "BASH=/usr/bin/bash\n",
      "BASHOPTS=checkwinsize:cmdhist:complete_fullquote:extquote:force_fignore:globasciiranges:globskipdots:hostcomplete:interactive_comments:patsub_replacement:progcomp:promptvars:sourcepath\n",
      "BASH_ALIASES=()\n",
      "BASH_ARGC=()\n",
      "BASH_ARGV=()\n",
      "BASH_CMDS=()\n",
      "BASH_LINENO=()\n",
      "BASH_LOADABLES_PATH=/usr/local/lib/bash:/usr/lib/bash:/opt/local/lib/bash:/usr/pkg/lib/bash:/opt/pkg/lib/bash:.\n",
      "BASH_SOURCE=()\n",
      "BASH_VERSINFO=([0]=\"5\" [1]=\"2\" [2]=\"15\" [3]=\"1\" [4]=\"release\" [5]=\"x86_64-pc-linux-gnu\")\n",
      "BASH_VERSION='5.2.15(1)-release'\n",
      "CLICOLOR=1\n",
      "CLICOLOR_FORCE=1\n",
      "CONDA_DEFAULT_ENV=base\n",
      "CONDA_EXE=/home/luis-mendoza/anaconda3/bin/conda\n",
      "CONDA_PREFIX=/home/luis-mendoza/anaconda3\n",
      "CONDA_PROMPT_MODIFIER='(base) '\n",
      "CONDA_PYTHON_EXE=/home/luis-mendoza/anaconda3/bin/python\n",
      "CONDA_ROOT=/home/luis-mendoza/anaconda3\n",
      "CONDA_SHLVL=1\n",
      "DBUS_SESSION_BUS_ADDRESS=unix:path=/run/user/1000/bus\n",
      "DIRHISTORY_SIZE=30\n",
      "DIRSTACK=()\n",
      "DISPLAY=:0\n",
      "ELECTRON_RUN_AS_NODE=1\n",
      "EUID=1000\n",
      "FORCE_COLOR=1\n",
      "GEM_HOME=/home/luis-mendoza/gems\n",
      "GIT_PAGER=cat\n",
      "GROUPS=()\n",
      "GSETTINGS_SCHEMA_DIR=/home/luis-mendoza/anaconda3/share/glib-2.0/schemas\n",
      "GSETTINGS_SCHEMA_DIR_CONDA_BACKUP=\n",
      "HOME=/home/luis-mendoza\n",
      "HOSTNAME=Lenovo-Legion5\n",
      "HOSTTYPE=x86_64\n",
      "IFS=$' \\t\\n'\n",
      "LANG=C.UTF-8\n",
      "LESS=-R\n",
      "LOGNAME=luis-mendoza\n",
      "LSCOLORS=Gxfxcxdxbxegedabagacad\n",
      "LS_COLORS='rs=0:di=01;34:ln=01;36:mh=00:pi=40;33:so=01;35:do=01;35:bd=40;33;01:cd=40;33;01:or=40;31;01:mi=00:su=37;41:sg=30;43:ca=00:tw=30;42:ow=34;42:st=37;44:ex=01;32:*.tar=01;31:*.tgz=01;31:*.arc=01;31:*.arj=01;31:*.taz=01;31:*.lha=01;31:*.lz4=01;31:*.lzh=01;31:*.lzma=01;31:*.tlz=01;31:*.txz=01;31:*.tzo=01;31:*.t7z=01;31:*.zip=01;31:*.z=01;31:*.dz=01;31:*.gz=01;31:*.lrz=01;31:*.lz=01;31:*.lzo=01;31:*.xz=01;31:*.zst=01;31:*.tzst=01;31:*.bz2=01;31:*.bz=01;31:*.tbz=01;31:*.tbz2=01;31:*.tz=01;31:*.deb=01;31:*.rpm=01;31:*.jar=01;31:*.war=01;31:*.ear=01;31:*.sar=01;31:*.rar=01;31:*.alz=01;31:*.ace=01;31:*.zoo=01;31:*.cpio=01;31:*.7z=01;31:*.rz=01;31:*.cab=01;31:*.wim=01;31:*.swm=01;31:*.dwm=01;31:*.esd=01;31:*.avif=01;35:*.jpg=01;35:*.jpeg=01;35:*.mjpg=01;35:*.mjpeg=01;35:*.gif=01;35:*.bmp=01;35:*.pbm=01;35:*.pgm=01;35:*.ppm=01;35:*.tga=01;35:*.xbm=01;35:*.xpm=01;35:*.tif=01;35:*.tiff=01;35:*.png=01;35:*.svg=01;35:*.svgz=01;35:*.mng=01;35:*.pcx=01;35:*.mov=01;35:*.mpg=01;35:*.mpeg=01;35:*.m2v=01;35:*.mkv=01;35:*.webm=01;35:*.webp=01;35:*.ogm=01;35:*.mp4=01;35:*.m4v=01;35:*.mp4v=01;35:*.vob=01;35:*.qt=01;35:*.nuv=01;35:*.wmv=01;35:*.asf=01;35:*.rm=01;35:*.rmvb=01;35:*.flc=01;35:*.avi=01;35:*.fli=01;35:*.flv=01;35:*.gl=01;35:*.dl=01;35:*.xcf=01;35:*.xwd=01;35:*.yuv=01;35:*.cgm=01;35:*.emf=01;35:*.ogv=01;35:*.ogx=01;35:*.aac=00;36:*.au=00;36:*.flac=00;36:*.m4a=00;36:*.mid=00;36:*.midi=00;36:*.mka=00;36:*.mp3=00;36:*.mpc=00;36:*.ogg=00;36:*.ra=00;36:*.wav=00;36:*.oga=00;36:*.opus=00;36:*.spx=00;36:*.xspf=00;36:*~=00;90:*#=00;90:*.bak=00;90:*.old=00;90:*.orig=00;90:*.part=00;90:*.rej=00;90:*.swp=00;90:*.tmp=00;90:*.dpkg-dist=00;90:*.dpkg-old=00;90:*.ucf-dist=00;90:*.ucf-new=00;90:*.ucf-old=00;90:*.rpmnew=00;90:*.rpmorig=00;90:*.rpmsave=00;90::ow=1;34:tw=1;34:'\n",
      "MACHTYPE=x86_64-pc-linux-gnu\n",
      "MPLBACKEND=module://matplotlib_inline.backend_inline\n",
      "NAME=Code\n",
      "OPTERR=1\n",
      "OPTIND=1\n",
      "OSTYPE=linux-gnu\n",
      "PAGER=cat\n",
      "PATH='/home/luis-mendoza/anaconda3/bin:/home/luis-mendoza/.vscode-server/bin/e170252f762678dec6ca2cc69aba1570769a5d39/bin/remote-cli:/home/luis-mendoza/gems/bin:/home/luis-mendoza/anaconda3/bin:/home/luis-mendoza/anaconda3/condabin:/usr/local/sbin:/usr/local/bin:/usr/sbin:/usr/bin:/sbin:/bin:/usr/games:/usr/local/games:/usr/lib/wsl/lib:/mnt/c/Program Files (x86)/Common Files/Oracle/Java/javapath:/mnt/c/Python311/Scripts:/mnt/c/Python311:/mnt/c/Windows/system32:/mnt/c/Windows:/mnt/c/Windows/System32/Wbem:/mnt/c/Windows/System32/WindowsPowerShell/v1.0:/mnt/c/Windows/System32/OpenSSH:/mnt/c/Synopsys/PhotonicSolutions/2020.03/OptoDesigner/bin:/mnt/c/Synopsys/PhotonicSolutions/2020.03/RSoft/bin:/mnt/c/Program Files/MATLAB/R2023b/bin:/mnt/c/Program Files/MATLAB/R2022a/bin:/mnt/c/Synopsys/PhotonicSolutions/2021.09-3/RSoft/bin:/mnt/c/Synopsys/PhotonicSolutions/2021.09-3/OptoDesigner/bin:/mnt/c/WINDOWS/system32:/mnt/c/WINDOWS:/mnt/c/WINDOWS/System32/Wbem:/mnt/c/WINDOWS/System32/WindowsPowerShell/v1.0:/mnt/c/WINDOWS/System32/OpenSSH:/mnt/c/ProgramData/chocolatey/bin:/mnt/c/Program Files (x86)/NVIDIA Corporation/PhysX/Common:/mnt/c/Program Files/NVIDIA Corporation/NVIDIA NvDLISR:/mnt/c/Program Files/Docker/Docker/resources/bin:/mnt/c/Program Files/dotnet:/mnt/c/Program Files/MySQL/MySQL Shell 8.0/bin:/mnt/c/Users/luisa/AppData/Local/Programs/Eclipse Adoptium/jdk-17.0.4.8-hotspot/bin:/mnt/c/Users/luisa/AppData/Local/Microsoft/WindowsApps:/mnt/c/Users/luisa/AppData/Local/Programs/Microsoft VS Code/bin:/mnt/c/Users/luisa/AppData/Local/GitHubDesktop/bin:/mnt/c/msys64/mingw64/bin:/mnt/c/Users/luisa/AppData/Local/Programs/oh-my-posh/bin:/mnt/c/Users/luisa/.dotnet/tools'\n",
      "POSH_PID=$'130457\\n'\n",
      "POSH_PROMPT_COUNT=19\n",
      "POSH_SHELL_VERSION=5.9\n",
      "POSH_THEME=/home/luis-mendoza/.cache/oh-my-posh/config.aHR0cHM6Ly9yYXcuZ2l0aHVidXNlcmNvbnRlbnQuY29tL0phbkRlRG9iYmVsZWVyL29oLW15LXBvc2gvbWFpbi90aGVtZXMvYXRvbWljLm9tcC5qc29u.omp.json\n",
      "POWERLINE_COMMAND=oh-my-posh\n",
      "PPID=250657\n",
      "PS4='+ '\n",
      "PULSE_SERVER=unix:/mnt/wslg/PulseServer\n",
      "PWD=/home/luis-mendoza/Documents/GitHub/Applied_Software_Engineering_Fundamentals_Specialization/Hands-on_Introduction_to_Linux_Commands_and_Shell_Scripting/Week3/Labs\n",
      "PYDEVD_IPYTHON_COMPATIBLE_DEBUGGING=1\n",
      "PYDEVD_USE_FRAME_EVAL=NO\n",
      "PYTHONIOENCODING=utf-8\n",
      "PYTHONUNBUFFERED=1\n",
      "SHELL=/usr/bin/zsh\n",
      "SHELLOPTS=braceexpand:hashall:interactive-comments\n",
      "SHLVL=3\n",
      "TERM=xterm-color\n",
      "UID=1000\n",
      "USER=luis-mendoza\n",
      "VSCODE_AMD_ENTRYPOINT=vs/workbench/api/node/extensionHostProcess\n",
      "VSCODE_CWD='/mnt/c/Users/luisa/AppData/Local/Programs/Microsoft VS Code'\n",
      "VSCODE_HANDLES_SIGPIPE=true\n",
      "VSCODE_HANDLES_UNCAUGHT_ERRORS=true\n",
      "VSCODE_IPC_HOOK_CLI=/run/user/1000/vscode-ipc-a60dc507-547f-4e7f-b303-9e8116c64052.sock\n",
      "VSCODE_L10N_BUNDLE_LOCATION=\n",
      "VSCODE_NLS_CONFIG='{\"locale\":\"en\",\"osLocale\":\"en\",\"availableLanguages\":{}}'\n",
      "VSCODE_WSL_EXT_LOCATION=/mnt/c/Users/luisa/.vscode/extensions/ms-vscode-remote.remote-wsl-0.88.0\n",
      "WAYLAND_DISPLAY=wayland-0\n",
      "WSL2_GUI_APPS_ENABLED=1\n",
      "WSLENV=ELECTRON_RUN_AS_NODE/w:WT_SESSION:WT_PROFILE_ID:\n",
      "WSL_DISTRO_NAME=Ubuntu\n",
      "WSL_INTEROP=/run/WSL/169520_interop\n",
      "WT_PROFILE_ID='{2c4de342-38b7-51cf-b940-2309a097f518}'\n",
      "WT_SESSION=e71329f2-95eb-4b08-9355-f8331401c200\n",
      "XDG_RUNTIME_DIR=/run/user/1000/\n",
      "ZSH=/home/luis-mendoza/.oh-my-zsh\n",
      "_=/home/luis-mendoza/anaconda3/bin/python\n",
      "_CE_CONDA=\n",
      "_CE_M=\n"
     ]
    }
   ],
   "source": [
    "%%bash\n",
    "\n",
    "set"
   ]
  },
  {
   "cell_type": "markdown",
   "metadata": {},
   "source": [
    "### 3.2 Create new variables"
   ]
  },
  {
   "cell_type": "markdown",
   "metadata": {},
   "source": [
    "Use the syntax **variable_name=value**.\n",
    "\n",
    "Create a new variable called 'balance' with a value of 10000. List all the variables again.\n",
    "\n",
    "```bash\n",
    "balance=10000\n",
    "```\n",
    "\n",
    "Run the set command to check if the variable balance has been created.\n",
    "\n",
    "```bash\n",
    "set\n",
    "```"
   ]
  },
  {
   "cell_type": "code",
   "execution_count": 9,
   "metadata": {},
   "outputs": [
    {
     "name": "stdout",
     "output_type": "stream",
     "text": [
      "APPLICATION_INSIGHTS_NO_DIAGNOSTIC_CHANNEL=true\n",
      "BASH=/usr/bin/bash\n",
      "BASHOPTS=checkwinsize:cmdhist:complete_fullquote:extquote:force_fignore:globasciiranges:globskipdots:hostcomplete:interactive_comments:patsub_replacement:progcomp:promptvars:sourcepath\n",
      "BASH_ALIASES=()\n",
      "BASH_ARGC=()\n",
      "BASH_ARGV=()\n",
      "BASH_CMDS=()\n",
      "BASH_LINENO=()\n",
      "BASH_LOADABLES_PATH=/usr/local/lib/bash:/usr/lib/bash:/opt/local/lib/bash:/usr/pkg/lib/bash:/opt/pkg/lib/bash:.\n",
      "BASH_SOURCE=()\n",
      "BASH_VERSINFO=([0]=\"5\" [1]=\"2\" [2]=\"15\" [3]=\"1\" [4]=\"release\" [5]=\"x86_64-pc-linux-gnu\")\n",
      "BASH_VERSION='5.2.15(1)-release'\n",
      "CLICOLOR=1\n",
      "CLICOLOR_FORCE=1\n",
      "CONDA_DEFAULT_ENV=base\n",
      "CONDA_EXE=/home/luis-mendoza/anaconda3/bin/conda\n",
      "CONDA_PREFIX=/home/luis-mendoza/anaconda3\n",
      "CONDA_PROMPT_MODIFIER='(base) '\n",
      "CONDA_PYTHON_EXE=/home/luis-mendoza/anaconda3/bin/python\n",
      "CONDA_ROOT=/home/luis-mendoza/anaconda3\n",
      "CONDA_SHLVL=1\n",
      "DBUS_SESSION_BUS_ADDRESS=unix:path=/run/user/1000/bus\n",
      "DIRHISTORY_SIZE=30\n",
      "DIRSTACK=()\n",
      "DISPLAY=:0\n",
      "ELECTRON_RUN_AS_NODE=1\n",
      "EUID=1000\n",
      "FORCE_COLOR=1\n",
      "GEM_HOME=/home/luis-mendoza/gems\n",
      "GIT_PAGER=cat\n",
      "GROUPS=()\n",
      "GSETTINGS_SCHEMA_DIR=/home/luis-mendoza/anaconda3/share/glib-2.0/schemas\n",
      "GSETTINGS_SCHEMA_DIR_CONDA_BACKUP=\n",
      "HOME=/home/luis-mendoza\n",
      "HOSTNAME=Lenovo-Legion5\n",
      "HOSTTYPE=x86_64\n",
      "IFS=$' \\t\\n'\n",
      "LANG=C.UTF-8\n",
      "LESS=-R\n",
      "LOGNAME=luis-mendoza\n",
      "LSCOLORS=Gxfxcxdxbxegedabagacad\n",
      "LS_COLORS='rs=0:di=01;34:ln=01;36:mh=00:pi=40;33:so=01;35:do=01;35:bd=40;33;01:cd=40;33;01:or=40;31;01:mi=00:su=37;41:sg=30;43:ca=00:tw=30;42:ow=34;42:st=37;44:ex=01;32:*.tar=01;31:*.tgz=01;31:*.arc=01;31:*.arj=01;31:*.taz=01;31:*.lha=01;31:*.lz4=01;31:*.lzh=01;31:*.lzma=01;31:*.tlz=01;31:*.txz=01;31:*.tzo=01;31:*.t7z=01;31:*.zip=01;31:*.z=01;31:*.dz=01;31:*.gz=01;31:*.lrz=01;31:*.lz=01;31:*.lzo=01;31:*.xz=01;31:*.zst=01;31:*.tzst=01;31:*.bz2=01;31:*.bz=01;31:*.tbz=01;31:*.tbz2=01;31:*.tz=01;31:*.deb=01;31:*.rpm=01;31:*.jar=01;31:*.war=01;31:*.ear=01;31:*.sar=01;31:*.rar=01;31:*.alz=01;31:*.ace=01;31:*.zoo=01;31:*.cpio=01;31:*.7z=01;31:*.rz=01;31:*.cab=01;31:*.wim=01;31:*.swm=01;31:*.dwm=01;31:*.esd=01;31:*.avif=01;35:*.jpg=01;35:*.jpeg=01;35:*.mjpg=01;35:*.mjpeg=01;35:*.gif=01;35:*.bmp=01;35:*.pbm=01;35:*.pgm=01;35:*.ppm=01;35:*.tga=01;35:*.xbm=01;35:*.xpm=01;35:*.tif=01;35:*.tiff=01;35:*.png=01;35:*.svg=01;35:*.svgz=01;35:*.mng=01;35:*.pcx=01;35:*.mov=01;35:*.mpg=01;35:*.mpeg=01;35:*.m2v=01;35:*.mkv=01;35:*.webm=01;35:*.webp=01;35:*.ogm=01;35:*.mp4=01;35:*.m4v=01;35:*.mp4v=01;35:*.vob=01;35:*.qt=01;35:*.nuv=01;35:*.wmv=01;35:*.asf=01;35:*.rm=01;35:*.rmvb=01;35:*.flc=01;35:*.avi=01;35:*.fli=01;35:*.flv=01;35:*.gl=01;35:*.dl=01;35:*.xcf=01;35:*.xwd=01;35:*.yuv=01;35:*.cgm=01;35:*.emf=01;35:*.ogv=01;35:*.ogx=01;35:*.aac=00;36:*.au=00;36:*.flac=00;36:*.m4a=00;36:*.mid=00;36:*.midi=00;36:*.mka=00;36:*.mp3=00;36:*.mpc=00;36:*.ogg=00;36:*.ra=00;36:*.wav=00;36:*.oga=00;36:*.opus=00;36:*.spx=00;36:*.xspf=00;36:*~=00;90:*#=00;90:*.bak=00;90:*.old=00;90:*.orig=00;90:*.part=00;90:*.rej=00;90:*.swp=00;90:*.tmp=00;90:*.dpkg-dist=00;90:*.dpkg-old=00;90:*.ucf-dist=00;90:*.ucf-new=00;90:*.ucf-old=00;90:*.rpmnew=00;90:*.rpmorig=00;90:*.rpmsave=00;90::ow=1;34:tw=1;34:'\n",
      "MACHTYPE=x86_64-pc-linux-gnu\n",
      "MPLBACKEND=module://matplotlib_inline.backend_inline\n",
      "NAME=Code\n",
      "OPTERR=1\n",
      "OPTIND=1\n",
      "OSTYPE=linux-gnu\n",
      "PAGER=cat\n",
      "PATH='/home/luis-mendoza/anaconda3/bin:/home/luis-mendoza/.vscode-server/bin/e170252f762678dec6ca2cc69aba1570769a5d39/bin/remote-cli:/home/luis-mendoza/gems/bin:/home/luis-mendoza/anaconda3/bin:/home/luis-mendoza/anaconda3/condabin:/usr/local/sbin:/usr/local/bin:/usr/sbin:/usr/bin:/sbin:/bin:/usr/games:/usr/local/games:/usr/lib/wsl/lib:/mnt/c/Program Files (x86)/Common Files/Oracle/Java/javapath:/mnt/c/Python311/Scripts:/mnt/c/Python311:/mnt/c/Windows/system32:/mnt/c/Windows:/mnt/c/Windows/System32/Wbem:/mnt/c/Windows/System32/WindowsPowerShell/v1.0:/mnt/c/Windows/System32/OpenSSH:/mnt/c/Synopsys/PhotonicSolutions/2020.03/OptoDesigner/bin:/mnt/c/Synopsys/PhotonicSolutions/2020.03/RSoft/bin:/mnt/c/Program Files/MATLAB/R2023b/bin:/mnt/c/Program Files/MATLAB/R2022a/bin:/mnt/c/Synopsys/PhotonicSolutions/2021.09-3/RSoft/bin:/mnt/c/Synopsys/PhotonicSolutions/2021.09-3/OptoDesigner/bin:/mnt/c/WINDOWS/system32:/mnt/c/WINDOWS:/mnt/c/WINDOWS/System32/Wbem:/mnt/c/WINDOWS/System32/WindowsPowerShell/v1.0:/mnt/c/WINDOWS/System32/OpenSSH:/mnt/c/ProgramData/chocolatey/bin:/mnt/c/Program Files (x86)/NVIDIA Corporation/PhysX/Common:/mnt/c/Program Files/NVIDIA Corporation/NVIDIA NvDLISR:/mnt/c/Program Files/Docker/Docker/resources/bin:/mnt/c/Program Files/dotnet:/mnt/c/Program Files/MySQL/MySQL Shell 8.0/bin:/mnt/c/Users/luisa/AppData/Local/Programs/Eclipse Adoptium/jdk-17.0.4.8-hotspot/bin:/mnt/c/Users/luisa/AppData/Local/Microsoft/WindowsApps:/mnt/c/Users/luisa/AppData/Local/Programs/Microsoft VS Code/bin:/mnt/c/Users/luisa/AppData/Local/GitHubDesktop/bin:/mnt/c/msys64/mingw64/bin:/mnt/c/Users/luisa/AppData/Local/Programs/oh-my-posh/bin:/mnt/c/Users/luisa/.dotnet/tools'\n",
      "PIPESTATUS=([0]=\"0\")\n",
      "POSH_PID=$'130457\\n'\n",
      "POSH_PROMPT_COUNT=19\n",
      "POSH_SHELL_VERSION=5.9\n",
      "POSH_THEME=/home/luis-mendoza/.cache/oh-my-posh/config.aHR0cHM6Ly9yYXcuZ2l0aHVidXNlcmNvbnRlbnQuY29tL0phbkRlRG9iYmVsZWVyL29oLW15LXBvc2gvbWFpbi90aGVtZXMvYXRvbWljLm9tcC5qc29u.omp.json\n",
      "POWERLINE_COMMAND=oh-my-posh\n",
      "PPID=250657\n",
      "PS4='+ '\n",
      "PULSE_SERVER=unix:/mnt/wslg/PulseServer\n",
      "PWD=/home/luis-mendoza/Documents/GitHub/Applied_Software_Engineering_Fundamentals_Specialization/Hands-on_Introduction_to_Linux_Commands_and_Shell_Scripting/Week3/Labs\n",
      "PYDEVD_IPYTHON_COMPATIBLE_DEBUGGING=1\n",
      "PYDEVD_USE_FRAME_EVAL=NO\n",
      "PYTHONIOENCODING=utf-8\n",
      "PYTHONUNBUFFERED=1\n",
      "SHELL=/usr/bin/zsh\n",
      "SHELLOPTS=braceexpand:hashall:interactive-comments\n",
      "SHLVL=3\n",
      "TERM=xterm-color\n",
      "UID=1000\n",
      "USER=luis-mendoza\n",
      "VSCODE_AMD_ENTRYPOINT=vs/workbench/api/node/extensionHostProcess\n",
      "VSCODE_CWD='/mnt/c/Users/luisa/AppData/Local/Programs/Microsoft VS Code'\n",
      "VSCODE_HANDLES_SIGPIPE=true\n",
      "VSCODE_HANDLES_UNCAUGHT_ERRORS=true\n",
      "VSCODE_IPC_HOOK_CLI=/run/user/1000/vscode-ipc-a60dc507-547f-4e7f-b303-9e8116c64052.sock\n",
      "VSCODE_L10N_BUNDLE_LOCATION=\n",
      "VSCODE_NLS_CONFIG='{\"locale\":\"en\",\"osLocale\":\"en\",\"availableLanguages\":{}}'\n",
      "VSCODE_WSL_EXT_LOCATION=/mnt/c/Users/luisa/.vscode/extensions/ms-vscode-remote.remote-wsl-0.88.0\n",
      "WAYLAND_DISPLAY=wayland-0\n",
      "WSL2_GUI_APPS_ENABLED=1\n",
      "WSLENV=ELECTRON_RUN_AS_NODE/w:WT_SESSION:WT_PROFILE_ID:\n",
      "WSL_DISTRO_NAME=Ubuntu\n",
      "WSL_INTEROP=/run/WSL/169520_interop\n",
      "WT_PROFILE_ID='{2c4de342-38b7-51cf-b940-2309a097f518}'\n",
      "WT_SESSION=e71329f2-95eb-4b08-9355-f8331401c200\n",
      "XDG_RUNTIME_DIR=/run/user/1000/\n",
      "ZSH=/home/luis-mendoza/.oh-my-zsh\n",
      "_=\n",
      "_CE_CONDA=\n",
      "_CE_M=\n",
      "balance=10000\n"
     ]
    }
   ],
   "source": [
    "%%bash\n",
    "\n",
    "balance=10000\n",
    "set"
   ]
  },
  {
   "cell_type": "markdown",
   "metadata": {},
   "source": [
    "### 3.3 Create an environment variable"
   ]
  },
  {
   "cell_type": "markdown",
   "metadata": {},
   "source": [
    "Environment variables are just like any other variable. They differ in the fact that they are copied to any child process created from the shell.\n",
    "\n",
    "**export** command can be used to convert a regular variable to environment variable.\n",
    "\n",
    "Make the variable ' balance' an environment variable.\n",
    "\n",
    "```bash\n",
    "export balance\n",
    "```"
   ]
  },
  {
   "cell_type": "code",
   "execution_count": 10,
   "metadata": {},
   "outputs": [],
   "source": [
    "%%bash\n",
    "\n",
    "balance=10000\n",
    "export balance"
   ]
  },
  {
   "cell_type": "markdown",
   "metadata": {},
   "source": [
    "### 3.4 List environment variables"
   ]
  },
  {
   "cell_type": "markdown",
   "metadata": {},
   "source": [
    "Use the following command to list all the environment variables.\n",
    "\n",
    "```bash\n",
    "env\n",
    "```\n",
    "\n",
    "You should see a lot of variables in the output."
   ]
  },
  {
   "cell_type": "code",
   "execution_count": 11,
   "metadata": {},
   "outputs": [
    {
     "name": "stdout",
     "output_type": "stream",
     "text": [
      "SHELL=/usr/bin/zsh\n",
      "LSCOLORS=Gxfxcxdxbxegedabagacad\n",
      "PYTHONUNBUFFERED=1\n",
      "LESS=-R\n",
      "WSL2_GUI_APPS_ENABLED=1\n",
      "CONDA_EXE=/home/luis-mendoza/anaconda3/bin/conda\n",
      "_CE_M=\n",
      "POSH_PID=130457\n",
      "\n",
      "APPLICATION_INSIGHTS_NO_DIAGNOSTIC_CHANNEL=true\n",
      "WSL_DISTRO_NAME=Ubuntu\n",
      "WT_SESSION=e71329f2-95eb-4b08-9355-f8331401c200\n",
      "ELECTRON_RUN_AS_NODE=1\n",
      "VSCODE_AMD_ENTRYPOINT=vs/workbench/api/node/extensionHostProcess\n",
      "NAME=Code\n",
      "PWD=/home/luis-mendoza/Documents/GitHub/Applied_Software_Engineering_Fundamentals_Specialization/Hands-on_Introduction_to_Linux_Commands_and_Shell_Scripting/Week3/Labs\n",
      "GSETTINGS_SCHEMA_DIR=/home/luis-mendoza/anaconda3/share/glib-2.0/schemas\n",
      "LOGNAME=luis-mendoza\n",
      "CONDA_ROOT=/home/luis-mendoza/anaconda3\n",
      "CONDA_PREFIX=/home/luis-mendoza/anaconda3\n",
      "GSETTINGS_SCHEMA_DIR_CONDA_BACKUP=\n",
      "PYDEVD_IPYTHON_COMPATIBLE_DEBUGGING=1\n",
      "HOME=/home/luis-mendoza\n",
      "LANG=C.UTF-8\n",
      "WSL_INTEROP=/run/WSL/169520_interop\n",
      "LS_COLORS=rs=0:di=01;34:ln=01;36:mh=00:pi=40;33:so=01;35:do=01;35:bd=40;33;01:cd=40;33;01:or=40;31;01:mi=00:su=37;41:sg=30;43:ca=00:tw=30;42:ow=34;42:st=37;44:ex=01;32:*.tar=01;31:*.tgz=01;31:*.arc=01;31:*.arj=01;31:*.taz=01;31:*.lha=01;31:*.lz4=01;31:*.lzh=01;31:*.lzma=01;31:*.tlz=01;31:*.txz=01;31:*.tzo=01;31:*.t7z=01;31:*.zip=01;31:*.z=01;31:*.dz=01;31:*.gz=01;31:*.lrz=01;31:*.lz=01;31:*.lzo=01;31:*.xz=01;31:*.zst=01;31:*.tzst=01;31:*.bz2=01;31:*.bz=01;31:*.tbz=01;31:*.tbz2=01;31:*.tz=01;31:*.deb=01;31:*.rpm=01;31:*.jar=01;31:*.war=01;31:*.ear=01;31:*.sar=01;31:*.rar=01;31:*.alz=01;31:*.ace=01;31:*.zoo=01;31:*.cpio=01;31:*.7z=01;31:*.rz=01;31:*.cab=01;31:*.wim=01;31:*.swm=01;31:*.dwm=01;31:*.esd=01;31:*.avif=01;35:*.jpg=01;35:*.jpeg=01;35:*.mjpg=01;35:*.mjpeg=01;35:*.gif=01;35:*.bmp=01;35:*.pbm=01;35:*.pgm=01;35:*.ppm=01;35:*.tga=01;35:*.xbm=01;35:*.xpm=01;35:*.tif=01;35:*.tiff=01;35:*.png=01;35:*.svg=01;35:*.svgz=01;35:*.mng=01;35:*.pcx=01;35:*.mov=01;35:*.mpg=01;35:*.mpeg=01;35:*.m2v=01;35:*.mkv=01;35:*.webm=01;35:*.webp=01;35:*.ogm=01;35:*.mp4=01;35:*.m4v=01;35:*.mp4v=01;35:*.vob=01;35:*.qt=01;35:*.nuv=01;35:*.wmv=01;35:*.asf=01;35:*.rm=01;35:*.rmvb=01;35:*.flc=01;35:*.avi=01;35:*.fli=01;35:*.flv=01;35:*.gl=01;35:*.dl=01;35:*.xcf=01;35:*.xwd=01;35:*.yuv=01;35:*.cgm=01;35:*.emf=01;35:*.ogv=01;35:*.ogx=01;35:*.aac=00;36:*.au=00;36:*.flac=00;36:*.m4a=00;36:*.mid=00;36:*.midi=00;36:*.mka=00;36:*.mp3=00;36:*.mpc=00;36:*.ogg=00;36:*.ra=00;36:*.wav=00;36:*.oga=00;36:*.opus=00;36:*.spx=00;36:*.xspf=00;36:*~=00;90:*#=00;90:*.bak=00;90:*.old=00;90:*.orig=00;90:*.part=00;90:*.rej=00;90:*.swp=00;90:*.tmp=00;90:*.dpkg-dist=00;90:*.dpkg-old=00;90:*.ucf-dist=00;90:*.ucf-new=00;90:*.ucf-old=00;90:*.rpmnew=00;90:*.rpmorig=00;90:*.rpmsave=00;90::ow=1;34:tw=1;34:\n",
      "POSH_SHELL_VERSION=5.9\n",
      "WAYLAND_DISPLAY=wayland-0\n",
      "FORCE_COLOR=1\n",
      "CONDA_PROMPT_MODIFIER=(base) \n",
      "PYDEVD_USE_FRAME_EVAL=NO\n",
      "CLICOLOR=1\n",
      "VSCODE_L10N_BUNDLE_LOCATION=\n",
      "CLICOLOR_FORCE=1\n",
      "balance=10000\n",
      "GEM_HOME=/home/luis-mendoza/gems\n",
      "VSCODE_HANDLES_SIGPIPE=true\n",
      "TERM=xterm-color\n",
      "POSH_PROMPT_COUNT=19\n",
      "ZSH=/home/luis-mendoza/.oh-my-zsh\n",
      "_CE_CONDA=\n",
      "USER=luis-mendoza\n",
      "GIT_PAGER=cat\n",
      "PYTHONIOENCODING=utf-8\n",
      "CONDA_SHLVL=1\n",
      "DISPLAY=:0\n",
      "SHLVL=3\n",
      "PAGER=cat\n",
      "VSCODE_CWD=/mnt/c/Users/luisa/AppData/Local/Programs/Microsoft VS Code\n",
      "DIRHISTORY_SIZE=30\n",
      "MPLBACKEND=module://matplotlib_inline.backend_inline\n",
      "POSH_THEME=/home/luis-mendoza/.cache/oh-my-posh/config.aHR0cHM6Ly9yYXcuZ2l0aHVidXNlcmNvbnRlbnQuY29tL0phbkRlRG9iYmVsZWVyL29oLW15LXBvc2gvbWFpbi90aGVtZXMvYXRvbWljLm9tcC5qc29u.omp.json\n",
      "CONDA_PYTHON_EXE=/home/luis-mendoza/anaconda3/bin/python\n",
      "XDG_RUNTIME_DIR=/run/user/1000/\n",
      "CONDA_DEFAULT_ENV=base\n",
      "WSLENV=ELECTRON_RUN_AS_NODE/w:WT_SESSION:WT_PROFILE_ID:\n",
      "VSCODE_WSL_EXT_LOCATION=/mnt/c/Users/luisa/.vscode/extensions/ms-vscode-remote.remote-wsl-0.88.0\n",
      "PATH=/home/luis-mendoza/anaconda3/bin:/home/luis-mendoza/.vscode-server/bin/e170252f762678dec6ca2cc69aba1570769a5d39/bin/remote-cli:/home/luis-mendoza/gems/bin:/home/luis-mendoza/anaconda3/bin:/home/luis-mendoza/anaconda3/condabin:/usr/local/sbin:/usr/local/bin:/usr/sbin:/usr/bin:/sbin:/bin:/usr/games:/usr/local/games:/usr/lib/wsl/lib:/mnt/c/Program Files (x86)/Common Files/Oracle/Java/javapath:/mnt/c/Python311/Scripts:/mnt/c/Python311:/mnt/c/Windows/system32:/mnt/c/Windows:/mnt/c/Windows/System32/Wbem:/mnt/c/Windows/System32/WindowsPowerShell/v1.0:/mnt/c/Windows/System32/OpenSSH:/mnt/c/Synopsys/PhotonicSolutions/2020.03/OptoDesigner/bin:/mnt/c/Synopsys/PhotonicSolutions/2020.03/RSoft/bin:/mnt/c/Program Files/MATLAB/R2023b/bin:/mnt/c/Program Files/MATLAB/R2022a/bin:/mnt/c/Synopsys/PhotonicSolutions/2021.09-3/RSoft/bin:/mnt/c/Synopsys/PhotonicSolutions/2021.09-3/OptoDesigner/bin:/mnt/c/WINDOWS/system32:/mnt/c/WINDOWS:/mnt/c/WINDOWS/System32/Wbem:/mnt/c/WINDOWS/System32/WindowsPowerShell/v1.0:/mnt/c/WINDOWS/System32/OpenSSH:/mnt/c/ProgramData/chocolatey/bin:/mnt/c/Program Files (x86)/NVIDIA Corporation/PhysX/Common:/mnt/c/Program Files/NVIDIA Corporation/NVIDIA NvDLISR:/mnt/c/Program Files/Docker/Docker/resources/bin:/mnt/c/Program Files/dotnet:/mnt/c/Program Files/MySQL/MySQL Shell 8.0/bin:/mnt/c/Users/luisa/AppData/Local/Programs/Eclipse Adoptium/jdk-17.0.4.8-hotspot/bin:/mnt/c/Users/luisa/AppData/Local/Microsoft/WindowsApps:/mnt/c/Users/luisa/AppData/Local/Programs/Microsoft VS Code/bin:/mnt/c/Users/luisa/AppData/Local/GitHubDesktop/bin:/mnt/c/msys64/mingw64/bin:/mnt/c/Users/luisa/AppData/Local/Programs/oh-my-posh/bin:/mnt/c/Users/luisa/.dotnet/tools\n",
      "DBUS_SESSION_BUS_ADDRESS=unix:path=/run/user/1000/bus\n",
      "VSCODE_NLS_CONFIG={\"locale\":\"en\",\"osLocale\":\"en\",\"availableLanguages\":{}}\n",
      "HOSTTYPE=x86_64\n",
      "POWERLINE_COMMAND=oh-my-posh\n",
      "PULSE_SERVER=unix:/mnt/wslg/PulseServer\n",
      "WT_PROFILE_ID={2c4de342-38b7-51cf-b940-2309a097f518}\n",
      "VSCODE_HANDLES_UNCAUGHT_ERRORS=true\n",
      "VSCODE_IPC_HOOK_CLI=/run/user/1000/vscode-ipc-a60dc507-547f-4e7f-b303-9e8116c64052.sock\n",
      "_=/usr/bin/env\n"
     ]
    }
   ],
   "source": [
    "%%bash\n",
    "\n",
    "balance=10000\n",
    "export balance\n",
    "env"
   ]
  },
  {
   "cell_type": "markdown",
   "metadata": {},
   "source": [
    "### 3.5 Display the value of a variable"
   ]
  },
  {
   "cell_type": "markdown",
   "metadata": {},
   "source": [
    "To display or interpolate the value of a variable in a command, we use the feature of shell called **variable substitution**.\n",
    "\n",
    "It is done by preceding the name of the variable with a **$** (dollar) symbol.\n",
    "\n",
    "The command below prints the value of the variable $balance.\n",
    "\n",
    "```bash\n",
    "echo \"Current account balance is $balance\"\n",
    "```"
   ]
  },
  {
   "cell_type": "code",
   "execution_count": 12,
   "metadata": {},
   "outputs": [
    {
     "name": "stdout",
     "output_type": "stream",
     "text": [
      "Current account balance is 10000\n"
     ]
    }
   ],
   "source": [
    "%%bash\n",
    "\n",
    "balance=10000\n",
    "echo \"Current account balance is $balance\""
   ]
  },
  {
   "cell_type": "markdown",
   "metadata": {},
   "source": [
    "### 3.6 Remove a variable"
   ]
  },
  {
   "cell_type": "markdown",
   "metadata": {},
   "source": [
    "To remove variables, use **unset** command.\n",
    "\n",
    "Remove variable 'balance'.\n",
    "\n",
    "```bash\n",
    "unset balance\n",
    "```\n",
    "\n",
    "Run the set command to check if the variable balance has been removed.\n",
    "\n",
    "```bash\n",
    "set\n",
    "```"
   ]
  },
  {
   "cell_type": "code",
   "execution_count": 13,
   "metadata": {},
   "outputs": [
    {
     "name": "stdout",
     "output_type": "stream",
     "text": [
      "APPLICATION_INSIGHTS_NO_DIAGNOSTIC_CHANNEL=true\n",
      "BASH=/usr/bin/bash\n",
      "BASHOPTS=checkwinsize:cmdhist:complete_fullquote:extquote:force_fignore:globasciiranges:globskipdots:hostcomplete:interactive_comments:patsub_replacement:progcomp:promptvars:sourcepath\n",
      "BASH_ALIASES=()\n",
      "BASH_ARGC=()\n",
      "BASH_ARGV=()\n",
      "BASH_CMDS=()\n",
      "BASH_LINENO=()\n",
      "BASH_LOADABLES_PATH=/usr/local/lib/bash:/usr/lib/bash:/opt/local/lib/bash:/usr/pkg/lib/bash:/opt/pkg/lib/bash:.\n",
      "BASH_SOURCE=()\n",
      "BASH_VERSINFO=([0]=\"5\" [1]=\"2\" [2]=\"15\" [3]=\"1\" [4]=\"release\" [5]=\"x86_64-pc-linux-gnu\")\n",
      "BASH_VERSION='5.2.15(1)-release'\n",
      "CLICOLOR=1\n",
      "CLICOLOR_FORCE=1\n",
      "CONDA_DEFAULT_ENV=base\n",
      "CONDA_EXE=/home/luis-mendoza/anaconda3/bin/conda\n",
      "CONDA_PREFIX=/home/luis-mendoza/anaconda3\n",
      "CONDA_PROMPT_MODIFIER='(base) '\n",
      "CONDA_PYTHON_EXE=/home/luis-mendoza/anaconda3/bin/python\n",
      "CONDA_ROOT=/home/luis-mendoza/anaconda3\n",
      "CONDA_SHLVL=1\n",
      "DBUS_SESSION_BUS_ADDRESS=unix:path=/run/user/1000/bus\n",
      "DIRHISTORY_SIZE=30\n",
      "DIRSTACK=()\n",
      "DISPLAY=:0\n",
      "ELECTRON_RUN_AS_NODE=1\n",
      "EUID=1000\n",
      "FORCE_COLOR=1\n",
      "GEM_HOME=/home/luis-mendoza/gems\n",
      "GIT_PAGER=cat\n",
      "GROUPS=()\n",
      "GSETTINGS_SCHEMA_DIR=/home/luis-mendoza/anaconda3/share/glib-2.0/schemas\n",
      "GSETTINGS_SCHEMA_DIR_CONDA_BACKUP=\n",
      "HOME=/home/luis-mendoza\n",
      "HOSTNAME=Lenovo-Legion5\n",
      "HOSTTYPE=x86_64\n",
      "IFS=$' \\t\\n'\n",
      "LANG=C.UTF-8\n",
      "LESS=-R\n",
      "LOGNAME=luis-mendoza\n",
      "LSCOLORS=Gxfxcxdxbxegedabagacad\n",
      "LS_COLORS='rs=0:di=01;34:ln=01;36:mh=00:pi=40;33:so=01;35:do=01;35:bd=40;33;01:cd=40;33;01:or=40;31;01:mi=00:su=37;41:sg=30;43:ca=00:tw=30;42:ow=34;42:st=37;44:ex=01;32:*.tar=01;31:*.tgz=01;31:*.arc=01;31:*.arj=01;31:*.taz=01;31:*.lha=01;31:*.lz4=01;31:*.lzh=01;31:*.lzma=01;31:*.tlz=01;31:*.txz=01;31:*.tzo=01;31:*.t7z=01;31:*.zip=01;31:*.z=01;31:*.dz=01;31:*.gz=01;31:*.lrz=01;31:*.lz=01;31:*.lzo=01;31:*.xz=01;31:*.zst=01;31:*.tzst=01;31:*.bz2=01;31:*.bz=01;31:*.tbz=01;31:*.tbz2=01;31:*.tz=01;31:*.deb=01;31:*.rpm=01;31:*.jar=01;31:*.war=01;31:*.ear=01;31:*.sar=01;31:*.rar=01;31:*.alz=01;31:*.ace=01;31:*.zoo=01;31:*.cpio=01;31:*.7z=01;31:*.rz=01;31:*.cab=01;31:*.wim=01;31:*.swm=01;31:*.dwm=01;31:*.esd=01;31:*.avif=01;35:*.jpg=01;35:*.jpeg=01;35:*.mjpg=01;35:*.mjpeg=01;35:*.gif=01;35:*.bmp=01;35:*.pbm=01;35:*.pgm=01;35:*.ppm=01;35:*.tga=01;35:*.xbm=01;35:*.xpm=01;35:*.tif=01;35:*.tiff=01;35:*.png=01;35:*.svg=01;35:*.svgz=01;35:*.mng=01;35:*.pcx=01;35:*.mov=01;35:*.mpg=01;35:*.mpeg=01;35:*.m2v=01;35:*.mkv=01;35:*.webm=01;35:*.webp=01;35:*.ogm=01;35:*.mp4=01;35:*.m4v=01;35:*.mp4v=01;35:*.vob=01;35:*.qt=01;35:*.nuv=01;35:*.wmv=01;35:*.asf=01;35:*.rm=01;35:*.rmvb=01;35:*.flc=01;35:*.avi=01;35:*.fli=01;35:*.flv=01;35:*.gl=01;35:*.dl=01;35:*.xcf=01;35:*.xwd=01;35:*.yuv=01;35:*.cgm=01;35:*.emf=01;35:*.ogv=01;35:*.ogx=01;35:*.aac=00;36:*.au=00;36:*.flac=00;36:*.m4a=00;36:*.mid=00;36:*.midi=00;36:*.mka=00;36:*.mp3=00;36:*.mpc=00;36:*.ogg=00;36:*.ra=00;36:*.wav=00;36:*.oga=00;36:*.opus=00;36:*.spx=00;36:*.xspf=00;36:*~=00;90:*#=00;90:*.bak=00;90:*.old=00;90:*.orig=00;90:*.part=00;90:*.rej=00;90:*.swp=00;90:*.tmp=00;90:*.dpkg-dist=00;90:*.dpkg-old=00;90:*.ucf-dist=00;90:*.ucf-new=00;90:*.ucf-old=00;90:*.rpmnew=00;90:*.rpmorig=00;90:*.rpmsave=00;90::ow=1;34:tw=1;34:'\n",
      "MACHTYPE=x86_64-pc-linux-gnu\n",
      "MPLBACKEND=module://matplotlib_inline.backend_inline\n",
      "NAME=Code\n",
      "OPTERR=1\n",
      "OPTIND=1\n",
      "OSTYPE=linux-gnu\n",
      "PAGER=cat\n",
      "PATH='/home/luis-mendoza/anaconda3/bin:/home/luis-mendoza/.vscode-server/bin/e170252f762678dec6ca2cc69aba1570769a5d39/bin/remote-cli:/home/luis-mendoza/gems/bin:/home/luis-mendoza/anaconda3/bin:/home/luis-mendoza/anaconda3/condabin:/usr/local/sbin:/usr/local/bin:/usr/sbin:/usr/bin:/sbin:/bin:/usr/games:/usr/local/games:/usr/lib/wsl/lib:/mnt/c/Program Files (x86)/Common Files/Oracle/Java/javapath:/mnt/c/Python311/Scripts:/mnt/c/Python311:/mnt/c/Windows/system32:/mnt/c/Windows:/mnt/c/Windows/System32/Wbem:/mnt/c/Windows/System32/WindowsPowerShell/v1.0:/mnt/c/Windows/System32/OpenSSH:/mnt/c/Synopsys/PhotonicSolutions/2020.03/OptoDesigner/bin:/mnt/c/Synopsys/PhotonicSolutions/2020.03/RSoft/bin:/mnt/c/Program Files/MATLAB/R2023b/bin:/mnt/c/Program Files/MATLAB/R2022a/bin:/mnt/c/Synopsys/PhotonicSolutions/2021.09-3/RSoft/bin:/mnt/c/Synopsys/PhotonicSolutions/2021.09-3/OptoDesigner/bin:/mnt/c/WINDOWS/system32:/mnt/c/WINDOWS:/mnt/c/WINDOWS/System32/Wbem:/mnt/c/WINDOWS/System32/WindowsPowerShell/v1.0:/mnt/c/WINDOWS/System32/OpenSSH:/mnt/c/ProgramData/chocolatey/bin:/mnt/c/Program Files (x86)/NVIDIA Corporation/PhysX/Common:/mnt/c/Program Files/NVIDIA Corporation/NVIDIA NvDLISR:/mnt/c/Program Files/Docker/Docker/resources/bin:/mnt/c/Program Files/dotnet:/mnt/c/Program Files/MySQL/MySQL Shell 8.0/bin:/mnt/c/Users/luisa/AppData/Local/Programs/Eclipse Adoptium/jdk-17.0.4.8-hotspot/bin:/mnt/c/Users/luisa/AppData/Local/Microsoft/WindowsApps:/mnt/c/Users/luisa/AppData/Local/Programs/Microsoft VS Code/bin:/mnt/c/Users/luisa/AppData/Local/GitHubDesktop/bin:/mnt/c/msys64/mingw64/bin:/mnt/c/Users/luisa/AppData/Local/Programs/oh-my-posh/bin:/mnt/c/Users/luisa/.dotnet/tools'\n",
      "PIPESTATUS=([0]=\"0\")\n",
      "POSH_PID=$'130457\\n'\n",
      "POSH_PROMPT_COUNT=19\n",
      "POSH_SHELL_VERSION=5.9\n",
      "POSH_THEME=/home/luis-mendoza/.cache/oh-my-posh/config.aHR0cHM6Ly9yYXcuZ2l0aHVidXNlcmNvbnRlbnQuY29tL0phbkRlRG9iYmVsZWVyL29oLW15LXBvc2gvbWFpbi90aGVtZXMvYXRvbWljLm9tcC5qc29u.omp.json\n",
      "POWERLINE_COMMAND=oh-my-posh\n",
      "PPID=250657\n",
      "PS4='+ '\n",
      "PULSE_SERVER=unix:/mnt/wslg/PulseServer\n",
      "PWD=/home/luis-mendoza/Documents/GitHub/Applied_Software_Engineering_Fundamentals_Specialization/Hands-on_Introduction_to_Linux_Commands_and_Shell_Scripting/Week3/Labs\n",
      "PYDEVD_IPYTHON_COMPATIBLE_DEBUGGING=1\n",
      "PYDEVD_USE_FRAME_EVAL=NO\n",
      "PYTHONIOENCODING=utf-8\n",
      "PYTHONUNBUFFERED=1\n",
      "SHELL=/usr/bin/zsh\n",
      "SHELLOPTS=braceexpand:hashall:interactive-comments\n",
      "SHLVL=3\n",
      "TERM=xterm-color\n",
      "UID=1000\n",
      "USER=luis-mendoza\n",
      "VSCODE_AMD_ENTRYPOINT=vs/workbench/api/node/extensionHostProcess\n",
      "VSCODE_CWD='/mnt/c/Users/luisa/AppData/Local/Programs/Microsoft VS Code'\n",
      "VSCODE_HANDLES_SIGPIPE=true\n",
      "VSCODE_HANDLES_UNCAUGHT_ERRORS=true\n",
      "VSCODE_IPC_HOOK_CLI=/run/user/1000/vscode-ipc-a60dc507-547f-4e7f-b303-9e8116c64052.sock\n",
      "VSCODE_L10N_BUNDLE_LOCATION=\n",
      "VSCODE_NLS_CONFIG='{\"locale\":\"en\",\"osLocale\":\"en\",\"availableLanguages\":{}}'\n",
      "VSCODE_WSL_EXT_LOCATION=/mnt/c/Users/luisa/.vscode/extensions/ms-vscode-remote.remote-wsl-0.88.0\n",
      "WAYLAND_DISPLAY=wayland-0\n",
      "WSL2_GUI_APPS_ENABLED=1\n",
      "WSLENV=ELECTRON_RUN_AS_NODE/w:WT_SESSION:WT_PROFILE_ID:\n",
      "WSL_DISTRO_NAME=Ubuntu\n",
      "WSL_INTEROP=/run/WSL/169520_interop\n",
      "WT_PROFILE_ID='{2c4de342-38b7-51cf-b940-2309a097f518}'\n",
      "WT_SESSION=e71329f2-95eb-4b08-9355-f8331401c200\n",
      "XDG_RUNTIME_DIR=/run/user/1000/\n",
      "ZSH=/home/luis-mendoza/.oh-my-zsh\n",
      "_=balance\n",
      "_CE_CONDA=\n",
      "_CE_M=\n"
     ]
    }
   ],
   "source": [
    "%%bash\n",
    "\n",
    "unset balance\n",
    "set"
   ]
  },
  {
   "cell_type": "markdown",
   "metadata": {},
   "source": [
    "## Exercise 4 - Command substitution"
   ]
  },
  {
   "cell_type": "markdown",
   "metadata": {},
   "source": [
    "Command substitution is a feature of the shell, which helps save the output generated by a command in a variable.\n",
    "\n",
    "It can also be used to nest multiple commands , so that the innermost command's output can be used by outer commands.\n",
    "The inner command is enclosed in **$()** and will execute first.\n",
    "\n",
    "Let us try the following examples."
   ]
  },
  {
   "cell_type": "markdown",
   "metadata": {},
   "source": [
    "### 4.1 Store the output of the command hostname -i in a variable named $myip"
   ]
  },
  {
   "cell_type": "markdown",
   "metadata": {},
   "source": [
    "```bash\n",
    "myip=$(hostname -i)\n",
    "echo $myip\n",
    "```"
   ]
  },
  {
   "cell_type": "code",
   "execution_count": 14,
   "metadata": {},
   "outputs": [
    {
     "name": "stdout",
     "output_type": "stream",
     "text": [
      "127.0.1.1\n"
     ]
    }
   ],
   "source": [
    "%%bash\n",
    "\n",
    "myip=$(hostname -i)\n",
    "echo $myip"
   ]
  },
  {
   "cell_type": "markdown",
   "metadata": {},
   "source": [
    "### 4.2 Print the following message on screen:"
   ]
  },
  {
   "cell_type": "markdown",
   "metadata": {},
   "source": [
    "\"Running on host : host_name\" ,\n",
    "\n",
    "Where 'host_name' should be your current hostname.\n",
    "\n",
    "```bash\n",
    "echo \"Running on host: $(hostname)\"\n",
    "```\n",
    "\n",
    "Command substitution can be done using the backquote syntax also.\n",
    "\n",
    "```bash\n",
    "ls -l `which cat`\n",
    "```\n",
    "\n",
    "The output of command *which cat* is the path to the command *cat*. This path is sent to ls -l as an input. You should see the permissions for the file *cat* in the output."
   ]
  },
  {
   "cell_type": "code",
   "execution_count": 15,
   "metadata": {},
   "outputs": [
    {
     "name": "stdout",
     "output_type": "stream",
     "text": [
      "Running on host: Lenovo-Legion5\n"
     ]
    }
   ],
   "source": [
    "%%bash\n",
    "\n",
    "echo \"Running on host: $(hostname)\""
   ]
  },
  {
   "cell_type": "code",
   "execution_count": 16,
   "metadata": {},
   "outputs": [
    {
     "name": "stdout",
     "output_type": "stream",
     "text": [
      "-rwxr-xr-x 1 root root 35288 Jan  6 12:28 /usr/bin/cat\n"
     ]
    }
   ],
   "source": [
    "%%bash\n",
    "\n",
    "ls -l `which cat`"
   ]
  },
  {
   "cell_type": "markdown",
   "metadata": {},
   "source": [
    "## Exercise 5 - I/O Redirection"
   ]
  },
  {
   "cell_type": "markdown",
   "metadata": {},
   "source": [
    "Linux sends the output of a command to **standard output (display)** and any error generated is sent to **standard error (display)**.\n",
    "\n",
    "Similarly, the input required by a command is received from **standard input (keyboard)**.\n",
    "\n",
    "If we need to change these defaults, shell provides a feature called **I/O Redirection**.\n",
    "\n",
    "This is achieved using the following special characters.\n",
    "\n",
    "| **Symbol**    | **Meaning**       |\n",
    "|---------------|-------------------|\n",
    "| <\t            | Input Redirection |\n",
    "| >\t            | Output Redirecton |\n",
    "| >>\t        | Append Output     |\n",
    "| 2>\t        | Error Redirection |\n",
    "\n",
    "Let us try a few examples."
   ]
  },
  {
   "cell_type": "markdown",
   "metadata": {},
   "source": [
    "### 5.1 Save the network configuration details into a file called output.txt"
   ]
  },
  {
   "cell_type": "markdown",
   "metadata": {},
   "source": [
    "In this example, we will send the output of *ifconfig* command to the file instead of standard output(display).\n",
    "\n",
    "```bash\n",
    "ifconfig > output.txt\n",
    "```\n",
    "\n",
    "Check out the contents of output.txt\n",
    "\n",
    "```bash\n",
    "cat output.txt\n",
    "```"
   ]
  },
  {
   "cell_type": "markdown",
   "metadata": {},
   "source": [
    "### 5.2 Save the output of date command into the file 'output.txt'."
   ]
  },
  {
   "cell_type": "markdown",
   "metadata": {},
   "source": [
    "```bash\n",
    "date > output.txt\n",
    "```\n",
    "\n",
    "Check out the contents of output.txt\n",
    "\n",
    "```bash\n",
    "cat output.txt\n",
    "```\n",
    "\n",
    "Did you notice, that previous contents of output.txt were overwritten?\n",
    "\n",
    "When you redirect using *>* the contents of the target file are overwritten."
   ]
  },
  {
   "cell_type": "code",
   "execution_count": 17,
   "metadata": {},
   "outputs": [
    {
     "name": "stderr",
     "output_type": "stream",
     "text": [
      "mkdir: cannot create directory ‘data’: File exists\n"
     ]
    },
    {
     "name": "stdout",
     "output_type": "stream",
     "text": [
      "Wed Apr 17 15:12:59 CST 2024\n"
     ]
    }
   ],
   "source": [
    "%%bash\n",
    "\n",
    "mkdir data\n",
    "date > ./data/output.txt\n",
    "cat ./data/output.txt"
   ]
  },
  {
   "cell_type": "markdown",
   "metadata": {},
   "source": [
    "### 5.3 Append output to a file"
   ]
  },
  {
   "cell_type": "markdown",
   "metadata": {},
   "source": [
    "Now, we will try the following sequence, where we use '>>' instead of '>'.\n",
    "\n",
    "Run the commands below.\n",
    "\n",
    "```bash\n",
    "uname -a >> newoutput.txt\n",
    "date >> newoutput.txt\n",
    "```\n",
    "\n",
    "Check out the contents of newoutput.txt\n",
    "\n",
    "```bash\n",
    "cat newoutput.txt\n",
    "```\n",
    "\n",
    "You should see the output of *uname* and *date* commands appended to the file newoutput.txt"
   ]
  },
  {
   "cell_type": "code",
   "execution_count": 18,
   "metadata": {},
   "outputs": [
    {
     "name": "stdout",
     "output_type": "stream",
     "text": [
      "Linux Lenovo-Legion5 5.15.146.1-microsoft-standard-WSL2 #1 SMP Thu Jan 11 04:09:03 UTC 2024 x86_64 x86_64 x86_64 GNU/Linux\n",
      "Wed Apr 17 15:07:36 CST 2024\n",
      "Linux Lenovo-Legion5 5.15.146.1-microsoft-standard-WSL2 #1 SMP Thu Jan 11 04:09:03 UTC 2024 x86_64 x86_64 x86_64 GNU/Linux\n",
      "Wed Apr 17 15:12:59 CST 2024\n"
     ]
    }
   ],
   "source": [
    "%%bash\n",
    "\n",
    "uname -a >> ./data/newoutput.txt\n",
    "date >> ./data/newoutput.txt\n",
    "cat ./data/newoutput.txt"
   ]
  },
  {
   "cell_type": "markdown",
   "metadata": {},
   "source": [
    "### 5.4 Display the contents of file 'newoutput.txt' in all uppercase."
   ]
  },
  {
   "cell_type": "markdown",
   "metadata": {},
   "source": [
    "You can use the command *tr* for this translation.\n",
    "\n",
    "*tr* command does not accept file names as arguments. But it accepts standard input.\n",
    "\n",
    "So, we will redirect the content of file 'newoutput.txt' to the input of tr command.\n",
    "\n",
    "```bash\n",
    "tr \"[a-z]\" \"[A-Z]\" < newoutput.txt\n",
    "```\n",
    "\n",
    "You should see all capital letters in the output."
   ]
  },
  {
   "cell_type": "code",
   "execution_count": 19,
   "metadata": {},
   "outputs": [
    {
     "name": "stdout",
     "output_type": "stream",
     "text": [
      "LINUX LENOVO-LEGION5 5.15.146.1-MICROSOFT-STANDARD-WSL2 #1 SMP THU JAN 11 04:09:03 UTC 2024 X86_64 X86_64 X86_64 GNU/LINUX\n",
      "WED APR 17 15:07:36 CST 2024\n",
      "LINUX LENOVO-LEGION5 5.15.146.1-MICROSOFT-STANDARD-WSL2 #1 SMP THU JAN 11 04:09:03 UTC 2024 X86_64 X86_64 X86_64 GNU/LINUX\n",
      "WED APR 17 15:12:59 CST 2024\n"
     ]
    }
   ],
   "source": [
    "%%bash\n",
    "\n",
    "tr \"[a-z]\" \"[A-Z]\" < ./data/newoutput.txt"
   ]
  },
  {
   "cell_type": "markdown",
   "metadata": {},
   "source": [
    "## Exercise 6 - Pipes and Filters"
   ]
  },
  {
   "cell_type": "markdown",
   "metadata": {},
   "source": [
    "**Command pipeline** is a feature of the shell, that helps us to combine different unrelated commands in such a way that one command's output is sent directly as input to the next command. This way, what is not possible with a single command can be made possible by connecting multiple commands.\n",
    "\n",
    "**Only filter commands can be used in this manner**.\n",
    "\n",
    "A **filter command** is a command which can accept input from standard input and send output to standard output.\n",
    "\n",
    "Let us see some examples using few filter commands which we have already discussed."
   ]
  },
  {
   "cell_type": "markdown",
   "metadata": {},
   "source": [
    "### 6.1 Count the total number of files in your current directory."
   ]
  },
  {
   "cell_type": "markdown",
   "metadata": {},
   "source": [
    "Since the **ls** command doesn't provide an option to get a count, let us get help from **wc** command.\n",
    "\n",
    "By combining them using command pipeline syntax, we get the following command.\n",
    "\n",
    "```bash\n",
    "ls | wc -l \n",
    "```"
   ]
  },
  {
   "cell_type": "code",
   "execution_count": 20,
   "metadata": {},
   "outputs": [
    {
     "name": "stdout",
     "output_type": "stream",
     "text": [
      "7\n"
     ]
    }
   ],
   "source": [
    "%%bash\n",
    "\n",
    "ls | wc -l"
   ]
  },
  {
   "cell_type": "markdown",
   "metadata": {},
   "source": [
    "### 6.2 Find the total disk space usage."
   ]
  },
  {
   "cell_type": "markdown",
   "metadata": {},
   "source": [
    "**df -h** command gives disk usage for all individual filesystems including the total usage across the server under the head *overlay*.\n",
    "\n",
    "You can get the overall disk usage if you *grep* for overlay from the output of *df -h*\n",
    "\n",
    "```bash\n",
    "df -h|grep overlay\n",
    "```"
   ]
  },
  {
   "cell_type": "markdown",
   "metadata": {},
   "source": [
    "### List five largest files."
   ]
  },
  {
   "cell_type": "markdown",
   "metadata": {},
   "source": [
    "The -S option of **ls** command sorts the files from largest to smallest.\n",
    "\n",
    "We will send this sorted list through a pipe to the **head** command.\n",
    "\n",
    "```bash\n",
    "ls -lS /bin | head -6\n",
    "```\n",
    "\n",
    "You should see the list of five largest files from the /bin directory."
   ]
  },
  {
   "cell_type": "code",
   "execution_count": 21,
   "metadata": {},
   "outputs": [
    {
     "name": "stdout",
     "output_type": "stream",
     "text": [
      "lrwxrwxrwx 1 root root 7 May  1  2023 /bin -> usr/bin\n"
     ]
    }
   ],
   "source": [
    "%%bash\n",
    "\n",
    "ls -lS /bin | head -6"
   ]
  },
  {
   "cell_type": "markdown",
   "metadata": {},
   "source": [
    "## Exercise 7 - Command line arguments"
   ]
  },
  {
   "cell_type": "markdown",
   "metadata": {},
   "source": [
    "Command line arguments are a very convenient way to pass inputs to a script.\n",
    "\n",
    "Command line arguments can be accessed inside the script as $1, $2 and so on. $1 is the first arugment, $2 is the second argument."
   ]
  },
  {
   "cell_type": "markdown",
   "metadata": {},
   "source": [
    "### 7.1 Create a simple bash script that handles two arguments."
   ]
  },
  {
   "cell_type": "markdown",
   "metadata": {},
   "source": [
    "Save the below code as wish.sh\n",
    "\n",
    "```bash\n",
    "#! /bin/bash\n",
    "\n",
    "echo \"Hi $1 $2\"\n",
    "\n",
    "#$1 is the first argument passed to the script\n",
    "\n",
    "echo \"$1 is your firstname\"\n",
    "\n",
    "#$2 is the second argument passed to the script\n",
    "echo \"$2 is your lastname\"\n",
    "```\n",
    "\n",
    "Make the script executable to everyone.\n",
    "\n",
    "```bash\n",
    "chmod +x wish.sh\n",
    "```\n",
    "\n",
    "Run the script with the two arguments as shown below.\n",
    "\n",
    "```bash\n",
    "./wish.sh Ramesh Sannareddy\n",
    "```\n",
    "\n",
    "You should see the below output.\n",
    "\n",
    "Hi Ramesh Sannareddy\n",
    "\n",
    "Ramesh is your firstname\n",
    "\n",
    "Sannareddy is your lastname"
   ]
  },
  {
   "cell_type": "code",
   "execution_count": 22,
   "metadata": {},
   "outputs": [
    {
     "name": "stdout",
     "output_type": "stream",
     "text": [
      "Hi Ramesh Sannareddy\n",
      "Ramesh is your firstname\n",
      "Sannareddy is your lastname\n"
     ]
    }
   ],
   "source": [
    "%%bash\n",
    "\n",
    "chmod +x ./scripts/wish.sh\n",
    "./scripts/wish.sh Ramesh Sannareddy"
   ]
  },
  {
   "cell_type": "markdown",
   "metadata": {},
   "source": [
    "### 7.2 Find the total disk space usage."
   ]
  },
  {
   "cell_type": "markdown",
   "metadata": {},
   "source": [
    "Let us create a bash script named *dirinfo.sh* that takes the directory name as an argument and prints the total number of the directories and the number of files in it.\n",
    "\n",
    "We will make use of the find command with -type option which will list only files or directories depending upon the usage of *d* switch or *f* switch respectively.\n",
    "\n",
    "The command *wc -l* will count the lines.\n",
    "\n",
    "Save the below code as dirinfo.sh\n",
    "\n",
    "```bash\n",
    "#! /bin/bash\n",
    "\n",
    "dircount=$(find $1 -type d|wc -l)\n",
    "\n",
    "filecount=$(find $1 -type f|wc -l)\n",
    "\n",
    "echo \"There are $dircount directories in the directory $1\"\n",
    "\n",
    "echo \"There are $filecount files in the directory $1\"\n",
    "```\n",
    "\n",
    "Make the script executable to everyone.\n",
    "\n",
    "```bash\n",
    "chmod +x dirinfo.sh\n",
    "```\n",
    "\n",
    "Run the script with the one argument as shown below.\n",
    "\n",
    "```bash\n",
    "./dirinfo.sh /tmp\n",
    "```\n",
    "\n",
    "In the output you should see number of files and directories in the directory /tmp."
   ]
  },
  {
   "cell_type": "code",
   "execution_count": 23,
   "metadata": {},
   "outputs": [
    {
     "name": "stderr",
     "output_type": "stream",
     "text": [
      "find: ‘/tmp/systemd-private-ff8dc85c0b574f40b0fad617cac83623-systemd-resolved.service-kcWKXb’: Permission denied\n",
      "find: ‘/tmp/snap-private-tmp’: Permission denied\n",
      "find: ‘/tmp/systemd-private-ff8dc85c0b574f40b0fad617cac83623-polkit.service-waljyP’: Permission denied\n",
      "find: ‘/tmp/systemd-private-ff8dc85c0b574f40b0fad617cac83623-systemd-logind.service-UKNlqm’: Permission denied\n",
      "find: ‘/tmp/systemd-private-ff8dc85c0b574f40b0fad617cac83623-systemd-resolved.service-kcWKXb’: Permission denied\n",
      "find: ‘/tmp/snap-private-tmp’: Permission denied\n",
      "find: ‘/tmp/systemd-private-ff8dc85c0b574f40b0fad617cac83623-polkit.service-waljyP’: Permission denied\n",
      "find: ‘/tmp/systemd-private-ff8dc85c0b574f40b0fad617cac83623-systemd-logind.service-UKNlqm’: Permission denied\n"
     ]
    },
    {
     "name": "stdout",
     "output_type": "stream",
     "text": [
      "There are 17 directories in the directory /tmp\n",
      "There are 12 files in the directory /tmp\n"
     ]
    }
   ],
   "source": [
    "%%bash\n",
    "\n",
    "chmod +x ./scripts/dirinfo.sh\n",
    "./scripts/dirinfo.sh /tmp"
   ]
  },
  {
   "cell_type": "markdown",
   "metadata": {},
   "source": [
    "## Practice exercises"
   ]
  },
  {
   "cell_type": "markdown",
   "metadata": {},
   "source": [
    "1. Problem.\n",
    "\n",
    "Create a variable called 'color' and store the string 'light green' in it."
   ]
  },
  {
   "cell_type": "code",
   "execution_count": 24,
   "metadata": {},
   "outputs": [
    {
     "name": "stdout",
     "output_type": "stream",
     "text": [
      "light green\n"
     ]
    }
   ],
   "source": [
    "%%bash\n",
    "\n",
    "color='light green'\n",
    "echo \"$color\""
   ]
  },
  {
   "cell_type": "markdown",
   "metadata": {},
   "source": [
    "2. Problem.\n",
    "\n",
    "Display the list of all the files whose name starts with 'b' and ends with '.log' in the directory /var/log."
   ]
  },
  {
   "cell_type": "code",
   "execution_count": 25,
   "metadata": {},
   "outputs": [
    {
     "name": "stdout",
     "output_type": "stream",
     "text": [
      "/var/log/alternatives.log\n",
      "/var/log/apport.log\n",
      "/var/log/auth.log\n"
     ]
    }
   ],
   "source": [
    "%%bash\n",
    "\n",
    "ls /var/log/a*.log"
   ]
  },
  {
   "cell_type": "markdown",
   "metadata": {},
   "source": [
    "3. Problem.\n",
    "\n",
    "Display the count of all files whose name starts with 'c' in the /bin directory."
   ]
  },
  {
   "cell_type": "code",
   "execution_count": 26,
   "metadata": {},
   "outputs": [
    {
     "name": "stdout",
     "output_type": "stream",
     "text": [
      "85\n"
     ]
    }
   ],
   "source": [
    "%%bash\n",
    "\n",
    "ls /bin/c* | wc -l"
   ]
  },
  {
   "cell_type": "markdown",
   "metadata": {},
   "source": [
    "4. Problem.\n",
    "\n",
    "Display the value of variable 'color'."
   ]
  },
  {
   "cell_type": "code",
   "execution_count": 27,
   "metadata": {},
   "outputs": [
    {
     "name": "stdout",
     "output_type": "stream",
     "text": [
      "light green\n"
     ]
    }
   ],
   "source": [
    "%%bash\n",
    "\n",
    "color='light green'\n",
    "echo $color"
   ]
  },
  {
   "cell_type": "markdown",
   "metadata": {},
   "source": [
    "5. Problem.\n",
    "\n",
    "Store the value of the variable 'color' in a file 'color.txt'"
   ]
  },
  {
   "cell_type": "code",
   "execution_count": 28,
   "metadata": {},
   "outputs": [
    {
     "name": "stdout",
     "output_type": "stream",
     "text": [
      "light green\n"
     ]
    }
   ],
   "source": [
    "%%bash \n",
    "\n",
    "color='light green'\n",
    "echo $color > ./data/color.txt\n",
    "cat ./data/color.txt"
   ]
  },
  {
   "cell_type": "markdown",
   "metadata": {},
   "source": [
    "6. Problem.\n",
    "\n",
    "Write a shell script named *latest_warnings.sh* that prints the latest 5 warnings from the /var/log/bootstrap.log file."
   ]
  },
  {
   "cell_type": "markdown",
   "metadata": {},
   "source": [
    "```bash\n",
    "#! /bin/bash\n",
    "grep warning /var/log/bootstrap.log|tail -5\n",
    "```"
   ]
  },
  {
   "cell_type": "code",
   "execution_count": 29,
   "metadata": {},
   "outputs": [],
   "source": [
    "%%bash\n",
    "\n",
    "rm -rf ./data/"
   ]
  },
  {
   "cell_type": "markdown",
   "metadata": {},
   "source": [
    "## Authors"
   ]
  },
  {
   "cell_type": "markdown",
   "metadata": {},
   "source": [
    "Ramesh Sannareddy"
   ]
  },
  {
   "cell_type": "markdown",
   "metadata": {},
   "source": [
    "## Other Contributors"
   ]
  },
  {
   "cell_type": "markdown",
   "metadata": {},
   "source": [
    "Rav Ahuja"
   ]
  },
  {
   "cell_type": "markdown",
   "metadata": {},
   "source": [
    "## Change Log"
   ]
  },
  {
   "cell_type": "markdown",
   "metadata": {},
   "source": [
    "| **Date (YYYY-MM-DD)** | **Version**   | **Changed By**    | **Change Description**            |\n",
    "|-----------------------|---------------|-------------------|---------------------------        |\n",
    "| 2021-05-30            | 0.1\t        | Ramesh Sannareddy\t| Created initial version of the lab| \n",
    "| 2022-09-12            | 0.2\t        | Lavanya Rajalingam| Updated Image                     | \n",
    "\n",
    "Copyright (c) 2021 IBM Corporation. All rights reserved."
   ]
  }
 ],
 "metadata": {
  "kernelspec": {
   "display_name": "Python 3.9.13 ('base')",
   "language": "python",
   "name": "python3"
  },
  "language_info": {
   "codemirror_mode": {
    "name": "ipython",
    "version": 3
   },
   "file_extension": ".py",
   "mimetype": "text/x-python",
   "name": "python",
   "nbconvert_exporter": "python",
   "pygments_lexer": "ipython3",
   "version": "3.11.7"
  },
  "orig_nbformat": 4,
  "vscode": {
   "interpreter": {
    "hash": "0ab7ac22d3d3525ddb7629ab62b0d92e89034641b529aacfddbc818d024d7c15"
   }
  }
 },
 "nbformat": 4,
 "nbformat_minor": 2
}
