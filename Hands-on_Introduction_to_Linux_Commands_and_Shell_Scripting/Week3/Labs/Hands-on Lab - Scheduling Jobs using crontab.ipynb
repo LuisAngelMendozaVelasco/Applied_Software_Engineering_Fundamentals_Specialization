{
 "cells": [
  {
   "cell_type": "markdown",
   "metadata": {},
   "source": [
    "<p style=\"text-align:center\">\n",
    "    <a href=\"https://skills.network/?utm_medium=Exinfluencer&utm_source=Exinfluencer&utm_content=000026UJ&utm_term=10006555&utm_id=NA-SkillsNetwork-Channel-SkillsNetworkCoursesIBMCS0151ENSkillsNetwork835-2022-01-01\" target=\"_blank\">\n",
    "    <img src=\"https://cf-courses-data.s3.us.cloud-object-storage.appdomain.cloud/assets/logos/SN_web_lightmode.png\" width=\"200\" alt=\"Skills Network Logo\">\n",
    "    </a>\n",
    "</p>"
   ]
  },
  {
   "cell_type": "markdown",
   "metadata": {},
   "source": [
    "<a target=\"_blank\" href=\"https://colab.research.google.com/github/LuisAngelMendozaVelasco/Applied_Software_Engineering_Fundamentals_Specialization/blob/main/Hands-on_Introduction_to_Linux_Commands_and_Shell_Scripting/Week3/Labs/Hands-on Lab - Scheduling Jobs using crontab.ipynb\"><img src=\"https://www.tensorflow.org/images/colab_logo_32px.png\" />Run in Google Colab</a>"
   ]
  },
  {
   "cell_type": "code",
   "execution_count": null,
   "metadata": {},
   "outputs": [],
   "source": [
    "%%bash\n",
    "# If running in Google Colab\n",
    "\n",
    "# mkdir scripts\n",
    "# wget https://raw.githubusercontent.com/LuisAngelMendozaVelasco/Applied_Software_Engineering_Fundamentals_Specialization/main/Hands-on_Introduction_to_Linux_Commands_and_Shell_Scripting/Week3/Labs/scripts/diskusage.sh -P ./scripts"
   ]
  },
  {
   "cell_type": "markdown",
   "metadata": {},
   "source": [
    "# Hands-on Lab: Scheduling Jobs using crontab"
   ]
  },
  {
   "cell_type": "markdown",
   "metadata": {},
   "source": [
    "Estimated time needed: **20** minutes"
   ]
  },
  {
   "cell_type": "markdown",
   "metadata": {},
   "source": [
    "## Objectives"
   ]
  },
  {
   "cell_type": "markdown",
   "metadata": {},
   "source": [
    "After completing this lab you will be able to:\n",
    "\n",
    "- List existing cron jobs.\n",
    "- Add a cron job.\n",
    "- Remove cron jobs."
   ]
  },
  {
   "cell_type": "markdown",
   "metadata": {},
   "source": [
    "## About Skills Network Cloud IDE"
   ]
  },
  {
   "cell_type": "markdown",
   "metadata": {},
   "source": [
    "Skills Network Cloud IDE (based on Theia and Docker) provides an environment for hands on labs for course and project related labs. Theia is an open source IDE (Integrated Development Environment), that can be run on desktop or on the cloud. to complete this lab, we will be using the Cloud IDE based on Theia running in a Docker container."
   ]
  },
  {
   "cell_type": "markdown",
   "metadata": {},
   "source": [
    "### Important Notice about this lab environment"
   ]
  },
  {
   "cell_type": "markdown",
   "metadata": {},
   "source": [
    "Please be aware that sessions for this lab environment are not persisted. Every time you connect to this lab, a new environment is created for you. Any data you may have saved in the earlier session would get lost. Plan to complete these labs in a single session, to avoid losing your data."
   ]
  },
  {
   "cell_type": "markdown",
   "metadata": {},
   "source": [
    "## Exercise 1 - Understand crontab file syntax"
   ]
  },
  {
   "cell_type": "markdown",
   "metadata": {},
   "source": [
    "Cron is a system daemon used to execute desired tasks in the background at designated times.\n",
    "\n",
    "A crontab file is a simple text file containing a list of commands meant to be run at specified times. It is edited using the **crontab** command.\n",
    "\n",
    "Each line in crontab file has five time-and-date fields, followed by a command, followed by a newline character ('\\n'). The fields are separated by spaces.\n",
    "\n",
    "The five time-and-date fields cannot contain spaces. The five time-and-date fields and their allowed values are as follows:\n",
    "\n",
    "|                           |\n",
    "|---------------------------|\n",
    "| minute (0-59)             |\n",
    "| hour(0-23, 0 = midnight)  | \n",
    "| day (1-31)                | \n",
    "| month (1-12)              | \n",
    "| weekday (0-6, 0 = Sunday) | "
   ]
  },
  {
   "cell_type": "markdown",
   "metadata": {},
   "source": [
    "## Exercise 2 - List cron jobs"
   ]
  },
  {
   "cell_type": "markdown",
   "metadata": {},
   "source": [
    "Open a new terminal, by clicking on the menu bar and selecting Terminal->New Terminal, as in the image below.\n",
    "\n",
    "![](https://cf-courses-data.s3.us.cloud-object-storage.appdomain.cloud/IBM-LX0117EN-SkillsNetwork/labs/Bash%20Scripting/Lab%20Scheduling%20Tasks%20Using%20Crontab/images/new-terminal.png)\n",
    "\n",
    "This will open a new terminal at the bottom of the screen as in the image below.\n",
    "\n",
    "![](https://cf-courses-data.s3.us.cloud-object-storage.appdomain.cloud/IBM-LX0117EN-SkillsNetwork/labs/Bash%20Scripting/Lab%20Scheduling%20Tasks%20Using%20Crontab/images/terminal_bottom_screen.png)\n",
    "\n",
    "Run the commands below on the newly opened terminal.\n",
    "\n",
    "The -l option of the crontab command prints the current crontab.\n",
    "\n",
    "```bash\n",
    "crontab -l\n",
    "```\n",
    "\n",
    "You may get a message no crontab for theia if your crontab is empty."
   ]
  },
  {
   "cell_type": "markdown",
   "metadata": {},
   "source": [
    "## Exercise 3 - Add a job in the crontab file"
   ]
  },
  {
   "cell_type": "markdown",
   "metadata": {},
   "source": [
    "### 3.1. Add a job to crontab."
   ]
  },
  {
   "cell_type": "markdown",
   "metadata": {},
   "source": [
    "To add a cron job, run the command below\n",
    "\n",
    "```bash\n",
    "crontab -e\n",
    "```\n",
    "\n",
    "This will create a new crontab file for you(if you do not have one already) and now you are ready to add a new cron job.\n",
    "\n",
    "Your crontab file will be opened in an editor as shown in the image below.\n",
    "\n",
    "![](https://cf-courses-data.s3.us.cloud-object-storage.appdomain.cloud/IBM-LX0117EN-SkillsNetwork/labs/Bash%20Scripting/Lab%20Scheduling%20Tasks%20Using%20Crontab/images/crontab1.png)\n",
    "\n",
    "Scroll down to the end of the file using the arrow keys.\n",
    "\n",
    "![](https://cf-courses-data.s3.us.cloud-object-storage.appdomain.cloud/IBM-LX0117EN-SkillsNetwork/labs/Bash%20Scripting/Lab%20Scheduling%20Tasks%20Using%20Crontab/images/crontab2.png)\n",
    "\n",
    "Add the below line at the end of the crontab file.\n",
    "\n",
    "```bash\n",
    "0 21 * * * echo \"Welcome to cron\" >> /tmp/echo.txt\n",
    "```\n",
    "\n",
    "![](https://cf-courses-data.s3.us.cloud-object-storage.appdomain.cloud/IBM-LX0117EN-SkillsNetwork/labs/Bash%20Scripting/Lab%20Scheduling%20Tasks%20Using%20Crontab/images/crontab3.png)\n",
    "\n",
    "The above job specifies that the echo command should run when the minute is 0 and the hours is 21. It effectively means the job runs at 9.00 p.m every day.\n",
    "\n",
    "The output of the command should be sent to a file /tmp/echo.txt.\n",
    "\n",
    "Press Control + X to save the changes.\n",
    "\n",
    "Press 'Y' to confirm.\n",
    "\n",
    "![](https://cf-courses-data.s3.us.cloud-object-storage.appdomain.cloud/IBM-LX0117EN-SkillsNetwork/labs/Bash%20Scripting/Lab%20Scheduling%20Tasks%20Using%20Crontab/images/crontab4.png)\n",
    "\n",
    "Press Enter to come out of the editor.\n",
    "\n",
    "Check if the job is added to the crontab by running the following command.\n",
    "\n",
    "```bash\n",
    "crontab -l\n",
    "```\n",
    "\n",
    "You should see the newly added job in the output.\n",
    "\n",
    "![](https://cf-courses-data.s3.us.cloud-object-storage.appdomain.cloud/IBM-LX0117EN-SkillsNetwork/labs/Bash%20Scripting/Lab%20Scheduling%20Tasks%20Using%20Crontab/images/crontab5.png)"
   ]
  },
  {
   "cell_type": "code",
   "execution_count": 4,
   "metadata": {},
   "outputs": [
    {
     "name": "stdout",
     "output_type": "stream",
     "text": [
      "# Edit this file to introduce tasks to be run by cron.\n",
      "# \n",
      "# Each task to run has to be defined through a single line\n",
      "# indicating with different fields when the task will be run\n",
      "# and what command to run for the task\n",
      "# \n",
      "# To define the time you can provide concrete values for\n",
      "# minute (m), hour (h), day of month (dom), month (mon),\n",
      "# and day of week (dow) or use '*' in these fields (for 'any').\n",
      "# \n",
      "# Notice that tasks will be started based on the cron's system\n",
      "# daemon's notion of time and timezones.\n",
      "# \n",
      "# Output of the crontab jobs (including errors) is sent through\n",
      "# email to the user the crontab file belongs to (unless redirected).\n",
      "# \n",
      "# For example, you can run a backup of all your user accounts\n",
      "# at 5 a.m every week with:\n",
      "# 0 5 * * 1 tar -zcf /var/backups/home.tgz /home/\n",
      "# \n",
      "# For more information see the manual pages of crontab(5) and cron(8)\n",
      "# \n",
      "# m h  dom mon dow   command\n",
      "0 21 * * * echo \"Welcome to cron\" >> /tmp/echo.txt\n"
     ]
    }
   ],
   "source": [
    "%%bash\n",
    "\n",
    "crontab -l"
   ]
  },
  {
   "cell_type": "markdown",
   "metadata": {},
   "source": [
    "### 3.2. Schedule a shell script."
   ]
  },
  {
   "cell_type": "markdown",
   "metadata": {},
   "source": [
    "Let us create a simple shell script that prints the current time and the current disk usage statistics.\n",
    "\n",
    "Step 1: On the menu on the lab screen, use **File**->**New File** to create a new file:\n",
    "\n",
    "Step 2: Give the file name as 'diskusage.sh' and click 'OK'\n",
    "\n",
    "Step 3: Save the following commands into the shell script.\n",
    "\n",
    "```bash\n",
    "#! /bin/bash\n",
    "# print the current date time\n",
    "date\n",
    "# print the disk free statistics\n",
    "df -h\n",
    "```\n",
    "\n",
    "Step 4: Save the file using the **File**->**Save** menu option.\n",
    "\n",
    "Step 5: Verify that the script is working:\n",
    "\n",
    "```bash\n",
    "chmod u+x diskusage.sh\n",
    "./diskusage.sh\n",
    "```\n",
    "\n",
    "The script should print the current timestamp and the disk usage stats.\n",
    "\n",
    "Let us schedule this script to be run everyday at midnight 12:00 (when the hour is 0 on the 24 hour clock). We want the output of this script to be appended to */home/project/diskusage.log*.\n",
    "\n",
    "Edit the crontab.\n",
    "\n",
    "```bash\n",
    "crontab -e\n",
    "```\n",
    "\n",
    "Add the following line to the end of the file:\n",
    "\n",
    "```bash\n",
    "0 0 * * * /home/project/disksusage.sh >>/home/project/diskusage.log\n",
    "```\n",
    "\n",
    "Press Control + X to save the changes.\n",
    "\n",
    "Press 'Y' to confirm.\n",
    "\n",
    "Press Enter to come out of the editor.\n",
    "\n",
    "Check if the job is added to the crontab by running the following command.\n",
    "\n",
    "```bash\n",
    "crontab -l\n",
    "```\n",
    "\n",
    "You should see the newly added job in the output."
   ]
  },
  {
   "cell_type": "code",
   "execution_count": 3,
   "metadata": {},
   "outputs": [
    {
     "name": "stdout",
     "output_type": "stream",
     "text": [
      "Thu Oct 20 23:13:54 CDT 2022\n",
      "Filesystem      Size  Used Avail Use% Mounted on\n",
      "none            3.9G  4.0K  3.9G   1% /mnt/wsl\n",
      "drivers         931G  138G  793G  15% /usr/lib/wsl/drivers\n",
      "none            3.9G     0  3.9G   0% /usr/lib/wsl/lib\n",
      "/dev/sdc       1007G  3.1G  953G   1% /\n",
      "none            3.9G  176K  3.9G   1% /mnt/wslg\n",
      "rootfs          3.9G  1.9M  3.9G   1% /init\n",
      "none            3.9G  8.0K  3.9G   1% /run\n",
      "none            3.9G     0  3.9G   0% /run/lock\n",
      "none            3.9G     0  3.9G   0% /run/shm\n",
      "none            3.9G     0  3.9G   0% /run/user\n",
      "tmpfs           3.9G     0  3.9G   0% /sys/fs/cgroup\n",
      "none            3.9G   76K  3.9G   1% /mnt/wslg/versions.txt\n",
      "none            3.9G   76K  3.9G   1% /mnt/wslg/doc\n",
      "drvfs           931G  138G  793G  15% /mnt/c\n",
      "drvfs           239G   80G  159G  34% /mnt/d\n",
      "drvfs           100G   80G   21G  80% /mnt/g\n"
     ]
    }
   ],
   "source": [
    "%%bash\n",
    "\n",
    "chmod u+x ./scripts/diskusage.sh\n",
    "./scripts/diskusage.sh"
   ]
  },
  {
   "cell_type": "code",
   "execution_count": 4,
   "metadata": {},
   "outputs": [
    {
     "name": "stdout",
     "output_type": "stream",
     "text": [
      "# Edit this file to introduce tasks to be run by cron.\n",
      "# \n",
      "# Each task to run has to be defined through a single line\n",
      "# indicating with different fields when the task will be run\n",
      "# and what command to run for the task\n",
      "# \n",
      "# To define the time you can provide concrete values for\n",
      "# minute (m), hour (h), day of month (dom), month (mon),\n",
      "# and day of week (dow) or use '*' in these fields (for 'any').\n",
      "# \n",
      "# Notice that tasks will be started based on the cron's system\n",
      "# daemon's notion of time and timezones.\n",
      "# \n",
      "# Output of the crontab jobs (including errors) is sent through\n",
      "# email to the user the crontab file belongs to (unless redirected).\n",
      "# \n",
      "# For example, you can run a backup of all your user accounts\n",
      "# at 5 a.m every week with:\n",
      "# 0 5 * * 1 tar -zcf /var/backups/home.tgz /home/\n",
      "# \n",
      "# For more information see the manual pages of crontab(5) and cron(8)\n",
      "# \n",
      "# m h  dom mon dow   command\n",
      "0 0 * * * /home/project/disksusage.sh >>/home/project/diskusage.log\n"
     ]
    }
   ],
   "source": [
    "%%bash\n",
    "\n",
    "crontab -l"
   ]
  },
  {
   "cell_type": "markdown",
   "metadata": {},
   "source": [
    "## Exercise 4 - Remove the current crontab"
   ]
  },
  {
   "cell_type": "markdown",
   "metadata": {},
   "source": [
    "The -r option causes the current crontab to be removed.\n",
    "\n",
    "Caution: This removes all your cron jobs. Be extra cautious when you use this command on a production server.\n",
    "\n",
    "```bash\n",
    "crontab -r\n",
    "```\n",
    "\n",
    "Verify if your crontab is removed.\n",
    "\n",
    "```bash\n",
    "crontab -l\n",
    "```"
   ]
  },
  {
   "cell_type": "markdown",
   "metadata": {},
   "source": [
    "## Practice exercises"
   ]
  },
  {
   "cell_type": "markdown",
   "metadata": {},
   "source": [
    "1. Problem:\n",
    "\n",
    "Create a cron job that runs the task *date >> /tmp/everymin.txt* every minute."
   ]
  },
  {
   "cell_type": "code",
   "execution_count": 8,
   "metadata": {},
   "outputs": [
    {
     "name": "stdout",
     "output_type": "stream",
     "text": [
      "# Edit this file to introduce tasks to be run by cron.\n",
      "# \n",
      "# Each task to run has to be defined through a single line\n",
      "# indicating with different fields when the task will be run\n",
      "# and what command to run for the task\n",
      "# \n",
      "# To define the time you can provide concrete values for\n",
      "# minute (m), hour (h), day of month (dom), month (mon),\n",
      "# and day of week (dow) or use '*' in these fields (for 'any').\n",
      "# \n",
      "# Notice that tasks will be started based on the cron's system\n",
      "# daemon's notion of time and timezones.\n",
      "# \n",
      "# Output of the crontab jobs (including errors) is sent through\n",
      "# email to the user the crontab file belongs to (unless redirected).\n",
      "# \n",
      "# For example, you can run a backup of all your user accounts\n",
      "# at 5 a.m every week with:\n",
      "# 0 5 * * 1 tar -zcf /var/backups/home.tgz /home/\n",
      "# \n",
      "# For more information see the manual pages of crontab(5) and cron(8)\n",
      "# \n",
      "# m h  dom mon dow   command\n",
      "* * * * * date >> /tmp/everymin.txt\n"
     ]
    }
   ],
   "source": [
    "%%bash\n",
    "\n",
    "crontab -l"
   ]
  },
  {
   "cell_type": "markdown",
   "metadata": {},
   "source": [
    "## Authors"
   ]
  },
  {
   "cell_type": "markdown",
   "metadata": {},
   "source": [
    "Ramesh Sannareddy"
   ]
  },
  {
   "cell_type": "markdown",
   "metadata": {},
   "source": [
    "## Other Contributors"
   ]
  },
  {
   "cell_type": "markdown",
   "metadata": {},
   "source": [
    "Rav Ahuja"
   ]
  },
  {
   "cell_type": "markdown",
   "metadata": {},
   "source": [
    "## Change Log"
   ]
  },
  {
   "cell_type": "markdown",
   "metadata": {},
   "source": [
    "| **Date (YYYY-MM-DD)** | **Version**   | **Changed By**    | Change Description                |\n",
    "|-----------------------|---------------|-------------------|-----------------------            |\n",
    "| 2021-05-30            | 0.1\t        | Ramesh Sannareddy\t| Created initial version of the lab| \n",
    "| 2021-09-12\t        | 0.2\t        | Lavanya Rajalingam| Updated Image                     | \n",
    "\n",
    "Copyright (c) 2021 IBM Corporation. All rights reserved."
   ]
  }
 ],
 "metadata": {
  "kernelspec": {
   "display_name": "Python 3.9.13 ('base')",
   "language": "python",
   "name": "python3"
  },
  "language_info": {
   "codemirror_mode": {
    "name": "ipython",
    "version": 3
   },
   "file_extension": ".py",
   "mimetype": "text/x-python",
   "name": "python",
   "nbconvert_exporter": "python",
   "pygments_lexer": "ipython3",
   "version": "3.9.13"
  },
  "orig_nbformat": 4,
  "vscode": {
   "interpreter": {
    "hash": "0ab7ac22d3d3525ddb7629ab62b0d92e89034641b529aacfddbc818d024d7c15"
   }
  }
 },
 "nbformat": 4,
 "nbformat_minor": 2
}
