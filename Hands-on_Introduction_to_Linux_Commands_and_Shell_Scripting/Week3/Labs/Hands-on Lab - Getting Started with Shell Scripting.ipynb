{
 "cells": [
  {
   "cell_type": "markdown",
   "metadata": {},
   "source": [
    "<p style=\"text-align:center\">\n",
    "    <a href=\"https://skills.network/?utm_medium=Exinfluencer&utm_source=Exinfluencer&utm_content=000026UJ&utm_term=10006555&utm_id=NA-SkillsNetwork-Channel-SkillsNetworkCoursesIBMCS0151ENSkillsNetwork835-2022-01-01\" target=\"_blank\">\n",
    "    <img src=\"https://cf-courses-data.s3.us.cloud-object-storage.appdomain.cloud/assets/logos/SN_web_lightmode.png\" width=\"200\" alt=\"Skills Network Logo\">\n",
    "    </a>\n",
    "</p>"
   ]
  },
  {
   "cell_type": "markdown",
   "metadata": {},
   "source": [
    "<a target=\"_blank\" href=\"https://colab.research.google.com/github/LuisAngelMendozaVelasco/Applied_Software_Engineering_Fundamentals_Specialization/blob/main/Hands-on_Introduction_to_Linux_Commands_and_Shell_Scripting/Week3/Labs/Hands-on Lab - Getting Started with Shell Scripting.ipynb\"><img src=\"https://www.tensorflow.org/images/colab_logo_32px.png\" />Run in Google Colab</a>"
   ]
  },
  {
   "cell_type": "code",
   "execution_count": null,
   "metadata": {},
   "outputs": [],
   "source": [
    "%%bash\n",
    "# If running in Google Colab\n",
    "\n",
    "# mkdir scripts\n",
    "# wget https://raw.githubusercontent.com/LuisAngelMendozaVelasco/Applied_Software_Engineering_Fundamentals_Specialization/main/Hands-on_Introduction_to_Linux_Commands_and_Shell_Scripting/Week3/Labs/scripts/greet.sh -P ./scripts"
   ]
  },
  {
   "cell_type": "markdown",
   "metadata": {},
   "source": [
    "# Hands-on Lab: Getting Started with Shell Scripting"
   ]
  },
  {
   "cell_type": "markdown",
   "metadata": {},
   "source": [
    "Estimated time needed: **30** minutes"
   ]
  },
  {
   "cell_type": "markdown",
   "metadata": {},
   "source": [
    "## Objectives"
   ]
  },
  {
   "cell_type": "markdown",
   "metadata": {},
   "source": [
    "After completing this lab you will be able to:\n",
    "\n",
    "- Create and execute a simple bash shell script.\n",
    "- Implement the 'shabang' directive in a bash shell script."
   ]
  },
  {
   "cell_type": "markdown",
   "metadata": {},
   "source": [
    "## About Skills Network Cloud IDE"
   ]
  },
  {
   "cell_type": "markdown",
   "metadata": {},
   "source": [
    "Skills Network Cloud IDE (based on Theia and Docker) provides an environment for hands on labs for course and project related labs. Theia is an open source IDE (Integrated Development Environment), that can be run on desktop or on the cloud. to complete this lab, we will be using the Cloud IDE based on Theia running in a Docker container."
   ]
  },
  {
   "cell_type": "markdown",
   "metadata": {},
   "source": [
    "### Important Notice about this lab environment"
   ]
  },
  {
   "cell_type": "markdown",
   "metadata": {},
   "source": [
    "Please be aware that sessions for this lab environment are not persisted. Every time you connect to this lab, a new environment is created for you. Any data you may have saved in the earlier session would get lost. Plan to complete these labs in a single session, to avoid losing your data."
   ]
  },
  {
   "cell_type": "markdown",
   "metadata": {},
   "source": [
    "## Exercise 1 - Create and execute a basic Shell Script"
   ]
  },
  {
   "cell_type": "markdown",
   "metadata": {},
   "source": [
    "In this exercise, we will create a simple script which will do the following.\n",
    "\n",
    "- Accept a user name\n",
    "- Print a welcome message to the user\n",
    "\n",
    "We will also add comments to the script. All the lines starting with *#* are comments. They are not executed by the shell. Comments make a shell script more readable, and help in debugging the script."
   ]
  },
  {
   "cell_type": "markdown",
   "metadata": {},
   "source": [
    "### 1.1 Create a new script file"
   ]
  },
  {
   "cell_type": "markdown",
   "metadata": {},
   "source": [
    "Step 1: On the menu on the lab screen, use **File**->**New File** to create a new file.\n",
    "\n",
    "![](https://cf-courses-data.s3.us.cloud-object-storage.appdomain.cloud/IBM-LX0117EN-SkillsNetwork/labs/Bash%20Scripting/Lab%20-%20Bash%20Scripting/images/file_new.png)\n",
    "\n",
    "Step 2: Give the name as 'greet.sh' and click 'OK'\n",
    "\n",
    "![](https://cf-courses-data.s3.us.cloud-object-storage.appdomain.cloud/IBM-LX0117EN-SkillsNetwork/labs/Bash%20Scripting/Lab%20-%20Bash%20Scripting/images/file_name.png)\n",
    "\n",
    "Step 3: Copy and paste the following lines into the newly created file.\n",
    "\n",
    "```bash\n",
    "# This script accepts the user's name and prints \n",
    "# a message greeting the user\n",
    "\n",
    "# Print the prompt message on screen\n",
    "echo -n \"Enter your name :\"\t  \t\n",
    "\n",
    "# Wait for user to enter a name, and save the entered name into the variable 'name'\n",
    "read name\t\t\t\t\n",
    "\n",
    "# Print the welcome message followed by the name\t\n",
    "echo \"Welcome $name\"\n",
    "\n",
    "# The following message should print on a single line. Hence the usage of '-n'\n",
    "echo -n \"Congratulations! You just created and ran your first shell script \"\n",
    "echo \"using Bash on IBM Skills Network\"\n",
    "```\n",
    "\n",
    "Step 4: Save the file using the **File**->**Save** menu option"
   ]
  },
  {
   "cell_type": "markdown",
   "metadata": {},
   "source": [
    "### 1.2 Execute the script"
   ]
  },
  {
   "cell_type": "markdown",
   "metadata": {},
   "source": [
    "Open a new terminal, by clicking on the menu bar and selecting **Terminal**->**New Terminal**, as in the image below.\n",
    "\n",
    "![](https://cf-courses-data.s3.us.cloud-object-storage.appdomain.cloud/IBM-LX0117EN-SkillsNetwork/labs/Bash%20Scripting/Lab%20-%20Bash%20Scripting/images/new-terminal.png)\n",
    "\n",
    "This will open a new terminal at the bottom of the screen as in the image below.\n",
    "\n",
    "![](https://cf-courses-data.s3.us.cloud-object-storage.appdomain.cloud/IBM-LX0117EN-SkillsNetwork/labs/Bash%20Scripting/Lab%20-%20Bash%20Scripting/images/terminal_bottom_screen.png)\n",
    "\n",
    "Run the commands below on the newly opened terminal.\n",
    "\n",
    "Let us check the permissions for this new file:\n",
    "\n",
    "```bash\n",
    "ls -l greet.sh\n",
    "```\n",
    "\n",
    "If the file exists and has read permission, run the following command to execute it.\n",
    "\n",
    "```bash\n",
    "bash greet.sh\n",
    "```\n",
    "\n",
    "The message 'Enter your name :' appears on screen.\n",
    "\n",
    "Type your name and press Enter.\n",
    "\n",
    "You should now see the message displayed on screen.\n",
    "\n",
    "![](https://cf-courses-data.s3.us.cloud-object-storage.appdomain.cloud/IBM-LX0117EN-SkillsNetwork/labs/Bash%20Scripting/Lab%20-%20Bash%20Scripting/images/greet_output.png)\n",
    "\n",
    "You have succesfully executed your first bash shell script."
   ]
  },
  {
   "cell_type": "code",
   "execution_count": 1,
   "metadata": {},
   "outputs": [
    {
     "name": "stdout",
     "output_type": "stream",
     "text": [
      "-rwxr-xr-x 1 luis-mendoza luis-mendoza 531 Apr 17 11:38 ./scripts/greet.sh\n"
     ]
    }
   ],
   "source": [
    "%%bash\n",
    "\n",
    "ls -l ./scripts/greet.sh"
   ]
  },
  {
   "cell_type": "markdown",
   "metadata": {},
   "source": [
    "## Exercise 2 - Using 'Shabang' line"
   ]
  },
  {
   "cell_type": "markdown",
   "metadata": {},
   "source": [
    "In this exercise, we will edit the script 'greet.sh' created in the previous exercise and make it an executable file.\n",
    "\n",
    "This is done to ensure that the name of the script can be used like a command.\n",
    "\n",
    "Adding this special line lets us specify the path to the interpreter of the script, which is 'bash' in this case.\n",
    "\n",
    "Let us follow the below steps."
   ]
  },
  {
   "cell_type": "markdown",
   "metadata": {},
   "source": [
    "### 2.1 : Find the path to the interpreter."
   ]
  },
  {
   "cell_type": "markdown",
   "metadata": {},
   "source": [
    "The **which** command helps you find out the path of the command 'bash'.\n",
    "\n",
    "```bash\n",
    "which bash\n",
    "```\n",
    "\n",
    "In this case it returns the path '/bin/bash'."
   ]
  },
  {
   "cell_type": "code",
   "execution_count": 2,
   "metadata": {},
   "outputs": [
    {
     "name": "stdout",
     "output_type": "stream",
     "text": [
      "/usr/bin/bash\n"
     ]
    }
   ],
   "source": [
    "%%bash\n",
    "\n",
    "which bash"
   ]
  },
  {
   "cell_type": "markdown",
   "metadata": {},
   "source": [
    "### 2.2 : Edit the script 'greet.sh' and add the shabang line to the script."
   ]
  },
  {
   "cell_type": "markdown",
   "metadata": {},
   "source": [
    "Open the file and add the following line at the beginning of the script:\n",
    "\n",
    "```bash\n",
    "#! /bin/bash\n",
    "```\n",
    "\n",
    "The script should now look like the following:\n",
    "\n",
    "![](https://cf-courses-data.s3.us.cloud-object-storage.appdomain.cloud/IBM-LX0117EN-SkillsNetwork/labs/Bash%20Scripting/Lab%20-%20Bash%20Scripting/images/code_with_shabang.png)"
   ]
  },
  {
   "cell_type": "markdown",
   "metadata": {},
   "source": [
    "### 2.3 Check the permissions of the script."
   ]
  },
  {
   "cell_type": "markdown",
   "metadata": {},
   "source": [
    "One more step needs to be completed to make 'greet.sh' completely executable by name.\n",
    "Let us add the execute permission for the user on greet.sh.\n",
    "\n",
    "```bash\n",
    "chmod +x greet.sh\n",
    "```\n",
    "\n",
    "Verify if the execute permission is granted.\n",
    "\n",
    "Generally, it is not a good idea to grant permissions to a script for all user, groups and others alike. It is more appropriate to limit the execute permission to only the owner.\n",
    "\n",
    "To change permissions for *greet.sh*, run the command below:\n",
    "\n",
    "```bash\n",
    "chmod u+x greet.sh\n",
    "```\n",
    "\n",
    "Verify the permissions using the command below.\n",
    "\n",
    "```bash\n",
    "ls -l greet.sh\n",
    "```\n",
    "\n",
    "If you wish to grant execute permission to everyone you need to run the command *chmod +x greet.sh*"
   ]
  },
  {
   "cell_type": "code",
   "execution_count": 3,
   "metadata": {},
   "outputs": [
    {
     "name": "stdout",
     "output_type": "stream",
     "text": [
      "-rwxr-xr-x 1 luis-mendoza luis-mendoza 531 Apr 17 11:38 ./scripts/greet.sh\n"
     ]
    }
   ],
   "source": [
    "%%bash\n",
    "\n",
    "chmod +x ./scripts/greet.sh\n",
    "ls -l ./scripts/greet.sh"
   ]
  },
  {
   "cell_type": "markdown",
   "metadata": {},
   "source": [
    "### 2.4 Execute the script."
   ]
  },
  {
   "cell_type": "markdown",
   "metadata": {},
   "source": [
    "Run the command given below to execute the shell script.\n",
    "\n",
    "```bash\n",
    "./greet.sh\n",
    "```\n",
    "\n",
    "The '.' here refers to the current directory. We are telling linux to execute the script greet.sh that is in the current directory."
   ]
  },
  {
   "cell_type": "markdown",
   "metadata": {},
   "source": [
    "## Practice exercises"
   ]
  },
  {
   "cell_type": "markdown",
   "metadata": {},
   "source": [
    "1. Problem:\n",
    "\n",
    "Create a script named 'greetnew.sh' that reads the firstname and lastname of the user, and prints a welcome message like Hello firstname lastname."
   ]
  },
  {
   "cell_type": "markdown",
   "metadata": {},
   "source": [
    "```bash\n",
    "#! /bin/bash\n",
    "\n",
    "# This script accepts the user's name and prints \n",
    "# a message greeting the user\n",
    "\n",
    "# Print the prompt message on screen\n",
    "echo -n \"Enter your firstname: \"\t  \t\n",
    "\n",
    "# Wait for user to enter a name, and save the entered name into the variable 'name'\n",
    "read firstname\t\t\t\t\n",
    "\n",
    "# Print the prompt message on screen\n",
    "echo -n \"Enter your lastname: \"\t  \t\n",
    "\n",
    "# Wait for user to enter a name, and save the entered name into the variable 'name'\n",
    "read lastname\t\n",
    "\n",
    "# Print the welcome message followed by the name\t\n",
    "echo \"Hello $firstname $lastname.\"\n",
    "```"
   ]
  },
  {
   "cell_type": "markdown",
   "metadata": {},
   "source": [
    "## Authors"
   ]
  },
  {
   "cell_type": "markdown",
   "metadata": {},
   "source": [
    "Ramesh Sannareddy"
   ]
  },
  {
   "cell_type": "markdown",
   "metadata": {},
   "source": [
    "## Other Contributors"
   ]
  },
  {
   "cell_type": "markdown",
   "metadata": {},
   "source": [
    "Rav Ahuja"
   ]
  },
  {
   "cell_type": "markdown",
   "metadata": {},
   "source": [
    "## Change Log"
   ]
  },
  {
   "cell_type": "markdown",
   "metadata": {},
   "source": [
    "| **Date (YYYY-MM-DD)** | **Version**   | **Changed By**    | **Change Description**            |\n",
    "|-----------------------|---------------|-------------------|---------------------------        |\n",
    "| 2021-05-30            | 0.1\t        | Ramesh Sannareddy\t| Created initial version of the lab| \n",
    "| 2022-09-12\t        | 0.2\t        | Lavanya Rajalingam| Updated Image                     | \n",
    "\n",
    "Copyright (c) 2021 IBM Corporation. All rights reserved."
   ]
  }
 ],
 "metadata": {
  "kernelspec": {
   "display_name": "Python 3.9.13 ('base')",
   "language": "python",
   "name": "python3"
  },
  "language_info": {
   "codemirror_mode": {
    "name": "ipython",
    "version": 3
   },
   "file_extension": ".py",
   "mimetype": "text/x-python",
   "name": "python",
   "nbconvert_exporter": "python",
   "pygments_lexer": "ipython3",
   "version": "3.11.7"
  },
  "orig_nbformat": 4,
  "vscode": {
   "interpreter": {
    "hash": "0ab7ac22d3d3525ddb7629ab62b0d92e89034641b529aacfddbc818d024d7c15"
   }
  }
 },
 "nbformat": 4,
 "nbformat_minor": 2
}
