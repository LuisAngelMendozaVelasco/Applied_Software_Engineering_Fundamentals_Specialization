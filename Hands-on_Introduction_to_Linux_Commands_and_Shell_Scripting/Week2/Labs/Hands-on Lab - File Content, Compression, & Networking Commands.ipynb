{
 "cells": [
  {
   "cell_type": "markdown",
   "metadata": {},
   "source": [
    "<p style=\"text-align:center\">\n",
    "    <a href=\"https://skills.network/?utm_medium=Exinfluencer&utm_source=Exinfluencer&utm_content=000026UJ&utm_term=10006555&utm_id=NA-SkillsNetwork-Channel-SkillsNetworkCoursesIBMCS0151ENSkillsNetwork835-2022-01-01\" target=\"_blank\">\n",
    "    <img src=\"https://cf-courses-data.s3.us.cloud-object-storage.appdomain.cloud/assets/logos/SN_web_lightmode.png\" width=\"200\" alt=\"Skills Network Logo\">\n",
    "    </a>\n",
    "</p>"
   ]
  },
  {
   "cell_type": "markdown",
   "metadata": {},
   "source": [
    "<a target=\"_blank\" href=\"https://colab.research.google.com/github/LuisAngelMendozaVelasco/Applied_Software_Engineering_Fundamentals_Specialization/blob/main/Hands-on_Introduction_to_Linux_Commands_and_Shell_Scripting/Week2/Labs/Hands-on Lab - File Content, Compression, & Networking Commands.ipynb\"><img src=\"https://www.tensorflow.org/images/colab_logo_32px.png\" />Run in Google Colab</a>"
   ]
  },
  {
   "cell_type": "markdown",
   "metadata": {},
   "source": [
    "# Hands-on Lab: File Content, Compression, & Networking Commands"
   ]
  },
  {
   "cell_type": "markdown",
   "metadata": {},
   "source": [
    "Estimated time needed: 40 minutes"
   ]
  },
  {
   "cell_type": "markdown",
   "metadata": {},
   "source": [
    "## Objectives"
   ]
  },
  {
   "cell_type": "markdown",
   "metadata": {},
   "source": [
    "In this lab, you will be introduced to the use of basic Unix commands related to the following categories:\n",
    "\n",
    "- File content viewing commands\n",
    "- Text processing commands\n",
    "- File/Folder compression & archiving commands\n",
    "- Networking commands"
   ]
  },
  {
   "cell_type": "markdown",
   "metadata": {},
   "source": [
    "## About Skills Network Cloud IDE"
   ]
  },
  {
   "cell_type": "markdown",
   "metadata": {},
   "source": [
    "Skills Network Cloud IDE (based on Theia and Docker) provides an environment for hands on labs for course and project related labs. Theia is an open source IDE (Integrated Development Environment), that can be run on desktop or on the cloud. To complete this lab, you will be using the Cloud IDE based on Theia."
   ]
  },
  {
   "cell_type": "markdown",
   "metadata": {},
   "source": [
    "### Important notice about this lab environment"
   ]
  },
  {
   "cell_type": "markdown",
   "metadata": {},
   "source": [
    "Please be aware that sessions for this lab environment are not persisted. Thus, every time you connect to this lab, a new environment is created for you and any data or files you may have saved in a previous session will be lost. To avoid losing your data, plan to complete these labs in a single session."
   ]
  },
  {
   "cell_type": "markdown",
   "metadata": {},
   "source": [
    "## Setup"
   ]
  },
  {
   "cell_type": "markdown",
   "metadata": {},
   "source": [
    "Open a new terminal, by clicking on the menu bar and selecting **Terminal**->**New Terminal**, as in the image below.\n",
    "\n",
    "![](https://cf-courses-data.s3.us.cloud-object-storage.appdomain.cloud/IBM-LX0117EN-SkillsNetwork/labs/module%201/images/new-terminal.png)\n",
    "\n",
    "This will open a new terminal at the bottom of the screen as seen below.\n",
    "\n",
    "![](https://cf-courses-data.s3.us.cloud-object-storage.appdomain.cloud/IBM-LX0117EN-SkillsNetwork/labs/module%201/images/terminal_bottom_screen.png)\n",
    "\n",
    "You can run the commands provided in the following excercises in your newly opened terminal. You can copy the code to your clipboard if you like by clicking on the little copy button on the bottom right of each codeblock, and then paste it on the command line."
   ]
  },
  {
   "cell_type": "markdown",
   "metadata": {},
   "source": [
    "## Exercise 1 - Viewing file content"
   ]
  },
  {
   "cell_type": "markdown",
   "metadata": {},
   "source": [
    "In this exercise, you will work with commands for viewing file content."
   ]
  },
  {
   "cell_type": "markdown",
   "metadata": {},
   "source": [
    "### **Important**: In order to complete this section, you must run the following in your current directory:"
   ]
  },
  {
   "cell_type": "markdown",
   "metadata": {},
   "source": [
    "```bash\n",
    "wget https://cf-courses-data.s3.us.cloud-object-storage.appdomain.cloud/IBM-DB0250EN-SkillsNetwork/labs/Bash%20Scripting/usdoi.txt\n",
    "```"
   ]
  },
  {
   "cell_type": "code",
   "execution_count": 1,
   "metadata": {},
   "outputs": [
    {
     "name": "stdout",
     "output_type": "stream",
     "text": [
      "usdoi.txt\n"
     ]
    }
   ],
   "source": [
    "%%bash \n",
    "\n",
    "mkdir -p data\n",
    "wget -qc https://cf-courses-data.s3.us.cloud-object-storage.appdomain.cloud/IBM-DB0250EN-SkillsNetwork/labs/Bash%20Scripting/usdoi.txt -P ./data/\n",
    "ls data/"
   ]
  },
  {
   "cell_type": "markdown",
   "metadata": {},
   "source": [
    "### 1.1. Display all file contents"
   ]
  },
  {
   "cell_type": "markdown",
   "metadata": {},
   "source": [
    "```bash\n",
    "cat\n",
    "```\n",
    "\n",
    "The *cat* command displays contents of files.\n",
    "\n",
    "The following command prints the content of the file *usdoi.txt* which you downloaded earlier.\n",
    "\n",
    "```bash\n",
    "cat usdoi.txt\n",
    "```"
   ]
  },
  {
   "cell_type": "code",
   "execution_count": 2,
   "metadata": {},
   "outputs": [
    {
     "name": "stdout",
     "output_type": "stream",
     "text": [
      "The unanimous Declaration of the thirteen united States of America, When in the\n",
      "Course of human events, it becomes necessary for one people to dissolve the\n",
      "political bands which have connected them with another, and to assume among the\n",
      "powers of the earth, the separate and equal station to which the Laws of Nature\n",
      "and of Nature's God entitle them, a decent respect to the opinions of mankind\n",
      "requires that they should declare the causes which impel them to the\n",
      "separation.\n",
      "\n",
      "We hold these truths to be self-evident, that all men are created equal, that\n",
      "they are endowed by their Creator with certain unalienable Rights, that among\n",
      "these are Life, Liberty and the pursuit of Happiness.--That to secure these\n",
      "rights, Governments are instituted among Men, deriving their just powers from\n",
      "the consent of the governed, --That whenever any Form of Government becomes\n",
      "destructive of these ends, it is the Right of the People to alter or to abolish\n",
      "it, and to institute new Government, laying its foundation on such principles\n",
      "and organizing its powers in such form, as to them shall seem most likely to\n",
      "effect their Safety and Happiness. Prudence, indeed, will dictate that\n",
      "Governments long established should not be changed for light and transient\n",
      "causes; and accordingly all experience hath shewn, that mankind are more\n",
      "disposed to suffer, while evils are sufferable, than to right themselves by\n",
      "abolishing the forms to which they are accustomed. But when a long train of\n",
      "abuses and usurpations, pursuing invariably the same Object evinces a design to\n",
      "reduce them under absolute Despotism, it is their right, it is their duty, to\n",
      "throw off such Government, and to provide new Guards for their future\n",
      "security.--Such has been the patient sufferance of these Colonies; and such is\n",
      "now the necessity which constrains them to alter their former Systems of\n",
      "Government. The history of the present King of Great Britain is a history of\n",
      "repeated injuries and usurpations, all having in direct object the\n",
      "establishment of an absolute Tyranny over these States. To prove this, let\n",
      "Facts be submitted to a candid world.\n",
      "\n",
      "He has refused his Assent to Laws, the most wholesome and necessary for the\n",
      "public good.\n",
      "\n",
      "He has forbidden his Governors to pass Laws of immediate and pressing\n",
      "importance, unless suspended in their operation till his Assent should be\n",
      "obtained; and when so suspended, he has utterly neglected to attend to them.\n",
      "\n",
      "He has refused to pass other Laws for the accommodation of large districts of\n",
      "people, unless those people would relinquish the right of Representation in the\n",
      "Legislature, a right inestimable to them and formidable to tyrants only.\n",
      "\n",
      "He has called together legislative bodies at places unusual, uncomfortable, and\n",
      "distant from the depository of their public Records, for the sole purpose of\n",
      "fatiguing them into compliance with his measures.\n",
      "\n",
      "He has dissolved Representative Houses repeatedly, for opposing with manly\n",
      "firmness his invasions on the rights of the people.\n",
      "\n",
      "He has refused for a long time, after such dissolutions, to cause others to be\n",
      "elected; whereby the Legislative powers, incapable of Annihilation, have\n",
      "returned to the People at large for their exercise; the State remaining in the\n",
      "mean time exposed to all the dangers of invasion from without, and convulsions\n",
      "within.\n",
      "\n",
      "He has endeavoured to prevent the population of these States; for that purpose\n",
      "obstructing the Laws for Naturalization of Foreigners; refusing to pass others\n",
      "to encourage their migrations hither, and raising the conditions of new\n",
      "Appropriations of Lands.\n",
      "\n",
      "He has obstructed the Administration of Justice, by refusing his Assent to Laws\n",
      "for establishing Judiciary powers.\n",
      "\n",
      "He has made Judges dependent on his Will alone, for the tenure of their\n",
      "offices, and the amount and payment of their salaries.\n",
      "\n",
      "He has erected a multitude of New Offices, and sent hither swarms of Officers\n",
      "to harrass our people, and eat out their substance.\n",
      "\n",
      "He has kept among us, in times of peace, Standing Armies without the Consent of\n",
      "our legislatures.\n",
      "\n",
      "He has affected to render the Military independent of and superior to the Civil\n",
      "power.\n",
      "\n",
      "He has combined with others to subject us to a jurisdiction foreign to our\n",
      "constitution, and unacknowledged by our laws; giving his Assent to their Acts\n",
      "of pretended Legislation:\n",
      "\n",
      "For Quartering large bodies of armed troops among us:\n",
      "\n",
      "For protecting them, by a mock Trial, from punishment for any Murders which\n",
      "they should commit on the Inhabitants of these States:\n",
      "\n",
      "For cutting off our Trade with all parts of the world:\n",
      "\n",
      "For imposing Taxes on us without our Consent:\n",
      "\n",
      "For depriving us in many cases, of the benefits of Trial by Jury:\n",
      "\n",
      "For transporting us beyond Seas to be tried for pretended offences\n",
      "\n",
      "For abolishing the free System of English Laws in a neighbouring Province,\n",
      "establishing therein an Arbitrary government, and enlarging its Boundaries so\n",
      "as to render it at once an example and fit instrument for introducing the same\n",
      "absolute rule into these Colonies:\n",
      "\n",
      "For taking away our Charters, abolishing our most valuable Laws, and altering\n",
      "fundamentally the Forms of our Governments:\n",
      "\n",
      "For suspending our own Legislatures, and declaring themselves invested with\n",
      "power to legislate for us in all cases whatsoever.\n",
      "\n",
      "He has abdicated Government here, by declaring us out of his Protection and\n",
      "waging War against us.\n",
      "\n",
      "He has plundered our seas, ravaged our Coasts, burnt our towns, and destroyed\n",
      "the lives of our people.\n",
      "\n",
      "He is at this time transporting large Armies of foreign Mercenaries to compleat\n",
      "the works of death, desolation and tyranny, already begun with circumstances of\n",
      "Cruelty & perfidy scarcely paralleled in the most barbarous ages, and totally\n",
      "unworthy the Head of a civilized nation.\n",
      "\n",
      "He has constrained our fellow Citizens taken Captive on the high Seas to bear\n",
      "Arms against their Country, to become the executioners of their friends and\n",
      "Brethren, or to fall themselves by their Hands.\n",
      "\n",
      "He has excited domestic insurrections amongst us, and has endeavoured to bring\n",
      "on the inhabitants of our frontiers, the merciless Indian Savages, whose known\n",
      "rule of warfare, is an undistinguished destruction of all ages, sexes and\n",
      "conditions.\n",
      "\n",
      "In every stage of these Oppressions We have Petitioned for Redress in the most\n",
      "humble terms: Our repeated Petitions have been answered only by repeated\n",
      "injury. A Prince whose character is thus marked by every act which may define a\n",
      "Tyrant, is unfit to be the ruler of a free people.\n",
      "\n",
      "Nor have We been wanting in attentions to our Brittish brethren. We have warned\n",
      "them from time to time of attempts by their legislature to extend an\n",
      "unwarrantable jurisdiction over us. We have reminded them of the circumstances\n",
      "of our emigration and settlement here. We have appealed to their native justice\n",
      "and magnanimity, and we have conjured them by the ties of our common kindred to\n",
      "disavow these usurpations, which, would inevitably interrupt our connections\n",
      "and correspondence. They too have been deaf to the voice of justice and of\n",
      "consanguinity. We must, therefore, acquiesce in the necessity, which denounces\n",
      "our Separation, and hold them, as we hold the rest of mankind, Enemies in War,\n",
      "in Peace Friends.\n",
      "\n",
      "We, therefore, the Representatives of the united States of America, in General\n",
      "Congress, Assembled, appealing to the Supreme Judge of the world for the\n",
      "rectitude of our intentions, do, in the Name, and by Authority of the good\n",
      "People of these Colonies, solemnly publish and declare, That these United\n",
      "Colonies are, and of Right ought to be Free and Independent States; that they\n",
      "are Absolved from all Allegiance to the British Crown, and that all political\n",
      "connection between them and the State of Great Britain, is and ought to be\n",
      "totally dissolved; and that as Free and Independent States, they have full\n",
      "Power to levy War, conclude Peace, contract Alliances, establish Commerce, and\n",
      "to do all other Acts and Things which Independent States may of right do. And\n",
      "for the support of this Declaration, with a firm reliance on the protection of\n",
      "divine Providence, we mutually pledge to each other our Lives, our Fortunes and\n",
      "our sacred Honor.\n"
     ]
    }
   ],
   "source": [
    "%%bash\n",
    "\n",
    "cat ./data/usdoi.txt"
   ]
  },
  {
   "cell_type": "markdown",
   "metadata": {},
   "source": [
    "### 1.2. Display file contents page-wise"
   ]
  },
  {
   "cell_type": "markdown",
   "metadata": {},
   "source": [
    "```bash\n",
    "more\n",
    "```\n",
    "\n",
    "The *more* command displays the file contents page by page.\n",
    "\n",
    "Press *spacebar* to display the next page.\n",
    "\n",
    "```bash\n",
    "more usdoi.txt\n",
    "```"
   ]
  },
  {
   "cell_type": "code",
   "execution_count": 3,
   "metadata": {},
   "outputs": [
    {
     "name": "stdout",
     "output_type": "stream",
     "text": [
      "::::::::::::::\n",
      "./data/usdoi.txt\n",
      "::::::::::::::\n",
      "The unanimous Declaration of the thirteen united States of America, When in the\n",
      "Course of human events, it becomes necessary for one people to dissolve the\n",
      "political bands which have connected them with another, and to assume among the\n",
      "powers of the earth, the separate and equal station to which the Laws of Nature\n",
      "and of Nature's God entitle them, a decent respect to the opinions of mankind\n",
      "requires that they should declare the causes which impel them to the\n",
      "separation.\n",
      "\n",
      "We hold these truths to be self-evident, that all men are created equal, that\n",
      "they are endowed by their Creator with certain unalienable Rights, that among\n",
      "these are Life, Liberty and the pursuit of Happiness.--That to secure these\n",
      "rights, Governments are instituted among Men, deriving their just powers from\n",
      "the consent of the governed, --That whenever any Form of Government becomes\n",
      "destructive of these ends, it is the Right of the People to alter or to abolish\n",
      "it, and to institute new Government, laying its foundation on such principles\n",
      "and organizing its powers in such form, as to them shall seem most likely to\n",
      "effect their Safety and Happiness. Prudence, indeed, will dictate that\n",
      "Governments long established should not be changed for light and transient\n",
      "causes; and accordingly all experience hath shewn, that mankind are more\n",
      "disposed to suffer, while evils are sufferable, than to right themselves by\n",
      "abolishing the forms to which they are accustomed. But when a long train of\n",
      "abuses and usurpations, pursuing invariably the same Object evinces a design to\n",
      "reduce them under absolute Despotism, it is their right, it is their duty, to\n",
      "throw off such Government, and to provide new Guards for their future\n",
      "security.--Such has been the patient sufferance of these Colonies; and such is\n",
      "now the necessity which constrains them to alter their former Systems of\n",
      "Government. The history of the present King of Great Britain is a history of\n",
      "repeated injuries and usurpations, all having in direct object the\n",
      "establishment of an absolute Tyranny over these States. To prove this, let\n",
      "Facts be submitted to a candid world.\n",
      "\n",
      "He has refused his Assent to Laws, the most wholesome and necessary for the\n",
      "public good.\n",
      "\n",
      "He has forbidden his Governors to pass Laws of immediate and pressing\n",
      "importance, unless suspended in their operation till his Assent should be\n",
      "obtained; and when so suspended, he has utterly neglected to attend to them.\n",
      "\n",
      "He has refused to pass other Laws for the accommodation of large districts of\n",
      "people, unless those people would relinquish the right of Representation in the\n",
      "Legislature, a right inestimable to them and formidable to tyrants only.\n",
      "\n",
      "He has called together legislative bodies at places unusual, uncomfortable, and\n",
      "distant from the depository of their public Records, for the sole purpose of\n",
      "fatiguing them into compliance with his measures.\n",
      "\n",
      "He has dissolved Representative Houses repeatedly, for opposing with manly\n",
      "firmness his invasions on the rights of the people.\n",
      "\n",
      "He has refused for a long time, after such dissolutions, to cause others to be\n",
      "elected; whereby the Legislative powers, incapable of Annihilation, have\n",
      "returned to the People at large for their exercise; the State remaining in the\n",
      "mean time exposed to all the dangers of invasion from without, and convulsions\n",
      "within.\n",
      "\n",
      "He has endeavoured to prevent the population of these States; for that purpose\n",
      "obstructing the Laws for Naturalization of Foreigners; refusing to pass others\n",
      "to encourage their migrations hither, and raising the conditions of new\n",
      "Appropriations of Lands.\n",
      "\n",
      "He has obstructed the Administration of Justice, by refusing his Assent to Laws\n",
      "for establishing Judiciary powers.\n",
      "\n",
      "He has made Judges dependent on his Will alone, for the tenure of their\n",
      "offices, and the amount and payment of their salaries.\n",
      "\n",
      "He has erected a multitude of New Offices, and sent hither swarms of Officers\n",
      "to harrass our people, and eat out their substance.\n",
      "\n",
      "He has kept among us, in times of peace, Standing Armies without the Consent of\n",
      "our legislatures.\n",
      "\n",
      "He has affected to render the Military independent of and superior to the Civil\n",
      "power.\n",
      "\n",
      "He has combined with others to subject us to a jurisdiction foreign to our\n",
      "constitution, and unacknowledged by our laws; giving his Assent to their Acts\n",
      "of pretended Legislation:\n",
      "\n",
      "For Quartering large bodies of armed troops among us:\n",
      "\n",
      "For protecting them, by a mock Trial, from punishment for any Murders which\n",
      "they should commit on the Inhabitants of these States:\n",
      "\n",
      "For cutting off our Trade with all parts of the world:\n",
      "\n",
      "For imposing Taxes on us without our Consent:\n",
      "\n",
      "For depriving us in many cases, of the benefits of Trial by Jury:\n",
      "\n",
      "For transporting us beyond Seas to be tried for pretended offences\n",
      "\n",
      "For abolishing the free System of English Laws in a neighbouring Province,\n",
      "establishing therein an Arbitrary government, and enlarging its Boundaries so\n",
      "as to render it at once an example and fit instrument for introducing the same\n",
      "absolute rule into these Colonies:\n",
      "\n",
      "For taking away our Charters, abolishing our most valuable Laws, and altering\n",
      "fundamentally the Forms of our Governments:\n",
      "\n",
      "For suspending our own Legislatures, and declaring themselves invested with\n",
      "power to legislate for us in all cases whatsoever.\n",
      "\n",
      "He has abdicated Government here, by declaring us out of his Protection and\n",
      "waging War against us.\n",
      "\n",
      "He has plundered our seas, ravaged our Coasts, burnt our towns, and destroyed\n",
      "the lives of our people.\n",
      "\n",
      "He is at this time transporting large Armies of foreign Mercenaries to compleat\n",
      "the works of death, desolation and tyranny, already begun with circumstances of\n",
      "Cruelty & perfidy scarcely paralleled in the most barbarous ages, and totally\n",
      "unworthy the Head of a civilized nation.\n",
      "\n",
      "He has constrained our fellow Citizens taken Captive on the high Seas to bear\n",
      "Arms against their Country, to become the executioners of their friends and\n",
      "Brethren, or to fall themselves by their Hands.\n",
      "\n",
      "He has excited domestic insurrections amongst us, and has endeavoured to bring\n",
      "on the inhabitants of our frontiers, the merciless Indian Savages, whose known\n",
      "rule of warfare, is an undistinguished destruction of all ages, sexes and\n",
      "conditions.\n",
      "\n",
      "In every stage of these Oppressions We have Petitioned for Redress in the most\n",
      "humble terms: Our repeated Petitions have been answered only by repeated\n",
      "injury. A Prince whose character is thus marked by every act which may define a\n",
      "Tyrant, is unfit to be the ruler of a free people.\n",
      "\n",
      "Nor have We been wanting in attentions to our Brittish brethren. We have warned\n",
      "them from time to time of attempts by their legislature to extend an\n",
      "unwarrantable jurisdiction over us. We have reminded them of the circumstances\n",
      "of our emigration and settlement here. We have appealed to their native justice\n",
      "and magnanimity, and we have conjured them by the ties of our common kindred to\n",
      "disavow these usurpations, which, would inevitably interrupt our connections\n",
      "and correspondence. They too have been deaf to the voice of justice and of\n",
      "consanguinity. We must, therefore, acquiesce in the necessity, which denounces\n",
      "our Separation, and hold them, as we hold the rest of mankind, Enemies in War,\n",
      "in Peace Friends.\n",
      "\n",
      "We, therefore, the Representatives of the united States of America, in General\n",
      "Congress, Assembled, appealing to the Supreme Judge of the world for the\n",
      "rectitude of our intentions, do, in the Name, and by Authority of the good\n",
      "People of these Colonies, solemnly publish and declare, That these United\n",
      "Colonies are, and of Right ought to be Free and Independent States; that they\n",
      "are Absolved from all Allegiance to the British Crown, and that all political\n",
      "connection between them and the State of Great Britain, is and ought to be\n",
      "totally dissolved; and that as Free and Independent States, they have full\n",
      "Power to levy War, conclude Peace, contract Alliances, establish Commerce, and\n",
      "to do all other Acts and Things which Independent States may of right do. And\n",
      "for the support of this Declaration, with a firm reliance on the protection of\n",
      "divine Providence, we mutually pledge to each other our Lives, our Fortunes and\n",
      "our sacred Honor.\n"
     ]
    }
   ],
   "source": [
    "%%bash\n",
    "\n",
    "more ./data/usdoi.txt"
   ]
  },
  {
   "cell_type": "markdown",
   "metadata": {},
   "source": [
    "### 1.3. Display first few lines of a file"
   ]
  },
  {
   "cell_type": "markdown",
   "metadata": {},
   "source": [
    "```bash\n",
    "head\n",
    "```\n",
    "\n",
    "Print the first 10 lines of the file *usdoi.txt*.\n",
    "\n",
    "```bash\n",
    "head usdoi.txt\n",
    "```\n",
    "\n",
    "You can specify the number of lines to be printed.\n",
    "\n",
    "Print the first 3 lines of the file *usdoi.txt*.\n",
    "\n",
    "```bash\n",
    "head -3 usdoi.txt\n",
    "```"
   ]
  },
  {
   "cell_type": "code",
   "execution_count": 4,
   "metadata": {},
   "outputs": [
    {
     "name": "stdout",
     "output_type": "stream",
     "text": [
      "The unanimous Declaration of the thirteen united States of America, When in the\n",
      "Course of human events, it becomes necessary for one people to dissolve the\n",
      "political bands which have connected them with another, and to assume among the\n",
      "powers of the earth, the separate and equal station to which the Laws of Nature\n",
      "and of Nature's God entitle them, a decent respect to the opinions of mankind\n",
      "requires that they should declare the causes which impel them to the\n",
      "separation.\n",
      "\n",
      "We hold these truths to be self-evident, that all men are created equal, that\n",
      "they are endowed by their Creator with certain unalienable Rights, that among\n"
     ]
    }
   ],
   "source": [
    "%%bash\n",
    "\n",
    "head ./data/usdoi.txt"
   ]
  },
  {
   "cell_type": "code",
   "execution_count": 5,
   "metadata": {},
   "outputs": [
    {
     "name": "stdout",
     "output_type": "stream",
     "text": [
      "The unanimous Declaration of the thirteen united States of America, When in the\n",
      "Course of human events, it becomes necessary for one people to dissolve the\n",
      "political bands which have connected them with another, and to assume among the\n"
     ]
    }
   ],
   "source": [
    "%%bash\n",
    "\n",
    "head -3 ./data/usdoi.txt"
   ]
  },
  {
   "cell_type": "markdown",
   "metadata": {},
   "source": [
    "### 1.4. Display last lines of a file"
   ]
  },
  {
   "cell_type": "markdown",
   "metadata": {},
   "source": [
    "```bash\n",
    "tail\n",
    "```\n",
    "\n",
    "Print the last 10 lines of the file *usdoi.txt*.\n",
    "\n",
    "```bash\n",
    "tail usdoi.txt\n",
    "```\n",
    "\n",
    "You can specify the number of lines to be printed.\n",
    "\n",
    "Print the last 2 lines of the file *usdoi.txt*.\n",
    "\n",
    "```bash\n",
    "tail -2 usdoi.txt\n",
    "```"
   ]
  },
  {
   "cell_type": "code",
   "execution_count": 6,
   "metadata": {},
   "outputs": [
    {
     "name": "stdout",
     "output_type": "stream",
     "text": [
      "People of these Colonies, solemnly publish and declare, That these United\n",
      "Colonies are, and of Right ought to be Free and Independent States; that they\n",
      "are Absolved from all Allegiance to the British Crown, and that all political\n",
      "connection between them and the State of Great Britain, is and ought to be\n",
      "totally dissolved; and that as Free and Independent States, they have full\n",
      "Power to levy War, conclude Peace, contract Alliances, establish Commerce, and\n",
      "to do all other Acts and Things which Independent States may of right do. And\n",
      "for the support of this Declaration, with a firm reliance on the protection of\n",
      "divine Providence, we mutually pledge to each other our Lives, our Fortunes and\n",
      "our sacred Honor.\n"
     ]
    }
   ],
   "source": [
    "%%bash\n",
    " \n",
    "tail ./data/usdoi.txt"
   ]
  },
  {
   "cell_type": "code",
   "execution_count": 7,
   "metadata": {},
   "outputs": [
    {
     "name": "stdout",
     "output_type": "stream",
     "text": [
      "divine Providence, we mutually pledge to each other our Lives, our Fortunes and\n",
      "our sacred Honor.\n"
     ]
    }
   ],
   "source": [
    "%%bash\n",
    "\n",
    "tail -2 ./data/usdoi.txt"
   ]
  },
  {
   "cell_type": "markdown",
   "metadata": {},
   "source": [
    "### 1.5. Count lines, words or characters"
   ]
  },
  {
   "cell_type": "markdown",
   "metadata": {},
   "source": [
    "```bash\n",
    "wc\n",
    "```\n",
    "\n",
    "If you want to find the number of lines, words and characters in a file, for example *usdoi.txt*, enter the command:\n",
    "\n",
    "```bash\n",
    "wc usdoi.txt\n",
    "```\n",
    "\n",
    "The output contains the number of lines followed by number of words followed by number of characters in the file.\n",
    "\n",
    "To print only the number of lines in *usdoi.txt*, use the *-l* option:\n",
    "\n",
    "```bash\n",
    "wc -l usdoi.txt\n",
    "```\n",
    "\n",
    "To print only the number of words in *usdoi.txt*, use the *-w* option:\n",
    "\n",
    "```bash\n",
    "wc -w usdoi.txt\n",
    "```\n",
    "\n",
    "To print only the number of characters in *usdoi.txt*, use te *-c* option:\n",
    "\n",
    "```bash\n",
    "wc -c usdoi.txt\n",
    "```"
   ]
  },
  {
   "cell_type": "code",
   "execution_count": 8,
   "metadata": {},
   "outputs": [
    {
     "name": "stdout",
     "output_type": "stream",
     "text": [
      " 152 1330 8121 ./data/usdoi.txt\n"
     ]
    }
   ],
   "source": [
    "%%bash\n",
    "\n",
    "wc ./data/usdoi.txt"
   ]
  },
  {
   "cell_type": "markdown",
   "metadata": {},
   "source": [
    "## Exercise 2: Customizing view of file content"
   ]
  },
  {
   "cell_type": "markdown",
   "metadata": {},
   "source": [
    "### 2.1. View sorted file lines"
   ]
  },
  {
   "cell_type": "markdown",
   "metadata": {},
   "source": [
    "```bash\n",
    "sort\n",
    "```\n",
    "\n",
    "To view the sorted lines of usdoi.txt:\n",
    "\n",
    "```bash\n",
    "sort usdoi.txt\n",
    "```\n",
    "\n",
    "To view the reverse-sorted lines of usdoi.txt:\n",
    "\n",
    "```bash\n",
    "sort -r usdoi.txt\n",
    "```"
   ]
  },
  {
   "cell_type": "code",
   "execution_count": 9,
   "metadata": {},
   "outputs": [
    {
     "name": "stdout",
     "output_type": "stream",
     "text": [
      "within.\n",
      "waging War against us.\n",
      "unworthy the Head of a civilized nation.\n",
      "unwarrantable jurisdiction over us. We have reminded them of the circumstances\n",
      "totally dissolved; and that as Free and Independent States, they have full\n",
      "to harrass our people, and eat out their substance.\n",
      "to encourage their migrations hither, and raising the conditions of new\n",
      "to do all other Acts and Things which Independent States may of right do. And\n",
      "throw off such Government, and to provide new Guards for their future\n",
      "they should commit on the Inhabitants of these States:\n",
      "they are endowed by their Creator with certain unalienable Rights, that among\n",
      "these are Life, Liberty and the pursuit of Happiness.--That to secure these\n",
      "them from time to time of attempts by their legislature to extend an\n",
      "the works of death, desolation and tyranny, already begun with circumstances of\n",
      "the lives of our people.\n",
      "the consent of the governed, --That whenever any Form of Government becomes\n",
      "separation.\n",
      "security.--Such has been the patient sufferance of these Colonies; and such is\n",
      "rule of warfare, is an undistinguished destruction of all ages, sexes and\n",
      "rights, Governments are instituted among Men, deriving their just powers from\n",
      "returned to the People at large for their exercise; the State remaining in the\n",
      "requires that they should declare the causes which impel them to the\n",
      "repeated injuries and usurpations, all having in direct object the\n",
      "reduce them under absolute Despotism, it is their right, it is their duty, to\n",
      "rectitude of our intentions, do, in the Name, and by Authority of the good\n",
      "public good.\n",
      "powers of the earth, the separate and equal station to which the Laws of Nature\n",
      "power.\n",
      "power to legislate for us in all cases whatsoever.\n",
      "political bands which have connected them with another, and to assume among the\n",
      "people, unless those people would relinquish the right of Representation in the\n",
      "our sacred Honor.\n",
      "our legislatures.\n",
      "our Separation, and hold them, as we hold the rest of mankind, Enemies in War,\n",
      "on the inhabitants of our frontiers, the merciless Indian Savages, whose known\n",
      "offices, and the amount and payment of their salaries.\n",
      "of pretended Legislation:\n",
      "of our emigration and settlement here. We have appealed to their native justice\n",
      "obtained; and when so suspended, he has utterly neglected to attend to them.\n",
      "obstructing the Laws for Naturalization of Foreigners; refusing to pass others\n",
      "now the necessity which constrains them to alter their former Systems of\n",
      "mean time exposed to all the dangers of invasion from without, and convulsions\n",
      "it, and to institute new Government, laying its foundation on such principles\n",
      "injury. A Prince whose character is thus marked by every act which may define a\n",
      "in Peace Friends.\n",
      "importance, unless suspended in their operation till his Assent should be\n",
      "humble terms: Our repeated Petitions have been answered only by repeated\n",
      "fundamentally the Forms of our Governments:\n",
      "for the support of this Declaration, with a firm reliance on the protection of\n",
      "for establishing Judiciary powers.\n",
      "firmness his invasions on the rights of the people.\n",
      "fatiguing them into compliance with his measures.\n",
      "establishment of an absolute Tyranny over these States. To prove this, let\n",
      "establishing therein an Arbitrary government, and enlarging its Boundaries so\n",
      "elected; whereby the Legislative powers, incapable of Annihilation, have\n",
      "effect their Safety and Happiness. Prudence, indeed, will dictate that\n",
      "divine Providence, we mutually pledge to each other our Lives, our Fortunes and\n",
      "distant from the depository of their public Records, for the sole purpose of\n",
      "disposed to suffer, while evils are sufferable, than to right themselves by\n",
      "disavow these usurpations, which, would inevitably interrupt our connections\n",
      "destructive of these ends, it is the Right of the People to alter or to abolish\n",
      "constitution, and unacknowledged by our laws; giving his Assent to their Acts\n",
      "consanguinity. We must, therefore, acquiesce in the necessity, which denounces\n",
      "connection between them and the State of Great Britain, is and ought to be\n",
      "conditions.\n",
      "causes; and accordingly all experience hath shewn, that mankind are more\n",
      "as to render it at once an example and fit instrument for introducing the same\n",
      "are Absolved from all Allegiance to the British Crown, and that all political\n",
      "and organizing its powers in such form, as to them shall seem most likely to\n",
      "and of Nature's God entitle them, a decent respect to the opinions of mankind\n",
      "and magnanimity, and we have conjured them by the ties of our common kindred to\n",
      "and correspondence. They too have been deaf to the voice of justice and of\n",
      "abuses and usurpations, pursuing invariably the same Object evinces a design to\n",
      "absolute rule into these Colonies:\n",
      "abolishing the forms to which they are accustomed. But when a long train of\n",
      "We, therefore, the Representatives of the united States of America, in General\n",
      "We hold these truths to be self-evident, that all men are created equal, that\n",
      "Tyrant, is unfit to be the ruler of a free people.\n",
      "The unanimous Declaration of the thirteen united States of America, When in the\n",
      "Power to levy War, conclude Peace, contract Alliances, establish Commerce, and\n",
      "People of these Colonies, solemnly publish and declare, That these United\n",
      "Nor have We been wanting in attentions to our Brittish brethren. We have warned\n",
      "Legislature, a right inestimable to them and formidable to tyrants only.\n",
      "In every stage of these Oppressions We have Petitioned for Redress in the most\n",
      "He is at this time transporting large Armies of foreign Mercenaries to compleat\n",
      "He has refused to pass other Laws for the accommodation of large districts of\n",
      "He has refused his Assent to Laws, the most wholesome and necessary for the\n",
      "He has refused for a long time, after such dissolutions, to cause others to be\n",
      "He has plundered our seas, ravaged our Coasts, burnt our towns, and destroyed\n",
      "He has obstructed the Administration of Justice, by refusing his Assent to Laws\n",
      "He has made Judges dependent on his Will alone, for the tenure of their\n",
      "He has kept among us, in times of peace, Standing Armies without the Consent of\n",
      "He has forbidden his Governors to pass Laws of immediate and pressing\n",
      "He has excited domestic insurrections amongst us, and has endeavoured to bring\n",
      "He has erected a multitude of New Offices, and sent hither swarms of Officers\n",
      "He has endeavoured to prevent the population of these States; for that purpose\n",
      "He has dissolved Representative Houses repeatedly, for opposing with manly\n",
      "He has constrained our fellow Citizens taken Captive on the high Seas to bear\n",
      "He has combined with others to subject us to a jurisdiction foreign to our\n",
      "He has called together legislative bodies at places unusual, uncomfortable, and\n",
      "He has affected to render the Military independent of and superior to the Civil\n",
      "He has abdicated Government here, by declaring us out of his Protection and\n",
      "Governments long established should not be changed for light and transient\n",
      "Government. The history of the present King of Great Britain is a history of\n",
      "For transporting us beyond Seas to be tried for pretended offences\n",
      "For taking away our Charters, abolishing our most valuable Laws, and altering\n",
      "For suspending our own Legislatures, and declaring themselves invested with\n",
      "For protecting them, by a mock Trial, from punishment for any Murders which\n",
      "For imposing Taxes on us without our Consent:\n",
      "For depriving us in many cases, of the benefits of Trial by Jury:\n",
      "For cutting off our Trade with all parts of the world:\n",
      "For abolishing the free System of English Laws in a neighbouring Province,\n",
      "For Quartering large bodies of armed troops among us:\n",
      "Facts be submitted to a candid world.\n",
      "Cruelty & perfidy scarcely paralleled in the most barbarous ages, and totally\n",
      "Course of human events, it becomes necessary for one people to dissolve the\n",
      "Congress, Assembled, appealing to the Supreme Judge of the world for the\n",
      "Colonies are, and of Right ought to be Free and Independent States; that they\n",
      "Brethren, or to fall themselves by their Hands.\n",
      "Arms against their Country, to become the executioners of their friends and\n",
      "Appropriations of Lands.\n",
      "\n",
      "\n",
      "\n",
      "\n",
      "\n",
      "\n",
      "\n",
      "\n",
      "\n",
      "\n",
      "\n",
      "\n",
      "\n",
      "\n",
      "\n",
      "\n",
      "\n",
      "\n",
      "\n",
      "\n",
      "\n",
      "\n",
      "\n",
      "\n",
      "\n",
      "\n",
      "\n",
      "\n",
      "\n",
      "\n",
      "\n"
     ]
    }
   ],
   "source": [
    "%%bash\n",
    "\n",
    "sort -r ./data/usdoi.txt"
   ]
  },
  {
   "cell_type": "markdown",
   "metadata": {},
   "source": [
    "### 2.2. View with repeated, consecutive lines merged into one\n"
   ]
  },
  {
   "cell_type": "markdown",
   "metadata": {},
   "source": [
    "```bash\n",
    "uniq\n",
    "```\n",
    "\n",
    "First download the following file:\n",
    "\n",
    "```bash\n",
    "wget https://cf-courses-data.s3.us.cloud-object-storage.appdomain.cloud/IBM-LX0117EN-SkillsNetwork/labs/module%201/zoo.txt\n",
    "```\n",
    "\n",
    "View the raw contents of **zoo.txt**:\n",
    "\n",
    "```bash\n",
    "cat zoo.txt\n",
    "```\n",
    "\n",
    "View the contents of zoo.txt with equal, consecutive lines merged into one:\n",
    "\n",
    "```bash\n",
    "uniq zoo.txt\n",
    "```"
   ]
  },
  {
   "cell_type": "code",
   "execution_count": 10,
   "metadata": {},
   "outputs": [
    {
     "name": "stdout",
     "output_type": "stream",
     "text": [
      "zebra\n",
      "zebra\n",
      "lion\n",
      "lion\n",
      "anaconda\n",
      "zebra\n",
      "zebra\n",
      "lion\n",
      "zebra\n"
     ]
    }
   ],
   "source": [
    "%%bash\n",
    "\n",
    "wget -qc https://cf-courses-data.s3.us.cloud-object-storage.appdomain.cloud/IBM-LX0117EN-SkillsNetwork/labs/module%201/zoo.txt -P ./data/\n",
    "cat ./data/zoo.txt"
   ]
  },
  {
   "cell_type": "code",
   "execution_count": 11,
   "metadata": {},
   "outputs": [
    {
     "name": "stdout",
     "output_type": "stream",
     "text": [
      "zebra\n",
      "lion\n",
      "anaconda\n",
      "zebra\n",
      "lion\n",
      "zebra\n"
     ]
    }
   ],
   "source": [
    "%%bash\n",
    "\n",
    "uniq ./data/zoo.txt"
   ]
  },
  {
   "cell_type": "markdown",
   "metadata": {},
   "source": [
    "### 2.3. Extract lines matching specified criteria"
   ]
  },
  {
   "cell_type": "markdown",
   "metadata": {},
   "source": [
    "```bash\n",
    "grep\n",
    "```\n",
    "\n",
    "The *grep* command allows you to specify a pattern and search for lines from the input text that contain a match to the pattern.\n",
    "\n",
    "The following command prints all lines in the file *usdoi.txt* which contain the word *people*.\n",
    "\n",
    "```bash\n",
    "grep people usdoi.txt\n",
    "```\n",
    "\n",
    "Some of the frequently used options for *grep* are:\n",
    "\n",
    "| **Option**    | **Description**                                   |\n",
    "|---------------|-------------------                                |\n",
    "| -n\t        | Along with the matching lines, also print the line numbers    | \n",
    "| -c\t        | Get the count of matching lines                   | \n",
    "| -i\t        | Ignore the case of the text while matching        | \n",
    "| -v\t        | Print all lines which do not contain the pattern  | \n",
    "| -w\t        | Match only if the pattern matches whole words     | \n",
    "\n",
    "Prints all lines from the */etc/passwd* file, which do not contain the pattern *login*.\n",
    "\n",
    "```bash\n",
    "grep -v login /etc/passwd\n",
    "```"
   ]
  },
  {
   "cell_type": "code",
   "execution_count": 12,
   "metadata": {},
   "outputs": [
    {
     "name": "stdout",
     "output_type": "stream",
     "text": [
      "Course of human events, it becomes necessary for one people to dissolve the\n",
      "people, unless those people would relinquish the right of Representation in the\n",
      "firmness his invasions on the rights of the people.\n",
      "to harrass our people, and eat out their substance.\n",
      "the lives of our people.\n",
      "Tyrant, is unfit to be the ruler of a free people.\n"
     ]
    }
   ],
   "source": [
    "%%bash\n",
    "\n",
    "grep people ./data/usdoi.txt"
   ]
  },
  {
   "cell_type": "code",
   "execution_count": 13,
   "metadata": {},
   "outputs": [],
   "source": [
    "%%bash\n",
    "\n",
    "# grep -v login /etc/passwd"
   ]
  },
  {
   "cell_type": "markdown",
   "metadata": {},
   "source": [
    "### 2.4. View lines of file with filter applied to each line"
   ]
  },
  {
   "cell_type": "markdown",
   "metadata": {},
   "source": [
    "```bash\n",
    "cut\n",
    "```\n",
    "\n",
    "The *cut* command allows you to view the lines of a file after a filter is applied to each line. For example, you can use *cut* with the *-c* option to view the first two characters of each line:\n",
    "\n",
    "```bash\n",
    "cut -c -2 zoo.txt\n",
    "```\n",
    "\n",
    "or each line starting from the second character:\n",
    "\n",
    "```bash\n",
    "cut -c 2- zoo.txt\n",
    "```"
   ]
  },
  {
   "cell_type": "code",
   "execution_count": 14,
   "metadata": {},
   "outputs": [
    {
     "name": "stdout",
     "output_type": "stream",
     "text": [
      "ze\n",
      "ze\n",
      "li\n",
      "li\n",
      "an\n",
      "ze\n",
      "ze\n",
      "li\n",
      "ze\n",
      "\n",
      "ebra\n",
      "ebra\n",
      "ion\n",
      "ion\n",
      "naconda\n",
      "ebra\n",
      "ebra\n",
      "ion\n",
      "ebra\n"
     ]
    }
   ],
   "source": [
    "%%bash\n",
    "\n",
    "cut -c -2 ./data/zoo.txt\n",
    "echo \"\"\n",
    "cut -c 2- ./data/zoo.txt"
   ]
  },
  {
   "cell_type": "markdown",
   "metadata": {},
   "source": [
    "### 2.5. View multiple files side by side"
   ]
  },
  {
   "cell_type": "markdown",
   "metadata": {},
   "source": [
    "```bash\n",
    "paste\n",
    "```\n",
    "\n",
    "Download the following file:\n",
    "\n",
    "```bash\n",
    "wget https://cf-courses-data.s3.us.cloud-object-storage.appdomain.cloud/IBM-LX0117EN-SkillsNetwork/labs/module%201/zoo_ages.txt\n",
    "```\n",
    "\n",
    "The *paste* command allows you to view multiple files at once - with lines being aligned as columns. You can see what that looks like by entering:\n",
    "\n",
    "```bash\n",
    "paste zoo.txt zoo_ages.txt\n",
    "```\n",
    "\n",
    "You can also customize the delimiter. Instead of the default *tab*, you could specify a comma as follows:\n",
    "\n",
    "```bash\n",
    "paste -d \",\" zoo.txt zoo_ages.txt\n",
    "```"
   ]
  },
  {
   "cell_type": "code",
   "execution_count": 15,
   "metadata": {},
   "outputs": [
    {
     "name": "stdout",
     "output_type": "stream",
     "text": [
      "usdoi.txt\n",
      "zoo.txt\n",
      "zoo_ages.txt\n"
     ]
    }
   ],
   "source": [
    "%%bash\n",
    "\n",
    "wget -qc https://cf-courses-data.s3.us.cloud-object-storage.appdomain.cloud/IBM-LX0117EN-SkillsNetwork/labs/module%201/zoo_ages.txt -P ./data/\n",
    "ls ./data/"
   ]
  },
  {
   "cell_type": "code",
   "execution_count": 16,
   "metadata": {},
   "outputs": [
    {
     "name": "stdout",
     "output_type": "stream",
     "text": [
      "zebra\t17\n",
      "zebra\t12\n",
      "lion\t7\n",
      "lion\t4\n",
      "anaconda\t3\n",
      "zebra\t4\n",
      "zebra\t1\n",
      "lion\t0\n",
      "zebra\t1\n",
      "\n",
      "zebra,17\n",
      "zebra,12\n",
      "lion,7\n",
      "lion,4\n",
      "anaconda,3\n",
      "zebra,4\n",
      "zebra,1\n",
      "lion,0\n",
      "zebra,1\n"
     ]
    }
   ],
   "source": [
    "%%bash\n",
    "\n",
    "paste ./data/zoo.txt ./data/zoo_ages.txt\n",
    "echo \"\"\n",
    "paste -d \",\" ./data/zoo.txt ./data/zoo_ages.txt"
   ]
  },
  {
   "cell_type": "markdown",
   "metadata": {},
   "source": [
    "## Exercise 3: File and folder archiving and compression"
   ]
  },
  {
   "cell_type": "markdown",
   "metadata": {},
   "source": [
    "### 3.1. Create and manage file archives"
   ]
  },
  {
   "cell_type": "markdown",
   "metadata": {},
   "source": [
    "```bash\n",
    "tar\n",
    "```\n",
    "\n",
    "The *tar* command allows you to pack multiple files and directories into a single archive file.\n",
    "\n",
    "The following command creates an archive of the entire */bin* directory into a file named *bin.tar*.\n",
    "\n",
    "The options used are as follows:\n",
    "\n",
    "| **Option**    | **Description**               |\n",
    "|---------------|-----------------------        |\n",
    "| -c\t        | Create new archive file       | \n",
    "| -v\t        | Verbosely list files processed| \n",
    "| -f\t        | Archive file name             | \n",
    "\n",
    "```bash\n",
    "tar -cvf bin.tar /bin\n",
    "```\n",
    "\n",
    "To see the list of files in the archive, use the *-t* option:\n",
    "\n",
    "```bash\n",
    "tar -tvf bin.tar\n",
    "```\n",
    "\n",
    "To untar the archive or extract files from the archive, use the *-x* option:\n",
    "\n",
    "```bash\n",
    "tar -xvf bin.tar\n",
    "```\n",
    "\n",
    "Use the *ls* command to verify that the folder *bin* is extracted.\n",
    "\n",
    "```bash\n",
    "ls -l\n",
    "```"
   ]
  },
  {
   "cell_type": "code",
   "execution_count": 17,
   "metadata": {},
   "outputs": [
    {
     "name": "stderr",
     "output_type": "stream",
     "text": [
      "tar: Removing leading `/' from member names\n"
     ]
    },
    {
     "name": "stdout",
     "output_type": "stream",
     "text": [
      "/bin\n",
      "bin.tar\n",
      "usdoi.txt\n",
      "zoo.txt\n",
      "zoo_ages.txt\n"
     ]
    }
   ],
   "source": [
    "%%bash\n",
    "\n",
    "tar -cvf ./data/bin.tar /bin\n",
    "ls ./data/"
   ]
  },
  {
   "cell_type": "code",
   "execution_count": 18,
   "metadata": {},
   "outputs": [
    {
     "name": "stdout",
     "output_type": "stream",
     "text": [
      "lrwxrwxrwx root/root         0 2023-05-01 15:34 bin -> usr/bin\n",
      "bin\n",
      "\n",
      "total 152\n",
      "-rw-r--r-- 1 luis-mendoza luis-mendoza 85008 Apr 17 14:42 Hands-on Lab - File Content, Compression, & Networking Commands.ipynb\n",
      "-rw-r--r-- 1 luis-mendoza luis-mendoza 64168 Apr 17 14:11 Hands-on Lab - Informational, File, and Directory Commands.ipynb\n",
      "drwxr-xr-x 2 luis-mendoza luis-mendoza  4096 Apr 17 14:42 data\n"
     ]
    }
   ],
   "source": [
    "%%bash\n",
    "\n",
    "tar -tvf ./data/bin.tar\n",
    "tar -xvf ./data/bin.tar -C ./data/\n",
    "echo \"\"\n",
    "ls -l"
   ]
  },
  {
   "cell_type": "markdown",
   "metadata": {},
   "source": [
    "### 3.2. Package and compress archive files"
   ]
  },
  {
   "cell_type": "markdown",
   "metadata": {},
   "source": [
    "```bash\n",
    "zip\n",
    "```\n",
    "\n",
    "The *zip* command allows you to compress files.\n",
    "\n",
    "The following command creates a zip file named *config.zip* consisting of all the files with extension *.conf* in the */etc* directory.\n",
    "\n",
    "```bash\n",
    "zip config.zip /etc/*.conf\n",
    "```\n",
    "\n",
    "The *-r* option can be used to zip an entire directory.\n",
    "\n",
    "The following command creates an archive of the */bin* directory.\n",
    "\n",
    "```bash\n",
    "zip -r bin.zip /bin\n",
    "```"
   ]
  },
  {
   "cell_type": "code",
   "execution_count": 19,
   "metadata": {},
   "outputs": [
    {
     "name": "stdout",
     "output_type": "stream",
     "text": [
      "  adding: etc/adduser.conf (deflated 61%)\n",
      "  adding: etc/and.conf (deflated 50%)\n",
      "  adding: etc/appstream.conf (deflated 47%)\n",
      "  adding: etc/ca-certificates.conf (deflated 75%)\n",
      "  adding: etc/debconf.conf (deflated 56%)\n",
      "  adding: etc/deluser.conf (deflated 57%)\n",
      "  adding: etc/dhcpcd.conf (deflated 50%)\n",
      "  adding: etc/e2scrub.conf (deflated 49%)\n",
      "  adding: etc/fuse.conf (deflated 47%)\n",
      "  adding: etc/gai.conf (deflated 57%)\n",
      "  adding: etc/hdparm.conf (deflated 55%)\n",
      "  adding: etc/host.conf (deflated 13%)\n",
      "  adding: etc/ld.so.conf (deflated 6%)\n",
      "  adding: etc/libaudit.conf (deflated 34%)\n",
      "  adding: etc/locale.conf (stored 0%)\n",
      "  adding: etc/logrotate.conf (deflated 45%)\n",
      "  adding: etc/mke2fs.conf (deflated 55%)\n",
      "  adding: etc/nftables.conf (deflated 53%)\n",
      "  adding: etc/nsswitch.conf (deflated 47%)\n",
      "  adding: etc/pam.conf (deflated 62%)\n",
      "  adding: etc/resolv.conf (deflated 25%)\n",
      "  adding: etc/rsyslog.conf (deflated 53%)\n",
      "  adding: etc/sensors3.conf (deflated 82%)\n",
      "  adding: etc/sudo.conf (deflated 63%)\n",
      "  adding: etc/sudo_logsrvd.conf (deflated 68%)\n",
      "  adding: etc/sysctl.conf (deflated 60%)\n",
      "  adding: etc/ucf.conf (deflated 61%)\n",
      "  adding: etc/usb_modeswitch.conf (deflated 46%)\n",
      "  adding: etc/vconsole.conf (deflated 9%)\n",
      "  adding: etc/wsl.conf (stored 0%)\n",
      "  adding: etc/xattr.conf (deflated 55%)\n",
      "\n",
      "total 56K\n",
      "lrwxrwxrwx 1 luis-mendoza luis-mendoza    7 May  1  2023 bin -> usr/bin\n",
      "-rw-r--r-- 1 luis-mendoza luis-mendoza  10K Apr 17 14:42 bin.tar\n",
      "-rw-r--r-- 1 luis-mendoza luis-mendoza  27K Apr 17 14:42 config.zip\n",
      "-rw-r--r-- 1 luis-mendoza luis-mendoza 8.0K Sep 21  2022 usdoi.txt\n",
      "-rw-r--r-- 1 luis-mendoza luis-mendoza   54 Sep 28  2022 zoo.txt\n",
      "-rw-r--r-- 1 luis-mendoza luis-mendoza   20 Sep 28  2022 zoo_ages.txt\n"
     ]
    }
   ],
   "source": [
    "%%bash\n",
    "\n",
    "zip ./data/config.zip /etc/*.conf\n",
    "echo \"\"\n",
    "ls -lh ./data/"
   ]
  },
  {
   "cell_type": "markdown",
   "metadata": {},
   "source": [
    "### 3.3. Extract, list, or test compressed files in a ZIP archive"
   ]
  },
  {
   "cell_type": "markdown",
   "metadata": {},
   "source": [
    "```bash\n",
    "unzip\n",
    "```\n",
    "\n",
    "The following command lists the files of the archive called *config.zip*\n",
    "\n",
    "```bash\n",
    "unzip -l config.zip\n",
    "```\n",
    "\n",
    "The following command extracts all the files in the archive *bin.zip*.\n",
    "\n",
    "```bash\n",
    "unzip -o bin.zip\n",
    "```\n",
    "\n",
    "We added the *-o* option to force overwrite, in case you run the command more than once.\n",
    "\n",
    "You should see a folder named *bin* created in your directory."
   ]
  },
  {
   "cell_type": "code",
   "execution_count": 20,
   "metadata": {},
   "outputs": [
    {
     "name": "stdout",
     "output_type": "stream",
     "text": [
      "Archive:  ./data/config.zip\n",
      "  Length      Date    Time    Name\n",
      "---------  ---------- -----   ----\n",
      "     3444  2023-07-05 11:42   etc/adduser.conf\n",
      "     1582  2022-01-04 08:11   etc/and.conf\n",
      "      833  2023-04-26 13:09   etc/appstream.conf\n",
      "     6253  2023-10-10 19:41   etc/ca-certificates.conf\n",
      "     2969  2022-02-20 08:42   etc/debconf.conf\n",
      "     1706  2023-07-05 11:42   etc/deluser.conf\n",
      "     1429  2023-09-22 18:54   etc/dhcpcd.conf\n",
      "      685  2022-01-08 14:02   etc/e2scrub.conf\n",
      "      694  2022-03-23 07:53   etc/fuse.conf\n",
      "     2584  2022-02-02 23:27   etc/gai.conf\n",
      "     4436  2020-12-15 16:01   etc/hdparm.conf\n",
      "       92  2021-10-15 05:06   etc/host.conf\n",
      "       34  2020-12-16 05:04   etc/ld.so.conf\n",
      "      191  2022-03-17 11:50   etc/libaudit.conf\n",
      "       13  2023-05-01 15:35   etc/locale.conf\n",
      "      586  2022-12-14 12:16   etc/logrotate.conf\n",
      "      744  2023-07-26 12:26   etc/mke2fs.conf\n",
      "      243  2023-01-29 05:33   etc/nftables.conf\n",
      "      542  2023-10-16 15:09   etc/nsswitch.conf\n",
      "      552  2020-08-11 19:15   etc/pam.conf\n",
      "      198  2024-04-16 10:42   etc/resolv.conf\n",
      "     1213  2023-02-23 10:58   etc/rsyslog.conf\n",
      "    10593  2022-03-31 15:07   etc/sensors3.conf\n",
      "     4343  2023-03-01 07:51   etc/sudo.conf\n",
      "     9804  2023-03-01 07:51   etc/sudo_logsrvd.conf\n",
      "     2355  2022-02-25 05:32   etc/sysctl.conf\n",
      "     1260  2020-06-16 00:37   etc/ucf.conf\n",
      "     1523  2022-03-25 03:53   etc/usb_modeswitch.conf\n",
      "      150  2024-01-08 16:51   etc/vconsole.conf\n",
      "       21  2023-10-10 19:36   etc/wsl.conf\n",
      "      681  2022-03-23 03:41   etc/xattr.conf\n",
      "---------                     -------\n",
      "    61753                     31 files\n"
     ]
    }
   ],
   "source": [
    "%%bash\n",
    "\n",
    "unzip -l ./data/config.zip"
   ]
  },
  {
   "cell_type": "markdown",
   "metadata": {},
   "source": [
    "## Exercise 4 - Networking commands"
   ]
  },
  {
   "cell_type": "markdown",
   "metadata": {},
   "source": [
    "### 4.1. Show the system's host name"
   ]
  },
  {
   "cell_type": "markdown",
   "metadata": {},
   "source": [
    "```bash\n",
    "hostname\n",
    "```\n",
    "\n",
    "To view the current host name, run the command below .\n",
    "\n",
    "```bash\n",
    "hostname\n",
    "```\n",
    "\n",
    "You can use the *-i* option to view the IP adrress of the host:\n",
    "\n",
    "```bash\n",
    "hostname -i\n",
    "```"
   ]
  },
  {
   "cell_type": "code",
   "execution_count": 21,
   "metadata": {},
   "outputs": [
    {
     "name": "stdout",
     "output_type": "stream",
     "text": [
      "Lenovo-Legion5\n"
     ]
    }
   ],
   "source": [
    "%%bash\n",
    "\n",
    "hostname"
   ]
  },
  {
   "cell_type": "markdown",
   "metadata": {},
   "source": [
    "### 4.2. Test if a host is reachable"
   ]
  },
  {
   "cell_type": "markdown",
   "metadata": {},
   "source": [
    "```bash\n",
    "ping\n",
    "```\n",
    "\n",
    "Check if www.google.com is reachable. The command keeps sending data packets to the www.google.com server and prints the response it gets back. (Press *Ctrl+C* to stop pinging)\n",
    "\n",
    "```bash\n",
    "ping www.google.com\n",
    "```\n",
    "\n",
    "If you want to ping only for a limited number of times, use *-c* option.\n",
    "\n",
    "```bash\n",
    "ping -c 5 www.google.com\n",
    "```"
   ]
  },
  {
   "cell_type": "code",
   "execution_count": 22,
   "metadata": {},
   "outputs": [
    {
     "name": "stdout",
     "output_type": "stream",
     "text": [
      "PING www.google.com (142.251.218.132) 56(84) bytes of data.\n",
      "64 bytes from qro04s06-in-f4.1e100.net (142.251.218.132): icmp_seq=1 ttl=57 time=9.68 ms\n",
      "64 bytes from qro04s06-in-f4.1e100.net (142.251.218.132): icmp_seq=2 ttl=57 time=11.2 ms\n",
      "64 bytes from qro04s06-in-f4.1e100.net (142.251.218.132): icmp_seq=3 ttl=57 time=8.19 ms\n",
      "64 bytes from qro04s06-in-f4.1e100.net (142.251.218.132): icmp_seq=4 ttl=57 time=9.04 ms\n",
      "64 bytes from qro04s06-in-f4.1e100.net (142.251.218.132): icmp_seq=5 ttl=57 time=11.1 ms\n",
      "\n",
      "--- www.google.com ping statistics ---\n",
      "5 packets transmitted, 5 received, 0% packet loss, time 4022ms\n",
      "rtt min/avg/max/mdev = 8.187/9.840/11.155/1.169 ms\n"
     ]
    }
   ],
   "source": [
    "%%bash\n",
    "\n",
    "ping -c 5 www.google.com"
   ]
  },
  {
   "cell_type": "markdown",
   "metadata": {},
   "source": [
    "### 4.3. Display network interface configuration"
   ]
  },
  {
   "cell_type": "markdown",
   "metadata": {},
   "source": [
    "```bash\n",
    "ifconfig\n",
    "```\n",
    "\n",
    "The *ifconfig* command is used to configure or display network interface parameters for a network.\n",
    "\n",
    "To display the configuration of all network interfaces of the system, enter:\n",
    "\n",
    "```bash\n",
    "ifconfig\n",
    "```\n",
    "\n",
    "To display the configuration of an ethernet adapter *eth0*, enter:\n",
    "\n",
    "```bash\n",
    "ifconfig eth0\n",
    "```\n",
    "\n",
    "*eth0* is usually the primary network interface that connects your server to the network.\n",
    "\n",
    "You can see your server's IP address in line number 2 after the word *inet*."
   ]
  },
  {
   "cell_type": "markdown",
   "metadata": {},
   "source": [
    "### 4.4. Transfer data from or to a server"
   ]
  },
  {
   "cell_type": "markdown",
   "metadata": {},
   "source": [
    "```bash\n",
    "curl\n",
    "```\n",
    "\n",
    "You can use *curl* to access the file at the following URL and display the file's contents on your screen:\n",
    "\n",
    "```bash\n",
    "curl https://cf-courses-data.s3.us.cloud-object-storage.appdomain.cloud/IBM-DB0250EN-SkillsNetwork/labs/Bash%20Scripting/usdoi.txt\n",
    "```\n",
    "\n",
    "or to access the file at the given URL and save it in your current working directory:\n",
    "\n",
    "```bash\n",
    "curl -O https://cf-courses-data.s3.us.cloud-object-storage.appdomain.cloud/IBM-DB0250EN-Ski\n",
    "```"
   ]
  },
  {
   "cell_type": "code",
   "execution_count": 23,
   "metadata": {},
   "outputs": [
    {
     "name": "stderr",
     "output_type": "stream",
     "text": [
      "  % Total    % Received % Xferd  Average Speed   Time    Time     Time  Current\n",
      "                                 Dload  Upload   Total   Spent    Left  Speed\n"
     ]
    },
    {
     "name": "stdout",
     "output_type": "stream",
     "text": [
      "The unanimous Declaration of the thirteen united States of America, When in the\n",
      "Course of human events, it becomes necessary for one people to dissolve the\n",
      "political bands which have connected them with another, and to assume among the\n",
      "powers of the earth, the separate and equal station to which the Laws of Nature\n",
      "and of Nature's God entitle them, a decent respect to the opinions of mankind\n",
      "requires that they should declare the causes which impel them to the\n",
      "separation.\n",
      "\n",
      "We hold these truths to be self-evident, that all men are created equal, that\n",
      "they are endowed by their Creator with certain unalienable Rights, that among\n",
      "these are Life, Liberty and the pursuit of Happiness.--That to secure these\n",
      "rights, Governments are instituted among Men, deriving their just powers from\n",
      "the consent of the governed, --That whenever any Form of Government becomes\n",
      "destructive of these ends, it is the Right of the People to alter or to abolish\n",
      "it, and to institute new Government, laying its foundation on such principles\n",
      "and organizing its powers in such form, as to them shall seem most likely to\n",
      "effect their Safety and Happiness. Prudence, indeed, will dictate that\n",
      "Governments long established should not be changed for light and transient\n",
      "causes; and accordingly all experience hath shewn, that mankind are more\n",
      "disposed to suffer, while evils are sufferable, than to right themselves by\n",
      "abolishing the forms to which they are accustomed. But when a long train of\n",
      "abuses and usurpations, pursuing invariably the same Object evinces a design to\n",
      "reduce them under absolute Despotism, it is their right, it is their duty, to\n",
      "throw off such Government, and to provide new Guards for their future\n",
      "security.--Such has been the patient sufferance of these Colonies; and such is\n",
      "now the necessity which constrains them to alter their former Systems of\n",
      "Government. The history of the present King of Great Britain is a history of\n",
      "repeated injuries and usurpations, all having in direct object the\n",
      "establishment of an absolute Tyranny over these States. To prove this, let\n",
      "Facts be submitted to a candid world.\n",
      "\n",
      "He has refused his Assent to Laws, the most wholesome and necessary for the\n",
      "public good.\n",
      "\n",
      "He has forbidden his Governors to pass Laws of immediate and pressing\n",
      "importance, unless suspended in their operation till his Assent should be\n",
      "obtained; and when so suspended, he has utterly neglected to attend to them.\n",
      "\n",
      "He has refused to pass other Laws for the accommodation of large districts of\n",
      "people, unless those people would relinquish the right of Representation in the\n",
      "Legislature, a right inestimable to them and formidable to tyrants only.\n",
      "\n",
      "He has called together legislative bodies at places unusual, uncomfortable, and\n",
      "distant from the depository of their public Records, for the sole purpose of\n",
      "fatiguing them into compliance with his measures.\n",
      "\n",
      "He has dissolved Representative Houses repeatedly, for opposing with manly\n",
      "firmness his invasions on the rights of the people.\n",
      "\n",
      "He has refused for a long time, after such dissolutions, to cause others to be\n",
      "elected; whereby the Legislative powers, incapable of Annihilation, have\n",
      "returned to the People at large for their exercise; the State remaining in the\n",
      "mean time exposed to all the dangers of invasion from without, and convulsions\n",
      "within.\n",
      "\n",
      "He has endeavoured to prevent the population of these States; for that purpose\n",
      "obstructing the Laws for Naturalization of Foreigners; refusing to pass others\n",
      "to encourage their migrations hither, and raising the conditions of new\n",
      "Appropriations of Lands.\n",
      "\n",
      "He has obstructed the Administration of Justice, by refusing his Assent to Laws\n",
      "for establishing Judiciary powers.\n",
      "\n",
      "He has made Judges dependent on his Will alone, for the tenure of their\n",
      "offices, and the amount and payment of their salaries.\n",
      "\n",
      "He has erected a multitude of New Offices, and sent hither swarms of Officers\n",
      "to harrass our people, and eat out their substance.\n",
      "\n",
      "He has kept among us, in times of peace, Standing Armies without the Consent of\n",
      "our legislatures.\n",
      "\n",
      "He has affected to render the Military independent of and superior to the Civil\n",
      "power.\n",
      "\n",
      "He has combined with others to subject us to a jurisdiction foreign to our\n",
      "constitution, and unacknowledged by our laws; giving his Assent to their Acts\n",
      "of pretended Legislation:\n",
      "\n",
      "For Quartering large bodies of armed troops among us:\n",
      "\n",
      "For protecting them, by a mock Trial, from punishment for any Murders which\n",
      "they should commit on the Inhabitants of these States:\n",
      "\n",
      "For cutting off our Trade with all parts of the world:\n",
      "\n",
      "For imposing Taxes on us without our Consent:\n",
      "\n",
      "For depriving us in many cases, of the benefits of Trial by Jury:\n",
      "\n",
      "For transporting us beyond Seas to be tried for pretended offences\n",
      "\n",
      "For abolishing the free System of English Laws in a neighbouring Province,\n",
      "establishing therein an Arbitrary government, and enlarging its Boundaries so\n",
      "as to render it at once an example and fit instrument for introducing the same\n",
      "absolute rule into these Colonies:\n",
      "\n",
      "For taking away our Charters, abolishing our most valuable Laws, and altering\n",
      "fundamentally the Forms of our Governments:\n",
      "\n",
      "For suspending our own Legislatures, and declaring themselves invested with\n",
      "power to legislate for us in all cases whatsoever.\n",
      "\n",
      "He has abdicated Government here, by declaring us out of his Protection and\n",
      "waging War against us.\n",
      "\n",
      "He has plundered our seas, ravaged our Coasts, burnt our towns, and destroyed\n",
      "the lives of our people.\n",
      "\n",
      "He is at this time transporting large Armies of foreign Mercenaries to compleat\n",
      "the works of death, desolation and tyranny, already begun with circumstances of\n",
      "Cruelty & perfidy scarcely paralleled in the most barbarous ages, and totally\n",
      "unworthy the Head of a civilized nation.\n",
      "\n",
      "He has constrained our fellow Citizens taken Captive on the high Seas to bear\n",
      "Arms against their Country, to become the executioners of their friends and\n",
      "Brethren, or to fall themselves by their Hands.\n",
      "\n",
      "He has excited domestic insurrections amongst us, and has endeavoured to bring\n",
      "on the inhabitants of our frontiers, the merciless Indian Savages, whose known\n",
      "rule of warfare, is an undistinguished destruction of all ages, sexes and\n",
      "conditions.\n",
      "\n",
      "In every stage of these Oppressions We have Petitioned for Redress in the most\n",
      "humble terms: Our repeated Petitions have been answered only by repeated\n",
      "injury. A Prince whose character is thus marked by every act which may define a\n",
      "Tyrant, is unfit to be the ruler of a free people.\n",
      "\n",
      "Nor have We been wanting in attentions to our Brittish brethren. We have warned\n",
      "them from time to time of attempts by their legislature to extend an\n",
      "unwarrantable jurisdiction over us. We have reminded them of the circumstances\n",
      "of our emigration and settlement here. We have appealed to their native justice\n",
      "and magnanimity, and we have conjured them by the ties of our common kindred to\n",
      "disavow these usurpations, which, would inevitably interrupt our connections\n",
      "and correspondence. They too have been deaf to the voice of justice and of\n",
      "consanguinity. We must, therefore, acquiesce in the necessity, which denounces\n",
      "our Separation, and hold them, as we hold the rest of mankind, Enemies in War,\n",
      "in Peace Friends.\n",
      "\n",
      "We, therefore, the Representatives of the united States of America, in General\n",
      "Congress, Assembled, appealing to the Supreme Judge of the world for the\n",
      "rectitude of our intentions, do, in the Name, and by Authority of the good\n",
      "People of these Colonies, solemnly publish and declare, That these United\n",
      "Colonies are, and of Right ought to be Free and Independent States; that they\n",
      "are Absolved from all Allegiance to the British Crown, and that all political\n",
      "connection between them and the State of Great Britain, is and ought to be\n",
      "totally dissolved; and that as Free and Independent States, they have full\n",
      "Power to levy War, conclude Peace, contract Alliances, establish Commerce, and\n",
      "to do all other Acts and Things which Independent States may of right do. And\n",
      "for the support of this Declaration, with a firm reliance on the protection of\n",
      "divine Providence, we mutually pledge to each other our Lives, our Fortunes and\n",
      "our sacred Honor.\n"
     ]
    },
    {
     "name": "stderr",
     "output_type": "stream",
     "text": [
      "100  8121  100  8121    0     0  15522      0 --:--:-- --:--:-- --:--:-- 15527\n"
     ]
    }
   ],
   "source": [
    "%%bash\n",
    "\n",
    "curl https://cf-courses-data.s3.us.cloud-object-storage.appdomain.cloud/IBM-DB0250EN-SkillsNetwork/labs/Bash%20Scripting/usdoi.txt"
   ]
  },
  {
   "cell_type": "code",
   "execution_count": 24,
   "metadata": {},
   "outputs": [
    {
     "name": "stderr",
     "output_type": "stream",
     "text": [
      "  % Total    % Received % Xferd  Average Speed   Time    Time     Time  Current\n",
      "                                 Dload  Upload   Total   Spent    Left  Speed\n",
      "100  8121  100  8121    0     0  13849      0 --:--:-- --:--:-- --:--:-- 13834\n"
     ]
    }
   ],
   "source": [
    "%%bash\n",
    "\n",
    "curl -o ./data/usdoi.txt https://cf-courses-data.s3.us.cloud-object-storage.appdomain.cloud/IBM-DB0250EN-SkillsNetwork/labs/Bash%20Scripting/usdoi.txt"
   ]
  },
  {
   "cell_type": "markdown",
   "metadata": {},
   "source": [
    "### 4.5. Downloading file(s) from a URL"
   ]
  },
  {
   "cell_type": "markdown",
   "metadata": {},
   "source": [
    "```bash\n",
    "wget\n",
    "```\n",
    "\n",
    "The *wget* command is similar to *curl* - however it's primary use is for file downloading. One unique feature of *wget* is that it can recursively download files at a URL.\n",
    "\n",
    "To see how *wget* works, first remove *usdoi.txt* from your current directory:\n",
    "\n",
    "```bash\n",
    "rm usdoi.txt\n",
    "```\n",
    "\n",
    "and re-download it using *wget* as follows:\n",
    "\n",
    "```bash\n",
    "wget https://cf-courses-data.s3.us.cloud-object-storage.appdomain.cloud/IBM-DB0250EN-SkillsNet\n",
    "```"
   ]
  },
  {
   "cell_type": "code",
   "execution_count": 25,
   "metadata": {},
   "outputs": [
    {
     "name": "stderr",
     "output_type": "stream",
     "text": [
      "--2024-04-17 14:42:34--  https://cf-courses-data.s3.us.cloud-object-storage.appdomain.cloud/IBM-DB0250EN-SkillsNetwork/labs/Bash%20Scripting/usdoi.txt\n",
      "Resolving cf-courses-data.s3.us.cloud-object-storage.appdomain.cloud (cf-courses-data.s3.us.cloud-object-storage.appdomain.cloud)... 169.63.118.104\n",
      "Connecting to cf-courses-data.s3.us.cloud-object-storage.appdomain.cloud (cf-courses-data.s3.us.cloud-object-storage.appdomain.cloud)|169.63.118.104|:443... connected.\n",
      "HTTP request sent, awaiting response... 200 OK\n",
      "Length: 8121 (7.9K) [text/plain]\n",
      "Saving to: ‘./data/usdoi.txt’\n",
      "\n",
      "     0K .......                                               100% 3.60G=0s\n",
      "\n",
      "2024-04-17 14:42:34 (3.60 GB/s) - ‘./data/usdoi.txt’ saved [8121/8121]\n",
      "\n"
     ]
    }
   ],
   "source": [
    "%%bash\n",
    "\n",
    "rm ./data/usdoi.txt\n",
    "wget https://cf-courses-data.s3.us.cloud-object-storage.appdomain.cloud/IBM-DB0250EN-SkillsNetwork/labs/Bash%20Scripting/usdoi.txt -P ./data/"
   ]
  },
  {
   "cell_type": "markdown",
   "metadata": {},
   "source": [
    "## Practice exercises"
   ]
  },
  {
   "cell_type": "markdown",
   "metadata": {},
   "source": [
    "Before you begin, ensure you're in your home directory:\n",
    "\n",
    "```bash\n",
    "cd ~\n",
    "pwd\n",
    "```"
   ]
  },
  {
   "cell_type": "markdown",
   "metadata": {},
   "source": [
    "1. Problem:\n",
    "\n",
    "Display your username"
   ]
  },
  {
   "cell_type": "code",
   "execution_count": 26,
   "metadata": {},
   "outputs": [
    {
     "name": "stdout",
     "output_type": "stream",
     "text": [
      "luis-mendoza\n"
     ]
    }
   ],
   "source": [
    "%%bash\n",
    "\n",
    "whoami"
   ]
  },
  {
   "cell_type": "markdown",
   "metadata": {},
   "source": [
    "2. Problem:\n",
    "\n",
    "View the kernel version"
   ]
  },
  {
   "cell_type": "code",
   "execution_count": 27,
   "metadata": {},
   "outputs": [
    {
     "name": "stdout",
     "output_type": "stream",
     "text": [
      "5.15.146.1-microsoft-standard-WSL2\n"
     ]
    }
   ],
   "source": [
    "%%bash\n",
    "\n",
    "uname -r"
   ]
  },
  {
   "cell_type": "markdown",
   "metadata": {},
   "source": [
    "3. Problem:\n",
    "\n",
    "Display the number of lines in the */etc/passwd file*."
   ]
  },
  {
   "cell_type": "code",
   "execution_count": 28,
   "metadata": {},
   "outputs": [
    {
     "name": "stdout",
     "output_type": "stream",
     "text": [
      "33 /etc/passwd\n"
     ]
    }
   ],
   "source": [
    "%%bash\n",
    "\n",
    "wc -l /etc/passwd"
   ]
  },
  {
   "cell_type": "markdown",
   "metadata": {},
   "source": [
    "4. Problem:\n",
    "\n",
    "Display the lines that contain the string 'not installed' in */var/log/bootstrap.log*."
   ]
  },
  {
   "cell_type": "markdown",
   "metadata": {},
   "source": [
    "5. Problem:\n",
    "\n",
    "*https://cf-courses-data.s3.us.cloud-object-storage.appdomain.cloud/IBM-DB0250EN-SkillsNetwork/labs/Bash%20Scripting/top-sites.txt* contains most popular websites. Find out all the websites that have the word *org* in them."
   ]
  },
  {
   "cell_type": "code",
   "execution_count": 29,
   "metadata": {},
   "outputs": [
    {
     "name": "stdout",
     "output_type": "stream",
     "text": [
      "en.wikipedia.org\n",
      "wordpress.org\n",
      "mozilla.org\n",
      "pt.wikipedia.org\n",
      "es.wikipedia.org\n",
      "w3.org\n",
      "wikimedia.org\n",
      "creativecommons.org\n",
      "fr.wikipedia.org\n",
      "apache.org\n",
      "id.wikipedia.org\n",
      "de.wikipedia.org\n"
     ]
    }
   ],
   "source": [
    "%%bash\n",
    "\n",
    "wget -q https://cf-courses-data.s3.us.cloud-object-storage.appdomain.cloud/IBM-DB0250EN-SkillsNetwork/labs/Bash%20Scripting/top-sites.txt -P ./data/\n",
    "grep org ./data/top-sites.txt "
   ]
  },
  {
   "cell_type": "markdown",
   "metadata": {},
   "source": [
    "6. Problem:\n",
    "\n",
    "Print the first 7 lines of *top-sites.txt*"
   ]
  },
  {
   "cell_type": "code",
   "execution_count": 30,
   "metadata": {},
   "outputs": [
    {
     "name": "stdout",
     "output_type": "stream",
     "text": [
      "youtube.com\n",
      "www.google.com\n",
      "apple.com\n",
      "microsoft.com\n",
      "cloudflare.com\n",
      "play.google.com\n",
      "support.google.com\n"
     ]
    }
   ],
   "source": [
    "%%bash\n",
    "\n",
    "head -n 7 ./data/top-sites.txt"
   ]
  },
  {
   "cell_type": "markdown",
   "metadata": {},
   "source": [
    "7. Problem:\n",
    "\n",
    "Print the last 7 lines of *top-sites.txt*"
   ]
  },
  {
   "cell_type": "code",
   "execution_count": 31,
   "metadata": {},
   "outputs": [
    {
     "name": "stdout",
     "output_type": "stream",
     "text": [
      "id.wikipedia.org\n",
      "rakuten.co.jp\n",
      "tinyurl.com\n",
      "amazon.co.jp\n",
      "de.wikipedia.org\n",
      "tools.google.com\n",
      "buydomains.com"
     ]
    }
   ],
   "source": [
    "%%bash\n",
    "\n",
    "tail -n 7 ./data/top-sites.txt"
   ]
  },
  {
   "cell_type": "markdown",
   "metadata": {},
   "source": [
    "8. Problem:\n",
    "\n",
    "Zip the file *top-sites.txt* into a file called *top-sites.zip*"
   ]
  },
  {
   "cell_type": "code",
   "execution_count": 32,
   "metadata": {},
   "outputs": [
    {
     "name": "stdout",
     "output_type": "stream",
     "text": [
      "  adding: data/top-sites.txt (deflated 58%)\n"
     ]
    }
   ],
   "source": [
    "%%bash\n",
    "\n",
    "zip ./data/top-sites.zip ./data/top-sites.txt"
   ]
  },
  {
   "cell_type": "markdown",
   "metadata": {},
   "source": [
    "9. Problem:\n",
    "\n",
    "Print the first three characters of each line from *top-sites.txt*"
   ]
  },
  {
   "cell_type": "code",
   "execution_count": 33,
   "metadata": {},
   "outputs": [
    {
     "name": "stdout",
     "output_type": "stream",
     "text": [
      "you\n",
      "www\n",
      "app\n",
      "mic\n",
      "clo\n",
      "pla\n",
      "sup\n",
      "www\n",
      "en.\n",
      "doc\n",
      "wor\n",
      "moz\n",
      "lin\n",
      "you\n",
      "map\n",
      "ado\n",
      "dri\n",
      "eur\n",
      "goo\n",
      "plu\n",
      "vim\n",
      "sit\n",
      "acc\n",
      "pt.\n",
      "git\n",
      "fac\n",
      "uol\n",
      "vk.\n",
      "ist\n",
      "es.\n",
      "ama\n",
      "bp.\n",
      "bbc\n",
      "cnn\n",
      "fee\n",
      "nih\n",
      "goo\n",
      "wha\n",
      "jim\n",
      "goo\n",
      "w3.\n",
      "iss\n",
      "pol\n",
      "wik\n",
      "liv\n",
      "cre\n",
      "sli\n",
      "mai\n",
      "get\n",
      "bra\n",
      "glo\n",
      "t.m\n",
      "new\n",
      "bbc\n",
      "dro\n",
      "mys\n",
      "reu\n",
      "www\n",
      "med\n",
      "goo\n",
      "msn\n",
      "fr.\n",
      "ope\n",
      "mai\n",
      "the\n",
      "www\n",
      "gst\n",
      "goo\n",
      "pay\n",
      "dai\n",
      "nyt\n",
      "hug\n",
      "abr\n",
      "for\n",
      "dev\n",
      "imd\n",
      "lin\n",
      "boo\n",
      "twi\n",
      "who\n",
      "apa\n",
      "wik\n",
      "dra\n",
      "ok.\n",
      "wir\n",
      "ama\n",
      "blo\n",
      "pho\n",
      "wa.\n",
      "lat\n",
      "ali\n",
      "ste\n",
      "bit\n",
      "id.\n",
      "rak\n",
      "tin\n",
      "ama\n",
      "de.\n",
      "too\n",
      "buy\n"
     ]
    }
   ],
   "source": [
    "%%bash\n",
    "\n",
    "cut -c -3 ./data/top-sites.txt"
   ]
  },
  {
   "cell_type": "markdown",
   "metadata": {},
   "source": [
    "10. Problem:\n",
    "\n",
    "Print details of the *eth0* internet adapter"
   ]
  },
  {
   "cell_type": "code",
   "execution_count": 34,
   "metadata": {},
   "outputs": [],
   "source": [
    "%%bash\n",
    "\n",
    "# ifconfig eth0"
   ]
  },
  {
   "cell_type": "code",
   "execution_count": 35,
   "metadata": {},
   "outputs": [],
   "source": [
    "%%bash\n",
    "\n",
    "rm -rf ./data/"
   ]
  },
  {
   "cell_type": "markdown",
   "metadata": {},
   "source": [
    "## Authors"
   ]
  },
  {
   "cell_type": "markdown",
   "metadata": {},
   "source": [
    "Ramesh Sannareddy Sam Prokopchuk"
   ]
  },
  {
   "cell_type": "markdown",
   "metadata": {},
   "source": [
    "## Other contributors"
   ]
  },
  {
   "cell_type": "markdown",
   "metadata": {},
   "source": [
    "Rav Ahuja Jeff Grossman"
   ]
  },
  {
   "cell_type": "markdown",
   "metadata": {},
   "source": [
    "## Change Log"
   ]
  },
  {
   "cell_type": "markdown",
   "metadata": {},
   "source": [
    "| **Date (YYYY-MM-DD)** | **Version**   | **Changed By**    | **Change Description**                |\n",
    "|-----------------------|---------------|-------------------|---------------------------            |\n",
    "| 2021-05-30            | 0.1\t        | Ramesh Sannareddy | Created initial version of the lab    | \n",
    "| 2021-11-29\t        | 0.2\t        | Sam Prokopchuk\t| Update lab contents and split         | \n",
    "| 2021-12-02\t        | 0.3\t        | Jeff Grossman\t    | Review and Update lab                 | \n",
    "\n",
    "Copyright (c) 2021 IBM Corporation. All rights reserved."
   ]
  }
 ],
 "metadata": {
  "kernelspec": {
   "display_name": "Python 3.9.13 ('base')",
   "language": "python",
   "name": "python3"
  },
  "language_info": {
   "codemirror_mode": {
    "name": "ipython",
    "version": 3
   },
   "file_extension": ".py",
   "mimetype": "text/x-python",
   "name": "python",
   "nbconvert_exporter": "python",
   "pygments_lexer": "ipython3",
   "version": "3.11.7"
  },
  "orig_nbformat": 4,
  "vscode": {
   "interpreter": {
    "hash": "0ab7ac22d3d3525ddb7629ab62b0d92e89034641b529aacfddbc818d024d7c15"
   }
  }
 },
 "nbformat": 4,
 "nbformat_minor": 2
}
