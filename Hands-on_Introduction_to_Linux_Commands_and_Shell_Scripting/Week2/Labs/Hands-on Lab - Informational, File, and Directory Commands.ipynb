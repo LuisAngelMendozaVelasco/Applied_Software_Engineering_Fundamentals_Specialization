{
 "cells": [
  {
   "cell_type": "markdown",
   "metadata": {},
   "source": [
    "<p style=\"text-align:center\">\n",
    "    <a href=\"https://skills.network/?utm_medium=Exinfluencer&utm_source=Exinfluencer&utm_content=000026UJ&utm_term=10006555&utm_id=NA-SkillsNetwork-Channel-SkillsNetworkCoursesIBMCS0151ENSkillsNetwork835-2022-01-01\" target=\"_blank\">\n",
    "    <img src=\"https://cf-courses-data.s3.us.cloud-object-storage.appdomain.cloud/assets/logos/SN_web_lightmode.png\" width=\"200\" alt=\"Skills Network Logo\">\n",
    "    </a>\n",
    "</p>"
   ]
  },
  {
   "cell_type": "markdown",
   "metadata": {},
   "source": [
    "<a target=\"_blank\" href=\"https://colab.research.google.com/github/LuisAngelMendozaVelasco/Applied_Software_Engineering_Fundamentals_Specialization/blob/main/Hands-on_Introduction_to_Linux_Commands_and_Shell_Scripting/Week2/Labs/Hands-on Lab - Informational, File, and Directory Commands.ipynb\"><img src=\"https://www.tensorflow.org/images/colab_logo_32px.png\" />Run in Google Colab</a>"
   ]
  },
  {
   "cell_type": "markdown",
   "metadata": {},
   "source": [
    "# Hands-on Lab: Informational, File, and Directory Commands"
   ]
  },
  {
   "cell_type": "markdown",
   "metadata": {},
   "source": [
    "Estimated time needed: **40** minutes"
   ]
  },
  {
   "cell_type": "markdown",
   "metadata": {},
   "source": [
    "## Objectives"
   ]
  },
  {
   "cell_type": "markdown",
   "metadata": {},
   "source": [
    "In this lab, you will be introduced to the use of basic Unix commands related to the following categories:\n",
    "\n",
    "- Informational commands\n",
    "- File and Directory Management Commands\n",
    "- Access control commands"
   ]
  },
  {
   "cell_type": "markdown",
   "metadata": {},
   "source": [
    "## About Skills Network Cloud IDE"
   ]
  },
  {
   "cell_type": "markdown",
   "metadata": {},
   "source": [
    "Skills Network Cloud IDE (based on Theia and Docker) provides an environment for hands on labs for course and project related labs. Theia is an open source IDE (Integrated Development Environment), that can be run on desktop or on the cloud. To complete this lab, you will be using the Cloud IDE based on Theia."
   ]
  },
  {
   "cell_type": "markdown",
   "metadata": {},
   "source": [
    "## Important notice about this lab environment"
   ]
  },
  {
   "cell_type": "markdown",
   "metadata": {},
   "source": [
    "Please be aware that sessions for this lab environment are not persisted. Thus, every time you connect to this lab, a new environment is created for you and any data or files you may have saved in a previous session will be lost. To avoid losing your data, plan to complete these labs in a single session."
   ]
  },
  {
   "cell_type": "markdown",
   "metadata": {},
   "source": [
    "## Setup"
   ]
  },
  {
   "cell_type": "markdown",
   "metadata": {},
   "source": [
    "Open a new terminal by clicking on the menu bar and selecting **Terminal**->**New Terminal**, as in the image below.\n",
    "\n",
    "![](https://cf-courses-data.s3.us.cloud-object-storage.appdomain.cloud/IBM-LX0117EN-SkillsNetwork/labs/module%201/images/new-terminal.png)\n",
    "\n",
    "This will open a new terminal at the bottom of the screen as seen below.\n",
    "\n",
    "![](https://cf-courses-data.s3.us.cloud-object-storage.appdomain.cloud/IBM-LX0117EN-SkillsNetwork/labs/module%201/images/terminal_bottom_screen.png)\n",
    "\n",
    "You can run the commands provided in the following excercises in your newly opened terminal. You can copy the code to your clipboard if you like by clicking on the little copy button on the bottom right of each codeblock, and then paste it on the command line."
   ]
  },
  {
   "cell_type": "markdown",
   "metadata": {},
   "source": [
    "## Exercise 1 - Informational Commands"
   ]
  },
  {
   "cell_type": "markdown",
   "metadata": {},
   "source": [
    "In this exercise, you will familiarize yourself with useful commands for providing system and user information."
   ]
  },
  {
   "cell_type": "markdown",
   "metadata": {},
   "source": [
    "### 1.1. Display the name of the current user"
   ]
  },
  {
   "cell_type": "markdown",
   "metadata": {},
   "source": [
    "```bash\n",
    "whoami\n",
    "```\n",
    "\n",
    "It will display the user name as *theia*. You are logged into this lab as *theia*.\n",
    "\n",
    "You can get a list of currently logged in users using the command *who*. But this command doesn't work in the *theia* environment yet."
   ]
  },
  {
   "cell_type": "code",
   "execution_count": 1,
   "metadata": {},
   "outputs": [
    {
     "name": "stdout",
     "output_type": "stream",
     "text": [
      "luis-mendoza\n"
     ]
    }
   ],
   "source": [
    "%%bash\n",
    "\n",
    "whoami"
   ]
  },
  {
   "cell_type": "markdown",
   "metadata": {},
   "source": [
    "### 1.2. Get basic information about the operating system"
   ]
  },
  {
   "cell_type": "markdown",
   "metadata": {},
   "source": [
    "```bash\n",
    "uname\n",
    "```\n",
    "\n",
    "By default the command prints the kernel name.\n",
    "\n",
    "You will see *Linux* printed in the output.\n",
    "\n",
    "Using the *-a* opton prints all the system information in the following order: Kernel name, network node hostname, kernel release date, kernel version, machine hardware name, hardware platform, operating system.\n",
    "\n",
    "```bash\n",
    "uname -a\n",
    "```"
   ]
  },
  {
   "cell_type": "code",
   "execution_count": 2,
   "metadata": {},
   "outputs": [
    {
     "name": "stdout",
     "output_type": "stream",
     "text": [
      "Linux Lenovo-Legion5 5.15.146.1-microsoft-standard-WSL2 #1 SMP Thu Jan 11 04:09:03 UTC 2024 x86_64 x86_64 x86_64 GNU/Linux\n"
     ]
    }
   ],
   "source": [
    "%%bash\n",
    "\n",
    "uname -a"
   ]
  },
  {
   "cell_type": "markdown",
   "metadata": {},
   "source": [
    "### 1.3. Obtain the user and group identity information"
   ]
  },
  {
   "cell_type": "markdown",
   "metadata": {},
   "source": [
    "```bash\n",
    "id\n",
    "```\n",
    "\n",
    "This command displays the user id and group id information of the current user.\n",
    "\n",
    "It will display the *uid* (user id) and *gid* (group id) for the user *theia*."
   ]
  },
  {
   "cell_type": "code",
   "execution_count": 3,
   "metadata": {},
   "outputs": [
    {
     "name": "stdout",
     "output_type": "stream",
     "text": [
      "uid=1000(luis-mendoza) gid=1000(luis-mendoza) groups=1000(luis-mendoza),4(adm),20(dialout),24(cdrom),25(floppy),27(sudo),29(audio),30(dip),44(video),46(plugdev),116(netdev),1002(docker)\n"
     ]
    }
   ],
   "source": [
    "%%bash\n",
    "\n",
    "id"
   ]
  },
  {
   "cell_type": "markdown",
   "metadata": {},
   "source": [
    "### 1.4 Get available disk space"
   ]
  },
  {
   "cell_type": "markdown",
   "metadata": {},
   "source": [
    "```bash\n",
    "df\n",
    "```\n",
    "\n",
    "The *df* command is used to display available disk space.\n",
    "\n",
    "It will display available disk space in 512-byte blocks. To get available disk space in a \"human-readable\" format, enter:\n",
    "\n",
    "```bash\n",
    "df -h\n",
    "```"
   ]
  },
  {
   "cell_type": "code",
   "execution_count": 4,
   "metadata": {},
   "outputs": [
    {
     "name": "stdout",
     "output_type": "stream",
     "text": [
      "Filesystem      Size  Used Avail Use% Mounted on\n",
      "none            3.9G  4.0K  3.9G   1% /mnt/wsl\n",
      "none            931G  304G  627G  33% /usr/lib/wsl/drivers\n",
      "none            3.9G     0  3.9G   0% /usr/lib/modules\n",
      "none            3.9G     0  3.9G   0% /usr/lib/modules/5.15.146.1-microsoft-standard-WSL2\n",
      "/dev/sdc       1007G   46G  911G   5% /\n",
      "none            3.9G  212K  3.9G   1% /mnt/wslg\n",
      "none            3.9G     0  3.9G   0% /usr/lib/wsl/lib\n",
      "rootfs          3.9G  1.9M  3.9G   1% /init\n",
      "none            3.9G  836K  3.9G   1% /run\n",
      "none            3.9G     0  3.9G   0% /run/lock\n",
      "none            3.9G     0  3.9G   0% /run/shm\n",
      "tmpfs           4.0M     0  4.0M   0% /sys/fs/cgroup\n",
      "none            3.9G   76K  3.9G   1% /mnt/wslg/versions.txt\n",
      "none            3.9G   76K  3.9G   1% /mnt/wslg/doc\n",
      "C:\\             931G  304G  627G  33% /mnt/c\n",
      "G:\\              15G  3.6G   12G  24% /mnt/g\n",
      "snapfuse        128K  128K     0 100% /snap/bare/5\n",
      "snapfuse        106M  106M     0 100% /snap/core/16574\n",
      "snapfuse        104M  104M     0 100% /snap/core/16928\n",
      "snapfuse         75M   75M     0 100% /snap/core22/1033\n",
      "snapfuse         75M   75M     0 100% /snap/core22/1122\n",
      "snapfuse         92M   92M     0 100% /snap/gtk-common-themes/1535\n",
      "snapfuse         41M   41M     0 100% /snap/snapd/20671\n",
      "snapfuse         40M   40M     0 100% /snap/snapd/21184\n",
      "snapfuse        131M  131M     0 100% /snap/ubuntu-desktop-installer/1284\n",
      "snapfuse        132M  132M     0 100% /snap/ubuntu-desktop-installer/1286\n"
     ]
    }
   ],
   "source": [
    "%%bash\n",
    "\n",
    "df -h"
   ]
  },
  {
   "cell_type": "markdown",
   "metadata": {},
   "source": [
    "### 1.5. View currently running processes"
   ]
  },
  {
   "cell_type": "markdown",
   "metadata": {},
   "source": [
    "```bash\n",
    "ps\n",
    "```\n",
    "\n",
    "The *ps* command lists each processes that is currently running and its *PID* (process id).\n",
    "\n",
    "However, the output only contains the processes that are owned by you.\n",
    "\n",
    "By using the *-e* option, you can display all of the processes running on the system. The includes processes owned by other users.\n",
    "\n",
    "```bash\n",
    "ps -e\n",
    "```"
   ]
  },
  {
   "cell_type": "code",
   "execution_count": 5,
   "metadata": {},
   "outputs": [
    {
     "name": "stderr",
     "output_type": "stream",
     "text": [
      "your 131072x1 screen size is bogus. expect trouble\n"
     ]
    },
    {
     "name": "stdout",
     "output_type": "stream",
     "text": [
      "    PID TTY          TIME CMD\n",
      "      1 ?        00:08:19 systemd\n",
      "      2 ?        00:00:00 init-systemd(Ub\n",
      "      7 ?        00:00:02 init\n",
      "     37 ?        00:00:01 systemd-journal\n",
      "     70 ?        00:00:01 systemd-udevd\n",
      "     81 ?        00:00:00 snapfuse\n",
      "     82 ?        00:00:00 snapfuse\n",
      "     85 ?        00:00:00 snapfuse\n",
      "     90 ?        00:00:00 snapfuse\n",
      "     93 ?        00:00:01 snapfuse\n",
      "     97 ?        00:00:00 snapfuse\n",
      "    101 ?        00:00:00 snapfuse\n",
      "    104 ?        00:00:00 snapfuse\n",
      "    108 ?        00:00:00 snapfuse\n",
      "    110 ?        00:00:02 snapfuse\n",
      "    118 ?        00:00:00 systemd-resolve\n",
      "    197 ?        00:00:00 accounts-daemon\n",
      "    199 ?        00:00:00 avahi-daemon\n",
      "    201 ?        00:00:00 cron\n",
      "    202 ?        00:00:00 dbus-daemon\n",
      "    206 ?        00:00:00 polkitd\n",
      "    210 ?        00:00:04 snapd\n",
      "    211 ?        00:00:00 systemd-logind\n",
      "    215 ?        00:00:00 rsyslogd\n",
      "    227 ?        00:00:00 avahi-daemon\n",
      "    230 ?        00:00:00 wpa_supplicant\n",
      "    237 ?        00:00:00 and\n",
      "    241 ?        00:00:00 subiquity-serve\n",
      "    251 hvc0     00:00:00 agetty\n",
      "    257 tty1     00:00:00 agetty\n",
      "    263 ?        00:00:00 unattended-upgr\n",
      "    269 ?        00:00:55 rserver\n",
      "    308 ?        00:00:28 python3.10\n",
      "    364 ?        00:00:00 Relay(365)\n",
      "    366 pts/1    00:00:00 login\n",
      "    407 ?        00:00:01 systemd\n",
      "    408 ?        00:00:00 (sd-pam)\n",
      "    414 pts/1    00:00:00 zsh\n",
      "    560 ?        00:03:36 python3\n",
      " 118563 ?        00:00:00 dbus-daemon\n",
      " 129448 ?        00:00:00 tmux: server\n",
      " 129449 pts/2    00:00:00 zsh\n",
      " 129890 pts/3    00:00:00 zsh\n",
      " 129978 pts/4    00:00:00 zsh\n",
      " 130065 pts/5    00:00:00 zsh\n",
      " 130454 ?        00:00:00 SessionLeader\n",
      " 130455 ?        00:00:00 Relay(130457)\n",
      " 130457 pts/6    00:00:02 zsh\n",
      " 169519 ?        00:00:00 SessionLeader\n",
      " 169520 ?        00:00:00 Relay(169521)\n",
      " 169521 pts/0    00:00:00 sh\n",
      " 169522 pts/0    00:00:00 sh\n",
      " 169527 pts/0    00:00:00 sh\n",
      " 169531 pts/0    00:00:35 node\n",
      " 169543 ?        00:00:00 SessionLeader\n",
      " 169544 ?        00:00:01 Relay(169545)\n",
      " 169545 pts/7    00:00:05 node\n",
      " 169553 ?        00:00:00 SessionLeader\n",
      " 169554 ?        00:00:06 Relay(169555)\n",
      " 169555 pts/8    00:00:19 node\n",
      " 169582 pts/0    00:00:09 node\n",
      " 169627 pts/0    00:08:58 node\n",
      " 169738 ?        00:00:00 SessionLeader\n",
      " 169739 ?        00:00:00 Relay(169740)\n",
      " 169740 pts/15   00:00:00 sh\n",
      " 169741 pts/15   00:00:00 sh\n",
      " 169750 pts/15   00:00:00 node\n",
      " 169787 pts/0    00:00:00 node\n",
      " 169972 pts/0    00:00:05 TabNine\n",
      " 170031 pts/0    00:00:01 node\n",
      " 170060 pts/0    00:00:35 TabNine\n",
      " 170737 pts/0    00:00:04 node\n",
      " 170940 pts/0    00:00:09 node\n",
      " 170954 pts/11   00:00:00 zsh\n",
      " 171051 pts/0    00:00:01 node\n",
      " 171062 pts/0    00:00:05 python\n",
      " 171111 pts/0    00:01:49 node\n",
      " 173388 pts/0    00:06:52 TabNine-deep-lo\n",
      " 224539 pts/0    00:00:36 WD-TabNine\n",
      " 226147 pts/0    00:00:01 python\n",
      " 243948 pts/0    00:00:01 python\n",
      " 248607 pts/0    00:00:00 python\n",
      " 248649 pts/0    00:00:00 bash\n",
      " 248651 pts/0    00:00:00 ps\n"
     ]
    }
   ],
   "source": [
    "%%bash\n",
    "\n",
    "ps -e"
   ]
  },
  {
   "cell_type": "markdown",
   "metadata": {},
   "source": [
    "### 1.6. Get information on the running processes and system resources"
   ]
  },
  {
   "cell_type": "markdown",
   "metadata": {},
   "source": [
    "```bash\n",
    "top\n",
    "```\n",
    "\n",
    "The *top* command provides a dynamic, real-time view of your system.\n",
    "\n",
    "It shows summary information of the system and a table of more detailed information related to the processes or threads which are currently running and managed by the kernel. This includes information related to cpu and memory usage per process.\n",
    "\n",
    "Here is a sample output.\n",
    "\n",
    "![](https://cf-courses-data.s3.us.cloud-object-storage.appdomain.cloud/IBM-LX0117EN-SkillsNetwork/labs/module%201/images/top-command-screenshot.png)\n",
    "\n",
    "When you start *top*, you'll be presented with the following elements on the main *top* screen.\n",
    "\n",
    "1. Summary area - shows information like system uptime, number of users, load average, and overall memory usage\n",
    "2. Column header - attribute names\n",
    "3. Task area - displays the data for each process, or *PID*\n",
    "\n",
    "The output keeps refreshing until you press *q* or *Ctrl+c*.\n",
    "\n",
    "If you want to exit automatically after a specified number of repetitions, use the *-n* option as follows:\n",
    "\n",
    "```bash\n",
    "top -n 10\n",
    "```\n",
    "\n",
    "You can press the following keys while *top* is running to sort the table:\n",
    "\n",
    "| **Key**   | **Sorts by**      |\n",
    "|-----------|-------------------|\n",
    "| M         | Memory Usage      |\n",
    "| P         | CPU Usage         |\n",
    "| N         | Process ID (PID)  |\n",
    "| T         | Running Time.     |\n",
    "\n",
    "For example, you can find out which process is consuming the most memory by entering *shift + m*."
   ]
  },
  {
   "cell_type": "markdown",
   "metadata": {},
   "source": [
    "### 1.7. Display Messages"
   ]
  },
  {
   "cell_type": "markdown",
   "metadata": {},
   "source": [
    "```bash\n",
    "echo\n",
    "```\n",
    "\n",
    "The *echo* command displays the given text on the screen. For example, entering:\n",
    "\n",
    "```bash\n",
    "echo \"Welcome to the linux lab\"\n",
    "```\n",
    "\n",
    "prints *Welcome to the linux lab*.\n",
    "\n",
    "These special characters help you better format your output.\n",
    "\n",
    "| **Special Character** | **Effect**        |\n",
    "|-----------------------|-------------------|\n",
    "| \\n                    | start a new line  |\n",
    "| \\t                    | insert a tab      |\n",
    "\n",
    "Use the *-e* option of the echo command when working with special characters. For example:\n",
    "\n",
    "```bash\n",
    "echo -e \"This will be printed \\nin two lines\"\n",
    "```"
   ]
  },
  {
   "cell_type": "code",
   "execution_count": 6,
   "metadata": {},
   "outputs": [
    {
     "name": "stdout",
     "output_type": "stream",
     "text": [
      "Welcome to the linux lab\n"
     ]
    }
   ],
   "source": [
    "%%bash\n",
    "\n",
    "echo \"Welcome to the linux lab\""
   ]
  },
  {
   "cell_type": "code",
   "execution_count": 7,
   "metadata": {},
   "outputs": [
    {
     "name": "stdout",
     "output_type": "stream",
     "text": [
      "This will be printed \n",
      "in two lines\n"
     ]
    }
   ],
   "source": [
    "%%bash\n",
    "\n",
    "echo -e \"This will be printed \\nin two lines\""
   ]
  },
  {
   "cell_type": "markdown",
   "metadata": {},
   "source": [
    "### 1.8. Display date and time"
   ]
  },
  {
   "cell_type": "markdown",
   "metadata": {},
   "source": [
    "```bash\n",
    "date\n",
    "```\n",
    "\n",
    "The *date* command displays the current date and time.\n",
    "\n",
    "It has several options which help you display the current date and time in your favourite format.\n",
    "For example, the following command displays the current date in *mm/dd/yy* format.\n",
    "\n",
    "```bash\n",
    "date \"+%D\"\n",
    "```\n",
    "\n",
    "Here are some of the popular format specifiers that you can try out:\n",
    "\n",
    "| **Specifier** | **Explanation**                                   |\n",
    "|---------------|-----------------------------------                |\n",
    "| %d\t        | Display the day of the month (01 to 31)           | \n",
    "| %h\t        | Displays the abbreviated month name (Jan to Dec)  |\n",
    "| %m\t        | Displays the month of year (01 to 12)             |\n",
    "| %Y\t        | Displays the four-digit year                      |\n",
    "| %T\t        | Displays the time in 24 hour format as HH:MM:SS   |\n",
    "| %H\t        | Displays the hour                                 |"
   ]
  },
  {
   "cell_type": "code",
   "execution_count": 8,
   "metadata": {},
   "outputs": [
    {
     "name": "stdout",
     "output_type": "stream",
     "text": [
      "Wed Apr 17 15:04:27 CST 2024\n"
     ]
    }
   ],
   "source": [
    "%%bash\n",
    "\n",
    "date"
   ]
  },
  {
   "cell_type": "code",
   "execution_count": 9,
   "metadata": {},
   "outputs": [
    {
     "name": "stdout",
     "output_type": "stream",
     "text": [
      "04/17/24\n"
     ]
    }
   ],
   "source": [
    "%%bash\n",
    "\n",
    "date \"+%D\""
   ]
  },
  {
   "cell_type": "markdown",
   "metadata": {},
   "source": [
    "### 1.9. View the Reference Manual For a Command"
   ]
  },
  {
   "cell_type": "markdown",
   "metadata": {},
   "source": [
    "```bash\n",
    "man\n",
    "```\n",
    "\n",
    "The *man* command displays the user manual for any command that you provide as its argument.\n",
    "\n",
    "For example, to see the manual page for the *ls* command, enter:\n",
    "\n",
    "```bash\n",
    "man date\n",
    "```\n",
    "\n",
    "Scroll through the command's manual to find any info you may need. When you're done, press *q* to quit."
   ]
  },
  {
   "cell_type": "code",
   "execution_count": 10,
   "metadata": {},
   "outputs": [
    {
     "name": "stdout",
     "output_type": "stream",
     "text": [
      "DATE(1)                   User Commands                  DATE(1)\n",
      "\n",
      "NAME\n",
      "       date - print or set the system date and time\n",
      "\n",
      "SYNOPSIS\n",
      "       date [OPTION]... [+FORMAT]\n",
      "       date [‐u|‐‐utc|‐‐universal] [MMDDhhmm[[CC]YY][.ss]]\n",
      "\n",
      "DESCRIPTION\n",
      "       Display  date  and time in the given FORMAT.  With -s, or\n",
      "       with [MMDDhhmm[[CC]YY][.ss]], set the date and time.\n",
      "\n",
      "       Mandatory arguments to long  options  are  mandatory  for\n",
      "       short options too.\n",
      "\n",
      "       -d, --date=STRING\n",
      "              display time described by STRING, not ’now’\n",
      "\n",
      "       --debug\n",
      "              annotate the parsed date, and warn about question‐\n",
      "              able usage to stderr\n",
      "\n",
      "       -f, --file=DATEFILE\n",
      "              like --date; once for each line of DATEFILE\n",
      "\n",
      "       -I[FMT], --iso-8601[=FMT]\n",
      "              output  date/time  in ISO 8601 format.  FMT=’date’\n",
      "              for date only (the default),  ’hours’,  ’minutes’,\n",
      "              ’seconds’,  or ’ns’ for date and time to the indi‐\n",
      "              cated             precision.              Example:\n",
      "              2006-08-14T02:34:56-06:00\n",
      "\n",
      "       --resolution\n",
      "              output  the available resolution of timestamps Ex‐\n",
      "              ample: 0.000000001\n",
      "\n",
      "       -R, --rfc-email\n",
      "              output date and time in RFC 5322 format.  Example:\n",
      "              Mon, 14 Aug 2006 02:34:56 -0600\n",
      "\n",
      "       --rfc-3339=FMT\n",
      "              output date/time in RFC 3339 format.   FMT=’date’,\n",
      "              ’seconds’,  or ’ns’ for date and time to the indi‐\n",
      "              cated     precision.      Example:      2006-08-14\n",
      "              02:34:56-06:00\n",
      "\n",
      "       -r, --reference=FILE\n",
      "              display the last modification time of FILE\n",
      "\n",
      "       -s, --set=STRING\n",
      "              set time described by STRING\n",
      "\n",
      "       -u, --utc, --universal\n",
      "              print or set Coordinated Universal Time (UTC)\n",
      "\n",
      "       --help display this help and exit\n",
      "\n",
      "       --version\n",
      "              output version information and exit\n",
      "\n",
      "       FORMAT controls the output.  Interpreted sequences are:\n",
      "\n",
      "       %%     a literal %\n",
      "\n",
      "       %a     locale’s abbreviated weekday name (e.g., Sun)\n",
      "\n",
      "       %A     locale’s full weekday name (e.g., Sunday)\n",
      "\n",
      "       %b     locale’s abbreviated month name (e.g., Jan)\n",
      "\n",
      "       %B     locale’s full month name (e.g., January)\n",
      "\n",
      "       %c     locale’s  date and time (e.g., Thu Mar  3 23:05:25\n",
      "              2005)\n",
      "\n",
      "       %C     century; like %Y,  except  omit  last  two  digits\n",
      "              (e.g., 20)\n",
      "\n",
      "       %d     day of month (e.g., 01)\n",
      "\n",
      "       %D     date; same as %m/%d/%y\n",
      "\n",
      "       %e     day of month, space padded; same as %_d\n",
      "\n",
      "       %F     full date; like %+4Y-%m-%d\n",
      "\n",
      "       %g     last  two  digits  of year of ISO week number (see\n",
      "              %G)\n",
      "\n",
      "       %G     year of ISO week number (see %V); normally  useful\n",
      "              only with %V\n",
      "\n",
      "       %h     same as %b\n",
      "\n",
      "       %H     hour (00..23)\n",
      "\n",
      "       %I     hour (01..12)\n",
      "\n",
      "       %j     day of year (001..366)\n",
      "\n",
      "       %k     hour, space padded ( 0..23); same as %_H\n",
      "\n",
      "       %l     hour, space padded ( 1..12); same as %_I\n",
      "\n",
      "       %m     month (01..12)\n",
      "\n",
      "       %M     minute (00..59)\n",
      "\n",
      "       %n     a newline\n",
      "\n",
      "       %N     nanoseconds (000000000..999999999)\n",
      "\n",
      "       %p     locale’s  equivalent  of either AM or PM; blank if\n",
      "              not known\n",
      "\n",
      "       %P     like %p, but lower case\n",
      "\n",
      "       %q     quarter of year (1..4)\n",
      "\n",
      "       %r     locale’s 12-hour clock time (e.g., 11:11:04 PM)\n",
      "\n",
      "       %R     24-hour hour and minute; same as %H:%M\n",
      "\n",
      "       %s     seconds since the Epoch (1970-01-01 00:00 UTC)\n",
      "\n",
      "       %S     second (00..60)\n",
      "\n",
      "       %t     a tab\n",
      "\n",
      "       %T     time; same as %H:%M:%S\n",
      "\n",
      "       %u     day of week (1..7); 1 is Monday\n",
      "\n",
      "       %U     week number of year, with Sunday as first  day  of\n",
      "              week (00..53)\n",
      "\n",
      "       %V     ISO  week number, with Monday as first day of week\n",
      "              (01..53)\n",
      "\n",
      "       %w     day of week (0..6); 0 is Sunday\n",
      "\n",
      "       %W     week number of year, with Monday as first  day  of\n",
      "              week (00..53)\n",
      "\n",
      "       %x     locale’s date representation (e.g., 12/31/99)\n",
      "\n",
      "       %X     locale’s time representation (e.g., 23:13:48)\n",
      "\n",
      "       %y     last two digits of year (00..99)\n",
      "\n",
      "       %Y     year\n",
      "\n",
      "       %z     +hhmm numeric time zone (e.g., -0400)\n",
      "\n",
      "       %:z    +hh:mm numeric time zone (e.g., -04:00)\n",
      "\n",
      "       %::z   +hh:mm:ss numeric time zone (e.g., -04:00:00)\n",
      "\n",
      "       %:::z  numeric  time  zone  with : to necessary precision\n",
      "              (e.g., -04, +05:30)\n",
      "\n",
      "       %Z     alphabetic time zone abbreviation (e.g., EDT)\n",
      "\n",
      "       By default, date pads numeric fields  with  zeroes.   The\n",
      "       following optional flags may follow ’%’:\n",
      "\n",
      "       -      (hyphen) do not pad the field\n",
      "\n",
      "       _      (underscore) pad with spaces\n",
      "\n",
      "       0      (zero) pad with zeros\n",
      "\n",
      "       +      pad  with  zeros,  and put ’+’ before future years\n",
      "              with >4 digits\n",
      "\n",
      "       ^      use upper case if possible\n",
      "\n",
      "       #      use opposite case if possible\n",
      "\n",
      "       After any flags comes an optional field width, as a deci‐\n",
      "       mal number; then an optional modifier, which is either  E\n",
      "       to  use  the locale’s alternate representations if avail‐\n",
      "       able, or O to use the locale’s alternate numeric  symbols\n",
      "       if available.\n",
      "\n",
      "EXAMPLES\n",
      "       Convert  seconds  since  the  Epoch (1970-01-01 UTC) to a\n",
      "       date\n",
      "\n",
      "              $ date ‐‐date=’@2147483647’\n",
      "\n",
      "       Show the time on the west coast  of  the  US  (use  tzse‐\n",
      "       lect(1) to find TZ)\n",
      "\n",
      "              $ TZ=’America/Los_Angeles’ date\n",
      "\n",
      "       Show the local time for 9AM next Friday on the west coast\n",
      "       of the US\n",
      "\n",
      "              $ date ‐‐date=’TZ=\"America/Los_Angeles\" 09:00 next\n",
      "              Fri’\n",
      "\n",
      "DATE STRING\n",
      "       The  ‐‐date=STRING is a mostly free format human readable\n",
      "       date string such as \"Sun, 29 Feb 2004 16:21:42 ‐0800\"  or\n",
      "       \"2004‐02‐29  16:21:42\"  or  even \"next Thursday\".  A date\n",
      "       string may contain items indicating calendar  date,  time\n",
      "       of  day,  time zone, day of week, relative time, relative\n",
      "       date, and numbers.  An empty string indicates the  begin‐\n",
      "       ning  of the day.  The date string format is more complex\n",
      "       than is easily documented here but is fully described  in\n",
      "       the info documentation.\n",
      "\n",
      "AUTHOR\n",
      "       Written by David MacKenzie.\n",
      "\n",
      "REPORTING BUGS\n",
      "       GNU  coreutils  online  help:  <https://www.gnu.org/soft‐\n",
      "       ware/coreutils/>\n",
      "       Report any translation bugs  to  <https://translationpro‐\n",
      "       ject.org/team/>\n",
      "\n",
      "COPYRIGHT\n",
      "       Copyright  © 2022 Free Software Foundation, Inc.  License\n",
      "       GPLv3+: GNU GPL version 3 or  later  <https://gnu.org/li‐\n",
      "       censes/gpl.html>.\n",
      "       This  is free software: you are free to change and redis‐\n",
      "       tribute it.  There is NO WARRANTY, to the extent  permit‐\n",
      "       ted by law.\n",
      "\n",
      "SEE ALSO\n",
      "       Full   documentation  <https://www.gnu.org/software/core‐\n",
      "       utils/date>\n",
      "       or available locally via: info '(coreutils) date  invoca‐\n",
      "       tion'\n",
      "\n",
      "GNU coreutils 9.1         January 2024                   DATE(1)\n"
     ]
    }
   ],
   "source": [
    "%%bash\n",
    "\n",
    "man date"
   ]
  },
  {
   "cell_type": "markdown",
   "metadata": {},
   "source": [
    "## Excercise 2: File and directory management commands"
   ]
  },
  {
   "cell_type": "markdown",
   "metadata": {},
   "source": [
    "In this exercise, you will practice using commands for managing files and directories."
   ]
  },
  {
   "cell_type": "markdown",
   "metadata": {},
   "source": [
    "### 2.1. Get the location of the current working directory"
   ]
  },
  {
   "cell_type": "markdown",
   "metadata": {},
   "source": [
    "```bash\n",
    "pwd\n",
    "```\n",
    "\n",
    "When working in a Linux terminal, you will always be working from a directory. By default, you will start in your home directory. To get the absolute path of your current working directory, enter *pwd*."
   ]
  },
  {
   "cell_type": "code",
   "execution_count": 11,
   "metadata": {},
   "outputs": [
    {
     "name": "stdout",
     "output_type": "stream",
     "text": [
      "/home/luis-mendoza\n"
     ]
    }
   ],
   "source": [
    "%%bash\n",
    "\n",
    "cd ~\n",
    "pwd"
   ]
  },
  {
   "cell_type": "markdown",
   "metadata": {},
   "source": [
    "### 2.2. List the files and directories"
   ]
  },
  {
   "cell_type": "markdown",
   "metadata": {},
   "source": [
    "```bash\n",
    "ls\n",
    "```\n",
    "\n",
    "To list the files and directories in the current directory, enter *ls*.\n",
    "\n",
    "If your directory happens to be empty, *ls* will not return anything.\n",
    "\n",
    "The following command will list the many binary and executable files which are present in your */bin* directory.\n",
    "\n",
    "```bash\n",
    "ls /bin\n",
    "```\n",
    "\n",
    "The */bin* directory happens to be where Linux commmands such as *ls* and *pwd* are stored. For example, you can see that *ls* is present by entering:\n",
    "\n",
    "```bash\n",
    "ls /bin/ls\n",
    "```\n",
    "\n",
    "To list all files starting with *b* in the */bin* directory, try entering:\n",
    "\n",
    "```bash\n",
    "ls /bin/b*\n",
    "```\n",
    "\n",
    "To list all files ending in *r* in the */bin* directory, enter:\n",
    "\n",
    "```bash\n",
    "ls /bin/*r\n",
    "```\n",
    "\n",
    "To print a long list of files that has additional information compared to the simple *ls* command, such as the last modified date, enter:\n",
    "\n",
    "```bash\n",
    "ls  -l\n",
    "```\n",
    "\n",
    "Here are some popular options that you can try with the *ls* command.\n",
    "\n",
    "| **Option**    | **Description**                                       |\n",
    "|---------------|-----------------------------------                    |\n",
    "| -a\t        | list all files, including hidden files                |\n",
    "| -d\t        | list directories only, do not include files           |\n",
    "| -h\t        | with -l and -s, print sizes like 1K, 234M, 2G         |\n",
    "| -l\t        | include attributes like permissions, owner, size, and last-modified date  |\n",
    "| -S\t        | sort by file size, largest first                      |\n",
    "| -t\t        | sort by last-modified date, newest first              |\n",
    "| -r\t        | reverse the sort order                                |\n",
    "\n",
    "To get a long listing of all files in */etc*, including any hidden files, enter:\n",
    "\n",
    "```bash\n",
    "ls -la /etc\n",
    "```\n",
    "\n",
    "Here we combined the options *-l* and *-a* using the shorter notation, *-la*."
   ]
  },
  {
   "cell_type": "code",
   "execution_count": 12,
   "metadata": {},
   "outputs": [
    {
     "name": "stdout",
     "output_type": "stream",
     "text": [
      "/bin/b2sum\n",
      "/bin/babeljs\n",
      "/bin/babeljs-7\n",
      "/bin/babeljs-7-external-helpers\n",
      "/bin/babeljs-7-node\n",
      "/bin/babeljs-7-parser\n",
      "/bin/babeljs-external-helpers\n",
      "/bin/babeljs-node\n",
      "/bin/babeljs-parser\n",
      "/bin/base32\n",
      "/bin/base64\n",
      "/bin/basename\n",
      "/bin/basenc\n",
      "/bin/bash\n",
      "/bin/bashbug\n",
      "/bin/bc\n",
      "/bin/bdftopcf\n",
      "/bin/bdftruncate\n",
      "/bin/bioradtopgm\n",
      "/bin/bmptopnm\n",
      "/bin/bmptoppm\n",
      "/bin/bpdb\n",
      "/bin/bpdb3\n",
      "/bin/bpython\n",
      "/bin/bpython-curses\n",
      "/bin/bpython-urwid\n",
      "/bin/bpython3\n",
      "/bin/bpython3-curses\n",
      "/bin/bpython3-urwid\n",
      "/bin/broadwayd\n",
      "/bin/browse\n",
      "/bin/browserslist\n",
      "/bin/brushtopbm\n",
      "/bin/bundle\n",
      "/bin/bundle3.1\n",
      "/bin/bundler\n",
      "/bin/bundler3.1\n",
      "/bin/bunzip2\n",
      "/bin/busctl\n",
      "/bin/busybox\n",
      "/bin/byobu\n",
      "/bin/byobu-config\n",
      "/bin/byobu-ctrl-a\n",
      "/bin/byobu-disable\n",
      "/bin/byobu-disable-prompt\n",
      "/bin/byobu-enable\n",
      "/bin/byobu-enable-prompt\n",
      "/bin/byobu-export\n",
      "/bin/byobu-janitor\n",
      "/bin/byobu-keybindings\n",
      "/bin/byobu-launch\n",
      "/bin/byobu-launcher\n",
      "/bin/byobu-launcher-install\n",
      "/bin/byobu-launcher-uninstall\n",
      "/bin/byobu-layout\n",
      "/bin/byobu-prompt\n",
      "/bin/byobu-quiet\n",
      "/bin/byobu-reconnect-sockets\n",
      "/bin/byobu-screen\n",
      "/bin/byobu-select-backend\n",
      "/bin/byobu-select-profile\n",
      "/bin/byobu-select-session\n",
      "/bin/byobu-shell\n",
      "/bin/byobu-silent\n",
      "/bin/byobu-status\n",
      "/bin/byobu-status-detail\n",
      "/bin/byobu-tmux\n",
      "/bin/byobu-ugraph\n",
      "/bin/byobu-ulevel\n",
      "/bin/bzcat\n",
      "/bin/bzcmp\n",
      "/bin/bzdiff\n",
      "/bin/bzegrep\n",
      "/bin/bzexe\n",
      "/bin/bzfgrep\n",
      "/bin/bzgrep\n",
      "/bin/bzip2\n",
      "/bin/bzip2recover\n",
      "/bin/bzless\n",
      "/bin/bzmore\n"
     ]
    }
   ],
   "source": [
    "%%bash\n",
    "\n",
    "ls /bin/b*"
   ]
  },
  {
   "cell_type": "code",
   "execution_count": 13,
   "metadata": {},
   "outputs": [
    {
     "name": "stdout",
     "output_type": "stream",
     "text": [
      "/bin/ar\n",
      "/bin/babeljs-7-parser\n",
      "/bin/babeljs-parser\n",
      "/bin/bundler\n",
      "/bin/byobu-janitor\n",
      "/bin/byobu-launcher\n",
      "/bin/bzip2recover\n",
      "/bin/cacaserver\n",
      "/bin/cautious-launcher\n",
      "/bin/chattr\n",
      "/bin/clear\n",
      "/bin/dbus-monitor\n",
      "/bin/deb-systemd-helper\n",
      "/bin/dir\n",
      "/bin/dirmngr\n",
      "/bin/dpkg-maintscript-helper\n",
      "/bin/dpkg-trigger\n",
      "/bin/dpkg-vendor\n",
      "/bin/editor\n",
      "/bin/expr\n",
      "/bin/factor\n",
      "/bin/fuser\n",
      "/bin/gcc-ar\n",
      "/bin/gdk-pixbuf-thumbnailer\n",
      "/bin/gpg-wks-server\n",
      "/bin/gpgtar\n",
      "/bin/infobrowser\n",
      "/bin/jar\n",
      "/bin/jarsigner\n",
      "/bin/jfr\n",
      "/bin/logger\n",
      "/bin/lsattr\n",
      "/bin/lspower\n",
      "/bin/lwp-mirror\n",
      "/bin/mkdir\n",
      "/bin/mkfontdir\n",
      "/bin/monitor-sensor\n",
      "/bin/mtr\n",
      "/bin/networkd-dispatcher\n",
      "/bin/nsenter\n",
      "/bin/ntfscluster\n",
      "/bin/ntfsrecover\n",
      "/bin/on_ac_power\n",
      "/bin/opener\n",
      "/bin/pager\n",
      "/bin/pambayer\n",
      "/bin/pamcrater\n",
      "/bin/pamgetcolor\n",
      "/bin/pamrecolor\n",
      "/bin/pamrubber\n",
      "/bin/pasuspender\n",
      "/bin/pbmtomgr\n",
      "/bin/pgmcrater\n",
      "/bin/pnmmercator\n",
      "/bin/pnmpsnr\n",
      "/bin/pnmshear\n",
      "/bin/pnmtosir\n",
      "/bin/podchecker\n",
      "/bin/ppmdither\n",
      "/bin/ppmtoicr\n",
      "/bin/pr\n",
      "/bin/ps2pdfwr\n",
      "/bin/ptar\n",
      "/bin/regjsparser\n",
      "/bin/rmdir\n",
      "/bin/scalar\n",
      "/bin/select-editor\n",
      "/bin/semver\n",
      "/bin/sensible-browser\n",
      "/bin/sensible-editor\n",
      "/bin/sensible-pager\n",
      "/bin/serialver\n",
      "/bin/sqfstar\n",
      "/bin/systemd-ac-power\n",
      "/bin/tap-mocha-reporter\n",
      "/bin/tap-parser\n",
      "/bin/tar\n",
      "/bin/terser\n",
      "/bin/tilix.wrapper\n",
      "/bin/tr\n",
      "/bin/ubuntu-core-launcher\n",
      "/bin/ucfr\n",
      "/bin/vdir\n",
      "/bin/vimtutor\n",
      "/bin/wslvar\n",
      "/bin/www-browser\n",
      "/bin/x-terminal-emulator\n",
      "/bin/x-www-browser\n",
      "/bin/x86_64-linux-gnu-ar\n",
      "/bin/x86_64-linux-gnu-gcc-ar\n",
      "/bin/xdg-screensaver\n",
      "/bin/xdg-user-dir\n",
      "/bin/xrandr\n",
      "/bin/xsetpointer\n"
     ]
    }
   ],
   "source": [
    "%%bash\n",
    "\n",
    "ls /bin/*r"
   ]
  },
  {
   "cell_type": "code",
   "execution_count": 14,
   "metadata": {},
   "outputs": [
    {
     "name": "stdout",
     "output_type": "stream",
     "text": [
      "total 2068\n",
      "drwxr-xr-x   3 root root    4096 Jan  9 15:52 Docker\n",
      "lrwxrwxrwx   1 root root       7 May  1  2023 bin -> usr/bin\n",
      "drwxr-xr-x   2 root root    4096 Apr 18  2022 boot\n",
      "drwxr-xr-x  16 root root    3640 Apr 16 16:44 dev\n",
      "drwxr-xr-x 105 root root   12288 Apr 17 13:52 etc\n",
      "drwxr-xr-x   3 root root    4096 Oct 10  2023 home\n",
      "-rwxrwxrwx   1 root root 1928824 Mar 11 16:03 init\n",
      "lrwxrwxrwx   1 root root       7 May  1  2023 lib -> usr/lib\n",
      "lrwxrwxrwx   1 root root       9 May  1  2023 lib32 -> usr/lib32\n",
      "lrwxrwxrwx   1 root root       9 May  1  2023 lib64 -> usr/lib64\n",
      "lrwxrwxrwx   1 root root      10 May  1  2023 libx32 -> usr/libx32\n",
      "drwx------   2 root root   16384 Oct 10  2023 lost+found\n",
      "drwxr-xr-x   2 root root    4096 May  1  2023 media\n",
      "drwxr-xr-x   7 root root    4096 Dec 13 17:52 mnt\n",
      "drwxr-xr-x   4 root root    4096 Jan  9 19:08 opt\n",
      "dr-xr-xr-x 260 root root       0 Apr 16 10:42 proc\n",
      "drwx------   9 root root    4096 Jan  9 15:52 root\n",
      "drwxr-xr-x  22 root root     700 Apr 17 11:24 run\n",
      "lrwxrwxrwx   1 root root       8 May  1  2023 sbin -> usr/sbin\n",
      "drwxr-xr-x   9 root root    4096 Nov 22 15:36 snap\n",
      "drwxr-xr-x   2 root root    4096 May  1  2023 srv\n",
      "dr-xr-xr-x  11 root root       0 Apr 16 10:42 sys\n",
      "drwxrwxrwt  17 root root  110592 Apr 17 15:04 tmp\n",
      "drwxr-xr-x  14 root root    4096 May  1  2023 usr\n",
      "drwxr-xr-x  13 root root    4096 May  1  2023 var\n"
     ]
    }
   ],
   "source": [
    "%%bash\n",
    "\n",
    "cd /\n",
    "ls -l"
   ]
  },
  {
   "cell_type": "markdown",
   "metadata": {},
   "source": [
    "### 2.3. Create a directory"
   ]
  },
  {
   "cell_type": "markdown",
   "metadata": {},
   "source": [
    "```bash\n",
    "mkdir\n",
    "```\n",
    "\n",
    "The *mkdir* command is used to create a new directory.\n",
    "\n",
    "To create a directory named *scripts* in your current directory, run the following command:\n",
    "\n",
    "```bash\n",
    "mkdir scripts\n",
    "```\n",
    "\n",
    "Use the *ls* command to verify whether the *scripts* directories got created:\n",
    "\n",
    "```bash\n",
    "ls\n",
    "```"
   ]
  },
  {
   "cell_type": "code",
   "execution_count": 15,
   "metadata": {},
   "outputs": [
    {
     "name": "stdout",
     "output_type": "stream",
     "text": [
      "Hands-on Lab - File Content, Compression, & Networking Commands.ipynb\n",
      "Hands-on Lab - Informational, File, and Directory Commands.ipynb\n",
      "scripts\n"
     ]
    }
   ],
   "source": [
    "%%bash\n",
    "\n",
    "mkdir scripts\n",
    "ls"
   ]
  },
  {
   "cell_type": "markdown",
   "metadata": {},
   "source": [
    "### 2.4. Change your current working directory."
   ]
  },
  {
   "cell_type": "markdown",
   "metadata": {},
   "source": [
    "```bash\n",
    "cd\n",
    "```\n",
    "\n",
    "To get into the directory *scripts* directory, run the following command:\n",
    "\n",
    "```bash\n",
    "cd scripts\n",
    "```\n",
    "\n",
    "Now use the *pwd* command to verify whether your current working directory has changed as expected:\n",
    "\n",
    "```bash\n",
    "pwd\n",
    "```\n",
    "\n",
    "If you use *cd* without any directory name as follows, it will move you back to your home directory:\n",
    "\n",
    "```bash\n",
    "cd\n",
    "```\n",
    "\n",
    "Again, enter the *pwd* command to verify whether your current working directory has changed:\n",
    "\n",
    "```bash\n",
    "pwd\n",
    "```\n",
    "\n",
    "The syntax .. is a shortcut that refers to the parent directory of your current directory. Run the following command to change dictories up one level:\n",
    "\n",
    "```bash\n",
    "cd ..\n",
    "```"
   ]
  },
  {
   "cell_type": "code",
   "execution_count": 16,
   "metadata": {},
   "outputs": [
    {
     "name": "stdout",
     "output_type": "stream",
     "text": [
      "/home/luis-mendoza\n",
      "/home\n"
     ]
    }
   ],
   "source": [
    "%%bash\n",
    "\n",
    "cd ./scripts\n",
    "cd \n",
    "pwd\n",
    "cd .. \n",
    "pwd"
   ]
  },
  {
   "cell_type": "markdown",
   "metadata": {},
   "source": [
    "### 2.5. Create an empty file"
   ]
  },
  {
   "cell_type": "markdown",
   "metadata": {},
   "source": [
    "```bash\n",
    "touch\n",
    "```\n",
    "\n",
    "First, return to your home directory by entering:\n",
    "\n",
    "```bash\n",
    "cd\n",
    "```\n",
    "\n",
    "Next, use the *touch* command to create an empty file named *myfile.txt*:\n",
    "\n",
    "```bash\n",
    "touch myfile.txt\n",
    "```\n",
    "\n",
    "Now use the *ls* command to verify creation of *myfile.txt*:\n",
    "\n",
    "```bash\n",
    "ls\n",
    "```\n",
    "\n",
    "If the file already exists, the *touch* command updates the access timestamp, or last-modified date of the file. To see this, enter:\n",
    "\n",
    "```bash\n",
    "touch myfile.txt\n",
    "```\n",
    "\n",
    "and use use the *date* command to verify the date change:\n",
    "\n",
    "```bash\n",
    "date -r myfile.txt\n",
    "```"
   ]
  },
  {
   "cell_type": "code",
   "execution_count": 17,
   "metadata": {},
   "outputs": [
    {
     "name": "stdout",
     "output_type": "stream",
     "text": [
      "total 0\n",
      "-rw-r--r-- 1 luis-mendoza luis-mendoza 0 Apr 17 15:04 myfile.txt\n",
      "\n",
      "Wed Apr 17 15:04:27 CST 2024\n"
     ]
    }
   ],
   "source": [
    "%%bash\n",
    "\n",
    "touch ./scripts/myfile.txt\n",
    "ls -lh ./scripts/\n",
    "echo \"\"\n",
    "touch ./scripts/myfile.txt\n",
    "date -r ./scripts/myfile.txt"
   ]
  },
  {
   "cell_type": "markdown",
   "metadata": {},
   "source": [
    "### 2.6. Search and locate files "
   ]
  },
  {
   "cell_type": "markdown",
   "metadata": {},
   "source": [
    "```bash\n",
    "find\n",
    "```\n",
    "\n",
    "The *find* command is used to search for files in a directory. You can search for files based on different attributes, such as the file's name, type, owner, size, or timestamp.\n",
    "\n",
    "The *find* command conducts a search of the entire directory tree starting from the given directory name.\n",
    "\n",
    "For example, the following command finds all *.txt* files in the subfolders of the */etc* directory:\n",
    "\n",
    "```bash\n",
    "find /etc -name '*.txt'\n",
    "```\n",
    "\n",
    "Along with the listing of all *.txt* files, you may get some *Permission denied* errors.\n",
    "\n",
    "These error are normal, as you have limited access on the lab machine."
   ]
  },
  {
   "cell_type": "code",
   "execution_count": 18,
   "metadata": {},
   "outputs": [],
   "source": [
    "%%bash\n",
    "\n",
    "find /etc -name '*.txt' | head -c 0"
   ]
  },
  {
   "cell_type": "markdown",
   "metadata": {},
   "source": [
    "### 2.7. Remove files"
   ]
  },
  {
   "cell_type": "markdown",
   "metadata": {},
   "source": [
    "```bash\n",
    "rm\n",
    "```\n",
    "\n",
    "The *rm* command is used to delete files, and is ideally used along with the *-i* option, which makes it ask for confirmation before every deletion.\n",
    "\n",
    "To remove the file *myfile.txt*, enter the follwing command and press *y* to confirm deletion, or *n* to cancel:\n",
    "\n",
    "```bash\n",
    "rm -i myfile.txt\n",
    "```\n",
    "\n",
    "Use the *ls* command to verify removal:\n",
    "\n",
    "```bash\n",
    "ls\n",
    "```"
   ]
  },
  {
   "cell_type": "code",
   "execution_count": 19,
   "metadata": {},
   "outputs": [
    {
     "name": "stdout",
     "output_type": "stream",
     "text": [
      "Hands-on Lab - File Content, Compression, & Networking Commands.ipynb\n",
      "Hands-on Lab - Informational, File, and Directory Commands.ipynb\n",
      "scripts\n"
     ]
    }
   ],
   "source": [
    "%%bash \n",
    "\n",
    "rm ./scripts/myfile.txt\n",
    "ls"
   ]
  },
  {
   "cell_type": "markdown",
   "metadata": {},
   "source": [
    "### 2.8. Move, Rename a file"
   ]
  },
  {
   "cell_type": "markdown",
   "metadata": {},
   "source": [
    "```bash\n",
    "mv\n",
    "```\n",
    "\n",
    "First, make a file called users.txt:\n",
    "\n",
    "```bash\n",
    "touch users.txt\n",
    "```\n",
    "\n",
    "The *mv* command moves a file from one directory to another.\n",
    "\n",
    "Use caution when moving a file, because if the target file already exists, it will be overwritten by the source file.\n",
    "\n",
    "Conveniently however, if the source and target directories are the same, you can employ *mv* as a rename operation.\n",
    "\n",
    "To illustrate this, rename *users.txt* as *user-info.txt* by entering the following command:\n",
    "\n",
    "```bash\n",
    "mv users.txt user-info.txt\n",
    "```\n",
    "\n",
    "Now use the *ls* command to verify the name change:\n",
    "\n",
    "```bash\n",
    "ls\n",
    "```\n",
    "\n",
    "Now move *user-info.txt* to the */tmp* directory, as follows:\n",
    "\n",
    "```bash\n",
    "mv user-info.txt /tmp\n",
    "```\n",
    "\n",
    "Now use the *ls* command twice to verify the move, as follows:\n",
    "\n",
    "```bash\n",
    "ls\n",
    "\n",
    "ls -l /tmp\n",
    "```"
   ]
  },
  {
   "cell_type": "code",
   "execution_count": 20,
   "metadata": {},
   "outputs": [
    {
     "name": "stdout",
     "output_type": "stream",
     "text": [
      "Hands-on Lab - File Content, Compression, & Networking Commands.ipynb\n",
      "Hands-on Lab - Informational, File, and Directory Commands.ipynb\n",
      "data\n",
      "scripts\n",
      "\n",
      "Hands-on Lab - File Content, Compression, & Networking Commands.ipynb\n",
      "Hands-on Lab - Informational, File, and Directory Commands.ipynb\n",
      "data\n",
      "scripts\n",
      "\n",
      "total 56\n",
      "drwxr-xr-x 2 luis-mendoza luis-mendoza 4096 Apr 17 11:44 luis-mendoza-code-zsh\n",
      "-rw-r--r-- 1 luis-mendoza luis-mendoza    0 Apr 17 11:39 migrate_db\n",
      "-rw-r--r-- 1 luis-mendoza luis-mendoza    0 Apr 17 11:49 model.model.ba448725\n",
      "-rw-r--r-- 1 luis-mendoza luis-mendoza    0 Apr 17 11:39 model.model.ce94127b\n",
      "drwx------ 2 luis-mendoza luis-mendoza 4096 Apr 17 14:24 pyright-171111-4o9IRa5gDBy8\n",
      "drwx------ 2 luis-mendoza luis-mendoza 4096 Apr 17 11:44 pyright-171111-TGZvPgA0jckO\n",
      "drwx------ 2 luis-mendoza luis-mendoza 4096 Apr 17 13:30 pyright-171111-YYueBKM7y6jG\n",
      "drwxr-xr-x 3 luis-mendoza luis-mendoza 4096 Apr 17 11:44 python-languageserver-cancellation\n",
      "-rw-r--r-- 1 luis-mendoza luis-mendoza   69 Apr 17 11:38 remote-wsl-loc.txt\n",
      "drwx------ 2 root         root         4096 Apr 16 10:42 snap-private-tmp\n",
      "drwx------ 3 root         root         4096 Apr 16 10:42 systemd-private-ff8dc85c0b574f40b0fad617cac83623-polkit.service-waljyP\n",
      "drwx------ 3 root         root         4096 Apr 16 10:42 systemd-private-ff8dc85c0b574f40b0fad617cac83623-systemd-logind.service-UKNlqm\n",
      "drwx------ 3 root         root         4096 Apr 16 10:42 systemd-private-ff8dc85c0b574f40b0fad617cac83623-systemd-resolved.service-kcWKXb\n",
      "drwx------ 2 luis-mendoza luis-mendoza 4096 Apr 16 21:30 tmux-1000\n",
      "-rw-r--r-- 1 luis-mendoza luis-mendoza    0 Apr 17 15:04 user-info.txt\n",
      "-rw------- 1 luis-mendoza luis-mendoza 4779 Apr 17 11:38 vscode-distro-env.FJWN9U\n",
      "drwxr-xr-x 2 luis-mendoza luis-mendoza 4096 Apr 17 11:43 vscode-typescript1000\n"
     ]
    }
   ],
   "source": [
    "%%bash\n",
    "\n",
    "mkdir data\n",
    "touch ./data/users.txt\n",
    "mv ./data/users.txt ./data/user-info.txt\n",
    "ls\n",
    "echo \"\"\n",
    "mv ./data/user-info.txt /tmp\n",
    "ls\n",
    "echo \"\"\n",
    "ls -l /tmp"
   ]
  },
  {
   "cell_type": "markdown",
   "metadata": {},
   "source": [
    "### 2.9. Copy files"
   ]
  },
  {
   "cell_type": "markdown",
   "metadata": {},
   "source": [
    "```bash\n",
    "cp\n",
    "```\n",
    "\n",
    "You can use the *cp* command to copy *user-info.txt*, which is now in your */tmp* directory, to your current working directory as follows:\n",
    "\n",
    "```bash\n",
    "cp /tmp/user-info.txt user-info.txt\n",
    "```\n",
    "\n",
    "Now use the *ls* command to verify whether the copy was successful:\n",
    "\n",
    "```bash\n",
    "ls\n",
    "```\n",
    "\n",
    "The following command copies the content of */etc/passwd* to a file named *users.txt* under the current directory:\n",
    "\n",
    "```bash\n",
    "cp /etc/passwd users.txt\n",
    "```\n",
    "\n",
    "Now use the ls command to verify whether the copy was successful:\n",
    "```bash\n",
    "ls\n",
    "```"
   ]
  },
  {
   "cell_type": "code",
   "execution_count": 21,
   "metadata": {},
   "outputs": [
    {
     "name": "stdout",
     "output_type": "stream",
     "text": [
      "user-info.txt\n",
      "\n",
      "user-info.txt\n",
      "users.txt\n"
     ]
    }
   ],
   "source": [
    "%%bash \n",
    "\n",
    "cp /tmp/user-info.txt ./data/user-info.txt\n",
    "ls ./data/\n",
    "echo \"\"\n",
    "cp /etc/passwd ./data/users.txt\n",
    "ls ./data/"
   ]
  },
  {
   "cell_type": "markdown",
   "metadata": {},
   "source": [
    "## Exercise 3 - Access control commands"
   ]
  },
  {
   "cell_type": "markdown",
   "metadata": {},
   "source": [
    "### Required files:"
   ]
  },
  {
   "cell_type": "markdown",
   "metadata": {},
   "source": [
    "Run the following code to acquire the required files for this exercise:\n",
    "\n",
    "```bash\n",
    "wget https://cf-courses-data.s3.us.cloud-object-storage.appdomain.cloud/IBM-LX0117EN-SkillsNetwork/labs/module%201/usdoi.txt\n",
    "```\n",
    "\n",
    "Each file and each directory has permissions set for three permission categories: the 'owner', the 'group' and 'all users'.\n",
    "\n",
    "The following permissions are set for each file and directory:\n",
    "\n",
    "| **Permission**    | **Symbol**    |\n",
    "|-------------------|---------------|\n",
    "| read\t            | r             | \n",
    "| write\t            | w             | \n",
    "| execute\t        | x             | \n",
    "\n",
    "To see the permissions currently set for a file, run the command *ls -l*.\n",
    "\n",
    "For example, to see the permissions for the file named *usdoi.txt* in your current directory, run:\n",
    "\n",
    "```bash\n",
    "ls -l usdoi.txt\n",
    "```\n",
    "\n",
    "A sample output looks like:\n",
    "\n",
    "*-rw-r--r-- 1 theia theia 8121 May 31 16:45 usdoi.txt*\n",
    "\n",
    "The permissions set here are *rw-r--r--*. The - preceeding these permissions indicates that *usdoi.txt* is a file. If it were a directory, you would see a *d* instead of the *-*.\n",
    "\n",
    "The first three entries correspond to the owner, the next three correspond to the group, and the last threee are for all others. You can see the owner of the file has read and write permissions, while the user group only has read permissions, and all other users have read permission. No users have execute permissions, as indicated by the - instead of an x in the third position for each user category."
   ]
  },
  {
   "cell_type": "code",
   "execution_count": 22,
   "metadata": {},
   "outputs": [
    {
     "name": "stdout",
     "output_type": "stream",
     "text": [
      "-rw-r--r-- 1 luis-mendoza luis-mendoza 8121 Sep 28  2022 ./data/usdoi.txt\n"
     ]
    }
   ],
   "source": [
    "%%bash\n",
    "\n",
    "wget -q https://cf-courses-data.s3.us.cloud-object-storage.appdomain.cloud/IBM-LX0117EN-SkillsNetwork/labs/module%201/usdoi.txt -P ./data/\n",
    "ls -l ./data/usdoi.txt"
   ]
  },
  {
   "cell_type": "markdown",
   "metadata": {},
   "source": [
    "### 3.1. Change permissions"
   ]
  },
  {
   "cell_type": "markdown",
   "metadata": {},
   "source": [
    "```bash\n",
    "chmod\n",
    "```\n",
    "\n",
    "The *chmod* (change mode) command lets you change the permissions set for a file.\n",
    "\n",
    "The change of permissions is specified with the help of a combination of the following characters:\n",
    "\n",
    "| **Option**    | **Description**                                       |\n",
    "|---------------|-------------------                                    |\n",
    "| r, w and      | permissions: read, write and execute, respectively    | \n",
    "| u, g and o\t    | user categories: owner, group and all others, respectively|\n",
    "| +, -\t        | operations: grant and revoke, respectively            | \n",
    "\n",
    "The command below removes read permission for all users (user, group and other) on the file *usdoi.txt*:\n",
    "\n",
    "```bash\n",
    "chmod -r usdoi.txt\n",
    "```\n",
    "\n",
    "You can verify the changed permissions by entering:\n",
    "\n",
    "```bash\n",
    "ls -l usdoi.txt\n",
    "```\n",
    "\n",
    "To add read access to all users on *usdoi.txt*, enter:\n",
    "\n",
    "```bash\n",
    "chmod +r usdoi.txt\n",
    "```\n",
    "\n",
    "Now verify the changed permissions:\n",
    "\n",
    "```bash\n",
    "ls -l usdoi.txt\n",
    "```\n",
    "\n",
    "To remove the read permission for 'all other users' category, enter:\n",
    "\n",
    "```bash\n",
    "chmod o-r usdoi.txt\n",
    "```\n",
    "\n",
    "Verify the changed permissions:\n",
    "\n",
    "```bash\n",
    "ls -l usdoi.txt\n",
    "```"
   ]
  },
  {
   "cell_type": "code",
   "execution_count": 23,
   "metadata": {},
   "outputs": [
    {
     "name": "stdout",
     "output_type": "stream",
     "text": [
      "--w------- 1 luis-mendoza luis-mendoza 8121 Sep 28  2022 ./data/usdoi.txt\n",
      "\n",
      "-rw-r--r-- 1 luis-mendoza luis-mendoza 8121 Sep 28  2022 ./data/usdoi.txt\n",
      "\n",
      "-rw-r----- 1 luis-mendoza luis-mendoza 8121 Sep 28  2022 ./data/usdoi.txt\n"
     ]
    }
   ],
   "source": [
    "%%bash\n",
    "\n",
    "chmod -r ./data/usdoi.txt\n",
    "ls -l ./data/usdoi.txt\n",
    "echo \"\"\n",
    "chmod +r ./data/usdoi.txt\n",
    "ls -l ./data/usdoi.txt\n",
    "echo \"\"\n",
    "chmod o-r ./data/usdoi.txt\n",
    "ls -l ./data/usdoi.txt"
   ]
  },
  {
   "cell_type": "markdown",
   "metadata": {},
   "source": [
    "## Practice exercises"
   ]
  },
  {
   "cell_type": "markdown",
   "metadata": {},
   "source": [
    "1. Problem:\n",
    "\n",
    "Display the content of */home* directory."
   ]
  },
  {
   "cell_type": "code",
   "execution_count": 24,
   "metadata": {},
   "outputs": [
    {
     "name": "stdout",
     "output_type": "stream",
     "text": [
      "luis-mendoza\n"
     ]
    }
   ],
   "source": [
    "%%bash \n",
    "\n",
    "ls /home"
   ]
  },
  {
   "cell_type": "markdown",
   "metadata": {},
   "source": [
    "2. Problem:\n",
    "\n",
    "Ensure that you are in your home directory."
   ]
  },
  {
   "cell_type": "code",
   "execution_count": 25,
   "metadata": {},
   "outputs": [
    {
     "name": "stdout",
     "output_type": "stream",
     "text": [
      "/home\n"
     ]
    }
   ],
   "source": [
    "%%bash \n",
    "\n",
    "cd /home\n",
    "pwd"
   ]
  },
  {
   "cell_type": "markdown",
   "metadata": {},
   "source": [
    "3. Problem:\n",
    "\n",
    "Create a new directory called *final* in your home directory."
   ]
  },
  {
   "cell_type": "code",
   "execution_count": 26,
   "metadata": {},
   "outputs": [
    {
     "name": "stdout",
     "output_type": "stream",
     "text": [
      "Hands-on Lab - File Content, Compression, & Networking Commands.ipynb\n",
      "Hands-on Lab - Informational, File, and Directory Commands.ipynb\n",
      "data\n",
      "final\n",
      "scripts\n"
     ]
    }
   ],
   "source": [
    "%%bash\n",
    "\n",
    "mkdir final\n",
    "ls"
   ]
  },
  {
   "cell_type": "markdown",
   "metadata": {},
   "source": [
    "4. Problem:\n",
    "\n",
    "View the permissions of the newly created directory, *final*."
   ]
  },
  {
   "cell_type": "code",
   "execution_count": 27,
   "metadata": {},
   "outputs": [
    {
     "name": "stdout",
     "output_type": "stream",
     "text": [
      "drwxr-xr-x 2 luis-mendoza luis-mendoza 4096 Apr 17 15:04 final\n"
     ]
    }
   ],
   "source": [
    "%%bash\n",
    "\n",
    "ls -ld final"
   ]
  },
  {
   "cell_type": "markdown",
   "metadata": {},
   "source": [
    "5. Problem:\n",
    "\n",
    "Create a new blank file named 'display.sh' in the *final* directory"
   ]
  },
  {
   "cell_type": "code",
   "execution_count": 28,
   "metadata": {},
   "outputs": [
    {
     "name": "stdout",
     "output_type": "stream",
     "text": [
      "display.sh\n"
     ]
    }
   ],
   "source": [
    "%%bash\n",
    "\n",
    "cd final\n",
    "touch display.sh\n",
    "ls"
   ]
  },
  {
   "cell_type": "markdown",
   "metadata": {},
   "source": [
    "6. Problem:\n",
    "\n",
    "Create a copy of *display.sh* called *report.sh*."
   ]
  },
  {
   "cell_type": "code",
   "execution_count": 29,
   "metadata": {},
   "outputs": [
    {
     "name": "stdout",
     "output_type": "stream",
     "text": [
      "display.sh\n",
      "report.sh\n"
     ]
    }
   ],
   "source": [
    "%%bash\n",
    "\n",
    "cd final\n",
    "cp display.sh report.sh\n",
    "ls"
   ]
  },
  {
   "cell_type": "markdown",
   "metadata": {},
   "source": [
    "7. Problem:\n",
    "\n",
    "Delete the file 'display.sh'."
   ]
  },
  {
   "cell_type": "code",
   "execution_count": 30,
   "metadata": {},
   "outputs": [
    {
     "name": "stdout",
     "output_type": "stream",
     "text": [
      "report.sh\n"
     ]
    }
   ],
   "source": [
    "%%bash\n",
    "\n",
    "cd final\n",
    "rm display.sh\n",
    "ls"
   ]
  },
  {
   "cell_type": "markdown",
   "metadata": {},
   "source": [
    "8. Problem:\n",
    "\n",
    "List the files in */etc* directory in the ascending order of their access time."
   ]
  },
  {
   "cell_type": "code",
   "execution_count": 31,
   "metadata": {},
   "outputs": [
    {
     "name": "stdout",
     "output_type": "stream",
     "text": [
      "total 956\n",
      "-rw-r--r-- 1 root root    3663 Jun 19  2016 screenrc\n",
      "-rw-r--r-- 1 root root    1260 Jun 16  2020 ucf.conf\n",
      "-rw-r--r-- 1 root root     552 Aug 11  2020 pam.conf\n",
      "-rw-r--r-- 1 root root    4436 Dec 15  2020 hdparm.conf\n",
      "-rw-r--r-- 1 root root      34 Dec 16  2020 ld.so.conf\n",
      "-rw-r--r-- 1 root root     367 Dec 16  2020 bindresvport.blacklist\n",
      "-rw-r--r-- 1 root root   12813 Mar 27  2021 services\n",
      "drwxr-xr-x 2 root root    4096 Sep  6  2021 usb_modeswitch.d\n",
      "-rw-r--r-- 1 root root     582 Oct 15  2021 profile\n",
      "-rw-r--r-- 1 root root      91 Oct 15  2021 networks\n",
      "-rw-r--r-- 1 root root     267 Oct 15  2021 legal\n",
      "-rw-r--r-- 1 root root      92 Oct 15  2021 host.conf\n",
      "-rw-r--r-- 1 root root      45 Nov 11  2021 bash_completion\n",
      "-rw-r--r-- 1 root root     460 Dec  8  2021 zsh_command_not_found\n",
      "-rw-r--r-- 1 root root     449 Dec 10  2021 mailcap.order\n",
      "-rw-r--r-- 1 root root    3324 Jan  4  2022 and.priorities\n",
      "-rw-r--r-- 1 root root    1582 Jan  4  2022 and.conf\n",
      "-rw-r--r-- 1 root root    2319 Jan  6  2022 bash.bashrc\n",
      "-rw-r--r-- 1 root root    1748 Jan  6  2022 inputrc\n",
      "-rw-r--r-- 1 root root     685 Jan  8  2022 e2scrub.conf\n",
      "-rw-r--r-- 1 root root    4942 Jan 24  2022 wgetrc\n",
      "-rw-r--r-- 1 root root    2584 Feb  2  2022 gai.conf\n",
      "-rw-r--r-- 1 root root    2969 Feb 20  2022 debconf.conf\n",
      "drwxr-xr-x 3 root root    4096 Feb 21  2022 gss\n"
     ]
    }
   ],
   "source": [
    "%%bash\n",
    "\n",
    "ls -ltr /etc | head -25"
   ]
  },
  {
   "cell_type": "markdown",
   "metadata": {},
   "source": [
    "9. Problem:\n",
    "\n",
    "Display the current time."
   ]
  },
  {
   "cell_type": "code",
   "execution_count": 32,
   "metadata": {},
   "outputs": [
    {
     "name": "stdout",
     "output_type": "stream",
     "text": [
      "15:04:28\n"
     ]
    }
   ],
   "source": [
    "%%bash\n",
    "\n",
    "date \"+%T\""
   ]
  },
  {
   "cell_type": "markdown",
   "metadata": {},
   "source": [
    "10. Problem:\n",
    "\n",
    "Copy the file */var/log/bootstrap.log* to your current directory."
   ]
  },
  {
   "cell_type": "code",
   "execution_count": 33,
   "metadata": {},
   "outputs": [
    {
     "name": "stdout",
     "output_type": "stream",
     "text": [
      "alternatives.log\n",
      "usdoi.txt\n",
      "user-info.txt\n",
      "users.txt\n"
     ]
    }
   ],
   "source": [
    "%%bash\n",
    "\n",
    "cp /var/log/alternatives.log ./data/\n",
    "ls ./data/"
   ]
  },
  {
   "cell_type": "code",
   "execution_count": 34,
   "metadata": {},
   "outputs": [],
   "source": [
    "%%bash\n",
    "\n",
    "rm -rf ./data/ ./final/ ./scripts/"
   ]
  },
  {
   "cell_type": "markdown",
   "metadata": {},
   "source": [
    "## Authors"
   ]
  },
  {
   "cell_type": "markdown",
   "metadata": {},
   "source": [
    "Ramesh Sannareddy Sam Prokopchuk"
   ]
  },
  {
   "cell_type": "markdown",
   "metadata": {},
   "source": [
    "## Other Contributors"
   ]
  },
  {
   "cell_type": "markdown",
   "metadata": {},
   "source": [
    "Rav Ahuja Jeff Grossman"
   ]
  },
  {
   "cell_type": "markdown",
   "metadata": {},
   "source": [
    "## Change Log"
   ]
  },
  {
   "cell_type": "markdown",
   "metadata": {},
   "source": [
    "| **Date (YYYY-MM-DD)** | **Version**   | **Changed By**    | **Change Description**            |\n",
    "|-----------------------|---------------|-------------------|-----------------                  |\n",
    "| 2021-05-30            | 0.1\t        | Ramesh Sannareddy\t| Created initial version of the lab| \n",
    "| 2021-11-29            | 0.2\t        | Sam Prokopchuk\t| Update lab contents and split     | \n",
    "| 2021-12-02            | 0.3\t        | Jeff Grossman\t    | Review and Update lab             | \n",
    "\n",
    "Copyright (c) 2021 IBM Corporation. All rights reserved."
   ]
  }
 ],
 "metadata": {
  "kernelspec": {
   "display_name": "Python 3.9.13 ('base')",
   "language": "python",
   "name": "python3"
  },
  "language_info": {
   "codemirror_mode": {
    "name": "ipython",
    "version": 3
   },
   "file_extension": ".py",
   "mimetype": "text/x-python",
   "name": "python",
   "nbconvert_exporter": "python",
   "pygments_lexer": "ipython3",
   "version": "3.11.7"
  },
  "orig_nbformat": 4,
  "vscode": {
   "interpreter": {
    "hash": "0ab7ac22d3d3525ddb7629ab62b0d92e89034641b529aacfddbc818d024d7c15"
   }
  }
 },
 "nbformat": 4,
 "nbformat_minor": 2
}
