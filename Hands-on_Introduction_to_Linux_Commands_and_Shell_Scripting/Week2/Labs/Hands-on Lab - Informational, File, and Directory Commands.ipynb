{
 "cells": [
  {
   "cell_type": "markdown",
   "metadata": {},
   "source": [
    "<p style=\"text-align:center\">\n",
    "    <a href=\"https://skills.network/?utm_medium=Exinfluencer&utm_source=Exinfluencer&utm_content=000026UJ&utm_term=10006555&utm_id=NA-SkillsNetwork-Channel-SkillsNetworkCoursesIBMCS0151ENSkillsNetwork835-2022-01-01\" target=\"_blank\">\n",
    "    <img src=\"https://cf-courses-data.s3.us.cloud-object-storage.appdomain.cloud/assets/logos/SN_web_lightmode.png\" width=\"200\" alt=\"Skills Network Logo\">\n",
    "    </a>\n",
    "</p>"
   ]
  },
  {
   "cell_type": "markdown",
   "metadata": {},
   "source": [
    "# Hands-on Lab: Informational, File, and Directory Commands"
   ]
  },
  {
   "cell_type": "markdown",
   "metadata": {},
   "source": [
    "Estimated time needed: **40** minutes"
   ]
  },
  {
   "cell_type": "markdown",
   "metadata": {},
   "source": [
    "## Objectives"
   ]
  },
  {
   "cell_type": "markdown",
   "metadata": {},
   "source": [
    "In this lab, you will be introduced to the use of basic Unix commands related to the following categories:\n",
    "\n",
    "- Informational commands\n",
    "- File and Directory Management Commands\n",
    "- Access control commands"
   ]
  },
  {
   "cell_type": "markdown",
   "metadata": {},
   "source": [
    "## About Skills Network Cloud IDE"
   ]
  },
  {
   "cell_type": "markdown",
   "metadata": {},
   "source": [
    "Skills Network Cloud IDE (based on Theia and Docker) provides an environment for hands on labs for course and project related labs. Theia is an open source IDE (Integrated Development Environment), that can be run on desktop or on the cloud. To complete this lab, you will be using the Cloud IDE based on Theia."
   ]
  },
  {
   "cell_type": "markdown",
   "metadata": {},
   "source": [
    "## Important notice about this lab environment"
   ]
  },
  {
   "cell_type": "markdown",
   "metadata": {},
   "source": [
    "Please be aware that sessions for this lab environment are not persisted. Thus, every time you connect to this lab, a new environment is created for you and any data or files you may have saved in a previous session will be lost. To avoid losing your data, plan to complete these labs in a single session."
   ]
  },
  {
   "cell_type": "markdown",
   "metadata": {},
   "source": [
    "## Setup"
   ]
  },
  {
   "cell_type": "markdown",
   "metadata": {},
   "source": [
    "Open a new terminal by clicking on the menu bar and selecting **Terminal**->**New Terminal**, as in the image below.\n",
    "\n",
    "![](https://cf-courses-data.s3.us.cloud-object-storage.appdomain.cloud/IBM-LX0117EN-SkillsNetwork/labs/module%201/images/new-terminal.png)\n",
    "\n",
    "This will open a new terminal at the bottom of the screen as seen below.\n",
    "\n",
    "![](https://cf-courses-data.s3.us.cloud-object-storage.appdomain.cloud/IBM-LX0117EN-SkillsNetwork/labs/module%201/images/terminal_bottom_screen.png)\n",
    "\n",
    "You can run the commands provided in the following excercises in your newly opened terminal. You can copy the code to your clipboard if you like by clicking on the little copy button on the bottom right of each codeblock, and then paste it on the command line."
   ]
  },
  {
   "cell_type": "markdown",
   "metadata": {},
   "source": [
    "## Exercise 1 - Informational Commands"
   ]
  },
  {
   "cell_type": "markdown",
   "metadata": {},
   "source": [
    "In this exercise, you will familiarize yourself with useful commands for providing system and user information."
   ]
  },
  {
   "cell_type": "markdown",
   "metadata": {},
   "source": [
    "### 1.1. Display the name of the current user"
   ]
  },
  {
   "cell_type": "markdown",
   "metadata": {},
   "source": [
    "```bash\n",
    "whoami\n",
    "```\n",
    "\n",
    "It will display the user name as *theia*. You are logged into this lab as *theia*.\n",
    "\n",
    "You can get a list of currently logged in users using the command *who*. But this command doesn't work in the *theia* environment yet."
   ]
  },
  {
   "cell_type": "code",
   "execution_count": 1,
   "metadata": {},
   "outputs": [
    {
     "name": "stdout",
     "output_type": "stream",
     "text": [
      "luis-mendoza\n"
     ]
    }
   ],
   "source": [
    "%%bash\n",
    "\n",
    "whoami"
   ]
  },
  {
   "cell_type": "markdown",
   "metadata": {},
   "source": [
    "### 1.2. Get basic information about the operating system"
   ]
  },
  {
   "cell_type": "markdown",
   "metadata": {},
   "source": [
    "```bash\n",
    "uname\n",
    "```\n",
    "\n",
    "By default the command prints the kernel name.\n",
    "\n",
    "You will see *Linux* printed in the output.\n",
    "\n",
    "Using the *-a* opton prints all the system information in the following order: Kernel name, network node hostname, kernel release date, kernel version, machine hardware name, hardware platform, operating system.\n",
    "\n",
    "```bash\n",
    "uname -a\n",
    "```"
   ]
  },
  {
   "cell_type": "code",
   "execution_count": 2,
   "metadata": {},
   "outputs": [
    {
     "name": "stdout",
     "output_type": "stream",
     "text": [
      "Linux Lenovo-Legion5 5.15.68.1-microsoft-standard-WSL2 #1 SMP Mon Sep 19 19:14:52 UTC 2022 x86_64 x86_64 x86_64 GNU/Linux\n"
     ]
    }
   ],
   "source": [
    "%%bash\n",
    "\n",
    "uname -a"
   ]
  },
  {
   "cell_type": "markdown",
   "metadata": {},
   "source": [
    "### 1.3. Obtain the user and group identity information"
   ]
  },
  {
   "cell_type": "markdown",
   "metadata": {},
   "source": [
    "```bash\n",
    "id\n",
    "```\n",
    "\n",
    "This command displays the user id and group id information of the current user.\n",
    "\n",
    "It will display the *uid* (user id) and *gid* (group id) for the user *theia*."
   ]
  },
  {
   "cell_type": "code",
   "execution_count": 3,
   "metadata": {},
   "outputs": [
    {
     "name": "stdout",
     "output_type": "stream",
     "text": [
      "uid=1000(luis-mendoza) gid=1000(luis-mendoza) groups=1000(luis-mendoza),4(adm),20(dialout),24(cdrom),25(floppy),27(sudo),29(audio),30(dip),44(video),46(plugdev),117(netdev)\n"
     ]
    }
   ],
   "source": [
    "%%bash\n",
    "\n",
    "id"
   ]
  },
  {
   "cell_type": "markdown",
   "metadata": {},
   "source": [
    "### 1.4 Get available disk space"
   ]
  },
  {
   "cell_type": "markdown",
   "metadata": {},
   "source": [
    "```bash\n",
    "df\n",
    "```\n",
    "\n",
    "The *df* command is used to display available disk space.\n",
    "\n",
    "It will display available disk space in 512-byte blocks. To get available disk space in a \"human-readable\" format, enter:\n",
    "\n",
    "```bash\n",
    "df -h\n",
    "```"
   ]
  },
  {
   "cell_type": "code",
   "execution_count": 4,
   "metadata": {},
   "outputs": [
    {
     "name": "stdout",
     "output_type": "stream",
     "text": [
      "Filesystem      Size  Used Avail Use% Mounted on\n",
      "none            3.9G  4.0K  3.9G   1% /mnt/wsl\n",
      "drivers         931G  133G  798G  15% /usr/lib/wsl/drivers\n",
      "none            3.9G     0  3.9G   0% /usr/lib/wsl/lib\n",
      "/dev/sdc       1007G  3.0G  953G   1% /\n",
      "none            3.9G   76K  3.9G   1% /mnt/wslg\n",
      "rootfs          3.9G  1.9M  3.9G   1% /init\n",
      "none            3.9G  4.0K  3.9G   1% /run\n",
      "none            3.9G     0  3.9G   0% /run/lock\n",
      "none            3.9G     0  3.9G   0% /run/shm\n",
      "none            3.9G     0  3.9G   0% /run/user\n",
      "tmpfs           3.9G     0  3.9G   0% /sys/fs/cgroup\n",
      "none            3.9G   76K  3.9G   1% /mnt/wslg/versions.txt\n",
      "none            3.9G   76K  3.9G   1% /mnt/wslg/doc\n",
      "drvfs           931G  133G  798G  15% /mnt/c\n",
      "drvfs           239G   80G  159G  34% /mnt/d\n",
      "drvfs           100G   80G   21G  80% /mnt/g\n"
     ]
    }
   ],
   "source": [
    "%%bash\n",
    "\n",
    "df -h"
   ]
  },
  {
   "cell_type": "markdown",
   "metadata": {},
   "source": [
    "### 1.5. View currently running processes"
   ]
  },
  {
   "cell_type": "markdown",
   "metadata": {},
   "source": [
    "```bash\n",
    "ps\n",
    "```\n",
    "\n",
    "The *ps* command lists each processes that is currently running and its *PID* (process id).\n",
    "\n",
    "However, the output only contains the processes that are owned by you.\n",
    "\n",
    "By using the *-e* option, you can display all of the processes running on the system. The includes processes owned by other users.\n",
    "\n",
    "```bash\n",
    "ps -e\n",
    "```"
   ]
  },
  {
   "cell_type": "code",
   "execution_count": 5,
   "metadata": {},
   "outputs": [
    {
     "name": "stderr",
     "output_type": "stream",
     "text": [
      "your 131072x1 screen size is bogus. expect trouble\n"
     ]
    },
    {
     "name": "stdout",
     "output_type": "stream",
     "text": [
      "  PID TTY          TIME CMD\n",
      "    1 ?        00:00:00 init\n",
      "   10 ?        00:00:00 init\n",
      "   11 ?        00:00:00 init\n",
      "   12 pts/0    00:00:00 sh\n",
      "   13 pts/0    00:00:00 sh\n",
      "   18 pts/0    00:00:00 sh\n",
      "   22 pts/0    00:00:17 node\n",
      "   33 ?        00:00:00 init\n",
      "   34 ?        00:00:01 init\n",
      "   35 pts/1    00:00:04 node\n",
      "   42 pts/0    00:00:13 node\n",
      "   68 ?        00:00:00 init\n",
      "   69 ?        00:00:03 init\n",
      "   70 pts/2    00:00:11 node\n",
      "   77 pts/0    00:00:01 node\n",
      "  112 pts/0    00:01:47 node\n",
      "  210 pts/0    00:00:07 node\n",
      "  245 pts/0    00:00:05 node\n",
      "  999 pts/0    00:00:18 node\n",
      " 3267 pts/0    00:00:00 node\n",
      " 3602 pts/0    00:00:00 sudo\n",
      " 3797 pts/0    00:00:00 sudo\n",
      " 3914 pts/0    00:00:00 sudo\n",
      " 5403 pts/3    00:00:00 bash\n",
      " 6978 pts/0    00:00:00 python\n",
      " 7520 pts/0    00:00:00 python\n",
      " 8435 pts/0    00:00:00 bash\n",
      " 8437 pts/0    00:00:00 ps\n"
     ]
    }
   ],
   "source": [
    "%%bash\n",
    "\n",
    "ps -e"
   ]
  },
  {
   "cell_type": "markdown",
   "metadata": {},
   "source": [
    "### 1.6. Get information on the running processes and system resources"
   ]
  },
  {
   "cell_type": "markdown",
   "metadata": {},
   "source": [
    "```bash\n",
    "top\n",
    "```\n",
    "\n",
    "The *top* command provides a dynamic, real-time view of your system.\n",
    "\n",
    "It shows summary information of the system and a table of more detailed information related to the processes or threads which are currently running and managed by the kernel. This includes information related to cpu and memory usage per process.\n",
    "\n",
    "Here is a sample output.\n",
    "\n",
    "![](https://cf-courses-data.s3.us.cloud-object-storage.appdomain.cloud/IBM-LX0117EN-SkillsNetwork/labs/module%201/images/top-command-screenshot.png)\n",
    "\n",
    "When you start *top*, you'll be presented with the following elements on the main *top* screen.\n",
    "\n",
    "1. Summary area - shows information like system uptime, number of users, load average, and overall memory usage\n",
    "2. Column header - attribute names\n",
    "3. Task area - displays the data for each process, or *PID*\n",
    "\n",
    "The output keeps refreshing until you press *q* or *Ctrl+c*.\n",
    "\n",
    "If you want to exit automatically after a specified number of repetitions, use the *-n* option as follows:\n",
    "\n",
    "```bash\n",
    "top -n 10\n",
    "```\n",
    "\n",
    "You can press the following keys while *top* is running to sort the table:\n",
    "\n",
    "| **Key**   | **Sorts by**      |\n",
    "|-----------|-------------------|\n",
    "| M         | Memory Usage      |\n",
    "| P         | CPU Usage         |\n",
    "| N         | Process ID (PID)  |\n",
    "| T         | Running Time.     |\n",
    "\n",
    "For example, you can find out which process is consuming the most memory by entering *shift + m*."
   ]
  },
  {
   "cell_type": "markdown",
   "metadata": {},
   "source": [
    "### 1.7. Display Messages"
   ]
  },
  {
   "cell_type": "markdown",
   "metadata": {},
   "source": [
    "```bash\n",
    "echo\n",
    "```\n",
    "\n",
    "The *echo* command displays the given text on the screen. For example, entering:\n",
    "\n",
    "```bash\n",
    "echo \"Welcome to the linux lab\"\n",
    "```\n",
    "\n",
    "prints *Welcome to the linux lab*.\n",
    "\n",
    "These special characters help you better format your output.\n",
    "\n",
    "| **Special Character** | **Effect**        |\n",
    "|-----------------------|-------------------|\n",
    "| \\n                    | start a new line  |\n",
    "| \\t                    | insert a tab      |\n",
    "\n",
    "Use the *-e* option of the echo command when working with special characters. For example:\n",
    "\n",
    "```bash\n",
    "echo -e \"This will be printed \\nin two lines\"\n",
    "```"
   ]
  },
  {
   "cell_type": "code",
   "execution_count": 10,
   "metadata": {},
   "outputs": [
    {
     "name": "stdout",
     "output_type": "stream",
     "text": [
      "Welcome to the linux lab\n"
     ]
    }
   ],
   "source": [
    "%%bash\n",
    "\n",
    "echo \"Welcome to the linux lab\""
   ]
  },
  {
   "cell_type": "code",
   "execution_count": 9,
   "metadata": {},
   "outputs": [
    {
     "name": "stdout",
     "output_type": "stream",
     "text": [
      "This will be printed \n",
      "in two lines\n"
     ]
    }
   ],
   "source": [
    "%%bash\n",
    "\n",
    "echo -e \"This will be printed \\nin two lines\""
   ]
  },
  {
   "cell_type": "markdown",
   "metadata": {},
   "source": [
    "### 1.8. Display date and time"
   ]
  },
  {
   "cell_type": "markdown",
   "metadata": {},
   "source": [
    "```bash\n",
    "date\n",
    "```\n",
    "\n",
    "The *date* command displays the current date and time.\n",
    "\n",
    "It has several options which help you display the current date and time in your favourite format.\n",
    "For example, the following command displays the current date in *mm/dd/yy* format.\n",
    "\n",
    "```bash\n",
    "date \"+%D\"\n",
    "```\n",
    "\n",
    "Here are some of the popular format specifiers that you can try out:\n",
    "\n",
    "| **Specifier** | **Explanation**                                   |\n",
    "|---------------|-----------------------------------                |\n",
    "| %d\t        | Display the day of the month (01 to 31)           | \n",
    "| %h\t        | Displays the abbreviated month name (Jan to Dec)  |\n",
    "| %m\t        | Displays the month of year (01 to 12)             |\n",
    "| %Y\t        | Displays the four-digit year                      |\n",
    "| %T\t        | Displays the time in 24 hour format as HH:MM:SS   |\n",
    "| %H\t        | Displays the hour                                 |"
   ]
  },
  {
   "cell_type": "code",
   "execution_count": 14,
   "metadata": {},
   "outputs": [
    {
     "name": "stdout",
     "output_type": "stream",
     "text": [
      "Wed Oct 19 15:11:22 CDT 2022\n"
     ]
    }
   ],
   "source": [
    "%%bash\n",
    "\n",
    "date"
   ]
  },
  {
   "cell_type": "code",
   "execution_count": 11,
   "metadata": {},
   "outputs": [
    {
     "name": "stdout",
     "output_type": "stream",
     "text": [
      "10/19/22\n"
     ]
    }
   ],
   "source": [
    "%%bash\n",
    "\n",
    "date \"+%D\""
   ]
  },
  {
   "cell_type": "markdown",
   "metadata": {},
   "source": [
    "### 1.9. View the Reference Manual For a Command"
   ]
  },
  {
   "cell_type": "markdown",
   "metadata": {},
   "source": [
    "```bash\n",
    "man\n",
    "```\n",
    "\n",
    "The *man* command displays the user manual for any command that you provide as its argument.\n",
    "\n",
    "For example, to see the manual page for the *ls* command, enter:\n",
    "\n",
    "```bash\n",
    "man date\n",
    "```\n",
    "\n",
    "Scroll through the command's manual to find any info you may need. When you're done, press *q* to quit."
   ]
  },
  {
   "cell_type": "code",
   "execution_count": 17,
   "metadata": {},
   "outputs": [
    {
     "name": "stdout",
     "output_type": "stream",
     "text": [
      "LS(1)                     User Commands                    LS(1)\n",
      "\n",
      "NAME\n",
      "       ls - list directory contents\n",
      "\n",
      "SYNOPSIS\n",
      "       ls [OPTION]... [FILE]...\n",
      "\n",
      "DESCRIPTION\n",
      "       List  information  about the FILEs (the current directory\n",
      "       by default).  Sort entries alphabetically if none of -cf‐\n",
      "       tuvSUX nor --sort is specified.\n",
      "\n",
      "       Mandatory  arguments  to  long  options are mandatory for\n",
      "       short options too.\n",
      "\n",
      "       -a, --all\n",
      "              do not ignore entries starting with .\n",
      "\n",
      "       -A, --almost-all\n",
      "              do not list implied . and ..\n",
      "\n",
      "       --author\n",
      "              with -l, print the author of each file\n",
      "\n",
      "       -b, --escape\n",
      "              print C-style escapes for nongraphic characters\n",
      "\n",
      "       --block-size=SIZE\n",
      "              with -l, scale sizes by SIZE when  printing  them;\n",
      "              e.g., '--block-size=M'; see SIZE format below\n",
      "\n",
      "       -B, --ignore-backups\n",
      "              do not list implied entries ending with ~\n",
      "\n",
      "       -c     with  -lt:  sort by, and show, ctime (time of last\n",
      "              modification of file status information); with -l:\n",
      "              show  ctime  and  sort by name; otherwise: sort by\n",
      "              ctime, newest first\n",
      "\n",
      "       -C     list entries by columns\n",
      "\n",
      "       --color[=WHEN]\n",
      "              colorize the output; WHEN can be 'always' (default\n",
      "              if omitted), 'auto', or 'never'; more info below\n",
      "\n",
      "       -d, --directory\n",
      "              list directories themselves, not their contents\n",
      "\n",
      "       -D, --dired\n",
      "              generate output designed for Emacs' dired mode\n",
      "\n",
      "       -f     do not sort, enable -aU, disable -ls --color\n",
      "\n",
      "       -F, --classify\n",
      "              append indicator (one of */=>@|) to entries\n",
      "\n",
      "       --file-type\n",
      "              likewise, except do not append '*'\n",
      "\n",
      "       --format=WORD\n",
      "              across -x, commas -m, horizontal -x, long -l, sin‐\n",
      "              gle-column -1, verbose -l, vertical -C\n",
      "\n",
      "       --full-time\n",
      "              like -l --time-style=full-iso\n",
      "\n",
      "       -g     like -l, but do not list owner\n",
      "\n",
      "       --group-directories-first\n",
      "              group directories before files;\n",
      "\n",
      "              can be augmented with a --sort option, but any use\n",
      "              of --sort=none (-U) disables grouping\n",
      "\n",
      "       -G, --no-group\n",
      "              in a long listing, don't print group names\n",
      "\n",
      "       -h, --human-readable\n",
      "              with -l and -s, print sizes like 1K 234M 2G etc.\n",
      "\n",
      "       --si   likewise, but use powers of 1000 not 1024\n",
      "\n",
      "       -H, --dereference-command-line\n",
      "              follow symbolic links listed on the command line\n",
      "\n",
      "       --dereference-command-line-symlink-to-dir\n",
      "              follow each command line symbolic link\n",
      "\n",
      "              that points to a directory\n",
      "\n",
      "       --hide=PATTERN\n",
      "              do not list implied entries matching shell PATTERN\n",
      "              (overridden by -a or -A)\n",
      "\n",
      "       --hyperlink[=WHEN]\n",
      "              hyperlink file names; WHEN can  be  'always'  (de‐\n",
      "              fault if omitted), 'auto', or 'never'\n",
      "\n",
      "       --indicator-style=WORD\n",
      "              append  indicator  with style WORD to entry names:\n",
      "              none    (default),    slash    (-p),     file-type\n",
      "              (--file-type), classify (-F)\n",
      "\n",
      "       -i, --inode\n",
      "              print the index number of each file\n",
      "\n",
      "       -I, --ignore=PATTERN\n",
      "              do not list implied entries matching shell PATTERN\n",
      "\n",
      "       -k, --kibibytes\n",
      "              default  to  1024-byte blocks for disk usage; used\n",
      "              only with -s and per directory totals\n",
      "\n",
      "       -l     use a long listing format\n",
      "\n",
      "       -L, --dereference\n",
      "              when showing file information for a symbolic link,\n",
      "              show  information for the file the link references\n",
      "              rather than for the link itself\n",
      "\n",
      "       -m     fill width with a comma separated list of entries\n",
      "\n",
      "       -n, --numeric-uid-gid\n",
      "              like -l, but list numeric user and group IDs\n",
      "\n",
      "       -N, --literal\n",
      "              print entry names without quoting\n",
      "\n",
      "       -o     like -l, but do not list group information\n",
      "\n",
      "       -p, --indicator-style=slash\n",
      "              append / indicator to directories\n",
      "\n",
      "       -q, --hide-control-chars\n",
      "              print ? instead of nongraphic characters\n",
      "\n",
      "       --show-control-chars\n",
      "              show nongraphic characters as-is (the default, un‐\n",
      "              less program is 'ls' and output is a terminal)\n",
      "\n",
      "       -Q, --quote-name\n",
      "              enclose entry names in double quotes\n",
      "\n",
      "       --quoting-style=WORD\n",
      "              use  quoting  style WORD for entry names: literal,\n",
      "              locale,   shell,    shell-always,    shell-escape,\n",
      "              shell-escape-always,  c,  escape  (overrides QUOT‐\n",
      "              ING_STYLE environment variable)\n",
      "\n",
      "       -r, --reverse\n",
      "              reverse order while sorting\n",
      "\n",
      "       -R, --recursive\n",
      "              list subdirectories recursively\n",
      "\n",
      "       -s, --size\n",
      "              print the allocated size of each file, in blocks\n",
      "\n",
      "       -S     sort by file size, largest first\n",
      "\n",
      "       --sort=WORD\n",
      "              sort by WORD instead  of  name:  none  (-U),  size\n",
      "              (-S), time (-t), version (-v), extension (-X)\n",
      "\n",
      "       --time=WORD\n",
      "              change  the  default  of using modification times;\n",
      "              access time (-u): atime, access, use; change  time\n",
      "              (-c): ctime, status; birth time: birth, creation;\n",
      "\n",
      "              with  -l, WORD determines which time to show; with\n",
      "              --sort=time, sort by WORD (newest first)\n",
      "\n",
      "       --time-style=TIME_STYLE\n",
      "              time/date format with -l; see TIME_STYLE below\n",
      "\n",
      "       -t     sort by time, newest first; see --time\n",
      "\n",
      "       -T, --tabsize=COLS\n",
      "              assume tab stops at each COLS instead of 8\n",
      "\n",
      "       -u     with -lt: sort by, and show, access time; with -l:\n",
      "              show access time and sort by name; otherwise: sort\n",
      "              by access time, newest first\n",
      "\n",
      "       -U     do not sort; list entries in directory order\n",
      "\n",
      "       -v     natural sort of (version) numbers within text\n",
      "\n",
      "       -w, --width=COLS\n",
      "              set output width to COLS.  0 means no limit\n",
      "\n",
      "       -x     list entries by lines instead of by columns\n",
      "\n",
      "       -X     sort alphabetically by entry extension\n",
      "\n",
      "       -Z, --context\n",
      "              print any security context of each file\n",
      "\n",
      "       -1     list one file per line.  Avoid '\\n' with -q or -b\n",
      "\n",
      "       --help display this help and exit\n",
      "\n",
      "       --version\n",
      "              output version information and exit\n",
      "\n",
      "       The SIZE argument is an integer and optional unit  (exam‐\n",
      "       ple:  10K is 10*1024).  Units are K,M,G,T,P,E,Z,Y (powers\n",
      "       of 1024) or KB,MB,... (powers of 1000).  Binary  prefixes\n",
      "       can be used, too: KiB=K, MiB=M, and so on.\n",
      "\n",
      "       The  TIME_STYLE  argument can be full-iso, long-iso, iso,\n",
      "       locale,  or  +FORMAT.   FORMAT  is  interpreted  like  in\n",
      "       date(1).  If FORMAT is FORMAT1<newline>FORMAT2, then FOR‐\n",
      "       MAT1 applies to non-recent files and  FORMAT2  to  recent\n",
      "       files.   TIME_STYLE  prefixed  with 'posix-' takes effect\n",
      "       only outside the POSIX locale.  Also the TIME_STYLE envi‐\n",
      "       ronment variable sets the default style to use.\n",
      "\n",
      "       Using color to distinguish file types is disabled both by\n",
      "       default and with --color=never.   With  --color=auto,  ls\n",
      "       emits  color codes only when standard output is connected\n",
      "       to a terminal.  The LS_COLORS  environment  variable  can\n",
      "       change  the  settings.   Use the dircolors command to set\n",
      "       it.\n",
      "\n",
      "   Exit status:\n",
      "       0      if OK,\n",
      "\n",
      "       1      if minor problems (e.g., cannot  access  subdirec‐\n",
      "              tory),\n",
      "\n",
      "       2      if  serious  trouble  (e.g.,  cannot  access  com‐\n",
      "              mand-line argument).\n",
      "\n",
      "AUTHOR\n",
      "       Written by Richard M. Stallman and David MacKenzie.\n",
      "\n",
      "REPORTING BUGS\n",
      "       GNU  coreutils  online  help:  <https://www.gnu.org/soft‐\n",
      "       ware/coreutils/>\n",
      "       Report  any  translation bugs to <https://translationpro‐\n",
      "       ject.org/team/>\n",
      "\n",
      "COPYRIGHT\n",
      "       Copyright © 2020 Free Software Foundation, Inc.   License\n",
      "       GPLv3+:  GNU  GPL version 3 or later <https://gnu.org/li‐\n",
      "       censes/gpl.html>.\n",
      "       This is free software: you are free to change and  redis‐\n",
      "       tribute  it.  There is NO WARRANTY, to the extent permit‐\n",
      "       ted by law.\n",
      "\n",
      "SEE ALSO\n",
      "       Full  documentation   <https://www.gnu.org/software/core‐\n",
      "       utils/ls>\n",
      "       or  available  locally  via: info '(coreutils) ls invoca‐\n",
      "       tion'\n",
      "\n",
      "GNU coreutils 8.32       February 2022                    LS(1)\n"
     ]
    }
   ],
   "source": [
    "%%bash\n",
    "\n",
    "man date"
   ]
  },
  {
   "cell_type": "markdown",
   "metadata": {},
   "source": [
    "## Excercise 2: File and directory management commands"
   ]
  },
  {
   "cell_type": "markdown",
   "metadata": {},
   "source": [
    "In this exercise, you will practice using commands for managing files and directories."
   ]
  },
  {
   "cell_type": "markdown",
   "metadata": {},
   "source": [
    "### 2.1. Get the location of the current working directory"
   ]
  },
  {
   "cell_type": "markdown",
   "metadata": {},
   "source": [
    "```bash\n",
    "pwd\n",
    "```\n",
    "\n",
    "When working in a Linux terminal, you will always be working from a directory. By default, you will start in your home directory. To get the absolute path of your current working directory, enter *pwd*."
   ]
  },
  {
   "cell_type": "code",
   "execution_count": 19,
   "metadata": {},
   "outputs": [
    {
     "name": "stdout",
     "output_type": "stream",
     "text": [
      "/home/luis-mendoza\n"
     ]
    }
   ],
   "source": [
    "%%bash\n",
    "\n",
    "cd ~\n",
    "pwd"
   ]
  },
  {
   "cell_type": "markdown",
   "metadata": {},
   "source": [
    "### 2.2. List the files and directories"
   ]
  },
  {
   "cell_type": "markdown",
   "metadata": {},
   "source": [
    "```bash\n",
    "ls\n",
    "```\n",
    "\n",
    "To list the files and directories in the current directory, enter *ls*.\n",
    "\n",
    "If your directory happens to be empty, *ls* will not return anything.\n",
    "\n",
    "The following command will list the many binary and executable files which are present in your */bin* directory.\n",
    "\n",
    "```bash\n",
    "ls /bin\n",
    "```\n",
    "\n",
    "The */bin* directory happens to be where Linux commmands such as *ls* and *pwd* are stored. For example, you can see that *ls* is present by entering:\n",
    "\n",
    "```bash\n",
    "ls /bin/ls\n",
    "```\n",
    "\n",
    "To list all files starting with *b* in the */bin* directory, try entering:\n",
    "\n",
    "```bash\n",
    "ls /bin/b*\n",
    "```\n",
    "\n",
    "To list all files ending in *r* in the */bin* directory, enter:\n",
    "\n",
    "```bash\n",
    "ls /bin/*r\n",
    "```\n",
    "\n",
    "To print a long list of files that has additional information compared to the simple *ls* command, such as the last modified date, enter:\n",
    "\n",
    "```bash\n",
    "ls  -l\n",
    "```\n",
    "\n",
    "Here are some popular options that you can try with the *ls* command.\n",
    "\n",
    "| **Option**    | **Description**                                       |\n",
    "|---------------|-----------------------------------                    |\n",
    "| -a\t        | list all files, including hidden files                |\n",
    "| -d\t        | list directories only, do not include files           |\n",
    "| -h\t        | with -l and -s, print sizes like 1K, 234M, 2G         |\n",
    "| -l\t        | include attributes like permissions, owner, size, and last-modified date  |\n",
    "| -S\t        | sort by file size, largest first                      |\n",
    "| -t\t        | sort by last-modified date, newest first              |\n",
    "| -r\t        | reverse the sort order                                |\n",
    "\n",
    "To get a long listing of all files in */etc*, including any hidden files, enter:\n",
    "\n",
    "```bash\n",
    "ls -la /etc\n",
    "```\n",
    "\n",
    "Here we combined the options *-l* and *-a* using the shorter notation, *-la*."
   ]
  },
  {
   "cell_type": "code",
   "execution_count": 20,
   "metadata": {},
   "outputs": [
    {
     "name": "stdout",
     "output_type": "stream",
     "text": [
      "/bin/b2sum\n",
      "/bin/base32\n",
      "/bin/base64\n",
      "/bin/basename\n",
      "/bin/basenc\n",
      "/bin/bash\n",
      "/bin/bashbug\n",
      "/bin/bc\n",
      "/bin/bioradtopgm\n",
      "/bin/bitmap\n",
      "/bin/bmptopnm\n",
      "/bin/bmptoppm\n",
      "/bin/bmtoa\n",
      "/bin/boltctl\n",
      "/bin/bootctl\n",
      "/bin/broadwayd\n",
      "/bin/browse\n",
      "/bin/brushtopbm\n",
      "/bin/btrfs\n",
      "/bin/btrfs-convert\n",
      "/bin/btrfs-find-root\n",
      "/bin/btrfs-image\n",
      "/bin/btrfs-map-logical\n",
      "/bin/btrfs-select-super\n",
      "/bin/btrfsck\n",
      "/bin/btrfstune\n",
      "/bin/bunzip2\n",
      "/bin/busctl\n",
      "/bin/busybox\n",
      "/bin/byobu\n",
      "/bin/byobu-config\n",
      "/bin/byobu-ctrl-a\n",
      "/bin/byobu-disable\n",
      "/bin/byobu-disable-prompt\n",
      "/bin/byobu-enable\n",
      "/bin/byobu-enable-prompt\n",
      "/bin/byobu-export\n",
      "/bin/byobu-janitor\n",
      "/bin/byobu-keybindings\n",
      "/bin/byobu-launch\n",
      "/bin/byobu-launcher\n",
      "/bin/byobu-launcher-install\n",
      "/bin/byobu-launcher-uninstall\n",
      "/bin/byobu-layout\n",
      "/bin/byobu-prompt\n",
      "/bin/byobu-quiet\n",
      "/bin/byobu-reconnect-sockets\n",
      "/bin/byobu-screen\n",
      "/bin/byobu-select-backend\n",
      "/bin/byobu-select-profile\n",
      "/bin/byobu-select-session\n",
      "/bin/byobu-shell\n",
      "/bin/byobu-silent\n",
      "/bin/byobu-status\n",
      "/bin/byobu-status-detail\n",
      "/bin/byobu-tmux\n",
      "/bin/byobu-ugraph\n",
      "/bin/byobu-ulevel\n",
      "/bin/bzcat\n",
      "/bin/bzcmp\n",
      "/bin/bzdiff\n",
      "/bin/bzegrep\n",
      "/bin/bzexe\n",
      "/bin/bzfgrep\n",
      "/bin/bzgrep\n",
      "/bin/bzip2\n",
      "/bin/bzip2recover\n",
      "/bin/bzless\n",
      "/bin/bzmore\n"
     ]
    }
   ],
   "source": [
    "%%bash\n",
    "\n",
    "ls /bin/b*"
   ]
  },
  {
   "cell_type": "code",
   "execution_count": 22,
   "metadata": {},
   "outputs": [
    {
     "name": "stdout",
     "output_type": "stream",
     "text": [
      "/bin/ar\n",
      "/bin/btrfs-select-super\n",
      "/bin/byobu-janitor\n",
      "/bin/byobu-launcher\n",
      "/bin/bzip2recover\n",
      "/bin/cacaserver\n",
      "/bin/cautious-launcher\n",
      "/bin/chattr\n",
      "/bin/clear\n",
      "/bin/cloud-init-per\n",
      "/bin/dbus-monitor\n",
      "/bin/deb-systemd-helper\n",
      "/bin/dir\n",
      "/bin/dirmngr\n",
      "/bin/dpkg-maintscript-helper\n",
      "/bin/dpkg-trigger\n",
      "/bin/dpkg-vendor\n",
      "/bin/editor\n",
      "/bin/expr\n",
      "/bin/factor\n",
      "/bin/fuser\n",
      "/bin/fwupdmgr\n",
      "/bin/gcc-ar\n",
      "/bin/gcr-viewer\n",
      "/bin/gdk-pixbuf-thumbnailer\n",
      "/bin/gpg-wks-server\n",
      "/bin/gpgtar\n",
      "/bin/infobrowser\n",
      "/bin/jsonpointer\n",
      "/bin/logger\n",
      "/bin/lsattr\n",
      "/bin/lwp-mirror\n",
      "/bin/mkdir\n",
      "/bin/mtr\n",
      "/bin/networkd-dispatcher\n",
      "/bin/nsenter\n",
      "/bin/ntfscluster\n",
      "/bin/ntfsrecover\n",
      "/bin/on_ac_power\n",
      "/bin/pager\n",
      "/bin/pasuspender\n",
      "/bin/pbmtomgr\n",
      "/bin/pgmcrater\n",
      "/bin/pnmpsnr\n",
      "/bin/pnmshear\n",
      "/bin/pnmtosir\n",
      "/bin/podchecker\n",
      "/bin/ppmdither\n",
      "/bin/ppmtoicr\n",
      "/bin/pr\n",
      "/bin/ps2pdfwr\n",
      "/bin/ptar\n",
      "/bin/rmdir\n",
      "/bin/select-editor\n",
      "/bin/sensible-browser\n",
      "/bin/sensible-editor\n",
      "/bin/sensible-pager\n",
      "/bin/sg_read_attr\n",
      "/bin/sg_read_buffer\n",
      "/bin/sg_write_buffer\n",
      "/bin/sos-collector\n",
      "/bin/sqfstar\n",
      "/bin/tar\n",
      "/bin/tilix.wrapper\n",
      "/bin/tr\n",
      "/bin/ubuntu-core-launcher\n",
      "/bin/ucfr\n",
      "/bin/vdir\n",
      "/bin/vimtutor\n",
      "/bin/wslvar\n",
      "/bin/www-browser\n",
      "/bin/x-terminal-emulator\n",
      "/bin/x-www-browser\n",
      "/bin/x86_64-linux-gnu-ar\n",
      "/bin/x86_64-linux-gnu-gcc-ar\n",
      "/bin/xdg-screensaver\n",
      "/bin/xdg-user-dir\n",
      "/bin/xrandr\n",
      "/bin/xsetpointer\n"
     ]
    }
   ],
   "source": [
    "%%bash\n",
    "\n",
    "ls /bin/*r"
   ]
  },
  {
   "cell_type": "code",
   "execution_count": 24,
   "metadata": {},
   "outputs": [
    {
     "name": "stdout",
     "output_type": "stream",
     "text": [
      "total 1960\n",
      "lrwxrwxrwx   1 root root       7 Mar 24  2022 bin -> usr/bin\n",
      "drwxr-xr-x   2 root root    4096 Mar 24  2022 boot\n",
      "drwxr-xr-x  10 root root    3040 Oct 19 11:34 dev\n",
      "drwxr-xr-x 109 root root   12288 Oct 19 13:59 etc\n",
      "drwxr-xr-x   4 root root    4096 Oct 19 12:35 home\n",
      "-rwxrwxrwx   1 root root 1930088 Dec 31  1969 init\n",
      "lrwxrwxrwx   1 root root       7 Mar 24  2022 lib -> usr/lib\n",
      "lrwxrwxrwx   1 root root       9 Mar 24  2022 lib32 -> usr/lib32\n",
      "lrwxrwxrwx   1 root root       9 Mar 24  2022 lib64 -> usr/lib64\n",
      "lrwxrwxrwx   1 root root      10 Mar 24  2022 libx32 -> usr/libx32\n",
      "drwx------   2 root root   16384 May 14 08:58 lost+found\n",
      "drwxr-xr-x   2 root root    4096 Mar 24  2022 media\n",
      "drwxr-xr-x   7 root root    4096 May 14 08:58 mnt\n",
      "drwxr-xr-x   2 root root    4096 Mar 24  2022 opt\n",
      "dr-xr-xr-x 205 root root       0 Oct 19 11:34 proc\n",
      "drwx------   6 root root    4096 Oct 19 13:12 root\n",
      "drwxr-xr-x   7 root root     140 Oct 19 12:15 run\n",
      "lrwxrwxrwx   1 root root       8 Mar 24  2022 sbin -> usr/sbin\n",
      "drwxr-xr-x   6 root root    4096 Mar 24  2022 snap\n",
      "drwxr-xr-x   2 root root    4096 Mar 24  2022 srv\n",
      "dr-xr-xr-x  11 root root       0 Oct 19 11:34 sys\n",
      "drwxrwxrwt  26 root root    4096 Oct 19 14:31 tmp\n",
      "drwxr-xr-x  14 root root    4096 Mar 24  2022 usr\n",
      "drwxr-xr-x  14 root root    4096 Aug 11 17:28 var\n"
     ]
    }
   ],
   "source": [
    "%%bash\n",
    "\n",
    "cd /\n",
    "ls -l"
   ]
  },
  {
   "cell_type": "markdown",
   "metadata": {},
   "source": [
    "### 2.3. Create a directory"
   ]
  },
  {
   "cell_type": "markdown",
   "metadata": {},
   "source": [
    "```bash\n",
    "mkdir\n",
    "```\n",
    "\n",
    "The *mkdir* command is used to create a new directory.\n",
    "\n",
    "To create a directory named *scripts* in your current directory, run the following command:\n",
    "\n",
    "```bash\n",
    "mkdir scripts\n",
    "```\n",
    "\n",
    "Use the *ls* command to verify whether the *scripts* directories got created:\n",
    "\n",
    "```bash\n",
    "ls\n",
    "```"
   ]
  },
  {
   "cell_type": "code",
   "execution_count": 25,
   "metadata": {},
   "outputs": [
    {
     "name": "stdout",
     "output_type": "stream",
     "text": [
      "GitHub\n",
      "miniconda3\n",
      "scripts\n"
     ]
    }
   ],
   "source": [
    "%%bash\n",
    "\n",
    "cd ~\n",
    "mkdir scripts\n",
    "ls"
   ]
  },
  {
   "cell_type": "markdown",
   "metadata": {},
   "source": [
    "### 2.4. Change your current working directory."
   ]
  },
  {
   "cell_type": "markdown",
   "metadata": {},
   "source": [
    "```bash\n",
    "cd\n",
    "```\n",
    "\n",
    "To get into the directory *scripts* directory, run the following command:\n",
    "\n",
    "```bash\n",
    "cd scripts\n",
    "```\n",
    "\n",
    "Now use the *pwd* command to verify whether your current working directory has changed as expected:\n",
    "\n",
    "```bash\n",
    "pwd\n",
    "```\n",
    "\n",
    "If you use *cd* without any directory name as follows, it will move you back to your home directory:\n",
    "\n",
    "```bash\n",
    "cd\n",
    "```\n",
    "\n",
    "Again, enter the *pwd* command to verify whether your current working directory has changed:\n",
    "\n",
    "```bash\n",
    "pwd\n",
    "```\n",
    "\n",
    "The syntax .. is a shortcut that refers to the parent directory of your current directory. Run the following command to change dictories up one level:\n",
    "\n",
    "```bash\n",
    "cd ..\n",
    "```"
   ]
  },
  {
   "cell_type": "code",
   "execution_count": 32,
   "metadata": {},
   "outputs": [
    {
     "name": "stdout",
     "output_type": "stream",
     "text": [
      "/home/luis-mendoza/scripts\n",
      "/home/luis-mendoza\n",
      "/home\n"
     ]
    }
   ],
   "source": [
    "%%bash\n",
    "\n",
    "cd ~\n",
    "cd scripts\n",
    "pwd\n",
    "cd\n",
    "pwd\n",
    "cd .. \n",
    "pwd"
   ]
  },
  {
   "cell_type": "markdown",
   "metadata": {},
   "source": [
    "### 2.5. Create an empty file"
   ]
  },
  {
   "cell_type": "markdown",
   "metadata": {},
   "source": [
    "```bash\n",
    "touch\n",
    "```\n",
    "\n",
    "First, return to your home directory by entering:\n",
    "\n",
    "```bash\n",
    "cd\n",
    "```\n",
    "\n",
    "Next, use the *touch* command to create an empty file named *myfile.txt*:\n",
    "\n",
    "```bash\n",
    "touch myfile.txt\n",
    "```\n",
    "\n",
    "Now use the *ls* command to verify creation of *myfile.txt*:\n",
    "\n",
    "```bash\n",
    "ls\n",
    "```\n",
    "\n",
    "If the file already exists, the *touch* command updates the access timestamp, or last-modified date of the file. To see this, enter:\n",
    "\n",
    "```bash\n",
    "touch myfile.txt\n",
    "```\n",
    "\n",
    "and use use the *date* command to verify the date change:\n",
    "\n",
    "```bash\n",
    "date -r myfile.txt\n",
    "```"
   ]
  },
  {
   "cell_type": "code",
   "execution_count": 39,
   "metadata": {},
   "outputs": [
    {
     "name": "stdout",
     "output_type": "stream",
     "text": [
      "total 12K\n",
      "drwxr-xr-x  3 luis-mendoza luis-mendoza 4.0K Oct 19 11:16 GitHub\n",
      "drwxr-xr-x 16 luis-mendoza luis-mendoza 4.0K Oct 19 08:56 miniconda3\n",
      "-rw-r--r--  1 luis-mendoza luis-mendoza    0 Oct 19 15:49 myfile.txt\n",
      "drwxr-xr-x  2 luis-mendoza luis-mendoza 4.0K Oct 19 15:34 scripts\n",
      "\n",
      "Wed Oct 19 15:49:21 CDT 2022\n"
     ]
    }
   ],
   "source": [
    "%%bash\n",
    "\n",
    "cd\n",
    "touch myfile.txt\n",
    "ls -lh\n",
    "echo \"\"\n",
    "touch myfile.txt\n",
    "date -r myfile.txt"
   ]
  },
  {
   "cell_type": "markdown",
   "metadata": {},
   "source": [
    "### 2.6. Search and locate files "
   ]
  },
  {
   "cell_type": "markdown",
   "metadata": {},
   "source": [
    "```bash\n",
    "find\n",
    "```\n",
    "\n",
    "The *find* command is used to search for files in a directory. You can search for files based on different attributes, such as the file's name, type, owner, size, or timestamp.\n",
    "\n",
    "The *find* command conducts a search of the entire directory tree starting from the given directory name.\n",
    "\n",
    "For example, the following command finds all *.txt* files in the subfolders of the */etc* directory:\n",
    "\n",
    "```bash\n",
    "find /etc -name '*.txt'\n",
    "```\n",
    "\n",
    "Along with the listing of all *.txt* files, you may get some *Permission denied* errors.\n",
    "\n",
    "These error are normal, as you have limited access on the lab machine."
   ]
  },
  {
   "cell_type": "code",
   "execution_count": 52,
   "metadata": {},
   "outputs": [
    {
     "name": "stderr",
     "output_type": "stream",
     "text": [
      "find: ‘/etc/ssl/private’: Permission denied\n",
      "find: ‘/etc/polkit-1/localauthority’: Permission denied\n",
      "find: ‘/etc/multipath’: Permission denied\n"
     ]
    }
   ],
   "source": [
    "%%bash\n",
    "\n",
    "find /etc -name '*.txt' | head -c 0"
   ]
  },
  {
   "cell_type": "markdown",
   "metadata": {},
   "source": [
    "### 2.7. Remove files"
   ]
  },
  {
   "cell_type": "markdown",
   "metadata": {},
   "source": [
    "```bash\n",
    "rm\n",
    "```\n",
    "\n",
    "The *rm* command is used to delete files, and is ideally used along with the *-i* option, which makes it ask for confirmation before every deletion.\n",
    "\n",
    "To remove the file *myfile.txt*, enter the follwing command and press *y* to confirm deletion, or *n* to cancel:\n",
    "\n",
    "```bash\n",
    "rm -i myfile.txt\n",
    "```\n",
    "\n",
    "Use the *ls* command to verify removal:\n",
    "\n",
    "```bash\n",
    "ls\n",
    "```"
   ]
  },
  {
   "cell_type": "code",
   "execution_count": 54,
   "metadata": {},
   "outputs": [
    {
     "name": "stdout",
     "output_type": "stream",
     "text": [
      "GitHub\n",
      "miniconda3\n",
      "scripts\n"
     ]
    }
   ],
   "source": [
    "%%bash \n",
    "\n",
    "cd \n",
    "rm myfile.txt\n",
    "ls"
   ]
  },
  {
   "cell_type": "markdown",
   "metadata": {},
   "source": [
    "### 2.8. Move, Rename a file"
   ]
  },
  {
   "cell_type": "markdown",
   "metadata": {},
   "source": [
    "```bash\n",
    "mv\n",
    "```\n",
    "\n",
    "First, make a file called users.txt:\n",
    "\n",
    "```bash\n",
    "touch users.txt\n",
    "```\n",
    "\n",
    "The *mv* command moves a file from one directory to another.\n",
    "\n",
    "Use caution when moving a file, because if the target file already exists, it will be overwritten by the source file.\n",
    "\n",
    "Conveniently however, if the source and target directories are the same, you can employ *mv* as a rename operation.\n",
    "\n",
    "To illustrate this, rename *users.txt* as *user-info.txt* by entering the following command:\n",
    "\n",
    "```bash\n",
    "mv users.txt user-info.txt\n",
    "```\n",
    "\n",
    "Now use the *ls* command to verify the name change:\n",
    "\n",
    "```bash\n",
    "ls\n",
    "```\n",
    "\n",
    "Now move *user-info.txt* to the */tmp* directory, as follows:\n",
    "\n",
    "```bash\n",
    "mv user-info.txt /tmp\n",
    "```\n",
    "\n",
    "Now use the *ls* command twice to verify the move, as follows:\n",
    "\n",
    "```bash\n",
    "ls\n",
    "\n",
    "ls -l /tmp\n",
    "```"
   ]
  },
  {
   "cell_type": "code",
   "execution_count": 56,
   "metadata": {},
   "outputs": [
    {
     "name": "stdout",
     "output_type": "stream",
     "text": [
      "GitHub\n",
      "miniconda3\n",
      "scripts\n",
      "user-info.txt\n",
      "\n",
      "GitHub\n",
      "miniconda3\n",
      "scripts\n",
      "\n",
      "total 84\n",
      "drwx------ 2 luis-mendoza luis-mendoza 4096 Oct  4 11:45 pyright-1266-75uoi0OQaYsK\n",
      "drwx------ 2 luis-mendoza luis-mendoza 4096 Oct 19 11:34 pyright-210-PpDVhGjxFC4G\n",
      "drwx------ 2 luis-mendoza luis-mendoza 4096 Oct 19 11:34 pyright-210-rRQFW3Fp1bKk\n",
      "drwx------ 2 luis-mendoza luis-mendoza 4096 Oct  4 11:37 pyright-224-3Ogd0KhuRWsv\n",
      "drwx------ 2 luis-mendoza luis-mendoza 4096 Oct  4 11:37 pyright-224-lBcBp2E1BGvo\n",
      "drwx------ 2 luis-mendoza luis-mendoza 4096 Oct 19 10:59 pyright-378-rPJP8mLj7okb\n",
      "drwx------ 2 luis-mendoza luis-mendoza 4096 Oct  4 11:44 pyright-707-DirBDN6M08Dw\n",
      "drwx------ 2 luis-mendoza luis-mendoza 4096 Oct  4 11:44 pyright-707-PFOMcGHoNIDU\n",
      "drwx------ 2 luis-mendoza luis-mendoza 4096 Oct 19 11:23 pyright-866-svK2Ja5gY1hX\n",
      "drwx------ 2 luis-mendoza luis-mendoza 4096 Oct 19 11:49 pyright-999-MHULVwGzzucj\n",
      "drwx------ 2 luis-mendoza luis-mendoza 4096 Oct 19 11:49 pyright-999-TwjU3WD2I6yu\n",
      "drwxr-xr-x 6 luis-mendoza luis-mendoza 4096 Oct 19 11:49 python-languageserver-cancellation\n",
      "-rw-r--r-- 1 luis-mendoza luis-mendoza   69 May 24 07:11 remote-wsl-loc.txt\n",
      "drwx------ 3 root         root         4096 May 23 12:45 snap.lxd\n",
      "drwx------ 3 root         root         4096 May 23 12:45 systemd-private-20976a5c57e442f2ae037bc86e607b1d-ModemManager.service-Oxc6Gf\n",
      "drwx------ 3 root         root         4096 May 23 12:45 systemd-private-20976a5c57e442f2ae037bc86e607b1d-systemd-logind.service-611slj\n",
      "drwx------ 3 root         root         4096 May 23 12:45 systemd-private-20976a5c57e442f2ae037bc86e607b1d-systemd-resolved.service-IFQ7Fg\n",
      "drwx------ 3 root         root         4096 May 23 12:45 systemd-private-20976a5c57e442f2ae037bc86e607b1d-systemd-timedated.service-gjflXg\n",
      "drwx------ 8 root         root         4096 Aug 11 17:18 ubuntu-release-upgrader-g_1mt_d0\n",
      "-rw-r--r-- 1 luis-mendoza luis-mendoza    0 Oct 19 16:05 user-info.txt\n",
      "-rw------- 1 luis-mendoza luis-mendoza 3189 May 24 07:11 vscode-distro-env.wP85QC\n",
      "drwxr-xr-x 2 luis-mendoza luis-mendoza 4096 Oct 19 11:27 vscode-typescript1000\n"
     ]
    }
   ],
   "source": [
    "%%bash\n",
    "\n",
    "cd\n",
    "touch users.txt\n",
    "mv users.txt user-info.txt\n",
    "ls\n",
    "echo \"\"\n",
    "mv user-info.txt /tmp\n",
    "ls\n",
    "echo \"\"\n",
    "ls -l /tmp"
   ]
  },
  {
   "cell_type": "markdown",
   "metadata": {},
   "source": [
    "### 2.9. Copy files"
   ]
  },
  {
   "cell_type": "markdown",
   "metadata": {},
   "source": [
    "```bash\n",
    "cp\n",
    "```\n",
    "\n",
    "You can use the *cp* command to copy *user-info.txt*, which is now in your */tmp* directory, to your current working directory as follows:\n",
    "\n",
    "```bash\n",
    "cp /tmp/user-info.txt user-info.txt\n",
    "```\n",
    "\n",
    "Now use the *ls* command to verify whether the copy was successful:\n",
    "\n",
    "```bash\n",
    "ls\n",
    "```\n",
    "\n",
    "The following command copies the content of */etc/passwd* to a file named *users.txt* under the current directory:\n",
    "\n",
    "```bash\n",
    "cp /etc/passwd users.txt\n",
    "```\n",
    "\n",
    "Now use the ls command to verify whether the copy was successful:\n",
    "```bash\n",
    "ls\n",
    "```"
   ]
  },
  {
   "cell_type": "code",
   "execution_count": 57,
   "metadata": {},
   "outputs": [
    {
     "name": "stdout",
     "output_type": "stream",
     "text": [
      "GitHub\n",
      "miniconda3\n",
      "scripts\n",
      "user-info.txt\n",
      "\n",
      "GitHub\n",
      "miniconda3\n",
      "scripts\n",
      "user-info.txt\n",
      "users.txt\n"
     ]
    }
   ],
   "source": [
    "%%bash \n",
    "\n",
    "cd\n",
    "cp /tmp/user-info.txt user-info.txt\n",
    "ls\n",
    "echo \"\"\n",
    "cp /etc/passwd users.txt\n",
    "ls"
   ]
  },
  {
   "cell_type": "markdown",
   "metadata": {},
   "source": [
    "## Exercise 3 - Access control commands"
   ]
  },
  {
   "cell_type": "markdown",
   "metadata": {},
   "source": [
    "### Required files:"
   ]
  },
  {
   "cell_type": "markdown",
   "metadata": {},
   "source": [
    "Run the following code to acquire the required files for this exercise:\n",
    "\n",
    "```bash\n",
    "wget https://cf-courses-data.s3.us.cloud-object-storage.appdomain.cloud/IBM-LX0117EN-SkillsNetwork/labs/module%201/usdoi.txt\n",
    "```\n",
    "\n",
    "Each file and each directory has permissions set for three permission categories: the 'owner', the 'group' and 'all users'.\n",
    "\n",
    "The following permissions are set for each file and directory:\n",
    "\n",
    "| **Permission**    | **Symbol**    |\n",
    "|-------------------|---------------|\n",
    "| read\t            | r             | \n",
    "| write\t            | w             | \n",
    "| execute\t        | x             | \n",
    "\n",
    "To see the permissions currently set for a file, run the command *ls -l*.\n",
    "\n",
    "For example, to see the permissions for the file named *usdoi.txt* in your current directory, run:\n",
    "\n",
    "```bash\n",
    "ls -l usdoi.txt\n",
    "```\n",
    "\n",
    "A sample output looks like:\n",
    "\n",
    "*-rw-r--r-- 1 theia theia 8121 May 31 16:45 usdoi.txt*\n",
    "\n",
    "The permissions set here are *rw-r--r--*. The - preceeding these permissions indicates that *usdoi.txt* is a file. If it were a directory, you would see a *d* instead of the *-*.\n",
    "\n",
    "The first three entries correspond to the owner, the next three correspond to the group, and the last threee are for all others. You can see the owner of the file has read and write permissions, while the user group only has read permissions, and all other users have read permission. No users have execute permissions, as indicated by the - instead of an x in the third position for each user category."
   ]
  },
  {
   "cell_type": "code",
   "execution_count": 59,
   "metadata": {},
   "outputs": [
    {
     "name": "stdout",
     "output_type": "stream",
     "text": [
      "-rw-r--r-- 1 luis-mendoza luis-mendoza 8121 Sep 28 06:59 usdoi.txt\n"
     ]
    }
   ],
   "source": [
    "%%bash\n",
    "\n",
    "cd\n",
    "wget -q https://cf-courses-data.s3.us.cloud-object-storage.appdomain.cloud/IBM-LX0117EN-SkillsNetwork/labs/module%201/usdoi.txt\n",
    "ls -l usdoi.txt"
   ]
  },
  {
   "cell_type": "markdown",
   "metadata": {},
   "source": [
    "### 3.1. Change permissions"
   ]
  },
  {
   "cell_type": "markdown",
   "metadata": {},
   "source": [
    "```bash\n",
    "chmod\n",
    "```\n",
    "\n",
    "The *chmod* (change mode) command lets you change the permissions set for a file.\n",
    "\n",
    "The change of permissions is specified with the help of a combination of the following characters:\n",
    "\n",
    "| **Option**    | **Description**                                       |\n",
    "|---------------|-------------------                                    |\n",
    "| r, w and      | permissions: read, write and execute, respectively    | \n",
    "| u, g and o\t    | user categories: owner, group and all others, respectively|\n",
    "| +, -\t        | operations: grant and revoke, respectively            | \n",
    "\n",
    "The command below removes read permission for all users (user, group and other) on the file *usdoi.txt*:\n",
    "\n",
    "```bash\n",
    "chmod -r usdoi.txt\n",
    "```\n",
    "\n",
    "You can verify the changed permissions by entering:\n",
    "\n",
    "```bash\n",
    "ls -l usdoi.txt\n",
    "```\n",
    "\n",
    "To add read access to all users on *usdoi.txt*, enter:\n",
    "\n",
    "```bash\n",
    "chmod +r usdoi.txt\n",
    "```\n",
    "\n",
    "Now verify the changed permissions:\n",
    "\n",
    "```bash\n",
    "ls -l usdoi.txt\n",
    "```\n",
    "\n",
    "To remove the read permission for 'all other users' category, enter:\n",
    "\n",
    "```bash\n",
    "chmod o-r usdoi.txt\n",
    "```\n",
    "\n",
    "Verify the changed permissions:\n",
    "\n",
    "```bash\n",
    "ls -l usdoi.txt\n",
    "```"
   ]
  },
  {
   "cell_type": "code",
   "execution_count": 60,
   "metadata": {},
   "outputs": [
    {
     "name": "stdout",
     "output_type": "stream",
     "text": [
      "--w------- 1 luis-mendoza luis-mendoza 8121 Sep 28 06:59 usdoi.txt\n",
      "\n",
      "-rw-r--r-- 1 luis-mendoza luis-mendoza 8121 Sep 28 06:59 usdoi.txt\n",
      "\n",
      "-rw-r----- 1 luis-mendoza luis-mendoza 8121 Sep 28 06:59 usdoi.txt\n"
     ]
    }
   ],
   "source": [
    "%%bash\n",
    "\n",
    "cd\n",
    "chmod -r usdoi.txt\n",
    "ls -l usdoi.txt\n",
    "echo \"\"\n",
    "chmod +r usdoi.txt\n",
    "ls -l usdoi.txt\n",
    "echo \"\"\n",
    "chmod o-r usdoi.txt\n",
    "ls -l usdoi.txt"
   ]
  },
  {
   "cell_type": "markdown",
   "metadata": {},
   "source": [
    "## Practice exercises"
   ]
  },
  {
   "cell_type": "markdown",
   "metadata": {},
   "source": [
    "1. Problem:\n",
    "\n",
    "Display the content of */home* directory."
   ]
  },
  {
   "cell_type": "code",
   "execution_count": 61,
   "metadata": {},
   "outputs": [
    {
     "name": "stdout",
     "output_type": "stream",
     "text": [
      "luis-mendoza\n",
      "project\n"
     ]
    }
   ],
   "source": [
    "%%bash \n",
    "\n",
    "ls /home"
   ]
  },
  {
   "cell_type": "markdown",
   "metadata": {},
   "source": [
    "2. Problem:\n",
    "\n",
    "Ensure that you are in your home directory."
   ]
  },
  {
   "cell_type": "code",
   "execution_count": 66,
   "metadata": {},
   "outputs": [
    {
     "name": "stdout",
     "output_type": "stream",
     "text": [
      "/home\n"
     ]
    }
   ],
   "source": [
    "%%bash \n",
    "\n",
    "cd /home\n",
    "pwd"
   ]
  },
  {
   "cell_type": "markdown",
   "metadata": {},
   "source": [
    "3. Problem:\n",
    "\n",
    "Create a new directory called *final* in your home directory."
   ]
  },
  {
   "cell_type": "code",
   "execution_count": 68,
   "metadata": {},
   "outputs": [
    {
     "name": "stdout",
     "output_type": "stream",
     "text": [
      "GitHub\n",
      "final\n",
      "miniconda3\n",
      "scripts\n",
      "usdoi.txt\n",
      "usdoi.txt.1\n",
      "user-info.txt\n",
      "users.txt\n"
     ]
    }
   ],
   "source": [
    "%%bash\n",
    "\n",
    "cd\n",
    "mkdir final\n",
    "ls"
   ]
  },
  {
   "cell_type": "markdown",
   "metadata": {},
   "source": [
    "4. Problem:\n",
    "\n",
    "View the permissions of the newly created directory, *final*."
   ]
  },
  {
   "cell_type": "code",
   "execution_count": 70,
   "metadata": {},
   "outputs": [
    {
     "name": "stdout",
     "output_type": "stream",
     "text": [
      "drwxr-xr-x 2 luis-mendoza luis-mendoza 4096 Oct 19 18:07 final\n"
     ]
    }
   ],
   "source": [
    "%%bash\n",
    "\n",
    "cd\n",
    "ls -ld final"
   ]
  },
  {
   "cell_type": "markdown",
   "metadata": {},
   "source": [
    "5. Problem:\n",
    "\n",
    "Create a new blank file named 'display.sh' in the *final* directory"
   ]
  },
  {
   "cell_type": "code",
   "execution_count": 75,
   "metadata": {},
   "outputs": [
    {
     "name": "stdout",
     "output_type": "stream",
     "text": [
      "display.sh\n"
     ]
    }
   ],
   "source": [
    "%%bash\n",
    "\n",
    "cd\n",
    "cd final\n",
    "touch display.sh\n",
    "ls"
   ]
  },
  {
   "cell_type": "markdown",
   "metadata": {},
   "source": [
    "6. Problem:\n",
    "\n",
    "Create a copy of *display.sh* called *report.sh*."
   ]
  },
  {
   "cell_type": "code",
   "execution_count": 76,
   "metadata": {},
   "outputs": [
    {
     "name": "stdout",
     "output_type": "stream",
     "text": [
      "display.sh\n",
      "report.sh\n"
     ]
    }
   ],
   "source": [
    "%%bash\n",
    "\n",
    "cd\n",
    "cd final\n",
    "cp display.sh report.sh\n",
    "ls"
   ]
  },
  {
   "cell_type": "markdown",
   "metadata": {},
   "source": [
    "7. Problem:\n",
    "\n",
    "Delete the file 'display.sh'."
   ]
  },
  {
   "cell_type": "code",
   "execution_count": 77,
   "metadata": {},
   "outputs": [
    {
     "name": "stdout",
     "output_type": "stream",
     "text": [
      "report.sh\n"
     ]
    }
   ],
   "source": [
    "%%bash\n",
    "\n",
    "cd\n",
    "cd final\n",
    "rm display.sh\n",
    "ls"
   ]
  },
  {
   "cell_type": "markdown",
   "metadata": {},
   "source": [
    "8. Problem:\n",
    "\n",
    "List the files in */etc* directory in the ascending order of their access time."
   ]
  },
  {
   "cell_type": "code",
   "execution_count": 83,
   "metadata": {},
   "outputs": [
    {
     "name": "stdout",
     "output_type": "stream",
     "text": [
      "total 972\n",
      "-rw-r--r-- 1 root root        887 Apr  1  2013 rpc\n",
      "-rw-r--r-- 1 root root       2932 Apr  1  2013 protocols\n",
      "-rw-r--r-- 1 root root       3663 Jun 19  2016 screenrc\n",
      "-rw-r--r-- 1 root root        604 Sep 15  2018 deluser.conf\n",
      "-rw-r--r-- 1 root root       1260 Dec 14  2018 ucf.conf\n",
      "drwxr-xr-x 2 root root       4096 Jun 25  2019 libpaper.d\n",
      "-rw-r--r-- 1 root root       2969 Aug  3  2019 debconf.conf\n",
      "-rw-r--r-- 1 root root         51 Aug 28  2019 vdpau_wrapper.cfg\n",
      "-rw-r--r-- 1 root root        449 Oct 18  2019 mailcap.order\n",
      "-rw-r--r-- 1 root root      10593 Nov  6  2019 sensors3.conf\n",
      "-rw-r--r-- 1 root root         91 Dec  5  2019 networks\n",
      "-rw-r--r-- 1 root root        267 Dec  5  2019 legal\n",
      "-rw-r--r-- 1 root root         92 Dec  5  2019 host.conf\n",
      "-rw-r--r-- 1 root root        552 Dec 17  2019 pam.conf\n",
      "-rw-r--r-- 1 root root       1816 Dec 26  2019 ethertypes\n",
      "-rw-r--r-- 1 root root        111 Jan 16  2020 magic.mime\n",
      "-rw-r--r-- 1 root root        111 Jan 16  2020 magic\n",
      "-rw-r--r-- 1 root root         45 Jan 25  2020 bash_completion\n",
      "-rw-r--r-- 1 root root       2584 Feb  1  2020 gai.conf\n",
      "-rw-r--r-- 1 root root       1523 Feb 10  2020 usb_modeswitch.conf\n",
      "-rw-r--r-- 1 root root       1382 Feb 11  2020 rsyslog.conf\n",
      "-rw-r--r-- 1 root root        685 Feb 14  2020 e2scrub.conf\n",
      "-rw-r--r-- 1 root root        191 Feb 18  2020 libaudit.conf\n",
      "drwxr-xr-x 2 root root       4096 Feb 24  2020 usb_modeswitch.d\n"
     ]
    }
   ],
   "source": [
    "%%bash\n",
    "\n",
    "ls -ltr /etc | head -25"
   ]
  },
  {
   "cell_type": "markdown",
   "metadata": {},
   "source": [
    "9. Problem:\n",
    "\n",
    "Display the current time."
   ]
  },
  {
   "cell_type": "code",
   "execution_count": 84,
   "metadata": {},
   "outputs": [
    {
     "name": "stdout",
     "output_type": "stream",
     "text": [
      "21:41:56\n"
     ]
    }
   ],
   "source": [
    "%%bash\n",
    "\n",
    "date \"+%T\""
   ]
  },
  {
   "cell_type": "markdown",
   "metadata": {},
   "source": [
    "10. Problem:\n",
    "\n",
    "Copy the file */var/log/bootstrap.log* to your current directory."
   ]
  },
  {
   "cell_type": "code",
   "execution_count": 88,
   "metadata": {},
   "outputs": [
    {
     "name": "stdout",
     "output_type": "stream",
     "text": [
      "GitHub\n",
      "alternatives.log\n",
      "final\n",
      "miniconda3\n",
      "scripts\n",
      "usdoi.txt\n",
      "usdoi.txt.1\n",
      "user-info.txt\n",
      "users.txt\n"
     ]
    }
   ],
   "source": [
    "%%bash\n",
    "\n",
    "cd\n",
    "cp /var/log/alternatives.log .\n",
    "ls"
   ]
  },
  {
   "cell_type": "markdown",
   "metadata": {},
   "source": [
    "## Authors"
   ]
  },
  {
   "cell_type": "markdown",
   "metadata": {},
   "source": [
    "Ramesh Sannareddy Sam Prokopchuk"
   ]
  },
  {
   "cell_type": "markdown",
   "metadata": {},
   "source": [
    "## Other Contributors"
   ]
  },
  {
   "cell_type": "markdown",
   "metadata": {},
   "source": [
    "Rav Ahuja Jeff Grossman"
   ]
  },
  {
   "cell_type": "markdown",
   "metadata": {},
   "source": [
    "## Change Log"
   ]
  },
  {
   "cell_type": "markdown",
   "metadata": {},
   "source": [
    "| **Date (YYYY-MM-DD)** | **Version**   | **Changed By**    | **Change Description**            |\n",
    "|-----------------------|---------------|-------------------|-----------------                  |\n",
    "| 2021-05-30            | 0.1\t        | Ramesh Sannareddy\t| Created initial version of the lab| \n",
    "| 2021-11-29            | 0.2\t        | Sam Prokopchuk\t| Update lab contents and split     | \n",
    "| 2021-12-02            | 0.3\t        | Jeff Grossman\t    | Review and Update lab             | \n",
    "\n",
    "Copyright (c) 2021 IBM Corporation. All rights reserved."
   ]
  }
 ],
 "metadata": {
  "kernelspec": {
   "display_name": "Python 3.9.13 ('base')",
   "language": "python",
   "name": "python3"
  },
  "language_info": {
   "codemirror_mode": {
    "name": "ipython",
    "version": 3
   },
   "file_extension": ".py",
   "mimetype": "text/x-python",
   "name": "python",
   "nbconvert_exporter": "python",
   "pygments_lexer": "ipython3",
   "version": "3.9.13"
  },
  "orig_nbformat": 4,
  "vscode": {
   "interpreter": {
    "hash": "0ab7ac22d3d3525ddb7629ab62b0d92e89034641b529aacfddbc818d024d7c15"
   }
  }
 },
 "nbformat": 4,
 "nbformat_minor": 2
}
