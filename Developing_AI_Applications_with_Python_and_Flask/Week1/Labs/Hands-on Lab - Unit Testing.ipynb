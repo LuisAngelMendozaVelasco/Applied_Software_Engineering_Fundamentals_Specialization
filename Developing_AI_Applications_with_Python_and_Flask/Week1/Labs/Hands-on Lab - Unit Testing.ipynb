{
 "cells": [
  {
   "cell_type": "markdown",
   "metadata": {},
   "source": [
    "<p style=\"text-align:center\">\n",
    "    <a href=\"https://skills.network/?utm_medium=Exinfluencer&utm_source=Exinfluencer&utm_content=000026UJ&utm_term=10006555&utm_id=NA-SkillsNetwork-Channel-SkillsNetworkCoursesIBMCS0151ENSkillsNetwork835-2022-01-01\" target=\"_blank\">\n",
    "    <img src=\"https://cf-courses-data.s3.us.cloud-object-storage.appdomain.cloud/assets/logos/SN_web_lightmode.png\" width=\"200\" alt=\"Skills Network Logo\">\n",
    "    </a>\n",
    "</p>"
   ]
  },
  {
   "cell_type": "markdown",
   "metadata": {},
   "source": [
    "# Hands-on Lab: Unit Testing"
   ]
  },
  {
   "cell_type": "markdown",
   "metadata": {},
   "source": [
    "## Unit Testing Lab"
   ]
  },
  {
   "cell_type": "markdown",
   "metadata": {},
   "source": [
    "Estimated time needed: **30** minutes"
   ]
  },
  {
   "cell_type": "markdown",
   "metadata": {},
   "source": [
    "## Objectives"
   ]
  },
  {
   "cell_type": "markdown",
   "metadata": {},
   "source": [
    "After completing this lab you will be able to:\n",
    "\n",
    "- Write unit tests to test a function.\n",
    "- Run unit tests and interpret the results."
   ]
  },
  {
   "cell_type": "markdown",
   "metadata": {},
   "source": [
    "## About Theia"
   ]
  },
  {
   "cell_type": "markdown",
   "metadata": {},
   "source": [
    "Theia is an open source IDE(Integrated Development Environment), that can be run on desktop or on cloud. You will be using the Theia IDE to do this lab. When you log into the Theia environment, you are presented with a 'dedicated computer on the cloud' exclusively for you. This is available to you as long as you work on the labs. Once you log off, this 'dedicated computer on the cloud' is deleted along with any files you may have created. So, it is a good idea to finish your labs in a single session. If you finish part of the lab and return to the Theia lab later, you may have to start from the beginning. Plan to work out all your Theia labs when you have the time to finish the complete lab in a single session."
   ]
  },
  {
   "cell_type": "markdown",
   "metadata": {},
   "source": [
    "## Create a new python file named mymodule.py"
   ]
  },
  {
   "cell_type": "markdown",
   "metadata": {},
   "source": [
    "On the window to the right, click on the **File** menu and select **New File** option, as shown in the image below.\n",
    "\n",
    "![](https://cf-courses-data.s3.us.cloud-object-storage.appdomain.cloud/IBMDeveloperSkillsNetwork-PY0222EN-SkillsNetwork/labs/module%206/Lab%20-%20Unit%20Testing/images/menu_file_new.png)\n",
    "\n",
    "A pop up appears with title **New File**, as shown in the image below.\n",
    "\n",
    "![](https://cf-courses-data.s3.us.cloud-object-storage.appdomain.cloud/IBMDeveloperSkillsNetwork-PY0222EN-SkillsNetwork/labs/module%206/Lab%20-%20Unit%20Testing/images/file_new_popup.png)\n",
    "\n",
    "Enter \"mymodule.py\" as the file name and click **OK**.\n",
    "\n",
    "![](https://cf-courses-data.s3.us.cloud-object-storage.appdomain.cloud/IBMDeveloperSkillsNetwork-PY0222EN-SkillsNetwork/labs/module%206/Lab%20-%20Unit%20Testing/images/file_new_popup2.png)\n",
    "\n",
    "A file \"mymodule.py\" will be created for you.\n",
    "\n",
    "You are now ready to add code to mymodule.py\n",
    "\n",
    "Copy and paste the below code into mymodule.py\n",
    "\n",
    "```python\n",
    "def square(number):\n",
    "    \"\"\"\n",
    "    This function returns the square of a given number\n",
    "    \"\"\"\n",
    "    return number ** 2\n",
    "\n",
    "\n",
    "def double(number):\n",
    "    \"\"\"\n",
    "    This function returns twice the value of a given number\n",
    "    \"\"\"\n",
    "    return number * 2\n",
    "```\n",
    "\n",
    "You should see a screen like this now.\n",
    "\n",
    "![](https://cf-courses-data.s3.us.cloud-object-storage.appdomain.cloud/IBMDeveloperSkillsNetwork-PY0222EN-SkillsNetwork/labs/module%206/Lab%20-%20Unit%20Testing/images/module.png)\n",
    "\n",
    "Save the file by using the Save option in the File Menu.\n",
    "\n",
    "![](https://cf-courses-data.s3.us.cloud-object-storage.appdomain.cloud/IBMDeveloperSkillsNetwork-PY0222EN-SkillsNetwork/labs/module%206/Lab%20-%20Unit%20Testing/images/save_file.png)"
   ]
  },
  {
   "cell_type": "markdown",
   "metadata": {},
   "source": [
    "## Write Unit Tests"
   ]
  },
  {
   "cell_type": "markdown",
   "metadata": {},
   "source": [
    "### Write the unit tests for square function"
   ]
  },
  {
   "cell_type": "markdown",
   "metadata": {},
   "source": [
    "Let us write test cases for these three scenarios.\n",
    "\n",
    "- When 2 is given as input the output must be 4.\n",
    "- When 3.0 is given as input the output must be 9.0.\n",
    "- When -3 is given as input the output must not be -9."
   ]
  },
  {
   "cell_type": "markdown",
   "metadata": {},
   "source": [
    "### Write the unit tests for double function"
   ]
  },
  {
   "cell_type": "markdown",
   "metadata": {},
   "source": [
    "Let us write test cases for these three scenarios:\n",
    "\n",
    "- When 2 is given as input the output must be 4.\n",
    "- When -3.1 is given as input the output must be -6.2.\n",
    "- When 0 is given as input the output must be 0."
   ]
  },
  {
   "cell_type": "markdown",
   "metadata": {},
   "source": [
    "### Create a new file and name it as test_mymodule.py"
   ]
  },
  {
   "cell_type": "markdown",
   "metadata": {},
   "source": [
    "Copy and paste the below code into test_mymodule.py\n",
    "\n",
    "```python\n",
    "import unittest\n",
    "\n",
    "from mymodule import square, double\n",
    "\n",
    "class TestSquare(unittest.TestCase): \n",
    "    def test1(self): \n",
    "        self.assertEqual(square(2), 4) # test when 2 is given as input the output is 4.\n",
    "        self.assertEqual(square(3.0), 9.0)  # test when 3.0 is given as input the output is 9.0.\n",
    "        self.assertNotEqual(square(-3), -9)  # test when -3 is given as input the output is not -9.\n",
    "        \n",
    "\n",
    "class TestDouble(unittest.TestCase): \n",
    "    def test1(self): \n",
    "        self.assertEqual(double(2), 4) # test when 2 is given as input the output is 4.\n",
    "        self.assertEqual(double(-3.1), -6.2) # test when -3.1 is given as input the output is -6.2.\n",
    "        self.assertEqual(double(0), 0) # test when 0 is given as input the output is 0.\n",
    "        \n",
    "unittest.main()\n",
    "```\n",
    "\n",
    "You should see a screen like this now.\n",
    "\n",
    "![](https://cf-courses-data.s3.us.cloud-object-storage.appdomain.cloud/IBMDeveloperSkillsNetwork-PY0222EN-SkillsNetwork/labs/module%206/Lab%20-%20Unit%20Testing/images/testcase.png)"
   ]
  },
  {
   "cell_type": "markdown",
   "metadata": {},
   "source": [
    "## Run tests"
   ]
  },
  {
   "cell_type": "markdown",
   "metadata": {},
   "source": [
    "To run tests, select the test_mymodule.py file in the IDE and click on the 'Play' button.\n",
    "\n",
    "\n",
    "![](https://cf-courses-data.s3.us.cloud-object-storage.appdomain.cloud/IBMDeveloperSkillsNetwork-PY0222EN-SkillsNetwork/labs/module%206/Lab%20-%20Unit%20Testing/images/play_button.png)\n",
    "\n",
    "This will run the tests.\n",
    "\n",
    "You should see a screen like this now.\n",
    "\n",
    "![](https://cf-courses-data.s3.us.cloud-object-storage.appdomain.cloud/IBMDeveloperSkillsNetwork-PY0222EN-SkillsNetwork/labs/module%206/Lab%20-%20Unit%20Testing/images/testresult.png)\n",
    "\n",
    "An *OK* in the last line indicates that all tests passed successfully.\n",
    "\n",
    "*FAILED* in the last line indicates that at least one test has failed, and python prints which test or tests failed."
   ]
  },
  {
   "cell_type": "markdown",
   "metadata": {},
   "source": [
    "### Write unit tests for the given function"
   ]
  },
  {
   "cell_type": "markdown",
   "metadata": {},
   "source": [
    "Here is a function that accepts two arguments and returns their sum.\n",
    "\n",
    "Copy and paste the below code into mymodule.py and the save the file.\n",
    "\n",
    "```python\n",
    "def add(a,b):\n",
    "    \"\"\"\n",
    "    This function returns the sum of the given numbers\n",
    "    \"\"\"\n",
    "    return a + b\n",
    "```\n",
    "\n",
    "Write test cases for these scenarios.\n",
    "\n",
    "- When 2 and 4 are given as input the output must be 6.\n",
    "\n",
    "- When 0 and 0 are given as input the output must be 0.\n",
    "\n",
    "- When 2.3 and 3.6 are given as input the output must be 5.9.\n",
    "\n",
    "- When the strings 'hello' and 'world' are given as input the output must be 'helloworld'.\n",
    "\n",
    "- When 2.3000 and 4.300 are given as input the output must be 6.6.\n",
    "\n",
    "- When -2 and -2 are given as input the output must **not** be 0. (Hint : Use assertNotEqual)"
   ]
  },
  {
   "cell_type": "markdown",
   "metadata": {},
   "source": [
    "## Authors"
   ]
  },
  {
   "cell_type": "markdown",
   "metadata": {},
   "source": [
    "Ramesh Sannareddy"
   ]
  },
  {
   "cell_type": "markdown",
   "metadata": {},
   "source": [
    "## Other Contributors"
   ]
  },
  {
   "cell_type": "markdown",
   "metadata": {},
   "source": [
    "Rav Ahuja"
   ]
  },
  {
   "cell_type": "markdown",
   "metadata": {},
   "source": [
    "## Change Log"
   ]
  },
  {
   "cell_type": "markdown",
   "metadata": {},
   "source": [
    "| **Date (YYYY-MM-DD)** | **Version**   | **Changed By**    | **Change Description**            |\n",
    "| --------------------- |---------------|-------------------|---------------------------        |\n",
    "| 2020-11-25\t        | 0.1\t        | Ramesh Sannareddy | Created initial version of the lab| \n",
    "\n",
    "Copyright © 2020 IBM Corporation. This notebook and its source code are released under the terms of the MIT License."
   ]
  }
 ],
 "metadata": {
  "kernelspec": {
   "display_name": "Python 3.9.13 ('base')",
   "language": "python",
   "name": "python3"
  },
  "language_info": {
   "codemirror_mode": {
    "name": "ipython",
    "version": 3
   },
   "file_extension": ".py",
   "mimetype": "text/x-python",
   "name": "python",
   "nbconvert_exporter": "python",
   "pygments_lexer": "ipython3",
   "version": "3.9.13"
  },
  "orig_nbformat": 4,
  "vscode": {
   "interpreter": {
    "hash": "3cfd106f785ae1e288da74ae733f9b47f8a2699db986927140be0bc196406f4c"
   }
  }
 },
 "nbformat": 4,
 "nbformat_minor": 2
}
