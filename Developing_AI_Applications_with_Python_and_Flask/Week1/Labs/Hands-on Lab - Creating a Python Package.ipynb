{
 "cells": [
  {
   "cell_type": "markdown",
   "metadata": {},
   "source": [
    "<p style=\"text-align:center\">\n",
    "    <a href=\"https://skills.network/?utm_medium=Exinfluencer&utm_source=Exinfluencer&utm_content=000026UJ&utm_term=10006555&utm_id=NA-SkillsNetwork-Channel-SkillsNetworkCoursesIBMCS0151ENSkillsNetwork835-2022-01-01\" target=\"_blank\">\n",
    "    <img src=\"https://cf-courses-data.s3.us.cloud-object-storage.appdomain.cloud/assets/logos/SN_web_lightmode.png\" width=\"200\" alt=\"Skills Network Logo\">\n",
    "    </a>\n",
    "</p>"
   ]
  },
  {
   "cell_type": "markdown",
   "metadata": {},
   "source": [
    "# Hands-on Lab: Creating a Python Package"
   ]
  },
  {
   "cell_type": "markdown",
   "metadata": {},
   "source": [
    "Estimated time needed: **30** minutes"
   ]
  },
  {
   "cell_type": "markdown",
   "metadata": {},
   "source": [
    "### Objectives"
   ]
  },
  {
   "cell_type": "markdown",
   "metadata": {},
   "source": [
    "In this lab you will :\n",
    "\n",
    "- Create a module named basic\n",
    "- Add two functions to the module basic\n",
    "- Create a module named stats\n",
    "- Add two functions to the module stats\n",
    "- Create a python package named mymath\n",
    "- Verify that the package is working"
   ]
  },
  {
   "cell_type": "markdown",
   "metadata": {},
   "source": [
    "## Lab"
   ]
  },
  {
   "cell_type": "markdown",
   "metadata": {},
   "source": [
    "### Create Package"
   ]
  },
  {
   "cell_type": "markdown",
   "metadata": {},
   "source": [
    "- On the window to the right, click on the **View** menu and select **Explorer** option, as shown in the image below.\n",
    "\n",
    "![](https://cf-courses-data.s3.us.cloud-object-storage.appdomain.cloud/IBMDeveloperSkillsNetwork-PY0222EN-SkillsNetwork/labs/module%206/Lab-%20Creating%20a%20Python%20Package/images/menu_explorer.png)\n",
    "\n",
    "- Your IDE now should look like the image below.\n",
    "\n",
    "![](https://cf-courses-data.s3.us.cloud-object-storage.appdomain.cloud/IBMDeveloperSkillsNetwork-PY0222EN-SkillsNetwork/labs/module%206/Lab-%20Creating%20a%20Python%20Package/images/explorer_view.png)\n",
    "\n",
    "- On the window to the right, click on the **File** menu and select **New Folder** option, as shown in the image below.\n",
    "\n",
    "![](https://cf-courses-data.s3.us.cloud-object-storage.appdomain.cloud/IBMDeveloperSkillsNetwork-PY0222EN-SkillsNetwork/labs/module%206/Lab-%20Creating%20a%20Python%20Package/images/menu_new_folder.png)\n",
    "\n",
    "- Enter **mymath** and click OK as shown in the image below.\n",
    "\n",
    "![](https://cf-courses-data.s3.us.cloud-object-storage.appdomain.cloud/IBMDeveloperSkillsNetwork-PY0222EN-SkillsNetwork/labs/module%206/Lab-%20Creating%20a%20Python%20Package/images/new_folder_popup.png)"
   ]
  },
  {
   "cell_type": "markdown",
   "metadata": {},
   "source": [
    "## Create the first module"
   ]
  },
  {
   "cell_type": "markdown",
   "metadata": {},
   "source": [
    "- Create a python module named basic\n",
    "\n",
    "Create a file named **basic.py**.\n",
    "\n",
    "Copy and paste the below code into basic.py\n",
    "\n",
    "```python\n",
    "def square(number):\n",
    "    \"\"\"\n",
    "    This function returns the square of a given number\n",
    "    \"\"\"\n",
    "    return number ** 2\n",
    "\n",
    "def double(number):\n",
    "    \"\"\"\n",
    "    This function returns twice the value of a given number\n",
    "    \"\"\"\n",
    "    return number * 2\n",
    "\n",
    "def add(a, b):\n",
    "    \"\"\"\n",
    "    This function returns the sum of given numbers\n",
    "    \"\"\"\n",
    "    return a + b\n",
    "```\n",
    "\n",
    "You should see a screen like this now.\n",
    "\n",
    "Save the file **basic.py**"
   ]
  },
  {
   "cell_type": "markdown",
   "metadata": {},
   "source": [
    "## Create the second module"
   ]
  },
  {
   "cell_type": "markdown",
   "metadata": {},
   "source": [
    "- Create a module named stats\n",
    "\n",
    "Create a file named **stats.py**.\n",
    "\n",
    "Copy and paste the below code into stats.py\n",
    "\n",
    "```python\n",
    "def mean(numbers):\n",
    "    \"\"\"\n",
    "    This function returns the mean of the given list of numbers\n",
    "    \"\"\"\n",
    "    return sum(numbers)/len(numbers)\n",
    "\n",
    "\n",
    "def median(numbers):\n",
    "    \"\"\"\n",
    "    This function returns median of the given list of numbers\n",
    "    \"\"\"\n",
    "    numbers.sort()\n",
    "   \n",
    "\tif len(numbers) % 2 == 0:\n",
    "\t   median1 = numbers[len(numbers) // 2]\n",
    "\t   median2 = numbers[len(numbers) // 2 - 1]\n",
    "\t   mymedian = (median1 + median2) / 2\n",
    "\telse:\n",
    "\t   mymedian = numbers[len(numbers) // 2]\n",
    "\treturn mymedian\n",
    "```\n",
    "\n",
    "You should see a screen like this now.\n",
    "\n",
    "Save the file **stats.py**"
   ]
  },
  {
   "cell_type": "markdown",
   "metadata": {},
   "source": [
    "## Create init.py"
   ]
  },
  {
   "cell_type": "markdown",
   "metadata": {},
   "source": [
    "- Create the file *__init__.py*\n",
    "\n",
    "Copy and paste the below code into *__init__.py*\n",
    "\n",
    "```python\n",
    "from . import basic\n",
    "from . import stats\n",
    "```\n",
    "\n",
    "Save the file *__init__.py*\n",
    "\n",
    "Now your directory structure should look like\n",
    "\n",
    "```\n",
    "mymath\n",
    "mymath/__init__.py\n",
    "mymath/basic.py\n",
    "mymath/statistics.py\n",
    "```\n",
    "\n",
    "![](https://cf-courses-data.s3.us.cloud-object-storage.appdomain.cloud/IBMDeveloperSkillsNetwork-PY0222EN-SkillsNetwork/labs/module%206/Lab-%20Creating%20a%20Python%20Package/images/dir_structure.png)\n",
    "\n",
    "You are done creating a package"
   ]
  },
  {
   "cell_type": "markdown",
   "metadata": {},
   "source": [
    "## Verify the package"
   ]
  },
  {
   "cell_type": "markdown",
   "metadata": {},
   "source": [
    "- On the window to the right, click on the **Terminal** menu and select **New Terminal** option, as shown in the image below.\n",
    "\n",
    "- You will see a terminal open up on the bottom of the screen like the one in the image below.\n",
    "\n",
    "![](https://cf-courses-data.s3.us.cloud-object-storage.appdomain.cloud/IBMDeveloperSkillsNetwork-PY0222EN-SkillsNetwork/labs/module%206/Lab-%20Creating%20a%20Python%20Package/images/new_terminal.png)\n",
    "\n",
    "- At the terminal type **python3** to invoke python interpreter.\n",
    "\n",
    "- Once the python interpreter is loaded.\n",
    "\n",
    "- At the python prompt type **import mymath**\n",
    "\n",
    "- If the above command runs without errors, it is an indication that the mymath package is successfully loaded.\n",
    "\n",
    "- At the python prompt type **mymath.basic.add(3,4)**\n",
    "\n",
    "- You should see an output 7 on the screen.\n",
    "\n",
    "- At the python prompt type **mymath.stats.mean([3,4,5])**\n",
    "\n",
    "- You should see an output 4.0 on the screen.\n",
    "\n",
    "- Type **exit()** to quit python interpreter.\n",
    "\n",
    "![](https://cf-courses-data.s3.us.cloud-object-storage.appdomain.cloud/IBMDeveloperSkillsNetwork-PY0222EN-SkillsNetwork/labs/module%206/Lab-%20Creating%20a%20Python%20Package/images/package_testing.png)"
   ]
  },
  {
   "cell_type": "code",
   "execution_count": 1,
   "metadata": {},
   "outputs": [
    {
     "name": "stdout",
     "output_type": "stream",
     "text": [
      "7\n",
      "4.0\n"
     ]
    }
   ],
   "source": [
    "import mymath\n",
    "\n",
    "print(mymath.basic.add(3, 4))\n",
    "print(mymath.stats.mean([3, 4, 5]))"
   ]
  },
  {
   "cell_type": "markdown",
   "metadata": {},
   "source": [
    "### Create a new module named geometry and add to the mymath package."
   ]
  },
  {
   "cell_type": "markdown",
   "metadata": {},
   "source": [
    "- Create a module name geometry\n",
    "\n",
    "- Add a function named area_of_rectangle that takes length and breadth as input and returns the area of a rectangle.\n",
    "\n",
    "- Add a function named area_of_circle that takes radius as input and returns the area of a circle.\n",
    "\n",
    "- Modify the __init__.py to include this module.\n",
    "\n",
    "- Import and test the function area_of_circle from python terminal."
   ]
  },
  {
   "cell_type": "code",
   "execution_count": 2,
   "metadata": {},
   "outputs": [
    {
     "name": "stdout",
     "output_type": "stream",
     "text": [
      "3.141592653589793\n"
     ]
    }
   ],
   "source": [
    "import mymath\n",
    "\n",
    "print(mymath.geometry.area_of_circle(1))"
   ]
  },
  {
   "cell_type": "markdown",
   "metadata": {},
   "source": [
    "## Authors"
   ]
  },
  {
   "cell_type": "markdown",
   "metadata": {},
   "source": [
    "Ramesh Sannareddy"
   ]
  },
  {
   "cell_type": "markdown",
   "metadata": {},
   "source": [
    "## Other Contributors"
   ]
  },
  {
   "cell_type": "markdown",
   "metadata": {},
   "source": [
    "Rav Ahuja"
   ]
  },
  {
   "cell_type": "markdown",
   "metadata": {},
   "source": [
    "## Change Log"
   ]
  },
  {
   "cell_type": "markdown",
   "metadata": {},
   "source": [
    "| **Date (YYYY-MM-DD)** | **Version**   | **Changed By**    | **Change Description**            |\n",
    "|-----------------------|---------------|-------------------|---------------------------        |\n",
    "| 2020-11-25\t        | 0.1\t        | Ramesh Sannareddy\t| Created initial version of the lab| \n",
    "\n",
    "Copyright © 2020 IBM Corporation. This notebook and its source code are released under the terms of the MIT License."
   ]
  }
 ],
 "metadata": {
  "kernelspec": {
   "display_name": "Python 3.9.13 ('base')",
   "language": "python",
   "name": "python3"
  },
  "language_info": {
   "codemirror_mode": {
    "name": "ipython",
    "version": 3
   },
   "file_extension": ".py",
   "mimetype": "text/x-python",
   "name": "python",
   "nbconvert_exporter": "python",
   "pygments_lexer": "ipython3",
   "version": "3.9.13"
  },
  "orig_nbformat": 4,
  "vscode": {
   "interpreter": {
    "hash": "3cfd106f785ae1e288da74ae733f9b47f8a2699db986927140be0bc196406f4c"
   }
  }
 },
 "nbformat": 4,
 "nbformat_minor": 2
}
