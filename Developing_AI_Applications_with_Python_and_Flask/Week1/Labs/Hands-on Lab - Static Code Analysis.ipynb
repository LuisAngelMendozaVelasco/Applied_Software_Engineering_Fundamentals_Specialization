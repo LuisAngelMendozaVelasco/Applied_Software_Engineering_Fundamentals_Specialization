{
 "cells": [
  {
   "cell_type": "markdown",
   "metadata": {},
   "source": [
    "<p style=\"text-align:center\">\n",
    "    <a href=\"https://skills.network/?utm_medium=Exinfluencer&utm_source=Exinfluencer&utm_content=000026UJ&utm_term=10006555&utm_id=NA-SkillsNetwork-Channel-SkillsNetworkCoursesIBMCS0151ENSkillsNetwork835-2022-01-01\" target=\"_blank\">\n",
    "    <img src=\"https://cf-courses-data.s3.us.cloud-object-storage.appdomain.cloud/assets/logos/SN_web_lightmode.png\" width=\"200\" alt=\"Skills Network Logo\">\n",
    "    </a>\n",
    "</p>"
   ]
  },
  {
   "cell_type": "markdown",
   "metadata": {},
   "source": [
    "# Hands-on Lab: Static Code Analysis"
   ]
  },
  {
   "cell_type": "markdown",
   "metadata": {},
   "source": [
    "## Static Code Analysis Lab"
   ]
  },
  {
   "cell_type": "markdown",
   "metadata": {},
   "source": [
    "Estimated time needed: **30** minutes"
   ]
  },
  {
   "cell_type": "markdown",
   "metadata": {},
   "source": [
    "## Objectives"
   ]
  },
  {
   "cell_type": "markdown",
   "metadata": {},
   "source": [
    "After completing this lab you will be able to:\n",
    "\n",
    "- Install pylint package\n",
    "\n",
    "- Run Static Code Analysis on a python program\n",
    "\n",
    "- Check the compliance score of a python program.\n",
    "\n",
    "- Fix common mistakes and improve the compliance score."
   ]
  },
  {
   "cell_type": "markdown",
   "metadata": {},
   "source": [
    "## Install the pylint package"
   ]
  },
  {
   "cell_type": "markdown",
   "metadata": {},
   "source": [
    "- Open a new terminal\n",
    "\n",
    "- At the terminal, run the below command.\n",
    "\n",
    "- pip3 install pylint\n",
    "\n",
    "- This should install the pylint package."
   ]
  },
  {
   "cell_type": "markdown",
   "metadata": {},
   "source": [
    "## Create a sample python file for static code analysis"
   ]
  },
  {
   "cell_type": "markdown",
   "metadata": {},
   "source": [
    "Create a new file named **sample1.py**\n",
    "\n",
    "Copy and paste the below code into **sample1.py**\n",
    "\n",
    "```python\n",
    "def add(number1, number2):\n",
    "    return number1 + number2\n",
    "\n",
    "num1 = 4\n",
    "num2 = 5\n",
    "total = add(num1, num2)\n",
    "print(\"The sum of {} and {} is {}\".format(num1, num2, total))\n",
    "```\n",
    "\n",
    "Save the file **sample1.py**"
   ]
  },
  {
   "cell_type": "markdown",
   "metadata": {},
   "source": [
    "## Run pylint"
   ]
  },
  {
   "cell_type": "markdown",
   "metadata": {},
   "source": [
    "- Open a terminal\n",
    "\n",
    "- run the below command\n",
    "\n",
    "- pylint sample1.py\n",
    "\n",
    "- Pylint goes through every line of code and gives you a list all the non-compliant lines.\n",
    "\n",
    "- Pylint gives you a compliance score (10 being maximum)."
   ]
  },
  {
   "cell_type": "code",
   "execution_count": 2,
   "metadata": {},
   "outputs": [
    {
     "name": "stdout",
     "output_type": "stream",
     "text": [
      "************* Module sample1\n",
      "sample1.py:7:0: C0304: Final newline missing (missing-final-newline)\n",
      "sample1.py:1:0: C0114: Missing module docstring (missing-module-docstring)\n",
      "sample1.py:1:0: C0116: Missing function or method docstring (missing-function-docstring)\n",
      "sample1.py:4:0: C0103: Constant name \"num1\" doesn't conform to UPPER_CASE naming style (invalid-name)\n",
      "sample1.py:5:0: C0103: Constant name \"num2\" doesn't conform to UPPER_CASE naming style (invalid-name)\n",
      "sample1.py:6:0: C0103: Constant name \"total\" doesn't conform to UPPER_CASE naming style (invalid-name)\n",
      "sample1.py:7:6: C0209: Formatting a regular string which could be a f-string (consider-using-f-string)\n",
      "\n",
      "-----------------------------------\n",
      "Your code has been rated at 0.00/10\n",
      "\n"
     ]
    }
   ],
   "source": [
    "!pylint sample1.py"
   ]
  },
  {
   "cell_type": "markdown",
   "metadata": {},
   "source": [
    "## Correct the mistakes identified by pylint."
   ]
  },
  {
   "cell_type": "markdown",
   "metadata": {},
   "source": [
    "- Based on the report given by pylint changes were made to this code to address the following issues.\n",
    "\n",
    "    - Exactly one space required after comma\n",
    "\n",
    "    - Exactly one space required around assignment\n",
    "\n",
    "- Create a new file named **sample2.py**\n",
    "\n",
    "- Copy and paste the below code into **sample2.py**\n",
    "\n",
    "```python\n",
    "def add(number1, number2):\n",
    "    return number1 + number2\n",
    "\n",
    "NUM1 = 4\n",
    "num2 = 5\n",
    "total = add(NUM1, num2)\n",
    "print(\"The sum of {} and {} is {}\".format(NUM1, num2, total))\n",
    "```\n",
    "\n",
    "Save the file **sample2.py**"
   ]
  },
  {
   "cell_type": "markdown",
   "metadata": {},
   "source": [
    "## Run pylint"
   ]
  },
  {
   "cell_type": "markdown",
   "metadata": {},
   "source": [
    "- Open a terminal\n",
    "\n",
    "- run the below command\n",
    "\n",
    "- pylint sample2.py\n",
    "\n",
    "- This will give you the compliance score.\n",
    "\n",
    "- This time you should see the score improve."
   ]
  },
  {
   "cell_type": "code",
   "execution_count": 3,
   "metadata": {},
   "outputs": [
    {
     "name": "stdout",
     "output_type": "stream",
     "text": [
      "************* Module sample2\n",
      "sample2.py:1:0: C0114: Missing module docstring (missing-module-docstring)\n",
      "sample2.py:2:0: C0116: Missing function or method docstring (missing-function-docstring)\n",
      "sample2.py:6:0: C0103: Constant name \"num2\" doesn't conform to UPPER_CASE naming style (invalid-name)\n",
      "sample2.py:7:0: C0103: Constant name \"total\" doesn't conform to UPPER_CASE naming style (invalid-name)\n",
      "sample2.py:8:6: C0209: Formatting a regular string which could be a f-string (consider-using-f-string)\n",
      "\n",
      "-----------------------------------\n",
      "Your code has been rated at 1.67/10\n",
      "\n"
     ]
    }
   ],
   "source": [
    "!pylint sample2.py"
   ]
  },
  {
   "cell_type": "markdown",
   "metadata": {},
   "source": [
    "## Your task"
   ]
  },
  {
   "cell_type": "markdown",
   "metadata": {},
   "source": [
    "Improve the score in sample2.py to a perfect 10 by correcting all the issues pointed out by pylint. If cant figure out how to solve some issues it is helpful to google the pylint message."
   ]
  },
  {
   "cell_type": "markdown",
   "metadata": {},
   "source": [
    "## Congratulations!"
   ]
  },
  {
   "cell_type": "markdown",
   "metadata": {},
   "source": [
    "You now know how to perform static code analysis."
   ]
  },
  {
   "cell_type": "markdown",
   "metadata": {},
   "source": [
    "## Authors"
   ]
  },
  {
   "cell_type": "markdown",
   "metadata": {},
   "source": [
    "Ramesh Sannareddy"
   ]
  },
  {
   "cell_type": "markdown",
   "metadata": {},
   "source": [
    "## Other Contributors"
   ]
  },
  {
   "cell_type": "markdown",
   "metadata": {},
   "source": [
    "Rav Ahuja"
   ]
  },
  {
   "cell_type": "markdown",
   "metadata": {},
   "source": [
    "## Change Log"
   ]
  },
  {
   "cell_type": "markdown",
   "metadata": {},
   "source": [
    "| **Date (YYYY-MM-DD)** | **Version**   | **Changed By**    | **Change Description**            |\n",
    "|-----------------------|---------------|-------------------|---------------------------        |\n",
    "| 2020-01-29        \t| 1.1\t        | Rav Ahuja\t        | Formatting & license changes      | \n",
    "| 2020-11-25\t        | 1.0\t        | Ramesh Sannareddy\t| Created initial version of the lab| \n",
    "\n",
    "Copyright © 2020 IBM Corporation. All rights reserved."
   ]
  }
 ],
 "metadata": {
  "kernelspec": {
   "display_name": "Python 3.9.13 ('base')",
   "language": "python",
   "name": "python3"
  },
  "language_info": {
   "codemirror_mode": {
    "name": "ipython",
    "version": 3
   },
   "file_extension": ".py",
   "mimetype": "text/x-python",
   "name": "python",
   "nbconvert_exporter": "python",
   "pygments_lexer": "ipython3",
   "version": "3.9.13"
  },
  "orig_nbformat": 4,
  "vscode": {
   "interpreter": {
    "hash": "3cfd106f785ae1e288da74ae733f9b47f8a2699db986927140be0bc196406f4c"
   }
  }
 },
 "nbformat": 4,
 "nbformat_minor": 2
}
